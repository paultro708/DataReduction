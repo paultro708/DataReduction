{
 "cells": [
  {
   "cell_type": "code",
   "execution_count": 285,
   "metadata": {},
   "outputs": [],
   "source": [
    "import numpy as np\n",
    "import matplotlib.pyplot as plt\n",
    "import pandas as pd\n",
    "from sklearn.cluster import KMeans\n",
    "from sklearn.datasets import fetch_rcv1\n",
    "from sklearn import datasets\n",
    "from scipy.spatial import distance"
   ]
  },
  {
   "cell_type": "code",
   "execution_count": 286,
   "metadata": {},
   "outputs": [],
   "source": [
    "x = [[3,4,545.454,4543]]"
   ]
  },
  {
   "cell_type": "code",
   "execution_count": 287,
   "metadata": {},
   "outputs": [
    {
     "output_type": "execute_result",
     "data": {
      "text/plain": "array([[0., 0., 0., 0.]])"
     },
     "metadata": {},
     "execution_count": 287
    }
   ],
   "source": [
    "from sklearn.preprocessing import StandardScaler\n",
    "scaler = StandardScaler().fit(x)\n",
    "x = scaler.transform(x)\n",
    "x"
   ]
  },
  {
   "cell_type": "code",
   "execution_count": 288,
   "metadata": {},
   "outputs": [
    {
     "output_type": "error",
     "ename": "ValueError",
     "evalue": "Found array with dim 3. the normalize function expected <= 2.",
     "traceback": [
      "\u001b[1;31m---------------------------------------------------------------------------\u001b[0m",
      "\u001b[1;31mValueError\u001b[0m                                Traceback (most recent call last)",
      "\u001b[1;32m<ipython-input-288-daf7b2320921>\u001b[0m in \u001b[0;36m<module>\u001b[1;34m\u001b[0m\n\u001b[1;32m----> 1\u001b[1;33m \u001b[0mx\u001b[0m \u001b[1;33m=\u001b[0m \u001b[0mnormalize\u001b[0m\u001b[1;33m(\u001b[0m\u001b[1;33m[\u001b[0m\u001b[0mx\u001b[0m\u001b[1;33m]\u001b[0m\u001b[1;33m)\u001b[0m\u001b[1;33m\u001b[0m\u001b[1;33m\u001b[0m\u001b[0m\n\u001b[0m",
      "\u001b[1;32m~\\AppData\\Local\\Programs\\Python\\Python37\\lib\\site-packages\\sklearn\\utils\\validation.py\u001b[0m in \u001b[0;36minner_f\u001b[1;34m(*args, **kwargs)\u001b[0m\n\u001b[0;32m     71\u001b[0m                           FutureWarning)\n\u001b[0;32m     72\u001b[0m         \u001b[0mkwargs\u001b[0m\u001b[1;33m.\u001b[0m\u001b[0mupdate\u001b[0m\u001b[1;33m(\u001b[0m\u001b[1;33m{\u001b[0m\u001b[0mk\u001b[0m\u001b[1;33m:\u001b[0m \u001b[0marg\u001b[0m \u001b[1;32mfor\u001b[0m \u001b[0mk\u001b[0m\u001b[1;33m,\u001b[0m \u001b[0marg\u001b[0m \u001b[1;32min\u001b[0m \u001b[0mzip\u001b[0m\u001b[1;33m(\u001b[0m\u001b[0msig\u001b[0m\u001b[1;33m.\u001b[0m\u001b[0mparameters\u001b[0m\u001b[1;33m,\u001b[0m \u001b[0margs\u001b[0m\u001b[1;33m)\u001b[0m\u001b[1;33m}\u001b[0m\u001b[1;33m)\u001b[0m\u001b[1;33m\u001b[0m\u001b[1;33m\u001b[0m\u001b[0m\n\u001b[1;32m---> 73\u001b[1;33m         \u001b[1;32mreturn\u001b[0m \u001b[0mf\u001b[0m\u001b[1;33m(\u001b[0m\u001b[1;33m**\u001b[0m\u001b[0mkwargs\u001b[0m\u001b[1;33m)\u001b[0m\u001b[1;33m\u001b[0m\u001b[1;33m\u001b[0m\u001b[0m\n\u001b[0m\u001b[0;32m     74\u001b[0m     \u001b[1;32mreturn\u001b[0m \u001b[0minner_f\u001b[0m\u001b[1;33m\u001b[0m\u001b[1;33m\u001b[0m\u001b[0m\n\u001b[0;32m     75\u001b[0m \u001b[1;33m\u001b[0m\u001b[0m\n",
      "\u001b[1;32m~\\AppData\\Local\\Programs\\Python\\Python37\\lib\\site-packages\\sklearn\\preprocessing\\_data.py\u001b[0m in \u001b[0;36mnormalize\u001b[1;34m(X, norm, axis, copy, return_norm)\u001b[0m\n\u001b[0;32m   1709\u001b[0m \u001b[1;33m\u001b[0m\u001b[0m\n\u001b[0;32m   1710\u001b[0m     X = check_array(X, accept_sparse=sparse_format, copy=copy,\n\u001b[1;32m-> 1711\u001b[1;33m                     estimator='the normalize function', dtype=FLOAT_DTYPES)\n\u001b[0m\u001b[0;32m   1712\u001b[0m     \u001b[1;32mif\u001b[0m \u001b[0maxis\u001b[0m \u001b[1;33m==\u001b[0m \u001b[1;36m0\u001b[0m\u001b[1;33m:\u001b[0m\u001b[1;33m\u001b[0m\u001b[1;33m\u001b[0m\u001b[0m\n\u001b[0;32m   1713\u001b[0m         \u001b[0mX\u001b[0m \u001b[1;33m=\u001b[0m \u001b[0mX\u001b[0m\u001b[1;33m.\u001b[0m\u001b[0mT\u001b[0m\u001b[1;33m\u001b[0m\u001b[1;33m\u001b[0m\u001b[0m\n",
      "\u001b[1;32m~\\AppData\\Local\\Programs\\Python\\Python37\\lib\\site-packages\\sklearn\\utils\\validation.py\u001b[0m in \u001b[0;36minner_f\u001b[1;34m(*args, **kwargs)\u001b[0m\n\u001b[0;32m     71\u001b[0m                           FutureWarning)\n\u001b[0;32m     72\u001b[0m         \u001b[0mkwargs\u001b[0m\u001b[1;33m.\u001b[0m\u001b[0mupdate\u001b[0m\u001b[1;33m(\u001b[0m\u001b[1;33m{\u001b[0m\u001b[0mk\u001b[0m\u001b[1;33m:\u001b[0m \u001b[0marg\u001b[0m \u001b[1;32mfor\u001b[0m \u001b[0mk\u001b[0m\u001b[1;33m,\u001b[0m \u001b[0marg\u001b[0m \u001b[1;32min\u001b[0m \u001b[0mzip\u001b[0m\u001b[1;33m(\u001b[0m\u001b[0msig\u001b[0m\u001b[1;33m.\u001b[0m\u001b[0mparameters\u001b[0m\u001b[1;33m,\u001b[0m \u001b[0margs\u001b[0m\u001b[1;33m)\u001b[0m\u001b[1;33m}\u001b[0m\u001b[1;33m)\u001b[0m\u001b[1;33m\u001b[0m\u001b[1;33m\u001b[0m\u001b[0m\n\u001b[1;32m---> 73\u001b[1;33m         \u001b[1;32mreturn\u001b[0m \u001b[0mf\u001b[0m\u001b[1;33m(\u001b[0m\u001b[1;33m**\u001b[0m\u001b[0mkwargs\u001b[0m\u001b[1;33m)\u001b[0m\u001b[1;33m\u001b[0m\u001b[1;33m\u001b[0m\u001b[0m\n\u001b[0m\u001b[0;32m     74\u001b[0m     \u001b[1;32mreturn\u001b[0m \u001b[0minner_f\u001b[0m\u001b[1;33m\u001b[0m\u001b[1;33m\u001b[0m\u001b[0m\n\u001b[0;32m     75\u001b[0m \u001b[1;33m\u001b[0m\u001b[0m\n",
      "\u001b[1;32m~\\AppData\\Local\\Programs\\Python\\Python37\\lib\\site-packages\\sklearn\\utils\\validation.py\u001b[0m in \u001b[0;36mcheck_array\u001b[1;34m(array, accept_sparse, accept_large_sparse, dtype, order, copy, force_all_finite, ensure_2d, allow_nd, ensure_min_samples, ensure_min_features, estimator)\u001b[0m\n\u001b[0;32m    640\u001b[0m         \u001b[1;32mif\u001b[0m \u001b[1;32mnot\u001b[0m \u001b[0mallow_nd\u001b[0m \u001b[1;32mand\u001b[0m \u001b[0marray\u001b[0m\u001b[1;33m.\u001b[0m\u001b[0mndim\u001b[0m \u001b[1;33m>=\u001b[0m \u001b[1;36m3\u001b[0m\u001b[1;33m:\u001b[0m\u001b[1;33m\u001b[0m\u001b[1;33m\u001b[0m\u001b[0m\n\u001b[0;32m    641\u001b[0m             raise ValueError(\"Found array with dim %d. %s expected <= 2.\"\n\u001b[1;32m--> 642\u001b[1;33m                              % (array.ndim, estimator_name))\n\u001b[0m\u001b[0;32m    643\u001b[0m \u001b[1;33m\u001b[0m\u001b[0m\n\u001b[0;32m    644\u001b[0m         \u001b[1;32mif\u001b[0m \u001b[0mforce_all_finite\u001b[0m\u001b[1;33m:\u001b[0m\u001b[1;33m\u001b[0m\u001b[1;33m\u001b[0m\u001b[0m\n",
      "\u001b[1;31mValueError\u001b[0m: Found array with dim 3. the normalize function expected <= 2."
     ]
    }
   ],
   "source": [
    "x = normalize([x])"
   ]
  },
  {
   "cell_type": "code",
   "execution_count": 289,
   "metadata": {},
   "outputs": [
    {
     "output_type": "execute_result",
     "data": {
      "text/plain": "array([[nan, nan, nan, nan]])"
     },
     "metadata": {},
     "execution_count": 289
    }
   ],
   "source": [
    "w = np.sqrt(sum(x**2))\n",
    "x_norm2 = x/w\n",
    "x_norm2"
   ]
  },
  {
   "cell_type": "code",
   "execution_count": 392,
   "metadata": {},
   "outputs": [
    {
     "output_type": "error",
     "ename": "NameError",
     "evalue": "name 'pdd_data' is not defined",
     "traceback": [
      "\u001b[1;31m---------------------------------------------------------------------------\u001b[0m",
      "\u001b[1;31mNameError\u001b[0m                                 Traceback (most recent call last)",
      "\u001b[1;32m<ipython-input-392-fcea47d27770>\u001b[0m in \u001b[0;36m<module>\u001b[1;34m\u001b[0m\n\u001b[1;32m----> 1\u001b[1;33m \u001b[0mpdd_data\u001b[0m\u001b[1;33m\u001b[0m\u001b[1;33m\u001b[0m\u001b[0m\n\u001b[0m",
      "\u001b[1;31mNameError\u001b[0m: name 'pdd_data' is not defined"
     ]
    }
   ],
   "source": [
    "pdd_data"
   ]
  },
  {
   "cell_type": "code",
   "execution_count": 291,
   "metadata": {},
   "outputs": [
    {
     "output_type": "execute_result",
     "data": {
      "text/plain": "array([[3.33333333e-01, 2.50000000e-01, 1.83333517e-03, 2.20118864e-04]])"
     },
     "metadata": {},
     "execution_count": 291
    }
   ],
   "source": [
    "xn/val"
   ]
  },
  {
   "cell_type": "code",
   "execution_count": 292,
   "metadata": {},
   "outputs": [],
   "source": [
    "def unique(list): \n",
    "    '''\n",
    "    Creates list with unique values from list\n",
    "    '''\n",
    "    # intilize a null list \n",
    "    unique_list = []\n",
    "    # traverse for all elements \n",
    "    for x in list: \n",
    "        # check if exists in unique_list or not \n",
    "        if x not in unique_list: \n",
    "            unique_list.append(x) \n",
    "\n",
    "    return unique_list\n",
    "      "
   ]
  },
  {
   "cell_type": "code",
   "execution_count": 293,
   "metadata": {},
   "outputs": [
    {
     "output_type": "stream",
     "name": "stdout",
     "text": "3\n"
    }
   ],
   "source": [
    "#iris\n",
    "from sklearn.model_selection import train_test_split\n",
    "data_all, data_label = datasets.load_iris(return_X_y=True) #datasets.load_breast_cancer(return_X_y=True) #datasets.load_iris(return_X_y=True)\n",
    "data_all_train, data_all_test, data_label_train, data_label_test = train_test_split(data_all, data_label, test_size=0.3)\n",
    "\n",
    "number_of_classes = len(unique(data_label))\n",
    "print(number_of_classes)\n"
   ]
  },
  {
   "cell_type": "code",
   "execution_count": 294,
   "metadata": {},
   "outputs": [
    {
     "output_type": "error",
     "ename": "NameError",
     "evalue": "name 'pdd_data' is not defined",
     "traceback": [
      "\u001b[1;31m---------------------------------------------------------------------------\u001b[0m",
      "\u001b[1;31mNameError\u001b[0m                                 Traceback (most recent call last)",
      "\u001b[1;32m<ipython-input-294-aca0ee120921>\u001b[0m in \u001b[0;36m<module>\u001b[1;34m\u001b[0m\n\u001b[0;32m      3\u001b[0m \u001b[1;33m\u001b[0m\u001b[0m\n\u001b[0;32m      4\u001b[0m \u001b[1;33m\u001b[0m\u001b[0m\n\u001b[1;32m----> 5\u001b[1;33m \u001b[0mdata_all\u001b[0m\u001b[1;33m=\u001b[0m \u001b[0mpdd_data\u001b[0m\u001b[1;33m\u001b[0m\u001b[1;33m\u001b[0m\u001b[0m\n\u001b[0m\u001b[0;32m      6\u001b[0m \u001b[0mdata_label\u001b[0m \u001b[1;33m=\u001b[0m \u001b[0mpdd_label\u001b[0m\u001b[1;33m\u001b[0m\u001b[1;33m\u001b[0m\u001b[0m\n\u001b[0;32m      7\u001b[0m \u001b[1;31m#map labels to 0-n indexes\u001b[0m\u001b[1;33m\u001b[0m\u001b[1;33m\u001b[0m\u001b[1;33m\u001b[0m\u001b[0m\n",
      "\u001b[1;31mNameError\u001b[0m: name 'pdd_data' is not defined"
     ]
    }
   ],
   "source": [
    "from sklearn.preprocessing import normalize\n",
    "\n",
    "\n",
    "\n",
    "data_all= pdd_data\n",
    "data_label = pdd_label\n",
    "#map labels to 0-n indexes\n",
    "class_dict = dict()\n",
    "i=0\n",
    "for label in set(data_label):\n",
    "    class_dict[label] = i\n",
    "    i+=1\n",
    "data_all_train, data_all_test, data_label_train, data_label_test = train_test_split(data_all, data_label, test_size=0.3)\n",
    "number_of_classes = len(unique(data_label))\n",
    "print(number_of_classes)\n",
    "\n"
   ]
  },
  {
   "cell_type": "code",
   "execution_count": 295,
   "metadata": {},
   "outputs": [],
   "source": [
    "#convert to numpy\n",
    "data_all= np.array(data_all)\n",
    "data_label = np.array(data_label)\n",
    "data_all_train = np.array(data_all_train)\n",
    "data_all_test=np.array(data_all_test) \n",
    "data_label_train = np.array(data_label_train)\n",
    "data_label_test = np.array(data_label_test)"
   ]
  },
  {
   "cell_type": "code",
   "execution_count": 296,
   "metadata": {},
   "outputs": [
    {
     "output_type": "execute_result",
     "data": {
      "text/plain": "array([[5.8, 2.6, 4. , 1.2],\n       [6. , 3.4, 4.5, 1.6],\n       [5.4, 3. , 4.5, 1.5],\n       [6.8, 3. , 5.5, 2.1],\n       [5.8, 2.7, 3.9, 1.2],\n       [4.9, 3. , 1.4, 0.2],\n       [5.8, 2.7, 5.1, 1.9],\n       [6.4, 2.9, 4.3, 1.3],\n       [6.2, 2.9, 4.3, 1.3],\n       [6.3, 2.9, 5.6, 1.8],\n       [6.9, 3.1, 5.4, 2.1],\n       [5.6, 3. , 4.5, 1.5],\n       [6.1, 2.8, 4. , 1.3],\n       [5.6, 2.7, 4.2, 1.3],\n       [4.9, 2.5, 4.5, 1.7],\n       [5.7, 2.5, 5. , 2. ],\n       [5.1, 2.5, 3. , 1.1],\n       [5.8, 2.7, 4.1, 1. ],\n       [5. , 3.3, 1.4, 0.2],\n       [6.5, 3. , 5.5, 1.8],\n       [5.9, 3. , 4.2, 1.5],\n       [6.3, 3.3, 6. , 2.5],\n       [6.7, 3.1, 5.6, 2.4],\n       [6.1, 3. , 4.6, 1.4],\n       [6.1, 2.9, 4.7, 1.4],\n       [5. , 2.3, 3.3, 1. ],\n       [5.4, 3.9, 1.3, 0.4],\n       [7.9, 3.8, 6.4, 2. ],\n       [5.7, 3. , 4.2, 1.2],\n       [7.2, 3.2, 6. , 1.8],\n       [5.2, 4.1, 1.5, 0.1],\n       [7.7, 3. , 6.1, 2.3],\n       [6.4, 2.7, 5.3, 1.9],\n       [5. , 3.5, 1.6, 0.6],\n       [5.9, 3. , 5.1, 1.8],\n       [6.3, 2.8, 5.1, 1.5],\n       [5.1, 3.3, 1.7, 0.5],\n       [5.5, 2.6, 4.4, 1.2],\n       [5.5, 2.4, 3.7, 1. ],\n       [4.9, 3.1, 1.5, 0.2],\n       [5.7, 2.6, 3.5, 1. ],\n       [5.6, 2.9, 3.6, 1.3],\n       [5. , 3.4, 1.5, 0.2],\n       [4.4, 3.2, 1.3, 0.2],\n       [7.4, 2.8, 6.1, 1.9]])"
     },
     "metadata": {},
     "execution_count": 296
    }
   ],
   "source": [
    "data_all_test"
   ]
  },
  {
   "cell_type": "code",
   "execution_count": 297,
   "metadata": {},
   "outputs": [
    {
     "output_type": "error",
     "ename": "FileNotFoundError",
     "evalue": "[Errno 2] File D:\\Studia\\inz\\Repos\\DataReduction\\modules\\datasets_csv\\iris.csv does not exist: 'D:\\\\Studia\\\\inz\\\\Repos\\\\DataReduction\\\\modules\\\\datasets_csv\\\\iris.csv'",
     "traceback": [
      "\u001b[1;31m---------------------------------------------------------------------------\u001b[0m",
      "\u001b[1;31mFileNotFoundError\u001b[0m                         Traceback (most recent call last)",
      "\u001b[1;32m<ipython-input-297-8554151e8000>\u001b[0m in \u001b[0;36m<module>\u001b[1;34m\u001b[0m\n\u001b[1;32m----> 1\u001b[1;33m \u001b[0mpdd\u001b[0m \u001b[1;33m=\u001b[0m \u001b[0mpd\u001b[0m\u001b[1;33m.\u001b[0m\u001b[0mread_csv\u001b[0m\u001b[1;33m(\u001b[0m\u001b[1;34m\"D:\\Studia\\inz\\Repos\\DataReduction\\modules\\datasets_csv\\iris.csv\"\u001b[0m\u001b[1;33m)\u001b[0m\u001b[1;31m#D:\\Studia\\inz\\glass\\Titanic.csv\", sep = \",\") #winequality-red.csv\",\u001b[0m\u001b[1;33m\u001b[0m\u001b[1;33m\u001b[0m\u001b[0m\n\u001b[0m\u001b[0;32m      2\u001b[0m \u001b[0mpdd\u001b[0m\u001b[1;33m\u001b[0m\u001b[1;33m\u001b[0m\u001b[0m\n",
      "\u001b[1;32m~\\AppData\\Local\\Programs\\Python\\Python37\\lib\\site-packages\\pandas\\io\\parsers.py\u001b[0m in \u001b[0;36mparser_f\u001b[1;34m(filepath_or_buffer, sep, delimiter, header, names, index_col, usecols, squeeze, prefix, mangle_dupe_cols, dtype, engine, converters, true_values, false_values, skipinitialspace, skiprows, skipfooter, nrows, na_values, keep_default_na, na_filter, verbose, skip_blank_lines, parse_dates, infer_datetime_format, keep_date_col, date_parser, dayfirst, cache_dates, iterator, chunksize, compression, thousands, decimal, lineterminator, quotechar, quoting, doublequote, escapechar, comment, encoding, dialect, error_bad_lines, warn_bad_lines, delim_whitespace, low_memory, memory_map, float_precision)\u001b[0m\n\u001b[0;32m    674\u001b[0m         )\n\u001b[0;32m    675\u001b[0m \u001b[1;33m\u001b[0m\u001b[0m\n\u001b[1;32m--> 676\u001b[1;33m         \u001b[1;32mreturn\u001b[0m \u001b[0m_read\u001b[0m\u001b[1;33m(\u001b[0m\u001b[0mfilepath_or_buffer\u001b[0m\u001b[1;33m,\u001b[0m \u001b[0mkwds\u001b[0m\u001b[1;33m)\u001b[0m\u001b[1;33m\u001b[0m\u001b[1;33m\u001b[0m\u001b[0m\n\u001b[0m\u001b[0;32m    677\u001b[0m \u001b[1;33m\u001b[0m\u001b[0m\n\u001b[0;32m    678\u001b[0m     \u001b[0mparser_f\u001b[0m\u001b[1;33m.\u001b[0m\u001b[0m__name__\u001b[0m \u001b[1;33m=\u001b[0m \u001b[0mname\u001b[0m\u001b[1;33m\u001b[0m\u001b[1;33m\u001b[0m\u001b[0m\n",
      "\u001b[1;32m~\\AppData\\Local\\Programs\\Python\\Python37\\lib\\site-packages\\pandas\\io\\parsers.py\u001b[0m in \u001b[0;36m_read\u001b[1;34m(filepath_or_buffer, kwds)\u001b[0m\n\u001b[0;32m    446\u001b[0m \u001b[1;33m\u001b[0m\u001b[0m\n\u001b[0;32m    447\u001b[0m     \u001b[1;31m# Create the parser.\u001b[0m\u001b[1;33m\u001b[0m\u001b[1;33m\u001b[0m\u001b[1;33m\u001b[0m\u001b[0m\n\u001b[1;32m--> 448\u001b[1;33m     \u001b[0mparser\u001b[0m \u001b[1;33m=\u001b[0m \u001b[0mTextFileReader\u001b[0m\u001b[1;33m(\u001b[0m\u001b[0mfp_or_buf\u001b[0m\u001b[1;33m,\u001b[0m \u001b[1;33m**\u001b[0m\u001b[0mkwds\u001b[0m\u001b[1;33m)\u001b[0m\u001b[1;33m\u001b[0m\u001b[1;33m\u001b[0m\u001b[0m\n\u001b[0m\u001b[0;32m    449\u001b[0m \u001b[1;33m\u001b[0m\u001b[0m\n\u001b[0;32m    450\u001b[0m     \u001b[1;32mif\u001b[0m \u001b[0mchunksize\u001b[0m \u001b[1;32mor\u001b[0m \u001b[0miterator\u001b[0m\u001b[1;33m:\u001b[0m\u001b[1;33m\u001b[0m\u001b[1;33m\u001b[0m\u001b[0m\n",
      "\u001b[1;32m~\\AppData\\Local\\Programs\\Python\\Python37\\lib\\site-packages\\pandas\\io\\parsers.py\u001b[0m in \u001b[0;36m__init__\u001b[1;34m(self, f, engine, **kwds)\u001b[0m\n\u001b[0;32m    878\u001b[0m             \u001b[0mself\u001b[0m\u001b[1;33m.\u001b[0m\u001b[0moptions\u001b[0m\u001b[1;33m[\u001b[0m\u001b[1;34m\"has_index_names\"\u001b[0m\u001b[1;33m]\u001b[0m \u001b[1;33m=\u001b[0m \u001b[0mkwds\u001b[0m\u001b[1;33m[\u001b[0m\u001b[1;34m\"has_index_names\"\u001b[0m\u001b[1;33m]\u001b[0m\u001b[1;33m\u001b[0m\u001b[1;33m\u001b[0m\u001b[0m\n\u001b[0;32m    879\u001b[0m \u001b[1;33m\u001b[0m\u001b[0m\n\u001b[1;32m--> 880\u001b[1;33m         \u001b[0mself\u001b[0m\u001b[1;33m.\u001b[0m\u001b[0m_make_engine\u001b[0m\u001b[1;33m(\u001b[0m\u001b[0mself\u001b[0m\u001b[1;33m.\u001b[0m\u001b[0mengine\u001b[0m\u001b[1;33m)\u001b[0m\u001b[1;33m\u001b[0m\u001b[1;33m\u001b[0m\u001b[0m\n\u001b[0m\u001b[0;32m    881\u001b[0m \u001b[1;33m\u001b[0m\u001b[0m\n\u001b[0;32m    882\u001b[0m     \u001b[1;32mdef\u001b[0m \u001b[0mclose\u001b[0m\u001b[1;33m(\u001b[0m\u001b[0mself\u001b[0m\u001b[1;33m)\u001b[0m\u001b[1;33m:\u001b[0m\u001b[1;33m\u001b[0m\u001b[1;33m\u001b[0m\u001b[0m\n",
      "\u001b[1;32m~\\AppData\\Local\\Programs\\Python\\Python37\\lib\\site-packages\\pandas\\io\\parsers.py\u001b[0m in \u001b[0;36m_make_engine\u001b[1;34m(self, engine)\u001b[0m\n\u001b[0;32m   1112\u001b[0m     \u001b[1;32mdef\u001b[0m \u001b[0m_make_engine\u001b[0m\u001b[1;33m(\u001b[0m\u001b[0mself\u001b[0m\u001b[1;33m,\u001b[0m \u001b[0mengine\u001b[0m\u001b[1;33m=\u001b[0m\u001b[1;34m\"c\"\u001b[0m\u001b[1;33m)\u001b[0m\u001b[1;33m:\u001b[0m\u001b[1;33m\u001b[0m\u001b[1;33m\u001b[0m\u001b[0m\n\u001b[0;32m   1113\u001b[0m         \u001b[1;32mif\u001b[0m \u001b[0mengine\u001b[0m \u001b[1;33m==\u001b[0m \u001b[1;34m\"c\"\u001b[0m\u001b[1;33m:\u001b[0m\u001b[1;33m\u001b[0m\u001b[1;33m\u001b[0m\u001b[0m\n\u001b[1;32m-> 1114\u001b[1;33m             \u001b[0mself\u001b[0m\u001b[1;33m.\u001b[0m\u001b[0m_engine\u001b[0m \u001b[1;33m=\u001b[0m \u001b[0mCParserWrapper\u001b[0m\u001b[1;33m(\u001b[0m\u001b[0mself\u001b[0m\u001b[1;33m.\u001b[0m\u001b[0mf\u001b[0m\u001b[1;33m,\u001b[0m \u001b[1;33m**\u001b[0m\u001b[0mself\u001b[0m\u001b[1;33m.\u001b[0m\u001b[0moptions\u001b[0m\u001b[1;33m)\u001b[0m\u001b[1;33m\u001b[0m\u001b[1;33m\u001b[0m\u001b[0m\n\u001b[0m\u001b[0;32m   1115\u001b[0m         \u001b[1;32melse\u001b[0m\u001b[1;33m:\u001b[0m\u001b[1;33m\u001b[0m\u001b[1;33m\u001b[0m\u001b[0m\n\u001b[0;32m   1116\u001b[0m             \u001b[1;32mif\u001b[0m \u001b[0mengine\u001b[0m \u001b[1;33m==\u001b[0m \u001b[1;34m\"python\"\u001b[0m\u001b[1;33m:\u001b[0m\u001b[1;33m\u001b[0m\u001b[1;33m\u001b[0m\u001b[0m\n",
      "\u001b[1;32m~\\AppData\\Local\\Programs\\Python\\Python37\\lib\\site-packages\\pandas\\io\\parsers.py\u001b[0m in \u001b[0;36m__init__\u001b[1;34m(self, src, **kwds)\u001b[0m\n\u001b[0;32m   1889\u001b[0m         \u001b[0mkwds\u001b[0m\u001b[1;33m[\u001b[0m\u001b[1;34m\"usecols\"\u001b[0m\u001b[1;33m]\u001b[0m \u001b[1;33m=\u001b[0m \u001b[0mself\u001b[0m\u001b[1;33m.\u001b[0m\u001b[0musecols\u001b[0m\u001b[1;33m\u001b[0m\u001b[1;33m\u001b[0m\u001b[0m\n\u001b[0;32m   1890\u001b[0m \u001b[1;33m\u001b[0m\u001b[0m\n\u001b[1;32m-> 1891\u001b[1;33m         \u001b[0mself\u001b[0m\u001b[1;33m.\u001b[0m\u001b[0m_reader\u001b[0m \u001b[1;33m=\u001b[0m \u001b[0mparsers\u001b[0m\u001b[1;33m.\u001b[0m\u001b[0mTextReader\u001b[0m\u001b[1;33m(\u001b[0m\u001b[0msrc\u001b[0m\u001b[1;33m,\u001b[0m \u001b[1;33m**\u001b[0m\u001b[0mkwds\u001b[0m\u001b[1;33m)\u001b[0m\u001b[1;33m\u001b[0m\u001b[1;33m\u001b[0m\u001b[0m\n\u001b[0m\u001b[0;32m   1892\u001b[0m         \u001b[0mself\u001b[0m\u001b[1;33m.\u001b[0m\u001b[0munnamed_cols\u001b[0m \u001b[1;33m=\u001b[0m \u001b[0mself\u001b[0m\u001b[1;33m.\u001b[0m\u001b[0m_reader\u001b[0m\u001b[1;33m.\u001b[0m\u001b[0munnamed_cols\u001b[0m\u001b[1;33m\u001b[0m\u001b[1;33m\u001b[0m\u001b[0m\n\u001b[0;32m   1893\u001b[0m \u001b[1;33m\u001b[0m\u001b[0m\n",
      "\u001b[1;32mpandas\\_libs\\parsers.pyx\u001b[0m in \u001b[0;36mpandas._libs.parsers.TextReader.__cinit__\u001b[1;34m()\u001b[0m\n",
      "\u001b[1;32mpandas\\_libs\\parsers.pyx\u001b[0m in \u001b[0;36mpandas._libs.parsers.TextReader._setup_parser_source\u001b[1;34m()\u001b[0m\n",
      "\u001b[1;31mFileNotFoundError\u001b[0m: [Errno 2] File D:\\Studia\\inz\\Repos\\DataReduction\\modules\\datasets_csv\\iris.csv does not exist: 'D:\\\\Studia\\\\inz\\\\Repos\\\\DataReduction\\\\modules\\\\datasets_csv\\\\iris.csv'"
     ]
    }
   ],
   "source": [
    "pdd = pd.read_csv(\"D:\\Studia\\inz\\Repos\\DataReduction\\InstanceReduction\\datasets_csv\\iris.csv\")#D:\\Studia\\inz\\glass\\Titanic.csv\", sep = \",\") #winequality-red.csv\", \n",
    "pdd"
   ]
  },
  {
   "cell_type": "code",
   "execution_count": 298,
   "metadata": {},
   "outputs": [
    {
     "output_type": "error",
     "ename": "NameError",
     "evalue": "name 'pdd' is not defined",
     "traceback": [
      "\u001b[1;31m---------------------------------------------------------------------------\u001b[0m",
      "\u001b[1;31mNameError\u001b[0m                                 Traceback (most recent call last)",
      "\u001b[1;32m<ipython-input-298-61d022cca77f>\u001b[0m in \u001b[0;36m<module>\u001b[1;34m\u001b[0m\n\u001b[0;32m     22\u001b[0m \u001b[1;33m\u001b[0m\u001b[0m\n\u001b[0;32m     23\u001b[0m \u001b[1;31m# categorical type filter\u001b[0m\u001b[1;33m\u001b[0m\u001b[1;33m\u001b[0m\u001b[1;33m\u001b[0m\u001b[0m\n\u001b[1;32m---> 24\u001b[1;33m \u001b[0mcategorical_features\u001b[0m \u001b[1;33m=\u001b[0m \u001b[0mpdd\u001b[0m\u001b[1;33m.\u001b[0m\u001b[0mdtypes\u001b[0m\u001b[1;33m==\u001b[0m\u001b[0mobject\u001b[0m\u001b[1;33m\u001b[0m\u001b[1;33m\u001b[0m\u001b[0m\n\u001b[0m\u001b[0;32m     25\u001b[0m \u001b[1;31m# filter categorical column\u001b[0m\u001b[1;33m\u001b[0m\u001b[1;33m\u001b[0m\u001b[1;33m\u001b[0m\u001b[0m\n\u001b[0;32m     26\u001b[0m \u001b[0mcategorical_cols\u001b[0m \u001b[1;33m=\u001b[0m \u001b[0mpdd\u001b[0m\u001b[1;33m.\u001b[0m\u001b[0mcolumns\u001b[0m\u001b[1;33m[\u001b[0m\u001b[0mcategorical_features\u001b[0m\u001b[1;33m]\u001b[0m\u001b[1;33m.\u001b[0m\u001b[0mtolist\u001b[0m\u001b[1;33m(\u001b[0m\u001b[1;33m)\u001b[0m\u001b[1;33m\u001b[0m\u001b[1;33m\u001b[0m\u001b[0m\n",
      "\u001b[1;31mNameError\u001b[0m: name 'pdd' is not defined"
     ]
    }
   ],
   "source": [
    "#testing loading data and encode columns with cathegorial values \n",
    "#pdd = pd.read_csv(\"D:\\Studia\\inz\\datasets\\satimage.csv\")#D:\\Studia\\inz\\glass\\Titanic.csv\", sep = \",\") #winequality-red.csv\", sep = \";\") \n",
    "#(\"D:\\Studia\\inz\\datasets\\iris\\iris_data.csv\")\n",
    "from sklearn import preprocessing as prp\n",
    "\n",
    "#column with labels, index or column name\n",
    "label_col = 'class'#\"quality\"#4\n",
    "\n",
    "# encoder = prp.LabelEncoder()\n",
    "# n_features = pdd.shape[1]\n",
    "\n",
    "# for i in range(n_features):\n",
    "#     print(pdd.dtypes[i])\n",
    "#     if(pdd.dtypes[i] == 'object'):\n",
    "#         print('obj')\n",
    "#         encoder.fit(pdd.iloc[:, [i]])\n",
    "#         print(encoder.classes_)\n",
    "        \n",
    "#         #pdd.replace(pdd.iloc[:, [i]], encoder.transform(encoder.classes_) )\n",
    "#         # apply le on categorical feature columns\n",
    "#         #pdd[i] = pdd[i].apply(lambda col: encoder.fit_transform(pdd.iloc[:, [i]]))\n",
    "\n",
    "# categorical type filter\n",
    "categorical_features = pdd.dtypes==object\n",
    "# filter categorical column\n",
    "categorical_cols = pdd.columns[categorical_features].tolist()\n",
    "encoder = prp.LabelEncoder()\n",
    "# apply encoder on categorical feature columns\n",
    "try:\n",
    "    pdd[categorical_cols] = pdd[categorical_cols].apply(lambda col: encoder.fit_transform(col))\n",
    "except ValueError:\n",
    "    print(\"Nothing to encode\")\n",
    "except TypeError: \n",
    "    print(\"TypeError: '<' not supported between instances of 'str' and 'float' During handling of the above exception, another exception occurred:\")\n",
    "########################\n",
    "if type(label_col)==str: #column name\n",
    "    #create data frame with class labels\n",
    "    pdd_label = pdd[label_col]\n",
    "    #drop column with label \n",
    "    pdd_data = pdd.drop(columns=label_col)\n",
    "else: #column index\n",
    "    #create data frame with class labels\n",
    "    pdd_label = pdd[label_col]\n",
    "    #drop column with label \n",
    "    pdd_data = pdd.drop(pdd.columns[label_col], axis = 1)\n"
   ]
  },
  {
   "cell_type": "code",
   "execution_count": 299,
   "metadata": {},
   "outputs": [
    {
     "output_type": "execute_result",
     "data": {
      "text/plain": "(150, 4)"
     },
     "metadata": {},
     "execution_count": 299
    }
   ],
   "source": [
    "data_all.shape"
   ]
  },
  {
   "cell_type": "code",
   "execution_count": null,
   "metadata": {},
   "outputs": [],
   "source": []
  },
  {
   "cell_type": "code",
   "execution_count": 300,
   "metadata": {},
   "outputs": [
    {
     "output_type": "display_data",
     "data": {
      "text/plain": "<Figure size 432x288 with 1 Axes>",
      "image/svg+xml": "<?xml version=\"1.0\" encoding=\"utf-8\" standalone=\"no\"?>\r\n<!DOCTYPE svg PUBLIC \"-//W3C//DTD SVG 1.1//EN\"\r\n  \"http://www.w3.org/Graphics/SVG/1.1/DTD/svg11.dtd\">\r\n<!-- Created with matplotlib (https://matplotlib.org/) -->\r\n<svg height=\"248.518125pt\" version=\"1.1\" viewBox=\"0 0 372.103125 248.518125\" width=\"372.103125pt\" xmlns=\"http://www.w3.org/2000/svg\" xmlns:xlink=\"http://www.w3.org/1999/xlink\">\r\n <defs>\r\n  <style type=\"text/css\">\r\n*{stroke-linecap:butt;stroke-linejoin:round;}\r\n  </style>\r\n </defs>\r\n <g id=\"figure_1\">\r\n  <g id=\"patch_1\">\r\n   <path d=\"M 0 248.518125 \r\nL 372.103125 248.518125 \r\nL 372.103125 0 \r\nL 0 0 \r\nz\r\n\" style=\"fill:none;\"/>\r\n  </g>\r\n  <g id=\"axes_1\">\r\n   <g id=\"patch_2\">\r\n    <path d=\"M 30.103125 224.64 \r\nL 364.903125 224.64 \r\nL 364.903125 7.2 \r\nL 30.103125 7.2 \r\nz\r\n\" style=\"fill:#ffffff;\"/>\r\n   </g>\r\n   <g id=\"PathCollection_1\">\r\n    <defs>\r\n     <path d=\"M 0 3 \r\nC 0.795609 3 1.55874 2.683901 2.12132 2.12132 \r\nC 2.683901 1.55874 3 0.795609 3 0 \r\nC 3 -0.795609 2.683901 -1.55874 2.12132 -2.12132 \r\nC 1.55874 -2.683901 0.795609 -3 0 -3 \r\nC -0.795609 -3 -1.55874 -2.683901 -2.12132 -2.12132 \r\nC -2.683901 -1.55874 -3 -0.795609 -3 0 \r\nC -3 0.795609 -2.683901 1.55874 -2.12132 2.12132 \r\nC -1.55874 2.683901 -0.795609 3 0 3 \r\nz\r\n\" id=\"C0_0_1e97da068e\"/>\r\n    </defs>\r\n    <g clip-path=\"url(#p85d55c09aa)\">\r\n     <use style=\"fill:#440154;stroke:#440154;\" x=\"134.840023\" xlink:href=\"#C0_0_1e97da068e\" y=\"206.52\"/>\r\n    </g>\r\n    <g clip-path=\"url(#p85d55c09aa)\">\r\n     <use style=\"fill:#21918c;stroke:#21918c;\" x=\"197.503125\" xlink:href=\"#C0_0_1e97da068e\" y=\"99.447273\"/>\r\n    </g>\r\n    <g clip-path=\"url(#p85d55c09aa)\">\r\n     <use style=\"fill:#440154;stroke:#440154;\" x=\"170.64751\" xlink:href=\"#C0_0_1e97da068e\" y=\"198.283636\"/>\r\n    </g>\r\n    <g clip-path=\"url(#p85d55c09aa)\">\r\n     <use style=\"fill:#fde725;stroke:#fde725;\" x=\"269.118098\" xlink:href=\"#C0_0_1e97da068e\" y=\"33.556364\"/>\r\n    </g>\r\n    <g clip-path=\"url(#p85d55c09aa)\">\r\n     <use style=\"fill:#21918c;stroke:#21918c;\" x=\"161.695638\" xlink:href=\"#C0_0_1e97da068e\" y=\"132.392727\"/>\r\n    </g>\r\n    <g clip-path=\"url(#p85d55c09aa)\">\r\n     <use style=\"fill:#21918c;stroke:#21918c;\" x=\"251.214355\" xlink:href=\"#C0_0_1e97da068e\" y=\"107.683636\"/>\r\n    </g>\r\n    <g clip-path=\"url(#p85d55c09aa)\">\r\n     <use style=\"fill:#fde725;stroke:#fde725;\" x=\"233.310612\" xlink:href=\"#C0_0_1e97da068e\" y=\"74.738182\"/>\r\n    </g>\r\n    <g clip-path=\"url(#p85d55c09aa)\">\r\n     <use style=\"fill:#fde725;stroke:#fde725;\" x=\"206.454997\" xlink:href=\"#C0_0_1e97da068e\" y=\"74.738182\"/>\r\n    </g>\r\n    <g clip-path=\"url(#p85d55c09aa)\">\r\n     <use style=\"fill:#440154;stroke:#440154;\" x=\"116.93628\" xlink:href=\"#C0_0_1e97da068e\" y=\"206.52\"/>\r\n    </g>\r\n    <g clip-path=\"url(#p85d55c09aa)\">\r\n     <use style=\"fill:#fde725;stroke:#fde725;\" x=\"304.925585\" xlink:href=\"#C0_0_1e97da068e\" y=\"91.210909\"/>\r\n    </g>\r\n    <g clip-path=\"url(#p85d55c09aa)\">\r\n     <use style=\"fill:#440154;stroke:#440154;\" x=\"107.984408\" xlink:href=\"#C0_0_1e97da068e\" y=\"198.283636\"/>\r\n    </g>\r\n    <g clip-path=\"url(#p85d55c09aa)\">\r\n     <use style=\"fill:#440154;stroke:#440154;\" x=\"90.080665\" xlink:href=\"#C0_0_1e97da068e\" y=\"206.52\"/>\r\n    </g>\r\n    <g clip-path=\"url(#p85d55c09aa)\">\r\n     <use style=\"fill:#21918c;stroke:#21918c;\" x=\"215.406868\" xlink:href=\"#C0_0_1e97da068e\" y=\"99.447273\"/>\r\n    </g>\r\n    <g clip-path=\"url(#p85d55c09aa)\">\r\n     <use style=\"fill:#440154;stroke:#440154;\" x=\"143.791895\" xlink:href=\"#C0_0_1e97da068e\" y=\"190.047273\"/>\r\n    </g>\r\n    <g clip-path=\"url(#p85d55c09aa)\">\r\n     <use style=\"fill:#21918c;stroke:#21918c;\" x=\"260.166227\" xlink:href=\"#C0_0_1e97da068e\" y=\"107.683636\"/>\r\n    </g>\r\n    <g clip-path=\"url(#p85d55c09aa)\">\r\n     <use style=\"fill:#21918c;stroke:#21918c;\" x=\"161.695638\" xlink:href=\"#C0_0_1e97da068e\" y=\"115.92\"/>\r\n    </g>\r\n    <g clip-path=\"url(#p85d55c09aa)\">\r\n     <use style=\"fill:#fde725;stroke:#fde725;\" x=\"206.454997\" xlink:href=\"#C0_0_1e97da068e\" y=\"107.683636\"/>\r\n    </g>\r\n    <g clip-path=\"url(#p85d55c09aa)\">\r\n     <use style=\"fill:#440154;stroke:#440154;\" x=\"125.888152\" xlink:href=\"#C0_0_1e97da068e\" y=\"206.52\"/>\r\n    </g>\r\n    <g clip-path=\"url(#p85d55c09aa)\">\r\n     <use style=\"fill:#fde725;stroke:#fde725;\" x=\"224.35874\" xlink:href=\"#C0_0_1e97da068e\" y=\"66.501818\"/>\r\n    </g>\r\n    <g clip-path=\"url(#p85d55c09aa)\">\r\n     <use style=\"fill:#fde725;stroke:#fde725;\" x=\"349.684943\" xlink:href=\"#C0_0_1e97da068e\" y=\"41.792727\"/>\r\n    </g>\r\n    <g clip-path=\"url(#p85d55c09aa)\">\r\n     <use style=\"fill:#440154;stroke:#440154;\" x=\"90.080665\" xlink:href=\"#C0_0_1e97da068e\" y=\"206.52\"/>\r\n    </g>\r\n    <g clip-path=\"url(#p85d55c09aa)\">\r\n     <use style=\"fill:#21918c;stroke:#21918c;\" x=\"206.454997\" xlink:href=\"#C0_0_1e97da068e\" y=\"124.156364\"/>\r\n    </g>\r\n    <g clip-path=\"url(#p85d55c09aa)\">\r\n     <use style=\"fill:#fde725;stroke:#fde725;\" x=\"260.166227\" xlink:href=\"#C0_0_1e97da068e\" y=\"33.556364\"/>\r\n    </g>\r\n    <g clip-path=\"url(#p85d55c09aa)\">\r\n     <use style=\"fill:#fde725;stroke:#fde725;\" x=\"224.35874\" xlink:href=\"#C0_0_1e97da068e\" y=\"74.738182\"/>\r\n    </g>\r\n    <g clip-path=\"url(#p85d55c09aa)\">\r\n     <use style=\"fill:#21918c;stroke:#21918c;\" x=\"99.032537\" xlink:href=\"#C0_0_1e97da068e\" y=\"140.629091\"/>\r\n    </g>\r\n    <g clip-path=\"url(#p85d55c09aa)\">\r\n     <use style=\"fill:#440154;stroke:#440154;\" x=\"116.93628\" xlink:href=\"#C0_0_1e97da068e\" y=\"198.283636\"/>\r\n    </g>\r\n    <g clip-path=\"url(#p85d55c09aa)\">\r\n     <use style=\"fill:#440154;stroke:#440154;\" x=\"152.743767\" xlink:href=\"#C0_0_1e97da068e\" y=\"206.52\"/>\r\n    </g>\r\n    <g clip-path=\"url(#p85d55c09aa)\">\r\n     <use style=\"fill:#440154;stroke:#440154;\" x=\"143.791895\" xlink:href=\"#C0_0_1e97da068e\" y=\"206.52\"/>\r\n    </g>\r\n    <g clip-path=\"url(#p85d55c09aa)\">\r\n     <use style=\"fill:#fde725;stroke:#fde725;\" x=\"233.310612\" xlink:href=\"#C0_0_1e97da068e\" y=\"33.556364\"/>\r\n    </g>\r\n    <g clip-path=\"url(#p85d55c09aa)\">\r\n     <use style=\"fill:#21918c;stroke:#21918c;\" x=\"269.118098\" xlink:href=\"#C0_0_1e97da068e\" y=\"107.683636\"/>\r\n    </g>\r\n    <g clip-path=\"url(#p85d55c09aa)\">\r\n     <use style=\"fill:#fde725;stroke:#fde725;\" x=\"260.166227\" xlink:href=\"#C0_0_1e97da068e\" y=\"74.738182\"/>\r\n    </g>\r\n    <g clip-path=\"url(#p85d55c09aa)\">\r\n     <use style=\"fill:#21918c;stroke:#21918c;\" x=\"152.743767\" xlink:href=\"#C0_0_1e97da068e\" y=\"115.92\"/>\r\n    </g>\r\n    <g clip-path=\"url(#p85d55c09aa)\">\r\n     <use style=\"fill:#440154;stroke:#440154;\" x=\"170.64751\" xlink:href=\"#C0_0_1e97da068e\" y=\"190.047273\"/>\r\n    </g>\r\n    <g clip-path=\"url(#p85d55c09aa)\">\r\n     <use style=\"fill:#440154;stroke:#440154;\" x=\"81.128793\" xlink:href=\"#C0_0_1e97da068e\" y=\"206.52\"/>\r\n    </g>\r\n    <g clip-path=\"url(#p85d55c09aa)\">\r\n     <use style=\"fill:#fde725;stroke:#fde725;\" x=\"260.166227\" xlink:href=\"#C0_0_1e97da068e\" y=\"17.083636\"/>\r\n    </g>\r\n    <g clip-path=\"url(#p85d55c09aa)\">\r\n     <use style=\"fill:#fde725;stroke:#fde725;\" x=\"278.06997\" xlink:href=\"#C0_0_1e97da068e\" y=\"33.556364\"/>\r\n    </g>\r\n    <g clip-path=\"url(#p85d55c09aa)\">\r\n     <use style=\"fill:#21918c;stroke:#21918c;\" x=\"125.888152\" xlink:href=\"#C0_0_1e97da068e\" y=\"107.683636\"/>\r\n    </g>\r\n    <g clip-path=\"url(#p85d55c09aa)\">\r\n     <use style=\"fill:#21918c;stroke:#21918c;\" x=\"170.64751\" xlink:href=\"#C0_0_1e97da068e\" y=\"115.92\"/>\r\n    </g>\r\n    <g clip-path=\"url(#p85d55c09aa)\">\r\n     <use style=\"fill:#21918c;stroke:#21918c;\" x=\"170.64751\" xlink:href=\"#C0_0_1e97da068e\" y=\"115.92\"/>\r\n    </g>\r\n    <g clip-path=\"url(#p85d55c09aa)\">\r\n     <use style=\"fill:#fde725;stroke:#fde725;\" x=\"215.406868\" xlink:href=\"#C0_0_1e97da068e\" y=\"74.738182\"/>\r\n    </g>\r\n    <g clip-path=\"url(#p85d55c09aa)\">\r\n     <use style=\"fill:#440154;stroke:#440154;\" x=\"54.273178\" xlink:href=\"#C0_0_1e97da068e\" y=\"206.52\"/>\r\n    </g>\r\n    <g clip-path=\"url(#p85d55c09aa)\">\r\n     <use style=\"fill:#fde725;stroke:#fde725;\" x=\"278.06997\" xlink:href=\"#C0_0_1e97da068e\" y=\"33.556364\"/>\r\n    </g>\r\n    <g clip-path=\"url(#p85d55c09aa)\">\r\n     <use style=\"fill:#fde725;stroke:#fde725;\" x=\"242.262483\" xlink:href=\"#C0_0_1e97da068e\" y=\"58.265455\"/>\r\n    </g>\r\n    <g clip-path=\"url(#p85d55c09aa)\">\r\n     <use style=\"fill:#440154;stroke:#440154;\" x=\"72.176922\" xlink:href=\"#C0_0_1e97da068e\" y=\"198.283636\"/>\r\n    </g>\r\n    <g clip-path=\"url(#p85d55c09aa)\">\r\n     <use style=\"fill:#440154;stroke:#440154;\" x=\"107.984408\" xlink:href=\"#C0_0_1e97da068e\" y=\"206.52\"/>\r\n    </g>\r\n    <g clip-path=\"url(#p85d55c09aa)\">\r\n     <use style=\"fill:#440154;stroke:#440154;\" x=\"125.888152\" xlink:href=\"#C0_0_1e97da068e\" y=\"206.52\"/>\r\n    </g>\r\n    <g clip-path=\"url(#p85d55c09aa)\">\r\n     <use style=\"fill:#21918c;stroke:#21918c;\" x=\"224.35874\" xlink:href=\"#C0_0_1e97da068e\" y=\"115.92\"/>\r\n    </g>\r\n    <g clip-path=\"url(#p85d55c09aa)\">\r\n     <use style=\"fill:#440154;stroke:#440154;\" x=\"72.176922\" xlink:href=\"#C0_0_1e97da068e\" y=\"206.52\"/>\r\n    </g>\r\n    <g clip-path=\"url(#p85d55c09aa)\">\r\n     <use style=\"fill:#440154;stroke:#440154;\" x=\"143.791895\" xlink:href=\"#C0_0_1e97da068e\" y=\"206.52\"/>\r\n    </g>\r\n    <g clip-path=\"url(#p85d55c09aa)\">\r\n     <use style=\"fill:#21918c;stroke:#21918c;\" x=\"152.743767\" xlink:href=\"#C0_0_1e97da068e\" y=\"115.92\"/>\r\n    </g>\r\n    <g clip-path=\"url(#p85d55c09aa)\">\r\n     <use style=\"fill:#fde725;stroke:#fde725;\" x=\"304.925585\" xlink:href=\"#C0_0_1e97da068e\" y=\"17.083636\"/>\r\n    </g>\r\n    <g clip-path=\"url(#p85d55c09aa)\">\r\n     <use style=\"fill:#21918c;stroke:#21918c;\" x=\"278.06997\" xlink:href=\"#C0_0_1e97da068e\" y=\"99.447273\"/>\r\n    </g>\r\n    <g clip-path=\"url(#p85d55c09aa)\">\r\n     <use style=\"fill:#21918c;stroke:#21918c;\" x=\"224.35874\" xlink:href=\"#C0_0_1e97da068e\" y=\"91.210909\"/>\r\n    </g>\r\n    <g clip-path=\"url(#p85d55c09aa)\">\r\n     <use style=\"fill:#fde725;stroke:#fde725;\" x=\"349.684943\" xlink:href=\"#C0_0_1e97da068e\" y=\"58.265455\"/>\r\n    </g>\r\n    <g clip-path=\"url(#p85d55c09aa)\">\r\n     <use style=\"fill:#fde725;stroke:#fde725;\" x=\"233.310612\" xlink:href=\"#C0_0_1e97da068e\" y=\"50.029091\"/>\r\n    </g>\r\n    <g clip-path=\"url(#p85d55c09aa)\">\r\n     <use style=\"fill:#fde725;stroke:#fde725;\" x=\"313.877457\" xlink:href=\"#C0_0_1e97da068e\" y=\"74.738182\"/>\r\n    </g>\r\n    <g clip-path=\"url(#p85d55c09aa)\">\r\n     <use style=\"fill:#21918c;stroke:#21918c;\" x=\"260.166227\" xlink:href=\"#C0_0_1e97da068e\" y=\"82.974545\"/>\r\n    </g>\r\n    <g clip-path=\"url(#p85d55c09aa)\">\r\n     <use style=\"fill:#440154;stroke:#440154;\" x=\"81.128793\" xlink:href=\"#C0_0_1e97da068e\" y=\"206.52\"/>\r\n    </g>\r\n    <g clip-path=\"url(#p85d55c09aa)\">\r\n     <use style=\"fill:#fde725;stroke:#fde725;\" x=\"215.406868\" xlink:href=\"#C0_0_1e97da068e\" y=\"33.556364\"/>\r\n    </g>\r\n    <g clip-path=\"url(#p85d55c09aa)\">\r\n     <use style=\"fill:#440154;stroke:#440154;\" x=\"54.273178\" xlink:href=\"#C0_0_1e97da068e\" y=\"206.52\"/>\r\n    </g>\r\n    <g clip-path=\"url(#p85d55c09aa)\">\r\n     <use style=\"fill:#fde725;stroke:#fde725;\" x=\"349.684943\" xlink:href=\"#C0_0_1e97da068e\" y=\"33.556364\"/>\r\n    </g>\r\n    <g clip-path=\"url(#p85d55c09aa)\">\r\n     <use style=\"fill:#fde725;stroke:#fde725;\" x=\"242.262483\" xlink:href=\"#C0_0_1e97da068e\" y=\"41.792727\"/>\r\n    </g>\r\n    <g clip-path=\"url(#p85d55c09aa)\">\r\n     <use style=\"fill:#440154;stroke:#440154;\" x=\"99.032537\" xlink:href=\"#C0_0_1e97da068e\" y=\"214.756364\"/>\r\n    </g>\r\n    <g clip-path=\"url(#p85d55c09aa)\">\r\n     <use style=\"fill:#21918c;stroke:#21918c;\" x=\"188.551253\" xlink:href=\"#C0_0_1e97da068e\" y=\"74.738182\"/>\r\n    </g>\r\n    <g clip-path=\"url(#p85d55c09aa)\">\r\n     <use style=\"fill:#fde725;stroke:#fde725;\" x=\"295.973713\" xlink:href=\"#C0_0_1e97da068e\" y=\"50.029091\"/>\r\n    </g>\r\n    <g clip-path=\"url(#p85d55c09aa)\">\r\n     <use style=\"fill:#fde725;stroke:#fde725;\" x=\"161.695638\" xlink:href=\"#C0_0_1e97da068e\" y=\"58.265455\"/>\r\n    </g>\r\n    <g clip-path=\"url(#p85d55c09aa)\">\r\n     <use style=\"fill:#fde725;stroke:#fde725;\" x=\"197.503125\" xlink:href=\"#C0_0_1e97da068e\" y=\"74.738182\"/>\r\n    </g>\r\n    <g clip-path=\"url(#p85d55c09aa)\">\r\n     <use style=\"fill:#440154;stroke:#440154;\" x=\"99.032537\" xlink:href=\"#C0_0_1e97da068e\" y=\"214.756364\"/>\r\n    </g>\r\n    <g clip-path=\"url(#p85d55c09aa)\">\r\n     <use style=\"fill:#440154;stroke:#440154;\" x=\"72.176922\" xlink:href=\"#C0_0_1e97da068e\" y=\"206.52\"/>\r\n    </g>\r\n    <g clip-path=\"url(#p85d55c09aa)\">\r\n     <use style=\"fill:#21918c;stroke:#21918c;\" x=\"233.310612\" xlink:href=\"#C0_0_1e97da068e\" y=\"99.447273\"/>\r\n    </g>\r\n    <g clip-path=\"url(#p85d55c09aa)\">\r\n     <use style=\"fill:#21918c;stroke:#21918c;\" x=\"242.262483\" xlink:href=\"#C0_0_1e97da068e\" y=\"99.447273\"/>\r\n    </g>\r\n    <g clip-path=\"url(#p85d55c09aa)\">\r\n     <use style=\"fill:#fde725;stroke:#fde725;\" x=\"340.733072\" xlink:href=\"#C0_0_1e97da068e\" y=\"50.029091\"/>\r\n    </g>\r\n    <g clip-path=\"url(#p85d55c09aa)\">\r\n     <use style=\"fill:#440154;stroke:#440154;\" x=\"90.080665\" xlink:href=\"#C0_0_1e97da068e\" y=\"206.52\"/>\r\n    </g>\r\n    <g clip-path=\"url(#p85d55c09aa)\">\r\n     <use style=\"fill:#21918c;stroke:#21918c;\" x=\"287.021842\" xlink:href=\"#C0_0_1e97da068e\" y=\"107.683636\"/>\r\n    </g>\r\n    <g clip-path=\"url(#p85d55c09aa)\">\r\n     <use style=\"fill:#440154;stroke:#440154;\" x=\"143.791895\" xlink:href=\"#C0_0_1e97da068e\" y=\"190.047273\"/>\r\n    </g>\r\n    <g clip-path=\"url(#p85d55c09aa)\">\r\n     <use style=\"fill:#440154;stroke:#440154;\" x=\"72.176922\" xlink:href=\"#C0_0_1e97da068e\" y=\"206.52\"/>\r\n    </g>\r\n    <g clip-path=\"url(#p85d55c09aa)\">\r\n     <use style=\"fill:#21918c;stroke:#21918c;\" x=\"197.503125\" xlink:href=\"#C0_0_1e97da068e\" y=\"91.210909\"/>\r\n    </g>\r\n    <g clip-path=\"url(#p85d55c09aa)\">\r\n     <use style=\"fill:#21918c;stroke:#21918c;\" x=\"107.984408\" xlink:href=\"#C0_0_1e97da068e\" y=\"140.629091\"/>\r\n    </g>\r\n    <g clip-path=\"url(#p85d55c09aa)\">\r\n     <use style=\"fill:#440154;stroke:#440154;\" x=\"90.080665\" xlink:href=\"#C0_0_1e97da068e\" y=\"198.283636\"/>\r\n    </g>\r\n    <g clip-path=\"url(#p85d55c09aa)\">\r\n     <use style=\"fill:#fde725;stroke:#fde725;\" x=\"260.166227\" xlink:href=\"#C0_0_1e97da068e\" y=\"50.029091\"/>\r\n    </g>\r\n    <g clip-path=\"url(#p85d55c09aa)\">\r\n     <use style=\"fill:#440154;stroke:#440154;\" x=\"116.93628\" xlink:href=\"#C0_0_1e97da068e\" y=\"190.047273\"/>\r\n    </g>\r\n    <g clip-path=\"url(#p85d55c09aa)\">\r\n     <use style=\"fill:#440154;stroke:#440154;\" x=\"152.743767\" xlink:href=\"#C0_0_1e97da068e\" y=\"206.52\"/>\r\n    </g>\r\n    <g clip-path=\"url(#p85d55c09aa)\">\r\n     <use style=\"fill:#440154;stroke:#440154;\" x=\"116.93628\" xlink:href=\"#C0_0_1e97da068e\" y=\"190.047273\"/>\r\n    </g>\r\n    <g clip-path=\"url(#p85d55c09aa)\">\r\n     <use style=\"fill:#21918c;stroke:#21918c;\" x=\"251.214355\" xlink:href=\"#C0_0_1e97da068e\" y=\"115.92\"/>\r\n    </g>\r\n    <g clip-path=\"url(#p85d55c09aa)\">\r\n     <use style=\"fill:#21918c;stroke:#21918c;\" x=\"152.743767\" xlink:href=\"#C0_0_1e97da068e\" y=\"132.392727\"/>\r\n    </g>\r\n    <g clip-path=\"url(#p85d55c09aa)\">\r\n     <use style=\"fill:#fde725;stroke:#fde725;\" x=\"197.503125\" xlink:href=\"#C0_0_1e97da068e\" y=\"99.447273\"/>\r\n    </g>\r\n    <g clip-path=\"url(#p85d55c09aa)\">\r\n     <use style=\"fill:#fde725;stroke:#fde725;\" x=\"233.310612\" xlink:href=\"#C0_0_1e97da068e\" y=\"41.792727\"/>\r\n    </g>\r\n    <g clip-path=\"url(#p85d55c09aa)\">\r\n     <use style=\"fill:#21918c;stroke:#21918c;\" x=\"197.503125\" xlink:href=\"#C0_0_1e97da068e\" y=\"140.629091\"/>\r\n    </g>\r\n    <g clip-path=\"url(#p85d55c09aa)\">\r\n     <use style=\"fill:#21918c;stroke:#21918c;\" x=\"260.166227\" xlink:href=\"#C0_0_1e97da068e\" y=\"99.447273\"/>\r\n    </g>\r\n    <g clip-path=\"url(#p85d55c09aa)\">\r\n     <use style=\"fill:#440154;stroke:#440154;\" x=\"107.984408\" xlink:href=\"#C0_0_1e97da068e\" y=\"206.52\"/>\r\n    </g>\r\n    <g clip-path=\"url(#p85d55c09aa)\">\r\n     <use style=\"fill:#440154;stroke:#440154;\" x=\"45.321307\" xlink:href=\"#C0_0_1e97da068e\" y=\"214.756364\"/>\r\n    </g>\r\n    <g clip-path=\"url(#p85d55c09aa)\">\r\n     <use style=\"fill:#fde725;stroke:#fde725;\" x=\"224.35874\" xlink:href=\"#C0_0_1e97da068e\" y=\"25.32\"/>\r\n    </g>\r\n    <g clip-path=\"url(#p85d55c09aa)\">\r\n     <use style=\"fill:#fde725;stroke:#fde725;\" x=\"179.599382\" xlink:href=\"#C0_0_1e97da068e\" y=\"25.32\"/>\r\n    </g>\r\n    <g clip-path=\"url(#p85d55c09aa)\">\r\n     <use style=\"fill:#440154;stroke:#440154;\" x=\"116.93628\" xlink:href=\"#C0_0_1e97da068e\" y=\"206.52\"/>\r\n    </g>\r\n    <g clip-path=\"url(#p85d55c09aa)\">\r\n     <use style=\"fill:#440154;stroke:#440154;\" x=\"63.22505\" xlink:href=\"#C0_0_1e97da068e\" y=\"198.283636\"/>\r\n    </g>\r\n    <g clip-path=\"url(#p85d55c09aa)\">\r\n     <use style=\"fill:#21918c;stroke:#21918c;\" x=\"170.64751\" xlink:href=\"#C0_0_1e97da068e\" y=\"115.92\"/>\r\n    </g>\r\n    <g clip-path=\"url(#p85d55c09aa)\">\r\n     <use style=\"fill:#21918c;stroke:#21918c;\" x=\"224.35874\" xlink:href=\"#C0_0_1e97da068e\" y=\"99.447273\"/>\r\n    </g>\r\n    <g clip-path=\"url(#p85d55c09aa)\">\r\n     <use style=\"fill:#440154;stroke:#440154;\" x=\"116.93628\" xlink:href=\"#C0_0_1e97da068e\" y=\"206.52\"/>\r\n    </g>\r\n    <g clip-path=\"url(#p85d55c09aa)\">\r\n     <use style=\"fill:#fde725;stroke:#fde725;\" x=\"179.599382\" xlink:href=\"#C0_0_1e97da068e\" y=\"66.501818\"/>\r\n    </g>\r\n    <g clip-path=\"url(#p85d55c09aa)\">\r\n     <use style=\"fill:#440154;stroke:#440154;\" x=\"107.984408\" xlink:href=\"#C0_0_1e97da068e\" y=\"190.047273\"/>\r\n    </g>\r\n    <g clip-path=\"url(#p85d55c09aa)\">\r\n     <use style=\"fill:#fde725;stroke:#fde725;\" x=\"242.262483\" xlink:href=\"#C0_0_1e97da068e\" y=\"58.265455\"/>\r\n    </g>\r\n    <g clip-path=\"url(#p85d55c09aa)\">\r\n     <use style=\"fill:#440154;stroke:#440154;\" x=\"90.080665\" xlink:href=\"#C0_0_1e97da068e\" y=\"214.756364\"/>\r\n    </g>\r\n    <g clip-path=\"url(#p85d55c09aa)\">\r\n     <use style=\"fill:#440154;stroke:#440154;\" x=\"116.93628\" xlink:href=\"#C0_0_1e97da068e\" y=\"198.283636\"/>\r\n    </g>\r\n    <g clip-path=\"url(#p85d55c09aa)\">\r\n     <use style=\"fill:#440154;stroke:#440154;\" x=\"179.599382\" xlink:href=\"#C0_0_1e97da068e\" y=\"206.52\"/>\r\n    </g>\r\n    <g clip-path=\"url(#p85d55c09aa)\">\r\n     <use style=\"fill:#440154;stroke:#440154;\" x=\"107.984408\" xlink:href=\"#C0_0_1e97da068e\" y=\"206.52\"/>\r\n    </g>\r\n   </g>\r\n   <g id=\"matplotlib.axis_1\">\r\n    <g id=\"xtick_1\">\r\n     <g id=\"line2d_1\">\r\n      <defs>\r\n       <path d=\"M 0 0 \r\nL 0 3.5 \r\n\" id=\"md5866804a8\" style=\"stroke:#000000;stroke-width:0.8;\"/>\r\n      </defs>\r\n      <g>\r\n       <use style=\"stroke:#000000;stroke-width:0.8;\" x=\"63.22505\" xlink:href=\"#md5866804a8\" y=\"224.64\"/>\r\n      </g>\r\n     </g>\r\n     <g id=\"text_1\">\r\n      <!-- 4.5 -->\r\n      <defs>\r\n       <path d=\"M 37.796875 64.3125 \r\nL 12.890625 25.390625 \r\nL 37.796875 25.390625 \r\nz\r\nM 35.203125 72.90625 \r\nL 47.609375 72.90625 \r\nL 47.609375 25.390625 \r\nL 58.015625 25.390625 \r\nL 58.015625 17.1875 \r\nL 47.609375 17.1875 \r\nL 47.609375 0 \r\nL 37.796875 0 \r\nL 37.796875 17.1875 \r\nL 4.890625 17.1875 \r\nL 4.890625 26.703125 \r\nz\r\n\" id=\"DejaVuSans-52\"/>\r\n       <path d=\"M 10.6875 12.40625 \r\nL 21 12.40625 \r\nL 21 0 \r\nL 10.6875 0 \r\nz\r\n\" id=\"DejaVuSans-46\"/>\r\n       <path d=\"M 10.796875 72.90625 \r\nL 49.515625 72.90625 \r\nL 49.515625 64.59375 \r\nL 19.828125 64.59375 \r\nL 19.828125 46.734375 \r\nQ 21.96875 47.46875 24.109375 47.828125 \r\nQ 26.265625 48.1875 28.421875 48.1875 \r\nQ 40.625 48.1875 47.75 41.5 \r\nQ 54.890625 34.8125 54.890625 23.390625 \r\nQ 54.890625 11.625 47.5625 5.09375 \r\nQ 40.234375 -1.421875 26.90625 -1.421875 \r\nQ 22.3125 -1.421875 17.546875 -0.640625 \r\nQ 12.796875 0.140625 7.71875 1.703125 \r\nL 7.71875 11.625 \r\nQ 12.109375 9.234375 16.796875 8.0625 \r\nQ 21.484375 6.890625 26.703125 6.890625 \r\nQ 35.15625 6.890625 40.078125 11.328125 \r\nQ 45.015625 15.765625 45.015625 23.390625 \r\nQ 45.015625 31 40.078125 35.4375 \r\nQ 35.15625 39.890625 26.703125 39.890625 \r\nQ 22.75 39.890625 18.8125 39.015625 \r\nQ 14.890625 38.140625 10.796875 36.28125 \r\nz\r\n\" id=\"DejaVuSans-53\"/>\r\n      </defs>\r\n      <g transform=\"translate(55.273488 239.238437)scale(0.1 -0.1)\">\r\n       <use xlink:href=\"#DejaVuSans-52\"/>\r\n       <use x=\"63.623047\" xlink:href=\"#DejaVuSans-46\"/>\r\n       <use x=\"95.410156\" xlink:href=\"#DejaVuSans-53\"/>\r\n      </g>\r\n     </g>\r\n    </g>\r\n    <g id=\"xtick_2\">\r\n     <g id=\"line2d_2\">\r\n      <g>\r\n       <use style=\"stroke:#000000;stroke-width:0.8;\" x=\"107.984408\" xlink:href=\"#md5866804a8\" y=\"224.64\"/>\r\n      </g>\r\n     </g>\r\n     <g id=\"text_2\">\r\n      <!-- 5.0 -->\r\n      <defs>\r\n       <path d=\"M 31.78125 66.40625 \r\nQ 24.171875 66.40625 20.328125 58.90625 \r\nQ 16.5 51.421875 16.5 36.375 \r\nQ 16.5 21.390625 20.328125 13.890625 \r\nQ 24.171875 6.390625 31.78125 6.390625 \r\nQ 39.453125 6.390625 43.28125 13.890625 \r\nQ 47.125 21.390625 47.125 36.375 \r\nQ 47.125 51.421875 43.28125 58.90625 \r\nQ 39.453125 66.40625 31.78125 66.40625 \r\nz\r\nM 31.78125 74.21875 \r\nQ 44.046875 74.21875 50.515625 64.515625 \r\nQ 56.984375 54.828125 56.984375 36.375 \r\nQ 56.984375 17.96875 50.515625 8.265625 \r\nQ 44.046875 -1.421875 31.78125 -1.421875 \r\nQ 19.53125 -1.421875 13.0625 8.265625 \r\nQ 6.59375 17.96875 6.59375 36.375 \r\nQ 6.59375 54.828125 13.0625 64.515625 \r\nQ 19.53125 74.21875 31.78125 74.21875 \r\nz\r\n\" id=\"DejaVuSans-48\"/>\r\n      </defs>\r\n      <g transform=\"translate(100.032846 239.238437)scale(0.1 -0.1)\">\r\n       <use xlink:href=\"#DejaVuSans-53\"/>\r\n       <use x=\"63.623047\" xlink:href=\"#DejaVuSans-46\"/>\r\n       <use x=\"95.410156\" xlink:href=\"#DejaVuSans-48\"/>\r\n      </g>\r\n     </g>\r\n    </g>\r\n    <g id=\"xtick_3\">\r\n     <g id=\"line2d_3\">\r\n      <g>\r\n       <use style=\"stroke:#000000;stroke-width:0.8;\" x=\"152.743767\" xlink:href=\"#md5866804a8\" y=\"224.64\"/>\r\n      </g>\r\n     </g>\r\n     <g id=\"text_3\">\r\n      <!-- 5.5 -->\r\n      <g transform=\"translate(144.792204 239.238437)scale(0.1 -0.1)\">\r\n       <use xlink:href=\"#DejaVuSans-53\"/>\r\n       <use x=\"63.623047\" xlink:href=\"#DejaVuSans-46\"/>\r\n       <use x=\"95.410156\" xlink:href=\"#DejaVuSans-53\"/>\r\n      </g>\r\n     </g>\r\n    </g>\r\n    <g id=\"xtick_4\">\r\n     <g id=\"line2d_4\">\r\n      <g>\r\n       <use style=\"stroke:#000000;stroke-width:0.8;\" x=\"197.503125\" xlink:href=\"#md5866804a8\" y=\"224.64\"/>\r\n      </g>\r\n     </g>\r\n     <g id=\"text_4\">\r\n      <!-- 6.0 -->\r\n      <defs>\r\n       <path d=\"M 33.015625 40.375 \r\nQ 26.375 40.375 22.484375 35.828125 \r\nQ 18.609375 31.296875 18.609375 23.390625 \r\nQ 18.609375 15.53125 22.484375 10.953125 \r\nQ 26.375 6.390625 33.015625 6.390625 \r\nQ 39.65625 6.390625 43.53125 10.953125 \r\nQ 47.40625 15.53125 47.40625 23.390625 \r\nQ 47.40625 31.296875 43.53125 35.828125 \r\nQ 39.65625 40.375 33.015625 40.375 \r\nz\r\nM 52.59375 71.296875 \r\nL 52.59375 62.3125 \r\nQ 48.875 64.0625 45.09375 64.984375 \r\nQ 41.3125 65.921875 37.59375 65.921875 \r\nQ 27.828125 65.921875 22.671875 59.328125 \r\nQ 17.53125 52.734375 16.796875 39.40625 \r\nQ 19.671875 43.65625 24.015625 45.921875 \r\nQ 28.375 48.1875 33.59375 48.1875 \r\nQ 44.578125 48.1875 50.953125 41.515625 \r\nQ 57.328125 34.859375 57.328125 23.390625 \r\nQ 57.328125 12.15625 50.6875 5.359375 \r\nQ 44.046875 -1.421875 33.015625 -1.421875 \r\nQ 20.359375 -1.421875 13.671875 8.265625 \r\nQ 6.984375 17.96875 6.984375 36.375 \r\nQ 6.984375 53.65625 15.1875 63.9375 \r\nQ 23.390625 74.21875 37.203125 74.21875 \r\nQ 40.921875 74.21875 44.703125 73.484375 \r\nQ 48.484375 72.75 52.59375 71.296875 \r\nz\r\n\" id=\"DejaVuSans-54\"/>\r\n      </defs>\r\n      <g transform=\"translate(189.551563 239.238437)scale(0.1 -0.1)\">\r\n       <use xlink:href=\"#DejaVuSans-54\"/>\r\n       <use x=\"63.623047\" xlink:href=\"#DejaVuSans-46\"/>\r\n       <use x=\"95.410156\" xlink:href=\"#DejaVuSans-48\"/>\r\n      </g>\r\n     </g>\r\n    </g>\r\n    <g id=\"xtick_5\">\r\n     <g id=\"line2d_5\">\r\n      <g>\r\n       <use style=\"stroke:#000000;stroke-width:0.8;\" x=\"242.262483\" xlink:href=\"#md5866804a8\" y=\"224.64\"/>\r\n      </g>\r\n     </g>\r\n     <g id=\"text_5\">\r\n      <!-- 6.5 -->\r\n      <g transform=\"translate(234.310921 239.238437)scale(0.1 -0.1)\">\r\n       <use xlink:href=\"#DejaVuSans-54\"/>\r\n       <use x=\"63.623047\" xlink:href=\"#DejaVuSans-46\"/>\r\n       <use x=\"95.410156\" xlink:href=\"#DejaVuSans-53\"/>\r\n      </g>\r\n     </g>\r\n    </g>\r\n    <g id=\"xtick_6\">\r\n     <g id=\"line2d_6\">\r\n      <g>\r\n       <use style=\"stroke:#000000;stroke-width:0.8;\" x=\"287.021842\" xlink:href=\"#md5866804a8\" y=\"224.64\"/>\r\n      </g>\r\n     </g>\r\n     <g id=\"text_6\">\r\n      <!-- 7.0 -->\r\n      <defs>\r\n       <path d=\"M 8.203125 72.90625 \r\nL 55.078125 72.90625 \r\nL 55.078125 68.703125 \r\nL 28.609375 0 \r\nL 18.3125 0 \r\nL 43.21875 64.59375 \r\nL 8.203125 64.59375 \r\nz\r\n\" id=\"DejaVuSans-55\"/>\r\n      </defs>\r\n      <g transform=\"translate(279.070279 239.238437)scale(0.1 -0.1)\">\r\n       <use xlink:href=\"#DejaVuSans-55\"/>\r\n       <use x=\"63.623047\" xlink:href=\"#DejaVuSans-46\"/>\r\n       <use x=\"95.410156\" xlink:href=\"#DejaVuSans-48\"/>\r\n      </g>\r\n     </g>\r\n    </g>\r\n    <g id=\"xtick_7\">\r\n     <g id=\"line2d_7\">\r\n      <g>\r\n       <use style=\"stroke:#000000;stroke-width:0.8;\" x=\"331.7812\" xlink:href=\"#md5866804a8\" y=\"224.64\"/>\r\n      </g>\r\n     </g>\r\n     <g id=\"text_7\">\r\n      <!-- 7.5 -->\r\n      <g transform=\"translate(323.829637 239.238437)scale(0.1 -0.1)\">\r\n       <use xlink:href=\"#DejaVuSans-55\"/>\r\n       <use x=\"63.623047\" xlink:href=\"#DejaVuSans-46\"/>\r\n       <use x=\"95.410156\" xlink:href=\"#DejaVuSans-53\"/>\r\n      </g>\r\n     </g>\r\n    </g>\r\n   </g>\r\n   <g id=\"matplotlib.axis_2\">\r\n    <g id=\"ytick_1\">\r\n     <g id=\"line2d_8\">\r\n      <defs>\r\n       <path d=\"M 0 0 \r\nL -3.5 0 \r\n\" id=\"m6dc9a20acf\" style=\"stroke:#000000;stroke-width:0.8;\"/>\r\n      </defs>\r\n      <g>\r\n       <use style=\"stroke:#000000;stroke-width:0.8;\" x=\"30.103125\" xlink:href=\"#m6dc9a20acf\" y=\"222.992727\"/>\r\n      </g>\r\n     </g>\r\n     <g id=\"text_8\">\r\n      <!-- 0.0 -->\r\n      <g transform=\"translate(7.2 226.791946)scale(0.1 -0.1)\">\r\n       <use xlink:href=\"#DejaVuSans-48\"/>\r\n       <use x=\"63.623047\" xlink:href=\"#DejaVuSans-46\"/>\r\n       <use x=\"95.410156\" xlink:href=\"#DejaVuSans-48\"/>\r\n      </g>\r\n     </g>\r\n    </g>\r\n    <g id=\"ytick_2\">\r\n     <g id=\"line2d_9\">\r\n      <g>\r\n       <use style=\"stroke:#000000;stroke-width:0.8;\" x=\"30.103125\" xlink:href=\"#m6dc9a20acf\" y=\"181.810909\"/>\r\n      </g>\r\n     </g>\r\n     <g id=\"text_9\">\r\n      <!-- 0.5 -->\r\n      <g transform=\"translate(7.2 185.610128)scale(0.1 -0.1)\">\r\n       <use xlink:href=\"#DejaVuSans-48\"/>\r\n       <use x=\"63.623047\" xlink:href=\"#DejaVuSans-46\"/>\r\n       <use x=\"95.410156\" xlink:href=\"#DejaVuSans-53\"/>\r\n      </g>\r\n     </g>\r\n    </g>\r\n    <g id=\"ytick_3\">\r\n     <g id=\"line2d_10\">\r\n      <g>\r\n       <use style=\"stroke:#000000;stroke-width:0.8;\" x=\"30.103125\" xlink:href=\"#m6dc9a20acf\" y=\"140.629091\"/>\r\n      </g>\r\n     </g>\r\n     <g id=\"text_10\">\r\n      <!-- 1.0 -->\r\n      <defs>\r\n       <path d=\"M 12.40625 8.296875 \r\nL 28.515625 8.296875 \r\nL 28.515625 63.921875 \r\nL 10.984375 60.40625 \r\nL 10.984375 69.390625 \r\nL 28.421875 72.90625 \r\nL 38.28125 72.90625 \r\nL 38.28125 8.296875 \r\nL 54.390625 8.296875 \r\nL 54.390625 0 \r\nL 12.40625 0 \r\nz\r\n\" id=\"DejaVuSans-49\"/>\r\n      </defs>\r\n      <g transform=\"translate(7.2 144.42831)scale(0.1 -0.1)\">\r\n       <use xlink:href=\"#DejaVuSans-49\"/>\r\n       <use x=\"63.623047\" xlink:href=\"#DejaVuSans-46\"/>\r\n       <use x=\"95.410156\" xlink:href=\"#DejaVuSans-48\"/>\r\n      </g>\r\n     </g>\r\n    </g>\r\n    <g id=\"ytick_4\">\r\n     <g id=\"line2d_11\">\r\n      <g>\r\n       <use style=\"stroke:#000000;stroke-width:0.8;\" x=\"30.103125\" xlink:href=\"#m6dc9a20acf\" y=\"99.447273\"/>\r\n      </g>\r\n     </g>\r\n     <g id=\"text_11\">\r\n      <!-- 1.5 -->\r\n      <g transform=\"translate(7.2 103.246491)scale(0.1 -0.1)\">\r\n       <use xlink:href=\"#DejaVuSans-49\"/>\r\n       <use x=\"63.623047\" xlink:href=\"#DejaVuSans-46\"/>\r\n       <use x=\"95.410156\" xlink:href=\"#DejaVuSans-53\"/>\r\n      </g>\r\n     </g>\r\n    </g>\r\n    <g id=\"ytick_5\">\r\n     <g id=\"line2d_12\">\r\n      <g>\r\n       <use style=\"stroke:#000000;stroke-width:0.8;\" x=\"30.103125\" xlink:href=\"#m6dc9a20acf\" y=\"58.265455\"/>\r\n      </g>\r\n     </g>\r\n     <g id=\"text_12\">\r\n      <!-- 2.0 -->\r\n      <defs>\r\n       <path d=\"M 19.1875 8.296875 \r\nL 53.609375 8.296875 \r\nL 53.609375 0 \r\nL 7.328125 0 \r\nL 7.328125 8.296875 \r\nQ 12.9375 14.109375 22.625 23.890625 \r\nQ 32.328125 33.6875 34.8125 36.53125 \r\nQ 39.546875 41.84375 41.421875 45.53125 \r\nQ 43.3125 49.21875 43.3125 52.78125 \r\nQ 43.3125 58.59375 39.234375 62.25 \r\nQ 35.15625 65.921875 28.609375 65.921875 \r\nQ 23.96875 65.921875 18.8125 64.3125 \r\nQ 13.671875 62.703125 7.8125 59.421875 \r\nL 7.8125 69.390625 \r\nQ 13.765625 71.78125 18.9375 73 \r\nQ 24.125 74.21875 28.421875 74.21875 \r\nQ 39.75 74.21875 46.484375 68.546875 \r\nQ 53.21875 62.890625 53.21875 53.421875 \r\nQ 53.21875 48.921875 51.53125 44.890625 \r\nQ 49.859375 40.875 45.40625 35.40625 \r\nQ 44.1875 33.984375 37.640625 27.21875 \r\nQ 31.109375 20.453125 19.1875 8.296875 \r\nz\r\n\" id=\"DejaVuSans-50\"/>\r\n      </defs>\r\n      <g transform=\"translate(7.2 62.064673)scale(0.1 -0.1)\">\r\n       <use xlink:href=\"#DejaVuSans-50\"/>\r\n       <use x=\"63.623047\" xlink:href=\"#DejaVuSans-46\"/>\r\n       <use x=\"95.410156\" xlink:href=\"#DejaVuSans-48\"/>\r\n      </g>\r\n     </g>\r\n    </g>\r\n    <g id=\"ytick_6\">\r\n     <g id=\"line2d_13\">\r\n      <g>\r\n       <use style=\"stroke:#000000;stroke-width:0.8;\" x=\"30.103125\" xlink:href=\"#m6dc9a20acf\" y=\"17.083636\"/>\r\n      </g>\r\n     </g>\r\n     <g id=\"text_13\">\r\n      <!-- 2.5 -->\r\n      <g transform=\"translate(7.2 20.882855)scale(0.1 -0.1)\">\r\n       <use xlink:href=\"#DejaVuSans-50\"/>\r\n       <use x=\"63.623047\" xlink:href=\"#DejaVuSans-46\"/>\r\n       <use x=\"95.410156\" xlink:href=\"#DejaVuSans-53\"/>\r\n      </g>\r\n     </g>\r\n    </g>\r\n   </g>\r\n   <g id=\"patch_3\">\r\n    <path d=\"M 30.103125 224.64 \r\nL 30.103125 7.2 \r\n\" style=\"fill:none;stroke:#000000;stroke-linecap:square;stroke-linejoin:miter;stroke-width:0.8;\"/>\r\n   </g>\r\n   <g id=\"patch_4\">\r\n    <path d=\"M 364.903125 224.64 \r\nL 364.903125 7.2 \r\n\" style=\"fill:none;stroke:#000000;stroke-linecap:square;stroke-linejoin:miter;stroke-width:0.8;\"/>\r\n   </g>\r\n   <g id=\"patch_5\">\r\n    <path d=\"M 30.103125 224.64 \r\nL 364.903125 224.64 \r\n\" style=\"fill:none;stroke:#000000;stroke-linecap:square;stroke-linejoin:miter;stroke-width:0.8;\"/>\r\n   </g>\r\n   <g id=\"patch_6\">\r\n    <path d=\"M 30.103125 7.2 \r\nL 364.903125 7.2 \r\n\" style=\"fill:none;stroke:#000000;stroke-linecap:square;stroke-linejoin:miter;stroke-width:0.8;\"/>\r\n   </g>\r\n  </g>\r\n </g>\r\n <defs>\r\n  <clipPath id=\"p85d55c09aa\">\r\n   <rect height=\"217.44\" width=\"334.8\" x=\"30.103125\" y=\"7.2\"/>\r\n  </clipPath>\r\n </defs>\r\n</svg>\r\n",
      "image/png": "[encoded data removed]"
     },
     "metadata": {
      "needs_background": "light"
     }
    }
   ],
   "source": [
    "x= plt.scatter(data_all_train[:,0], data_all_train[:,3],c=data_label_train)"
   ]
  },
  {
   "cell_type": "code",
   "execution_count": 301,
   "metadata": {},
   "outputs": [
    {
     "output_type": "error",
     "ename": "AttributeError",
     "evalue": "'PathCollection' object has no attribute 'get_x_lim'",
     "traceback": [
      "\u001b[1;31m---------------------------------------------------------------------------\u001b[0m",
      "\u001b[1;31mAttributeError\u001b[0m                            Traceback (most recent call last)",
      "\u001b[1;32m<ipython-input-301-aecd90ec9d0f>\u001b[0m in \u001b[0;36m<module>\u001b[1;34m\u001b[0m\n\u001b[1;32m----> 1\u001b[1;33m \u001b[0mplt\u001b[0m\u001b[1;33m.\u001b[0m\u001b[0mxlim\u001b[0m\u001b[1;33m(\u001b[0m\u001b[0mx\u001b[0m\u001b[1;33m.\u001b[0m\u001b[0mget_x_lim\u001b[0m\u001b[1;33m,\u001b[0m \u001b[1;33m)\u001b[0m\u001b[1;33m\u001b[0m\u001b[1;33m\u001b[0m\u001b[0m\n\u001b[0m",
      "\u001b[1;31mAttributeError\u001b[0m: 'PathCollection' object has no attribute 'get_x_lim'"
     ]
    }
   ],
   "source": [
    "plt.xlim(x.get_x_lim, )"
   ]
  },
  {
   "cell_type": "code",
   "execution_count": 302,
   "metadata": {},
   "outputs": [
    {
     "output_type": "execute_result",
     "data": {
      "text/plain": "<matplotlib.collections.PathCollection at 0x28227e01208>"
     },
     "metadata": {},
     "execution_count": 302
    },
    {
     "output_type": "display_data",
     "data": {
      "text/plain": "<Figure size 432x288 with 1 Axes>",
      "image/svg+xml": "<?xml version=\"1.0\" encoding=\"utf-8\" standalone=\"no\"?>\r\n<!DOCTYPE svg PUBLIC \"-//W3C//DTD SVG 1.1//EN\"\r\n  \"http://www.w3.org/Graphics/SVG/1.1/DTD/svg11.dtd\">\r\n<!-- Created with matplotlib (https://matplotlib.org/) -->\r\n<svg height=\"248.518125pt\" version=\"1.1\" viewBox=\"0 0 362.5625 248.518125\" width=\"362.5625pt\" xmlns=\"http://www.w3.org/2000/svg\" xmlns:xlink=\"http://www.w3.org/1999/xlink\">\r\n <defs>\r\n  <style type=\"text/css\">\r\n*{stroke-linecap:butt;stroke-linejoin:round;}\r\n  </style>\r\n </defs>\r\n <g id=\"figure_1\">\r\n  <g id=\"patch_1\">\r\n   <path d=\"M 0 248.518125 \r\nL 362.5625 248.518125 \r\nL 362.5625 0 \r\nL 0 0 \r\nz\r\n\" style=\"fill:none;\"/>\r\n  </g>\r\n  <g id=\"axes_1\">\r\n   <g id=\"patch_2\">\r\n    <path d=\"M 20.5625 224.64 \r\nL 355.3625 224.64 \r\nL 355.3625 7.2 \r\nL 20.5625 7.2 \r\nz\r\n\" style=\"fill:#ffffff;\"/>\r\n   </g>\r\n   <g id=\"PathCollection_1\">\r\n    <defs>\r\n     <path d=\"M 0 3 \r\nC 0.795609 3 1.55874 2.683901 2.12132 2.12132 \r\nC 2.683901 1.55874 3 0.795609 3 0 \r\nC 3 -0.795609 2.683901 -1.55874 2.12132 -2.12132 \r\nC 1.55874 -2.683901 0.795609 -3 0 -3 \r\nC -0.795609 -3 -1.55874 -2.683901 -2.12132 -2.12132 \r\nC -2.683901 -1.55874 -3 -0.795609 -3 0 \r\nC -3 0.795609 -2.683901 1.55874 -2.12132 2.12132 \r\nC -1.55874 2.683901 -0.795609 3 0 3 \r\nz\r\n\" id=\"C0_0_60834e9495\"/>\r\n    </defs>\r\n    <g clip-path=\"url(#p3537fb761a)\">\r\n     <use style=\"fill:#440154;stroke:#440154;\" x=\"125.299398\" xlink:href=\"#C0_0_60834e9495\" y=\"198.004438\"/>\r\n    </g>\r\n    <g clip-path=\"url(#p3537fb761a)\">\r\n     <use style=\"fill:#21918c;stroke:#21918c;\" x=\"187.9625\" xlink:href=\"#C0_0_60834e9495\" y=\"97.492881\"/>\r\n    </g>\r\n    <g clip-path=\"url(#p3537fb761a)\">\r\n     <use style=\"fill:#440154;stroke:#440154;\" x=\"161.106885\" xlink:href=\"#C0_0_60834e9495\" y=\"191.303667\"/>\r\n    </g>\r\n    <g clip-path=\"url(#p3537fb761a)\">\r\n     <use style=\"fill:#fde725;stroke:#fde725;\" x=\"259.577473\" xlink:href=\"#C0_0_60834e9495\" y=\"50.587488\"/>\r\n    </g>\r\n    <g clip-path=\"url(#p3537fb761a)\">\r\n     <use style=\"fill:#21918c;stroke:#21918c;\" x=\"152.155013\" xlink:href=\"#C0_0_60834e9495\" y=\"117.595193\"/>\r\n    </g>\r\n    <g clip-path=\"url(#p3537fb761a)\">\r\n     <use style=\"fill:#21918c;stroke:#21918c;\" x=\"241.67373\" xlink:href=\"#C0_0_60834e9495\" y=\"100.843267\"/>\r\n    </g>\r\n    <g clip-path=\"url(#p3537fb761a)\">\r\n     <use style=\"fill:#fde725;stroke:#fde725;\" x=\"223.769987\" xlink:href=\"#C0_0_60834e9495\" y=\"63.989029\"/>\r\n    </g>\r\n    <g clip-path=\"url(#p3537fb761a)\">\r\n     <use style=\"fill:#fde725;stroke:#fde725;\" x=\"196.914372\" xlink:href=\"#C0_0_60834e9495\" y=\"84.091341\"/>\r\n    </g>\r\n    <g clip-path=\"url(#p3537fb761a)\">\r\n     <use style=\"fill:#440154;stroke:#440154;\" x=\"107.395655\" xlink:href=\"#C0_0_60834e9495\" y=\"198.004438\"/>\r\n    </g>\r\n    <g clip-path=\"url(#p3537fb761a)\">\r\n     <use style=\"fill:#fde725;stroke:#fde725;\" x=\"295.38496\" xlink:href=\"#C0_0_60834e9495\" y=\"53.937874\"/>\r\n    </g>\r\n    <g clip-path=\"url(#p3537fb761a)\">\r\n     <use style=\"fill:#440154;stroke:#440154;\" x=\"98.443783\" xlink:href=\"#C0_0_60834e9495\" y=\"204.705208\"/>\r\n    </g>\r\n    <g clip-path=\"url(#p3537fb761a)\">\r\n     <use style=\"fill:#440154;stroke:#440154;\" x=\"80.54004\" xlink:href=\"#C0_0_60834e9495\" y=\"194.654052\"/>\r\n    </g>\r\n    <g clip-path=\"url(#p3537fb761a)\">\r\n     <use style=\"fill:#21918c;stroke:#21918c;\" x=\"205.866243\" xlink:href=\"#C0_0_60834e9495\" y=\"97.492881\"/>\r\n    </g>\r\n    <g clip-path=\"url(#p3537fb761a)\">\r\n     <use style=\"fill:#440154;stroke:#440154;\" x=\"134.25127\" xlink:href=\"#C0_0_60834e9495\" y=\"198.004438\"/>\r\n    </g>\r\n    <g clip-path=\"url(#p3537fb761a)\">\r\n     <use style=\"fill:#21918c;stroke:#21918c;\" x=\"250.625602\" xlink:href=\"#C0_0_60834e9495\" y=\"100.843267\"/>\r\n    </g>\r\n    <g clip-path=\"url(#p3537fb761a)\">\r\n     <use style=\"fill:#21918c;stroke:#21918c;\" x=\"152.155013\" xlink:href=\"#C0_0_60834e9495\" y=\"110.894422\"/>\r\n    </g>\r\n    <g clip-path=\"url(#p3537fb761a)\">\r\n     <use style=\"fill:#fde725;stroke:#fde725;\" x=\"196.914372\" xlink:href=\"#C0_0_60834e9495\" y=\"60.638644\"/>\r\n    </g>\r\n    <g clip-path=\"url(#p3537fb761a)\">\r\n     <use style=\"fill:#440154;stroke:#440154;\" x=\"116.347527\" xlink:href=\"#C0_0_60834e9495\" y=\"198.004438\"/>\r\n    </g>\r\n    <g clip-path=\"url(#p3537fb761a)\">\r\n     <use style=\"fill:#fde725;stroke:#fde725;\" x=\"214.818115\" xlink:href=\"#C0_0_60834e9495\" y=\"80.740955\"/>\r\n    </g>\r\n    <g clip-path=\"url(#p3537fb761a)\">\r\n     <use style=\"fill:#fde725;stroke:#fde725;\" x=\"340.144318\" xlink:href=\"#C0_0_60834e9495\" y=\"23.784407\"/>\r\n    </g>\r\n    <g clip-path=\"url(#p3537fb761a)\">\r\n     <use style=\"fill:#440154;stroke:#440154;\" x=\"80.54004\" xlink:href=\"#C0_0_60834e9495\" y=\"184.602897\"/>\r\n    </g>\r\n    <g clip-path=\"url(#p3537fb761a)\">\r\n     <use style=\"fill:#21918c;stroke:#21918c;\" x=\"196.914372\" xlink:href=\"#C0_0_60834e9495\" y=\"90.792111\"/>\r\n    </g>\r\n    <g clip-path=\"url(#p3537fb761a)\">\r\n     <use style=\"fill:#fde725;stroke:#fde725;\" x=\"250.625602\" xlink:href=\"#C0_0_60834e9495\" y=\"74.040185\"/>\r\n    </g>\r\n    <g clip-path=\"url(#p3537fb761a)\">\r\n     <use style=\"fill:#fde725;stroke:#fde725;\" x=\"214.818115\" xlink:href=\"#C0_0_60834e9495\" y=\"84.091341\"/>\r\n    </g>\r\n    <g clip-path=\"url(#p3537fb761a)\">\r\n     <use style=\"fill:#21918c;stroke:#21918c;\" x=\"89.491912\" xlink:href=\"#C0_0_60834e9495\" y=\"137.697504\"/>\r\n    </g>\r\n    <g clip-path=\"url(#p3537fb761a)\">\r\n     <use style=\"fill:#440154;stroke:#440154;\" x=\"107.395655\" xlink:href=\"#C0_0_60834e9495\" y=\"201.354823\"/>\r\n    </g>\r\n    <g clip-path=\"url(#p3537fb761a)\">\r\n     <use style=\"fill:#440154;stroke:#440154;\" x=\"143.203142\" xlink:href=\"#C0_0_60834e9495\" y=\"201.354823\"/>\r\n    </g>\r\n    <g clip-path=\"url(#p3537fb761a)\">\r\n     <use style=\"fill:#440154;stroke:#440154;\" x=\"134.25127\" xlink:href=\"#C0_0_60834e9495\" y=\"198.004438\"/>\r\n    </g>\r\n    <g clip-path=\"url(#p3537fb761a)\">\r\n     <use style=\"fill:#fde725;stroke:#fde725;\" x=\"223.769987\" xlink:href=\"#C0_0_60834e9495\" y=\"70.6898\"/>\r\n    </g>\r\n    <g clip-path=\"url(#p3537fb761a)\">\r\n     <use style=\"fill:#21918c;stroke:#21918c;\" x=\"259.577473\" xlink:href=\"#C0_0_60834e9495\" y=\"87.441726\"/>\r\n    </g>\r\n    <g clip-path=\"url(#p3537fb761a)\">\r\n     <use style=\"fill:#fde725;stroke:#fde725;\" x=\"250.625602\" xlink:href=\"#C0_0_60834e9495\" y=\"53.937874\"/>\r\n    </g>\r\n    <g clip-path=\"url(#p3537fb761a)\">\r\n     <use style=\"fill:#21918c;stroke:#21918c;\" x=\"143.203142\" xlink:href=\"#C0_0_60834e9495\" y=\"114.244807\"/>\r\n    </g>\r\n    <g clip-path=\"url(#p3537fb761a)\">\r\n     <use style=\"fill:#440154;stroke:#440154;\" x=\"161.106885\" xlink:href=\"#C0_0_60834e9495\" y=\"198.004438\"/>\r\n    </g>\r\n    <g clip-path=\"url(#p3537fb761a)\">\r\n     <use style=\"fill:#440154;stroke:#440154;\" x=\"71.588168\" xlink:href=\"#C0_0_60834e9495\" y=\"204.705208\"/>\r\n    </g>\r\n    <g clip-path=\"url(#p3537fb761a)\">\r\n     <use style=\"fill:#fde725;stroke:#fde725;\" x=\"250.625602\" xlink:href=\"#C0_0_60834e9495\" y=\"57.288259\"/>\r\n    </g>\r\n    <g clip-path=\"url(#p3537fb761a)\">\r\n     <use style=\"fill:#fde725;stroke:#fde725;\" x=\"268.529345\" xlink:href=\"#C0_0_60834e9495\" y=\"57.288259\"/>\r\n    </g>\r\n    <g clip-path=\"url(#p3537fb761a)\">\r\n     <use style=\"fill:#21918c;stroke:#21918c;\" x=\"116.347527\" xlink:href=\"#C0_0_60834e9495\" y=\"117.595193\"/>\r\n    </g>\r\n    <g clip-path=\"url(#p3537fb761a)\">\r\n     <use style=\"fill:#21918c;stroke:#21918c;\" x=\"161.106885\" xlink:href=\"#C0_0_60834e9495\" y=\"107.544037\"/>\r\n    </g>\r\n    <g clip-path=\"url(#p3537fb761a)\">\r\n     <use style=\"fill:#21918c;stroke:#21918c;\" x=\"161.106885\" xlink:href=\"#C0_0_60834e9495\" y=\"97.492881\"/>\r\n    </g>\r\n    <g clip-path=\"url(#p3537fb761a)\">\r\n     <use style=\"fill:#fde725;stroke:#fde725;\" x=\"205.866243\" xlink:href=\"#C0_0_60834e9495\" y=\"87.441726\"/>\r\n    </g>\r\n    <g clip-path=\"url(#p3537fb761a)\">\r\n     <use style=\"fill:#440154;stroke:#440154;\" x=\"44.732553\" xlink:href=\"#C0_0_60834e9495\" y=\"201.354823\"/>\r\n    </g>\r\n    <g clip-path=\"url(#p3537fb761a)\">\r\n     <use style=\"fill:#fde725;stroke:#fde725;\" x=\"268.529345\" xlink:href=\"#C0_0_60834e9495\" y=\"77.39057\"/>\r\n    </g>\r\n    <g clip-path=\"url(#p3537fb761a)\">\r\n     <use style=\"fill:#fde725;stroke:#fde725;\" x=\"232.721858\" xlink:href=\"#C0_0_60834e9495\" y=\"74.040185\"/>\r\n    </g>\r\n    <g clip-path=\"url(#p3537fb761a)\">\r\n     <use style=\"fill:#440154;stroke:#440154;\" x=\"62.636297\" xlink:href=\"#C0_0_60834e9495\" y=\"201.354823\"/>\r\n    </g>\r\n    <g clip-path=\"url(#p3537fb761a)\">\r\n     <use style=\"fill:#440154;stroke:#440154;\" x=\"98.443783\" xlink:href=\"#C0_0_60834e9495\" y=\"194.654052\"/>\r\n    </g>\r\n    <g clip-path=\"url(#p3537fb761a)\">\r\n     <use style=\"fill:#440154;stroke:#440154;\" x=\"116.347527\" xlink:href=\"#C0_0_60834e9495\" y=\"201.354823\"/>\r\n    </g>\r\n    <g clip-path=\"url(#p3537fb761a)\">\r\n     <use style=\"fill:#21918c;stroke:#21918c;\" x=\"214.818115\" xlink:href=\"#C0_0_60834e9495\" y=\"100.843267\"/>\r\n    </g>\r\n    <g clip-path=\"url(#p3537fb761a)\">\r\n     <use style=\"fill:#440154;stroke:#440154;\" x=\"62.636297\" xlink:href=\"#C0_0_60834e9495\" y=\"214.756364\"/>\r\n    </g>\r\n    <g clip-path=\"url(#p3537fb761a)\">\r\n     <use style=\"fill:#440154;stroke:#440154;\" x=\"134.25127\" xlink:href=\"#C0_0_60834e9495\" y=\"191.303667\"/>\r\n    </g>\r\n    <g clip-path=\"url(#p3537fb761a)\">\r\n     <use style=\"fill:#21918c;stroke:#21918c;\" x=\"143.203142\" xlink:href=\"#C0_0_60834e9495\" y=\"114.244807\"/>\r\n    </g>\r\n    <g clip-path=\"url(#p3537fb761a)\">\r\n     <use style=\"fill:#fde725;stroke:#fde725;\" x=\"295.38496\" xlink:href=\"#C0_0_60834e9495\" y=\"43.886718\"/>\r\n    </g>\r\n    <g clip-path=\"url(#p3537fb761a)\">\r\n     <use style=\"fill:#21918c;stroke:#21918c;\" x=\"268.529345\" xlink:href=\"#C0_0_60834e9495\" y=\"84.091341\"/>\r\n    </g>\r\n    <g clip-path=\"url(#p3537fb761a)\">\r\n     <use style=\"fill:#21918c;stroke:#21918c;\" x=\"214.818115\" xlink:href=\"#C0_0_60834e9495\" y=\"90.792111\"/>\r\n    </g>\r\n    <g clip-path=\"url(#p3537fb761a)\">\r\n     <use style=\"fill:#fde725;stroke:#fde725;\" x=\"340.144318\" xlink:href=\"#C0_0_60834e9495\" y=\"23.784407\"/>\r\n    </g>\r\n    <g clip-path=\"url(#p3537fb761a)\">\r\n     <use style=\"fill:#fde725;stroke:#fde725;\" x=\"223.769987\" xlink:href=\"#C0_0_60834e9495\" y=\"60.638644\"/>\r\n    </g>\r\n    <g clip-path=\"url(#p3537fb761a)\">\r\n     <use style=\"fill:#fde725;stroke:#fde725;\" x=\"304.336832\" xlink:href=\"#C0_0_60834e9495\" y=\"37.185948\"/>\r\n    </g>\r\n    <g clip-path=\"url(#p3537fb761a)\">\r\n     <use style=\"fill:#21918c;stroke:#21918c;\" x=\"250.625602\" xlink:href=\"#C0_0_60834e9495\" y=\"80.740955\"/>\r\n    </g>\r\n    <g clip-path=\"url(#p3537fb761a)\">\r\n     <use style=\"fill:#440154;stroke:#440154;\" x=\"71.588168\" xlink:href=\"#C0_0_60834e9495\" y=\"194.654052\"/>\r\n    </g>\r\n    <g clip-path=\"url(#p3537fb761a)\">\r\n     <use style=\"fill:#fde725;stroke:#fde725;\" x=\"205.866243\" xlink:href=\"#C0_0_60834e9495\" y=\"67.339414\"/>\r\n    </g>\r\n    <g clip-path=\"url(#p3537fb761a)\">\r\n     <use style=\"fill:#440154;stroke:#440154;\" x=\"44.732553\" xlink:href=\"#C0_0_60834e9495\" y=\"204.705208\"/>\r\n    </g>\r\n    <g clip-path=\"url(#p3537fb761a)\">\r\n     <use style=\"fill:#fde725;stroke:#fde725;\" x=\"340.144318\" xlink:href=\"#C0_0_60834e9495\" y=\"17.083636\"/>\r\n    </g>\r\n    <g clip-path=\"url(#p3537fb761a)\">\r\n     <use style=\"fill:#fde725;stroke:#fde725;\" x=\"232.721858\" xlink:href=\"#C0_0_60834e9495\" y=\"53.937874\"/>\r\n    </g>\r\n    <g clip-path=\"url(#p3537fb761a)\">\r\n     <use style=\"fill:#440154;stroke:#440154;\" x=\"89.491912\" xlink:href=\"#C0_0_60834e9495\" y=\"201.354823\"/>\r\n    </g>\r\n    <g clip-path=\"url(#p3537fb761a)\">\r\n     <use style=\"fill:#21918c;stroke:#21918c;\" x=\"179.010628\" xlink:href=\"#C0_0_60834e9495\" y=\"87.441726\"/>\r\n    </g>\r\n    <g clip-path=\"url(#p3537fb761a)\">\r\n     <use style=\"fill:#fde725;stroke:#fde725;\" x=\"286.433088\" xlink:href=\"#C0_0_60834e9495\" y=\"50.587488\"/>\r\n    </g>\r\n    <g clip-path=\"url(#p3537fb761a)\">\r\n     <use style=\"fill:#fde725;stroke:#fde725;\" x=\"152.155013\" xlink:href=\"#C0_0_60834e9495\" y=\"84.091341\"/>\r\n    </g>\r\n    <g clip-path=\"url(#p3537fb761a)\">\r\n     <use style=\"fill:#fde725;stroke:#fde725;\" x=\"187.9625\" xlink:href=\"#C0_0_60834e9495\" y=\"87.441726\"/>\r\n    </g>\r\n    <g clip-path=\"url(#p3537fb761a)\">\r\n     <use style=\"fill:#440154;stroke:#440154;\" x=\"89.491912\" xlink:href=\"#C0_0_60834e9495\" y=\"198.004438\"/>\r\n    </g>\r\n    <g clip-path=\"url(#p3537fb761a)\">\r\n     <use style=\"fill:#440154;stroke:#440154;\" x=\"62.636297\" xlink:href=\"#C0_0_60834e9495\" y=\"201.354823\"/>\r\n    </g>\r\n    <g clip-path=\"url(#p3537fb761a)\">\r\n     <use style=\"fill:#21918c;stroke:#21918c;\" x=\"223.769987\" xlink:href=\"#C0_0_60834e9495\" y=\"97.492881\"/>\r\n    </g>\r\n    <g clip-path=\"url(#p3537fb761a)\">\r\n     <use style=\"fill:#21918c;stroke:#21918c;\" x=\"232.721858\" xlink:href=\"#C0_0_60834e9495\" y=\"94.142496\"/>\r\n    </g>\r\n    <g clip-path=\"url(#p3537fb761a)\">\r\n     <use style=\"fill:#fde725;stroke:#fde725;\" x=\"331.192447\" xlink:href=\"#C0_0_60834e9495\" y=\"27.134792\"/>\r\n    </g>\r\n    <g clip-path=\"url(#p3537fb761a)\">\r\n     <use style=\"fill:#440154;stroke:#440154;\" x=\"80.54004\" xlink:href=\"#C0_0_60834e9495\" y=\"194.654052\"/>\r\n    </g>\r\n    <g clip-path=\"url(#p3537fb761a)\">\r\n     <use style=\"fill:#21918c;stroke:#21918c;\" x=\"277.481217\" xlink:href=\"#C0_0_60834e9495\" y=\"90.792111\"/>\r\n    </g>\r\n    <g clip-path=\"url(#p3537fb761a)\">\r\n     <use style=\"fill:#440154;stroke:#440154;\" x=\"134.25127\" xlink:href=\"#C0_0_60834e9495\" y=\"191.303667\"/>\r\n    </g>\r\n    <g clip-path=\"url(#p3537fb761a)\">\r\n     <use style=\"fill:#440154;stroke:#440154;\" x=\"62.636297\" xlink:href=\"#C0_0_60834e9495\" y=\"198.004438\"/>\r\n    </g>\r\n    <g clip-path=\"url(#p3537fb761a)\">\r\n     <use style=\"fill:#21918c;stroke:#21918c;\" x=\"187.9625\" xlink:href=\"#C0_0_60834e9495\" y=\"77.39057\"/>\r\n    </g>\r\n    <g clip-path=\"url(#p3537fb761a)\">\r\n     <use style=\"fill:#21918c;stroke:#21918c;\" x=\"98.443783\" xlink:href=\"#C0_0_60834e9495\" y=\"130.996733\"/>\r\n    </g>\r\n    <g clip-path=\"url(#p3537fb761a)\">\r\n     <use style=\"fill:#440154;stroke:#440154;\" x=\"80.54004\" xlink:href=\"#C0_0_60834e9495\" y=\"201.354823\"/>\r\n    </g>\r\n    <g clip-path=\"url(#p3537fb761a)\">\r\n     <use style=\"fill:#fde725;stroke:#fde725;\" x=\"250.625602\" xlink:href=\"#C0_0_60834e9495\" y=\"57.288259\"/>\r\n    </g>\r\n    <g clip-path=\"url(#p3537fb761a)\">\r\n     <use style=\"fill:#440154;stroke:#440154;\" x=\"107.395655\" xlink:href=\"#C0_0_60834e9495\" y=\"184.602897\"/>\r\n    </g>\r\n    <g clip-path=\"url(#p3537fb761a)\">\r\n     <use style=\"fill:#440154;stroke:#440154;\" x=\"143.203142\" xlink:href=\"#C0_0_60834e9495\" y=\"204.705208\"/>\r\n    </g>\r\n    <g clip-path=\"url(#p3537fb761a)\">\r\n     <use style=\"fill:#440154;stroke:#440154;\" x=\"107.395655\" xlink:href=\"#C0_0_60834e9495\" y=\"198.004438\"/>\r\n    </g>\r\n    <g clip-path=\"url(#p3537fb761a)\">\r\n     <use style=\"fill:#21918c;stroke:#21918c;\" x=\"241.67373\" xlink:href=\"#C0_0_60834e9495\" y=\"94.142496\"/>\r\n    </g>\r\n    <g clip-path=\"url(#p3537fb761a)\">\r\n     <use style=\"fill:#21918c;stroke:#21918c;\" x=\"143.203142\" xlink:href=\"#C0_0_60834e9495\" y=\"120.945578\"/>\r\n    </g>\r\n    <g clip-path=\"url(#p3537fb761a)\">\r\n     <use style=\"fill:#fde725;stroke:#fde725;\" x=\"187.9625\" xlink:href=\"#C0_0_60834e9495\" y=\"80.740955\"/>\r\n    </g>\r\n    <g clip-path=\"url(#p3537fb761a)\">\r\n     <use style=\"fill:#fde725;stroke:#fde725;\" x=\"223.769987\" xlink:href=\"#C0_0_60834e9495\" y=\"60.638644\"/>\r\n    </g>\r\n    <g clip-path=\"url(#p3537fb761a)\">\r\n     <use style=\"fill:#21918c;stroke:#21918c;\" x=\"187.9625\" xlink:href=\"#C0_0_60834e9495\" y=\"114.244807\"/>\r\n    </g>\r\n    <g clip-path=\"url(#p3537fb761a)\">\r\n     <use style=\"fill:#21918c;stroke:#21918c;\" x=\"250.625602\" xlink:href=\"#C0_0_60834e9495\" y=\"90.792111\"/>\r\n    </g>\r\n    <g clip-path=\"url(#p3537fb761a)\">\r\n     <use style=\"fill:#440154;stroke:#440154;\" x=\"98.443783\" xlink:href=\"#C0_0_60834e9495\" y=\"208.055593\"/>\r\n    </g>\r\n    <g clip-path=\"url(#p3537fb761a)\">\r\n     <use style=\"fill:#440154;stroke:#440154;\" x=\"35.780682\" xlink:href=\"#C0_0_60834e9495\" y=\"211.405978\"/>\r\n    </g>\r\n    <g clip-path=\"url(#p3537fb761a)\">\r\n     <use style=\"fill:#fde725;stroke:#fde725;\" x=\"214.818115\" xlink:href=\"#C0_0_60834e9495\" y=\"60.638644\"/>\r\n    </g>\r\n    <g clip-path=\"url(#p3537fb761a)\">\r\n     <use style=\"fill:#fde725;stroke:#fde725;\" x=\"170.058757\" xlink:href=\"#C0_0_60834e9495\" y=\"77.39057\"/>\r\n    </g>\r\n    <g clip-path=\"url(#p3537fb761a)\">\r\n     <use style=\"fill:#440154;stroke:#440154;\" x=\"107.395655\" xlink:href=\"#C0_0_60834e9495\" y=\"194.654052\"/>\r\n    </g>\r\n    <g clip-path=\"url(#p3537fb761a)\">\r\n     <use style=\"fill:#440154;stroke:#440154;\" x=\"53.684425\" xlink:href=\"#C0_0_60834e9495\" y=\"204.705208\"/>\r\n    </g>\r\n    <g clip-path=\"url(#p3537fb761a)\">\r\n     <use style=\"fill:#21918c;stroke:#21918c;\" x=\"161.106885\" xlink:href=\"#C0_0_60834e9495\" y=\"110.894422\"/>\r\n    </g>\r\n    <g clip-path=\"url(#p3537fb761a)\">\r\n     <use style=\"fill:#21918c;stroke:#21918c;\" x=\"214.818115\" xlink:href=\"#C0_0_60834e9495\" y=\"84.091341\"/>\r\n    </g>\r\n    <g clip-path=\"url(#p3537fb761a)\">\r\n     <use style=\"fill:#440154;stroke:#440154;\" x=\"107.395655\" xlink:href=\"#C0_0_60834e9495\" y=\"201.354823\"/>\r\n    </g>\r\n    <g clip-path=\"url(#p3537fb761a)\">\r\n     <use style=\"fill:#fde725;stroke:#fde725;\" x=\"170.058757\" xlink:href=\"#C0_0_60834e9495\" y=\"77.39057\"/>\r\n    </g>\r\n    <g clip-path=\"url(#p3537fb761a)\">\r\n     <use style=\"fill:#440154;stroke:#440154;\" x=\"98.443783\" xlink:href=\"#C0_0_60834e9495\" y=\"194.654052\"/>\r\n    </g>\r\n    <g clip-path=\"url(#p3537fb761a)\">\r\n     <use style=\"fill:#fde725;stroke:#fde725;\" x=\"232.721858\" xlink:href=\"#C0_0_60834e9495\" y=\"77.39057\"/>\r\n    </g>\r\n    <g clip-path=\"url(#p3537fb761a)\">\r\n     <use style=\"fill:#440154;stroke:#440154;\" x=\"80.54004\" xlink:href=\"#C0_0_60834e9495\" y=\"201.354823\"/>\r\n    </g>\r\n    <g clip-path=\"url(#p3537fb761a)\">\r\n     <use style=\"fill:#440154;stroke:#440154;\" x=\"107.395655\" xlink:href=\"#C0_0_60834e9495\" y=\"198.004438\"/>\r\n    </g>\r\n    <g clip-path=\"url(#p3537fb761a)\">\r\n     <use style=\"fill:#440154;stroke:#440154;\" x=\"170.058757\" xlink:href=\"#C0_0_60834e9495\" y=\"208.055593\"/>\r\n    </g>\r\n    <g clip-path=\"url(#p3537fb761a)\">\r\n     <use style=\"fill:#440154;stroke:#440154;\" x=\"98.443783\" xlink:href=\"#C0_0_60834e9495\" y=\"201.354823\"/>\r\n    </g>\r\n   </g>\r\n   <g id=\"matplotlib.axis_1\">\r\n    <g id=\"xtick_1\">\r\n     <g id=\"line2d_1\">\r\n      <defs>\r\n       <path d=\"M 0 0 \r\nL 0 3.5 \r\n\" id=\"m2c066e3d62\" style=\"stroke:#000000;stroke-width:0.8;\"/>\r\n      </defs>\r\n      <g>\r\n       <use style=\"stroke:#000000;stroke-width:0.8;\" x=\"53.684425\" xlink:href=\"#m2c066e3d62\" y=\"224.64\"/>\r\n      </g>\r\n     </g>\r\n     <g id=\"text_1\">\r\n      <!-- 4.5 -->\r\n      <defs>\r\n       <path d=\"M 37.796875 64.3125 \r\nL 12.890625 25.390625 \r\nL 37.796875 25.390625 \r\nz\r\nM 35.203125 72.90625 \r\nL 47.609375 72.90625 \r\nL 47.609375 25.390625 \r\nL 58.015625 25.390625 \r\nL 58.015625 17.1875 \r\nL 47.609375 17.1875 \r\nL 47.609375 0 \r\nL 37.796875 0 \r\nL 37.796875 17.1875 \r\nL 4.890625 17.1875 \r\nL 4.890625 26.703125 \r\nz\r\n\" id=\"DejaVuSans-52\"/>\r\n       <path d=\"M 10.6875 12.40625 \r\nL 21 12.40625 \r\nL 21 0 \r\nL 10.6875 0 \r\nz\r\n\" id=\"DejaVuSans-46\"/>\r\n       <path d=\"M 10.796875 72.90625 \r\nL 49.515625 72.90625 \r\nL 49.515625 64.59375 \r\nL 19.828125 64.59375 \r\nL 19.828125 46.734375 \r\nQ 21.96875 47.46875 24.109375 47.828125 \r\nQ 26.265625 48.1875 28.421875 48.1875 \r\nQ 40.625 48.1875 47.75 41.5 \r\nQ 54.890625 34.8125 54.890625 23.390625 \r\nQ 54.890625 11.625 47.5625 5.09375 \r\nQ 40.234375 -1.421875 26.90625 -1.421875 \r\nQ 22.3125 -1.421875 17.546875 -0.640625 \r\nQ 12.796875 0.140625 7.71875 1.703125 \r\nL 7.71875 11.625 \r\nQ 12.109375 9.234375 16.796875 8.0625 \r\nQ 21.484375 6.890625 26.703125 6.890625 \r\nQ 35.15625 6.890625 40.078125 11.328125 \r\nQ 45.015625 15.765625 45.015625 23.390625 \r\nQ 45.015625 31 40.078125 35.4375 \r\nQ 35.15625 39.890625 26.703125 39.890625 \r\nQ 22.75 39.890625 18.8125 39.015625 \r\nQ 14.890625 38.140625 10.796875 36.28125 \r\nz\r\n\" id=\"DejaVuSans-53\"/>\r\n      </defs>\r\n      <g transform=\"translate(45.732863 239.238437)scale(0.1 -0.1)\">\r\n       <use xlink:href=\"#DejaVuSans-52\"/>\r\n       <use x=\"63.623047\" xlink:href=\"#DejaVuSans-46\"/>\r\n       <use x=\"95.410156\" xlink:href=\"#DejaVuSans-53\"/>\r\n      </g>\r\n     </g>\r\n    </g>\r\n    <g id=\"xtick_2\">\r\n     <g id=\"line2d_2\">\r\n      <g>\r\n       <use style=\"stroke:#000000;stroke-width:0.8;\" x=\"98.443783\" xlink:href=\"#m2c066e3d62\" y=\"224.64\"/>\r\n      </g>\r\n     </g>\r\n     <g id=\"text_2\">\r\n      <!-- 5.0 -->\r\n      <defs>\r\n       <path d=\"M 31.78125 66.40625 \r\nQ 24.171875 66.40625 20.328125 58.90625 \r\nQ 16.5 51.421875 16.5 36.375 \r\nQ 16.5 21.390625 20.328125 13.890625 \r\nQ 24.171875 6.390625 31.78125 6.390625 \r\nQ 39.453125 6.390625 43.28125 13.890625 \r\nQ 47.125 21.390625 47.125 36.375 \r\nQ 47.125 51.421875 43.28125 58.90625 \r\nQ 39.453125 66.40625 31.78125 66.40625 \r\nz\r\nM 31.78125 74.21875 \r\nQ 44.046875 74.21875 50.515625 64.515625 \r\nQ 56.984375 54.828125 56.984375 36.375 \r\nQ 56.984375 17.96875 50.515625 8.265625 \r\nQ 44.046875 -1.421875 31.78125 -1.421875 \r\nQ 19.53125 -1.421875 13.0625 8.265625 \r\nQ 6.59375 17.96875 6.59375 36.375 \r\nQ 6.59375 54.828125 13.0625 64.515625 \r\nQ 19.53125 74.21875 31.78125 74.21875 \r\nz\r\n\" id=\"DejaVuSans-48\"/>\r\n      </defs>\r\n      <g transform=\"translate(90.492221 239.238437)scale(0.1 -0.1)\">\r\n       <use xlink:href=\"#DejaVuSans-53\"/>\r\n       <use x=\"63.623047\" xlink:href=\"#DejaVuSans-46\"/>\r\n       <use x=\"95.410156\" xlink:href=\"#DejaVuSans-48\"/>\r\n      </g>\r\n     </g>\r\n    </g>\r\n    <g id=\"xtick_3\">\r\n     <g id=\"line2d_3\">\r\n      <g>\r\n       <use style=\"stroke:#000000;stroke-width:0.8;\" x=\"143.203142\" xlink:href=\"#m2c066e3d62\" y=\"224.64\"/>\r\n      </g>\r\n     </g>\r\n     <g id=\"text_3\">\r\n      <!-- 5.5 -->\r\n      <g transform=\"translate(135.251579 239.238437)scale(0.1 -0.1)\">\r\n       <use xlink:href=\"#DejaVuSans-53\"/>\r\n       <use x=\"63.623047\" xlink:href=\"#DejaVuSans-46\"/>\r\n       <use x=\"95.410156\" xlink:href=\"#DejaVuSans-53\"/>\r\n      </g>\r\n     </g>\r\n    </g>\r\n    <g id=\"xtick_4\">\r\n     <g id=\"line2d_4\">\r\n      <g>\r\n       <use style=\"stroke:#000000;stroke-width:0.8;\" x=\"187.9625\" xlink:href=\"#m2c066e3d62\" y=\"224.64\"/>\r\n      </g>\r\n     </g>\r\n     <g id=\"text_4\">\r\n      <!-- 6.0 -->\r\n      <defs>\r\n       <path d=\"M 33.015625 40.375 \r\nQ 26.375 40.375 22.484375 35.828125 \r\nQ 18.609375 31.296875 18.609375 23.390625 \r\nQ 18.609375 15.53125 22.484375 10.953125 \r\nQ 26.375 6.390625 33.015625 6.390625 \r\nQ 39.65625 6.390625 43.53125 10.953125 \r\nQ 47.40625 15.53125 47.40625 23.390625 \r\nQ 47.40625 31.296875 43.53125 35.828125 \r\nQ 39.65625 40.375 33.015625 40.375 \r\nz\r\nM 52.59375 71.296875 \r\nL 52.59375 62.3125 \r\nQ 48.875 64.0625 45.09375 64.984375 \r\nQ 41.3125 65.921875 37.59375 65.921875 \r\nQ 27.828125 65.921875 22.671875 59.328125 \r\nQ 17.53125 52.734375 16.796875 39.40625 \r\nQ 19.671875 43.65625 24.015625 45.921875 \r\nQ 28.375 48.1875 33.59375 48.1875 \r\nQ 44.578125 48.1875 50.953125 41.515625 \r\nQ 57.328125 34.859375 57.328125 23.390625 \r\nQ 57.328125 12.15625 50.6875 5.359375 \r\nQ 44.046875 -1.421875 33.015625 -1.421875 \r\nQ 20.359375 -1.421875 13.671875 8.265625 \r\nQ 6.984375 17.96875 6.984375 36.375 \r\nQ 6.984375 53.65625 15.1875 63.9375 \r\nQ 23.390625 74.21875 37.203125 74.21875 \r\nQ 40.921875 74.21875 44.703125 73.484375 \r\nQ 48.484375 72.75 52.59375 71.296875 \r\nz\r\n\" id=\"DejaVuSans-54\"/>\r\n      </defs>\r\n      <g transform=\"translate(180.010937 239.238437)scale(0.1 -0.1)\">\r\n       <use xlink:href=\"#DejaVuSans-54\"/>\r\n       <use x=\"63.623047\" xlink:href=\"#DejaVuSans-46\"/>\r\n       <use x=\"95.410156\" xlink:href=\"#DejaVuSans-48\"/>\r\n      </g>\r\n     </g>\r\n    </g>\r\n    <g id=\"xtick_5\">\r\n     <g id=\"line2d_5\">\r\n      <g>\r\n       <use style=\"stroke:#000000;stroke-width:0.8;\" x=\"232.721858\" xlink:href=\"#m2c066e3d62\" y=\"224.64\"/>\r\n      </g>\r\n     </g>\r\n     <g id=\"text_5\">\r\n      <!-- 6.5 -->\r\n      <g transform=\"translate(224.770296 239.238437)scale(0.1 -0.1)\">\r\n       <use xlink:href=\"#DejaVuSans-54\"/>\r\n       <use x=\"63.623047\" xlink:href=\"#DejaVuSans-46\"/>\r\n       <use x=\"95.410156\" xlink:href=\"#DejaVuSans-53\"/>\r\n      </g>\r\n     </g>\r\n    </g>\r\n    <g id=\"xtick_6\">\r\n     <g id=\"line2d_6\">\r\n      <g>\r\n       <use style=\"stroke:#000000;stroke-width:0.8;\" x=\"277.481217\" xlink:href=\"#m2c066e3d62\" y=\"224.64\"/>\r\n      </g>\r\n     </g>\r\n     <g id=\"text_6\">\r\n      <!-- 7.0 -->\r\n      <defs>\r\n       <path d=\"M 8.203125 72.90625 \r\nL 55.078125 72.90625 \r\nL 55.078125 68.703125 \r\nL 28.609375 0 \r\nL 18.3125 0 \r\nL 43.21875 64.59375 \r\nL 8.203125 64.59375 \r\nz\r\n\" id=\"DejaVuSans-55\"/>\r\n      </defs>\r\n      <g transform=\"translate(269.529654 239.238437)scale(0.1 -0.1)\">\r\n       <use xlink:href=\"#DejaVuSans-55\"/>\r\n       <use x=\"63.623047\" xlink:href=\"#DejaVuSans-46\"/>\r\n       <use x=\"95.410156\" xlink:href=\"#DejaVuSans-48\"/>\r\n      </g>\r\n     </g>\r\n    </g>\r\n    <g id=\"xtick_7\">\r\n     <g id=\"line2d_7\">\r\n      <g>\r\n       <use style=\"stroke:#000000;stroke-width:0.8;\" x=\"322.240575\" xlink:href=\"#m2c066e3d62\" y=\"224.64\"/>\r\n      </g>\r\n     </g>\r\n     <g id=\"text_7\">\r\n      <!-- 7.5 -->\r\n      <g transform=\"translate(314.289012 239.238437)scale(0.1 -0.1)\">\r\n       <use xlink:href=\"#DejaVuSans-55\"/>\r\n       <use x=\"63.623047\" xlink:href=\"#DejaVuSans-46\"/>\r\n       <use x=\"95.410156\" xlink:href=\"#DejaVuSans-53\"/>\r\n      </g>\r\n     </g>\r\n    </g>\r\n   </g>\r\n   <g id=\"matplotlib.axis_2\">\r\n    <g id=\"ytick_1\">\r\n     <g id=\"line2d_8\">\r\n      <defs>\r\n       <path d=\"M 0 0 \r\nL -3.5 0 \r\n\" id=\"m39adce1f6b\" style=\"stroke:#000000;stroke-width:0.8;\"/>\r\n      </defs>\r\n      <g>\r\n       <use style=\"stroke:#000000;stroke-width:0.8;\" x=\"20.5625\" xlink:href=\"#m39adce1f6b\" y=\"214.756364\"/>\r\n      </g>\r\n     </g>\r\n     <g id=\"text_8\">\r\n      <!-- 1 -->\r\n      <defs>\r\n       <path d=\"M 12.40625 8.296875 \r\nL 28.515625 8.296875 \r\nL 28.515625 63.921875 \r\nL 10.984375 60.40625 \r\nL 10.984375 69.390625 \r\nL 28.421875 72.90625 \r\nL 38.28125 72.90625 \r\nL 38.28125 8.296875 \r\nL 54.390625 8.296875 \r\nL 54.390625 0 \r\nL 12.40625 0 \r\nz\r\n\" id=\"DejaVuSans-49\"/>\r\n      </defs>\r\n      <g transform=\"translate(7.2 218.555582)scale(0.1 -0.1)\">\r\n       <use xlink:href=\"#DejaVuSans-49\"/>\r\n      </g>\r\n     </g>\r\n    </g>\r\n    <g id=\"ytick_2\">\r\n     <g id=\"line2d_9\">\r\n      <g>\r\n       <use style=\"stroke:#000000;stroke-width:0.8;\" x=\"20.5625\" xlink:href=\"#m39adce1f6b\" y=\"181.252512\"/>\r\n      </g>\r\n     </g>\r\n     <g id=\"text_9\">\r\n      <!-- 2 -->\r\n      <defs>\r\n       <path d=\"M 19.1875 8.296875 \r\nL 53.609375 8.296875 \r\nL 53.609375 0 \r\nL 7.328125 0 \r\nL 7.328125 8.296875 \r\nQ 12.9375 14.109375 22.625 23.890625 \r\nQ 32.328125 33.6875 34.8125 36.53125 \r\nQ 39.546875 41.84375 41.421875 45.53125 \r\nQ 43.3125 49.21875 43.3125 52.78125 \r\nQ 43.3125 58.59375 39.234375 62.25 \r\nQ 35.15625 65.921875 28.609375 65.921875 \r\nQ 23.96875 65.921875 18.8125 64.3125 \r\nQ 13.671875 62.703125 7.8125 59.421875 \r\nL 7.8125 69.390625 \r\nQ 13.765625 71.78125 18.9375 73 \r\nQ 24.125 74.21875 28.421875 74.21875 \r\nQ 39.75 74.21875 46.484375 68.546875 \r\nQ 53.21875 62.890625 53.21875 53.421875 \r\nQ 53.21875 48.921875 51.53125 44.890625 \r\nQ 49.859375 40.875 45.40625 35.40625 \r\nQ 44.1875 33.984375 37.640625 27.21875 \r\nQ 31.109375 20.453125 19.1875 8.296875 \r\nz\r\n\" id=\"DejaVuSans-50\"/>\r\n      </defs>\r\n      <g transform=\"translate(7.2 185.05173)scale(0.1 -0.1)\">\r\n       <use xlink:href=\"#DejaVuSans-50\"/>\r\n      </g>\r\n     </g>\r\n    </g>\r\n    <g id=\"ytick_3\">\r\n     <g id=\"line2d_10\">\r\n      <g>\r\n       <use style=\"stroke:#000000;stroke-width:0.8;\" x=\"20.5625\" xlink:href=\"#m39adce1f6b\" y=\"147.748659\"/>\r\n      </g>\r\n     </g>\r\n     <g id=\"text_10\">\r\n      <!-- 3 -->\r\n      <defs>\r\n       <path d=\"M 40.578125 39.3125 \r\nQ 47.65625 37.796875 51.625 33 \r\nQ 55.609375 28.21875 55.609375 21.1875 \r\nQ 55.609375 10.40625 48.1875 4.484375 \r\nQ 40.765625 -1.421875 27.09375 -1.421875 \r\nQ 22.515625 -1.421875 17.65625 -0.515625 \r\nQ 12.796875 0.390625 7.625 2.203125 \r\nL 7.625 11.71875 \r\nQ 11.71875 9.328125 16.59375 8.109375 \r\nQ 21.484375 6.890625 26.8125 6.890625 \r\nQ 36.078125 6.890625 40.9375 10.546875 \r\nQ 45.796875 14.203125 45.796875 21.1875 \r\nQ 45.796875 27.640625 41.28125 31.265625 \r\nQ 36.765625 34.90625 28.71875 34.90625 \r\nL 20.21875 34.90625 \r\nL 20.21875 43.015625 \r\nL 29.109375 43.015625 \r\nQ 36.375 43.015625 40.234375 45.921875 \r\nQ 44.09375 48.828125 44.09375 54.296875 \r\nQ 44.09375 59.90625 40.109375 62.90625 \r\nQ 36.140625 65.921875 28.71875 65.921875 \r\nQ 24.65625 65.921875 20.015625 65.03125 \r\nQ 15.375 64.15625 9.8125 62.3125 \r\nL 9.8125 71.09375 \r\nQ 15.4375 72.65625 20.34375 73.4375 \r\nQ 25.25 74.21875 29.59375 74.21875 \r\nQ 40.828125 74.21875 47.359375 69.109375 \r\nQ 53.90625 64.015625 53.90625 55.328125 \r\nQ 53.90625 49.265625 50.4375 45.09375 \r\nQ 46.96875 40.921875 40.578125 39.3125 \r\nz\r\n\" id=\"DejaVuSans-51\"/>\r\n      </defs>\r\n      <g transform=\"translate(7.2 151.547878)scale(0.1 -0.1)\">\r\n       <use xlink:href=\"#DejaVuSans-51\"/>\r\n      </g>\r\n     </g>\r\n    </g>\r\n    <g id=\"ytick_4\">\r\n     <g id=\"line2d_11\">\r\n      <g>\r\n       <use style=\"stroke:#000000;stroke-width:0.8;\" x=\"20.5625\" xlink:href=\"#m39adce1f6b\" y=\"114.244807\"/>\r\n      </g>\r\n     </g>\r\n     <g id=\"text_11\">\r\n      <!-- 4 -->\r\n      <g transform=\"translate(7.2 118.044026)scale(0.1 -0.1)\">\r\n       <use xlink:href=\"#DejaVuSans-52\"/>\r\n      </g>\r\n     </g>\r\n    </g>\r\n    <g id=\"ytick_5\">\r\n     <g id=\"line2d_12\">\r\n      <g>\r\n       <use style=\"stroke:#000000;stroke-width:0.8;\" x=\"20.5625\" xlink:href=\"#m39adce1f6b\" y=\"80.740955\"/>\r\n      </g>\r\n     </g>\r\n     <g id=\"text_12\">\r\n      <!-- 5 -->\r\n      <g transform=\"translate(7.2 84.540174)scale(0.1 -0.1)\">\r\n       <use xlink:href=\"#DejaVuSans-53\"/>\r\n      </g>\r\n     </g>\r\n    </g>\r\n    <g id=\"ytick_6\">\r\n     <g id=\"line2d_13\">\r\n      <g>\r\n       <use style=\"stroke:#000000;stroke-width:0.8;\" x=\"20.5625\" xlink:href=\"#m39adce1f6b\" y=\"47.237103\"/>\r\n      </g>\r\n     </g>\r\n     <g id=\"text_13\">\r\n      <!-- 6 -->\r\n      <g transform=\"translate(7.2 51.036322)scale(0.1 -0.1)\">\r\n       <use xlink:href=\"#DejaVuSans-54\"/>\r\n      </g>\r\n     </g>\r\n    </g>\r\n    <g id=\"ytick_7\">\r\n     <g id=\"line2d_14\">\r\n      <g>\r\n       <use style=\"stroke:#000000;stroke-width:0.8;\" x=\"20.5625\" xlink:href=\"#m39adce1f6b\" y=\"13.733251\"/>\r\n      </g>\r\n     </g>\r\n     <g id=\"text_14\">\r\n      <!-- 7 -->\r\n      <g transform=\"translate(7.2 17.53247)scale(0.1 -0.1)\">\r\n       <use xlink:href=\"#DejaVuSans-55\"/>\r\n      </g>\r\n     </g>\r\n    </g>\r\n   </g>\r\n   <g id=\"patch_3\">\r\n    <path d=\"M 20.5625 224.64 \r\nL 20.5625 7.2 \r\n\" style=\"fill:none;stroke:#000000;stroke-linecap:square;stroke-linejoin:miter;stroke-width:0.8;\"/>\r\n   </g>\r\n   <g id=\"patch_4\">\r\n    <path d=\"M 355.3625 224.64 \r\nL 355.3625 7.2 \r\n\" style=\"fill:none;stroke:#000000;stroke-linecap:square;stroke-linejoin:miter;stroke-width:0.8;\"/>\r\n   </g>\r\n   <g id=\"patch_5\">\r\n    <path d=\"M 20.5625 224.64 \r\nL 355.3625 224.64 \r\n\" style=\"fill:none;stroke:#000000;stroke-linecap:square;stroke-linejoin:miter;stroke-width:0.8;\"/>\r\n   </g>\r\n   <g id=\"patch_6\">\r\n    <path d=\"M 20.5625 7.2 \r\nL 355.3625 7.2 \r\n\" style=\"fill:none;stroke:#000000;stroke-linecap:square;stroke-linejoin:miter;stroke-width:0.8;\"/>\r\n   </g>\r\n  </g>\r\n </g>\r\n <defs>\r\n  <clipPath id=\"p3537fb761a\">\r\n   <rect height=\"217.44\" width=\"334.8\" x=\"20.5625\" y=\"7.2\"/>\r\n  </clipPath>\r\n </defs>\r\n</svg>\r\n",
      "image/png": "[encoded data removed]"
     },
     "metadata": {
      "needs_background": "light"
     }
    }
   ],
   "source": [
    "plt.scatter(data_all_train[:,0], data_all_train[:,2],c=data_label_train)"
   ]
  },
  {
   "cell_type": "code",
   "execution_count": 303,
   "metadata": {},
   "outputs": [
    {
     "output_type": "execute_result",
     "data": {
      "text/plain": "<matplotlib.collections.PathCollection at 0x28227981548>"
     },
     "metadata": {},
     "execution_count": 303
    },
    {
     "output_type": "display_data",
     "data": {
      "text/plain": "<Figure size 432x288 with 1 Axes>",
      "image/svg+xml": "<?xml version=\"1.0\" encoding=\"utf-8\" standalone=\"no\"?>\r\n<!DOCTYPE svg PUBLIC \"-//W3C//DTD SVG 1.1//EN\"\r\n  \"http://www.w3.org/Graphics/SVG/1.1/DTD/svg11.dtd\">\r\n<!-- Created with matplotlib (https://matplotlib.org/) -->\r\n<svg height=\"248.518125pt\" version=\"1.1\" viewBox=\"0 0 363.991985 248.518125\" width=\"363.991985pt\" xmlns=\"http://www.w3.org/2000/svg\" xmlns:xlink=\"http://www.w3.org/1999/xlink\">\r\n <defs>\r\n  <style type=\"text/css\">\r\n*{stroke-linecap:butt;stroke-linejoin:round;}\r\n  </style>\r\n </defs>\r\n <g id=\"figure_1\">\r\n  <g id=\"patch_1\">\r\n   <path d=\"M 0 248.518125 \r\nL 363.991985 248.518125 \r\nL 363.991985 0 \r\nL 0 0 \r\nz\r\n\" style=\"fill:none;\"/>\r\n  </g>\r\n  <g id=\"axes_1\">\r\n   <g id=\"patch_2\">\r\n    <path d=\"M 20.5625 224.64 \r\nL 355.3625 224.64 \r\nL 355.3625 7.2 \r\nL 20.5625 7.2 \r\nz\r\n\" style=\"fill:#ffffff;\"/>\r\n   </g>\r\n   <g id=\"PathCollection_1\">\r\n    <defs>\r\n     <path d=\"M 0 3 \r\nC 0.795609 3 1.55874 2.683901 2.12132 2.12132 \r\nC 2.683901 1.55874 3 0.795609 3 0 \r\nC 3 -0.795609 2.683901 -1.55874 2.12132 -2.12132 \r\nC 1.55874 -2.683901 0.795609 -3 0 -3 \r\nC -0.795609 -3 -1.55874 -2.683901 -2.12132 -2.12132 \r\nC -2.683901 -1.55874 -3 -0.795609 -3 0 \r\nC -3 0.795609 -2.683901 1.55874 -2.12132 2.12132 \r\nC -1.55874 2.683901 -0.795609 3 0 3 \r\nz\r\n\" id=\"C0_0_128768bf98\"/>\r\n    </defs>\r\n    <g clip-path=\"url(#pc5ee131958)\">\r\n     <use style=\"fill:#21918c;stroke:#21918c;\" x=\"157.526136\" xlink:href=\"#C0_0_128768bf98\" y=\"110.106096\"/>\r\n    </g>\r\n    <g clip-path=\"url(#pc5ee131958)\">\r\n     <use style=\"fill:#21918c;stroke:#21918c;\" x=\"174.918344\" xlink:href=\"#C0_0_128768bf98\" y=\"90.726417\"/>\r\n    </g>\r\n    <g clip-path=\"url(#pc5ee131958)\">\r\n     <use style=\"fill:#21918c;stroke:#21918c;\" x=\"122.741721\" xlink:href=\"#C0_0_128768bf98\" y=\"90.726417\"/>\r\n    </g>\r\n    <g clip-path=\"url(#pc5ee131958)\">\r\n     <use style=\"fill:#fde725;stroke:#fde725;\" x=\"244.487175\" xlink:href=\"#C0_0_128768bf98\" y=\"51.967059\"/>\r\n    </g>\r\n    <g clip-path=\"url(#pc5ee131958)\">\r\n     <use style=\"fill:#21918c;stroke:#21918c;\" x=\"157.526136\" xlink:href=\"#C0_0_128768bf98\" y=\"113.982032\"/>\r\n    </g>\r\n    <g clip-path=\"url(#pc5ee131958)\">\r\n     <use style=\"fill:#440154;stroke:#440154;\" x=\"79.261201\" xlink:href=\"#C0_0_128768bf98\" y=\"210.880428\"/>\r\n    </g>\r\n    <g clip-path=\"url(#pc5ee131958)\">\r\n     <use style=\"fill:#fde725;stroke:#fde725;\" x=\"157.526136\" xlink:href=\"#C0_0_128768bf98\" y=\"67.470802\"/>\r\n    </g>\r\n    <g clip-path=\"url(#pc5ee131958)\">\r\n     <use style=\"fill:#21918c;stroke:#21918c;\" x=\"209.70276\" xlink:href=\"#C0_0_128768bf98\" y=\"98.478289\"/>\r\n    </g>\r\n    <g clip-path=\"url(#pc5ee131958)\">\r\n     <use style=\"fill:#21918c;stroke:#21918c;\" x=\"192.310552\" xlink:href=\"#C0_0_128768bf98\" y=\"98.478289\"/>\r\n    </g>\r\n    <g clip-path=\"url(#pc5ee131958)\">\r\n     <use style=\"fill:#fde725;stroke:#fde725;\" x=\"201.006656\" xlink:href=\"#C0_0_128768bf98\" y=\"48.091123\"/>\r\n    </g>\r\n    <g clip-path=\"url(#pc5ee131958)\">\r\n     <use style=\"fill:#fde725;stroke:#fde725;\" x=\"253.183279\" xlink:href=\"#C0_0_128768bf98\" y=\"55.842995\"/>\r\n    </g>\r\n    <g clip-path=\"url(#pc5ee131958)\">\r\n     <use style=\"fill:#21918c;stroke:#21918c;\" x=\"140.133929\" xlink:href=\"#C0_0_128768bf98\" y=\"90.726417\"/>\r\n    </g>\r\n    <g clip-path=\"url(#pc5ee131958)\">\r\n     <use style=\"fill:#21918c;stroke:#21918c;\" x=\"183.614448\" xlink:href=\"#C0_0_128768bf98\" y=\"110.106096\"/>\r\n    </g>\r\n    <g clip-path=\"url(#pc5ee131958)\">\r\n     <use style=\"fill:#21918c;stroke:#21918c;\" x=\"140.133929\" xlink:href=\"#C0_0_128768bf98\" y=\"102.354225\"/>\r\n    </g>\r\n    <g clip-path=\"url(#pc5ee131958)\">\r\n     <use style=\"fill:#fde725;stroke:#fde725;\" x=\"79.261201\" xlink:href=\"#C0_0_128768bf98\" y=\"90.726417\"/>\r\n    </g>\r\n    <g clip-path=\"url(#pc5ee131958)\">\r\n     <use style=\"fill:#fde725;stroke:#fde725;\" x=\"148.830032\" xlink:href=\"#C0_0_128768bf98\" y=\"71.346738\"/>\r\n    </g>\r\n    <g clip-path=\"url(#pc5ee131958)\">\r\n     <use style=\"fill:#21918c;stroke:#21918c;\" x=\"96.653409\" xlink:href=\"#C0_0_128768bf98\" y=\"148.865455\"/>\r\n    </g>\r\n    <g clip-path=\"url(#pc5ee131958)\">\r\n     <use style=\"fill:#21918c;stroke:#21918c;\" x=\"157.526136\" xlink:href=\"#C0_0_128768bf98\" y=\"106.23016\"/>\r\n    </g>\r\n    <g clip-path=\"url(#pc5ee131958)\">\r\n     <use style=\"fill:#440154;stroke:#440154;\" x=\"87.957305\" xlink:href=\"#C0_0_128768bf98\" y=\"210.880428\"/>\r\n    </g>\r\n    <g clip-path=\"url(#pc5ee131958)\">\r\n     <use style=\"fill:#fde725;stroke:#fde725;\" x=\"218.398864\" xlink:href=\"#C0_0_128768bf98\" y=\"51.967059\"/>\r\n    </g>\r\n    <g clip-path=\"url(#pc5ee131958)\">\r\n     <use style=\"fill:#21918c;stroke:#21918c;\" x=\"166.22224\" xlink:href=\"#C0_0_128768bf98\" y=\"102.354225\"/>\r\n    </g>\r\n    <g clip-path=\"url(#pc5ee131958)\">\r\n     <use style=\"fill:#fde725;stroke:#fde725;\" x=\"201.006656\" xlink:href=\"#C0_0_128768bf98\" y=\"32.58738\"/>\r\n    </g>\r\n    <g clip-path=\"url(#pc5ee131958)\">\r\n     <use style=\"fill:#fde725;stroke:#fde725;\" x=\"235.791071\" xlink:href=\"#C0_0_128768bf98\" y=\"48.091123\"/>\r\n    </g>\r\n    <g clip-path=\"url(#pc5ee131958)\">\r\n     <use style=\"fill:#21918c;stroke:#21918c;\" x=\"183.614448\" xlink:href=\"#C0_0_128768bf98\" y=\"86.850481\"/>\r\n    </g>\r\n    <g clip-path=\"url(#pc5ee131958)\">\r\n     <use style=\"fill:#21918c;stroke:#21918c;\" x=\"183.614448\" xlink:href=\"#C0_0_128768bf98\" y=\"82.974545\"/>\r\n    </g>\r\n    <g clip-path=\"url(#pc5ee131958)\">\r\n     <use style=\"fill:#21918c;stroke:#21918c;\" x=\"87.957305\" xlink:href=\"#C0_0_128768bf98\" y=\"137.237647\"/>\r\n    </g>\r\n    <g clip-path=\"url(#pc5ee131958)\">\r\n     <use style=\"fill:#440154;stroke:#440154;\" x=\"122.741721\" xlink:href=\"#C0_0_128768bf98\" y=\"214.756364\"/>\r\n    </g>\r\n    <g clip-path=\"url(#pc5ee131958)\">\r\n     <use style=\"fill:#fde725;stroke:#fde725;\" x=\"340.144318\" xlink:href=\"#C0_0_128768bf98\" y=\"17.083636\"/>\r\n    </g>\r\n    <g clip-path=\"url(#pc5ee131958)\">\r\n     <use style=\"fill:#21918c;stroke:#21918c;\" x=\"148.830032\" xlink:href=\"#C0_0_128768bf98\" y=\"102.354225\"/>\r\n    </g>\r\n    <g clip-path=\"url(#pc5ee131958)\">\r\n     <use style=\"fill:#fde725;stroke:#fde725;\" x=\"279.271591\" xlink:href=\"#C0_0_128768bf98\" y=\"32.58738\"/>\r\n    </g>\r\n    <g clip-path=\"url(#pc5ee131958)\">\r\n     <use style=\"fill:#440154;stroke:#440154;\" x=\"105.349513\" xlink:href=\"#C0_0_128768bf98\" y=\"207.004492\"/>\r\n    </g>\r\n    <g clip-path=\"url(#pc5ee131958)\">\r\n     <use style=\"fill:#fde725;stroke:#fde725;\" x=\"322.75211\" xlink:href=\"#C0_0_128768bf98\" y=\"28.711444\"/>\r\n    </g>\r\n    <g clip-path=\"url(#pc5ee131958)\">\r\n     <use style=\"fill:#fde725;stroke:#fde725;\" x=\"209.70276\" xlink:href=\"#C0_0_128768bf98\" y=\"59.71893\"/>\r\n    </g>\r\n    <g clip-path=\"url(#pc5ee131958)\">\r\n     <use style=\"fill:#440154;stroke:#440154;\" x=\"87.957305\" xlink:href=\"#C0_0_128768bf98\" y=\"203.128556\"/>\r\n    </g>\r\n    <g clip-path=\"url(#pc5ee131958)\">\r\n     <use style=\"fill:#fde725;stroke:#fde725;\" x=\"166.22224\" xlink:href=\"#C0_0_128768bf98\" y=\"67.470802\"/>\r\n    </g>\r\n    <g clip-path=\"url(#pc5ee131958)\">\r\n     <use style=\"fill:#fde725;stroke:#fde725;\" x=\"201.006656\" xlink:href=\"#C0_0_128768bf98\" y=\"67.470802\"/>\r\n    </g>\r\n    <g clip-path=\"url(#pc5ee131958)\">\r\n     <use style=\"fill:#440154;stroke:#440154;\" x=\"96.653409\" xlink:href=\"#C0_0_128768bf98\" y=\"199.25262\"/>\r\n    </g>\r\n    <g clip-path=\"url(#pc5ee131958)\">\r\n     <use style=\"fill:#21918c;stroke:#21918c;\" x=\"131.437825\" xlink:href=\"#C0_0_128768bf98\" y=\"94.602353\"/>\r\n    </g>\r\n    <g clip-path=\"url(#pc5ee131958)\">\r\n     <use style=\"fill:#21918c;stroke:#21918c;\" x=\"131.437825\" xlink:href=\"#C0_0_128768bf98\" y=\"121.733904\"/>\r\n    </g>\r\n    <g clip-path=\"url(#pc5ee131958)\">\r\n     <use style=\"fill:#440154;stroke:#440154;\" x=\"79.261201\" xlink:href=\"#C0_0_128768bf98\" y=\"207.004492\"/>\r\n    </g>\r\n    <g clip-path=\"url(#pc5ee131958)\">\r\n     <use style=\"fill:#21918c;stroke:#21918c;\" x=\"148.830032\" xlink:href=\"#C0_0_128768bf98\" y=\"129.485775\"/>\r\n    </g>\r\n    <g clip-path=\"url(#pc5ee131958)\">\r\n     <use style=\"fill:#21918c;stroke:#21918c;\" x=\"140.133929\" xlink:href=\"#C0_0_128768bf98\" y=\"125.60984\"/>\r\n    </g>\r\n    <g clip-path=\"url(#pc5ee131958)\">\r\n     <use style=\"fill:#440154;stroke:#440154;\" x=\"87.957305\" xlink:href=\"#C0_0_128768bf98\" y=\"207.004492\"/>\r\n    </g>\r\n    <g clip-path=\"url(#pc5ee131958)\">\r\n     <use style=\"fill:#440154;stroke:#440154;\" x=\"35.780682\" xlink:href=\"#C0_0_128768bf98\" y=\"214.756364\"/>\r\n    </g>\r\n    <g clip-path=\"url(#pc5ee131958)\">\r\n     <use style=\"fill:#fde725;stroke:#fde725;\" x=\"296.663799\" xlink:href=\"#C0_0_128768bf98\" y=\"28.711444\"/>\r\n    </g>\r\n   </g>\r\n   <g id=\"matplotlib.axis_1\">\r\n    <g id=\"xtick_1\">\r\n     <g id=\"line2d_1\">\r\n      <defs>\r\n       <path d=\"M 0 0 \r\nL 0 3.5 \r\n\" id=\"m4cbe450789\" style=\"stroke:#000000;stroke-width:0.8;\"/>\r\n      </defs>\r\n      <g>\r\n       <use style=\"stroke:#000000;stroke-width:0.8;\" x=\"44.476786\" xlink:href=\"#m4cbe450789\" y=\"224.64\"/>\r\n      </g>\r\n     </g>\r\n     <g id=\"text_1\">\r\n      <!-- 4.5 -->\r\n      <defs>\r\n       <path d=\"M 37.796875 64.3125 \r\nL 12.890625 25.390625 \r\nL 37.796875 25.390625 \r\nz\r\nM 35.203125 72.90625 \r\nL 47.609375 72.90625 \r\nL 47.609375 25.390625 \r\nL 58.015625 25.390625 \r\nL 58.015625 17.1875 \r\nL 47.609375 17.1875 \r\nL 47.609375 0 \r\nL 37.796875 0 \r\nL 37.796875 17.1875 \r\nL 4.890625 17.1875 \r\nL 4.890625 26.703125 \r\nz\r\n\" id=\"DejaVuSans-52\"/>\r\n       <path d=\"M 10.6875 12.40625 \r\nL 21 12.40625 \r\nL 21 0 \r\nL 10.6875 0 \r\nz\r\n\" id=\"DejaVuSans-46\"/>\r\n       <path d=\"M 10.796875 72.90625 \r\nL 49.515625 72.90625 \r\nL 49.515625 64.59375 \r\nL 19.828125 64.59375 \r\nL 19.828125 46.734375 \r\nQ 21.96875 47.46875 24.109375 47.828125 \r\nQ 26.265625 48.1875 28.421875 48.1875 \r\nQ 40.625 48.1875 47.75 41.5 \r\nQ 54.890625 34.8125 54.890625 23.390625 \r\nQ 54.890625 11.625 47.5625 5.09375 \r\nQ 40.234375 -1.421875 26.90625 -1.421875 \r\nQ 22.3125 -1.421875 17.546875 -0.640625 \r\nQ 12.796875 0.140625 7.71875 1.703125 \r\nL 7.71875 11.625 \r\nQ 12.109375 9.234375 16.796875 8.0625 \r\nQ 21.484375 6.890625 26.703125 6.890625 \r\nQ 35.15625 6.890625 40.078125 11.328125 \r\nQ 45.015625 15.765625 45.015625 23.390625 \r\nQ 45.015625 31 40.078125 35.4375 \r\nQ 35.15625 39.890625 26.703125 39.890625 \r\nQ 22.75 39.890625 18.8125 39.015625 \r\nQ 14.890625 38.140625 10.796875 36.28125 \r\nz\r\n\" id=\"DejaVuSans-53\"/>\r\n      </defs>\r\n      <g transform=\"translate(36.525223 239.238437)scale(0.1 -0.1)\">\r\n       <use xlink:href=\"#DejaVuSans-52\"/>\r\n       <use x=\"63.623047\" xlink:href=\"#DejaVuSans-46\"/>\r\n       <use x=\"95.410156\" xlink:href=\"#DejaVuSans-53\"/>\r\n      </g>\r\n     </g>\r\n    </g>\r\n    <g id=\"xtick_2\">\r\n     <g id=\"line2d_2\">\r\n      <g>\r\n       <use style=\"stroke:#000000;stroke-width:0.8;\" x=\"87.957305\" xlink:href=\"#m4cbe450789\" y=\"224.64\"/>\r\n      </g>\r\n     </g>\r\n     <g id=\"text_2\">\r\n      <!-- 5.0 -->\r\n      <defs>\r\n       <path d=\"M 31.78125 66.40625 \r\nQ 24.171875 66.40625 20.328125 58.90625 \r\nQ 16.5 51.421875 16.5 36.375 \r\nQ 16.5 21.390625 20.328125 13.890625 \r\nQ 24.171875 6.390625 31.78125 6.390625 \r\nQ 39.453125 6.390625 43.28125 13.890625 \r\nQ 47.125 21.390625 47.125 36.375 \r\nQ 47.125 51.421875 43.28125 58.90625 \r\nQ 39.453125 66.40625 31.78125 66.40625 \r\nz\r\nM 31.78125 74.21875 \r\nQ 44.046875 74.21875 50.515625 64.515625 \r\nQ 56.984375 54.828125 56.984375 36.375 \r\nQ 56.984375 17.96875 50.515625 8.265625 \r\nQ 44.046875 -1.421875 31.78125 -1.421875 \r\nQ 19.53125 -1.421875 13.0625 8.265625 \r\nQ 6.59375 17.96875 6.59375 36.375 \r\nQ 6.59375 54.828125 13.0625 64.515625 \r\nQ 19.53125 74.21875 31.78125 74.21875 \r\nz\r\n\" id=\"DejaVuSans-48\"/>\r\n      </defs>\r\n      <g transform=\"translate(80.005743 239.238437)scale(0.1 -0.1)\">\r\n       <use xlink:href=\"#DejaVuSans-53\"/>\r\n       <use x=\"63.623047\" xlink:href=\"#DejaVuSans-46\"/>\r\n       <use x=\"95.410156\" xlink:href=\"#DejaVuSans-48\"/>\r\n      </g>\r\n     </g>\r\n    </g>\r\n    <g id=\"xtick_3\">\r\n     <g id=\"line2d_3\">\r\n      <g>\r\n       <use style=\"stroke:#000000;stroke-width:0.8;\" x=\"131.437825\" xlink:href=\"#m4cbe450789\" y=\"224.64\"/>\r\n      </g>\r\n     </g>\r\n     <g id=\"text_3\">\r\n      <!-- 5.5 -->\r\n      <g transform=\"translate(123.486262 239.238437)scale(0.1 -0.1)\">\r\n       <use xlink:href=\"#DejaVuSans-53\"/>\r\n       <use x=\"63.623047\" xlink:href=\"#DejaVuSans-46\"/>\r\n       <use x=\"95.410156\" xlink:href=\"#DejaVuSans-53\"/>\r\n      </g>\r\n     </g>\r\n    </g>\r\n    <g id=\"xtick_4\">\r\n     <g id=\"line2d_4\">\r\n      <g>\r\n       <use style=\"stroke:#000000;stroke-width:0.8;\" x=\"174.918344\" xlink:href=\"#m4cbe450789\" y=\"224.64\"/>\r\n      </g>\r\n     </g>\r\n     <g id=\"text_4\">\r\n      <!-- 6.0 -->\r\n      <defs>\r\n       <path d=\"M 33.015625 40.375 \r\nQ 26.375 40.375 22.484375 35.828125 \r\nQ 18.609375 31.296875 18.609375 23.390625 \r\nQ 18.609375 15.53125 22.484375 10.953125 \r\nQ 26.375 6.390625 33.015625 6.390625 \r\nQ 39.65625 6.390625 43.53125 10.953125 \r\nQ 47.40625 15.53125 47.40625 23.390625 \r\nQ 47.40625 31.296875 43.53125 35.828125 \r\nQ 39.65625 40.375 33.015625 40.375 \r\nz\r\nM 52.59375 71.296875 \r\nL 52.59375 62.3125 \r\nQ 48.875 64.0625 45.09375 64.984375 \r\nQ 41.3125 65.921875 37.59375 65.921875 \r\nQ 27.828125 65.921875 22.671875 59.328125 \r\nQ 17.53125 52.734375 16.796875 39.40625 \r\nQ 19.671875 43.65625 24.015625 45.921875 \r\nQ 28.375 48.1875 33.59375 48.1875 \r\nQ 44.578125 48.1875 50.953125 41.515625 \r\nQ 57.328125 34.859375 57.328125 23.390625 \r\nQ 57.328125 12.15625 50.6875 5.359375 \r\nQ 44.046875 -1.421875 33.015625 -1.421875 \r\nQ 20.359375 -1.421875 13.671875 8.265625 \r\nQ 6.984375 17.96875 6.984375 36.375 \r\nQ 6.984375 53.65625 15.1875 63.9375 \r\nQ 23.390625 74.21875 37.203125 74.21875 \r\nQ 40.921875 74.21875 44.703125 73.484375 \r\nQ 48.484375 72.75 52.59375 71.296875 \r\nz\r\n\" id=\"DejaVuSans-54\"/>\r\n      </defs>\r\n      <g transform=\"translate(166.966782 239.238437)scale(0.1 -0.1)\">\r\n       <use xlink:href=\"#DejaVuSans-54\"/>\r\n       <use x=\"63.623047\" xlink:href=\"#DejaVuSans-46\"/>\r\n       <use x=\"95.410156\" xlink:href=\"#DejaVuSans-48\"/>\r\n      </g>\r\n     </g>\r\n    </g>\r\n    <g id=\"xtick_5\">\r\n     <g id=\"line2d_5\">\r\n      <g>\r\n       <use style=\"stroke:#000000;stroke-width:0.8;\" x=\"218.398864\" xlink:href=\"#m4cbe450789\" y=\"224.64\"/>\r\n      </g>\r\n     </g>\r\n     <g id=\"text_5\">\r\n      <!-- 6.5 -->\r\n      <g transform=\"translate(210.447301 239.238437)scale(0.1 -0.1)\">\r\n       <use xlink:href=\"#DejaVuSans-54\"/>\r\n       <use x=\"63.623047\" xlink:href=\"#DejaVuSans-46\"/>\r\n       <use x=\"95.410156\" xlink:href=\"#DejaVuSans-53\"/>\r\n      </g>\r\n     </g>\r\n    </g>\r\n    <g id=\"xtick_6\">\r\n     <g id=\"line2d_6\">\r\n      <g>\r\n       <use style=\"stroke:#000000;stroke-width:0.8;\" x=\"261.879383\" xlink:href=\"#m4cbe450789\" y=\"224.64\"/>\r\n      </g>\r\n     </g>\r\n     <g id=\"text_6\">\r\n      <!-- 7.0 -->\r\n      <defs>\r\n       <path d=\"M 8.203125 72.90625 \r\nL 55.078125 72.90625 \r\nL 55.078125 68.703125 \r\nL 28.609375 0 \r\nL 18.3125 0 \r\nL 43.21875 64.59375 \r\nL 8.203125 64.59375 \r\nz\r\n\" id=\"DejaVuSans-55\"/>\r\n      </defs>\r\n      <g transform=\"translate(253.927821 239.238437)scale(0.1 -0.1)\">\r\n       <use xlink:href=\"#DejaVuSans-55\"/>\r\n       <use x=\"63.623047\" xlink:href=\"#DejaVuSans-46\"/>\r\n       <use x=\"95.410156\" xlink:href=\"#DejaVuSans-48\"/>\r\n      </g>\r\n     </g>\r\n    </g>\r\n    <g id=\"xtick_7\">\r\n     <g id=\"line2d_7\">\r\n      <g>\r\n       <use style=\"stroke:#000000;stroke-width:0.8;\" x=\"305.359903\" xlink:href=\"#m4cbe450789\" y=\"224.64\"/>\r\n      </g>\r\n     </g>\r\n     <g id=\"text_7\">\r\n      <!-- 7.5 -->\r\n      <g transform=\"translate(297.40834 239.238437)scale(0.1 -0.1)\">\r\n       <use xlink:href=\"#DejaVuSans-55\"/>\r\n       <use x=\"63.623047\" xlink:href=\"#DejaVuSans-46\"/>\r\n       <use x=\"95.410156\" xlink:href=\"#DejaVuSans-53\"/>\r\n      </g>\r\n     </g>\r\n    </g>\r\n    <g id=\"xtick_8\">\r\n     <g id=\"line2d_8\">\r\n      <g>\r\n       <use style=\"stroke:#000000;stroke-width:0.8;\" x=\"348.840422\" xlink:href=\"#m4cbe450789\" y=\"224.64\"/>\r\n      </g>\r\n     </g>\r\n     <g id=\"text_8\">\r\n      <!-- 8.0 -->\r\n      <defs>\r\n       <path d=\"M 31.78125 34.625 \r\nQ 24.75 34.625 20.71875 30.859375 \r\nQ 16.703125 27.09375 16.703125 20.515625 \r\nQ 16.703125 13.921875 20.71875 10.15625 \r\nQ 24.75 6.390625 31.78125 6.390625 \r\nQ 38.8125 6.390625 42.859375 10.171875 \r\nQ 46.921875 13.96875 46.921875 20.515625 \r\nQ 46.921875 27.09375 42.890625 30.859375 \r\nQ 38.875 34.625 31.78125 34.625 \r\nz\r\nM 21.921875 38.8125 \r\nQ 15.578125 40.375 12.03125 44.71875 \r\nQ 8.5 49.078125 8.5 55.328125 \r\nQ 8.5 64.0625 14.71875 69.140625 \r\nQ 20.953125 74.21875 31.78125 74.21875 \r\nQ 42.671875 74.21875 48.875 69.140625 \r\nQ 55.078125 64.0625 55.078125 55.328125 \r\nQ 55.078125 49.078125 51.53125 44.71875 \r\nQ 48 40.375 41.703125 38.8125 \r\nQ 48.828125 37.15625 52.796875 32.3125 \r\nQ 56.78125 27.484375 56.78125 20.515625 \r\nQ 56.78125 9.90625 50.3125 4.234375 \r\nQ 43.84375 -1.421875 31.78125 -1.421875 \r\nQ 19.734375 -1.421875 13.25 4.234375 \r\nQ 6.78125 9.90625 6.78125 20.515625 \r\nQ 6.78125 27.484375 10.78125 32.3125 \r\nQ 14.796875 37.15625 21.921875 38.8125 \r\nz\r\nM 18.3125 54.390625 \r\nQ 18.3125 48.734375 21.84375 45.5625 \r\nQ 25.390625 42.390625 31.78125 42.390625 \r\nQ 38.140625 42.390625 41.71875 45.5625 \r\nQ 45.3125 48.734375 45.3125 54.390625 \r\nQ 45.3125 60.0625 41.71875 63.234375 \r\nQ 38.140625 66.40625 31.78125 66.40625 \r\nQ 25.390625 66.40625 21.84375 63.234375 \r\nQ 18.3125 60.0625 18.3125 54.390625 \r\nz\r\n\" id=\"DejaVuSans-56\"/>\r\n      </defs>\r\n      <g transform=\"translate(340.88886 239.238437)scale(0.1 -0.1)\">\r\n       <use xlink:href=\"#DejaVuSans-56\"/>\r\n       <use x=\"63.623047\" xlink:href=\"#DejaVuSans-46\"/>\r\n       <use x=\"95.410156\" xlink:href=\"#DejaVuSans-48\"/>\r\n      </g>\r\n     </g>\r\n    </g>\r\n   </g>\r\n   <g id=\"matplotlib.axis_2\">\r\n    <g id=\"ytick_1\">\r\n     <g id=\"line2d_9\">\r\n      <defs>\r\n       <path d=\"M 0 0 \r\nL -3.5 0 \r\n\" id=\"mb7bff78509\" style=\"stroke:#000000;stroke-width:0.8;\"/>\r\n      </defs>\r\n      <g>\r\n       <use style=\"stroke:#000000;stroke-width:0.8;\" x=\"20.5625\" xlink:href=\"#mb7bff78509\" y=\"187.624813\"/>\r\n      </g>\r\n     </g>\r\n     <g id=\"text_9\">\r\n      <!-- 2 -->\r\n      <defs>\r\n       <path d=\"M 19.1875 8.296875 \r\nL 53.609375 8.296875 \r\nL 53.609375 0 \r\nL 7.328125 0 \r\nL 7.328125 8.296875 \r\nQ 12.9375 14.109375 22.625 23.890625 \r\nQ 32.328125 33.6875 34.8125 36.53125 \r\nQ 39.546875 41.84375 41.421875 45.53125 \r\nQ 43.3125 49.21875 43.3125 52.78125 \r\nQ 43.3125 58.59375 39.234375 62.25 \r\nQ 35.15625 65.921875 28.609375 65.921875 \r\nQ 23.96875 65.921875 18.8125 64.3125 \r\nQ 13.671875 62.703125 7.8125 59.421875 \r\nL 7.8125 69.390625 \r\nQ 13.765625 71.78125 18.9375 73 \r\nQ 24.125 74.21875 28.421875 74.21875 \r\nQ 39.75 74.21875 46.484375 68.546875 \r\nQ 53.21875 62.890625 53.21875 53.421875 \r\nQ 53.21875 48.921875 51.53125 44.890625 \r\nQ 49.859375 40.875 45.40625 35.40625 \r\nQ 44.1875 33.984375 37.640625 27.21875 \r\nQ 31.109375 20.453125 19.1875 8.296875 \r\nz\r\n\" id=\"DejaVuSans-50\"/>\r\n      </defs>\r\n      <g transform=\"translate(7.2 191.424032)scale(0.1 -0.1)\">\r\n       <use xlink:href=\"#DejaVuSans-50\"/>\r\n      </g>\r\n     </g>\r\n    </g>\r\n    <g id=\"ytick_2\">\r\n     <g id=\"line2d_10\">\r\n      <g>\r\n       <use style=\"stroke:#000000;stroke-width:0.8;\" x=\"20.5625\" xlink:href=\"#mb7bff78509\" y=\"148.865455\"/>\r\n      </g>\r\n     </g>\r\n     <g id=\"text_10\">\r\n      <!-- 3 -->\r\n      <defs>\r\n       <path d=\"M 40.578125 39.3125 \r\nQ 47.65625 37.796875 51.625 33 \r\nQ 55.609375 28.21875 55.609375 21.1875 \r\nQ 55.609375 10.40625 48.1875 4.484375 \r\nQ 40.765625 -1.421875 27.09375 -1.421875 \r\nQ 22.515625 -1.421875 17.65625 -0.515625 \r\nQ 12.796875 0.390625 7.625 2.203125 \r\nL 7.625 11.71875 \r\nQ 11.71875 9.328125 16.59375 8.109375 \r\nQ 21.484375 6.890625 26.8125 6.890625 \r\nQ 36.078125 6.890625 40.9375 10.546875 \r\nQ 45.796875 14.203125 45.796875 21.1875 \r\nQ 45.796875 27.640625 41.28125 31.265625 \r\nQ 36.765625 34.90625 28.71875 34.90625 \r\nL 20.21875 34.90625 \r\nL 20.21875 43.015625 \r\nL 29.109375 43.015625 \r\nQ 36.375 43.015625 40.234375 45.921875 \r\nQ 44.09375 48.828125 44.09375 54.296875 \r\nQ 44.09375 59.90625 40.109375 62.90625 \r\nQ 36.140625 65.921875 28.71875 65.921875 \r\nQ 24.65625 65.921875 20.015625 65.03125 \r\nQ 15.375 64.15625 9.8125 62.3125 \r\nL 9.8125 71.09375 \r\nQ 15.4375 72.65625 20.34375 73.4375 \r\nQ 25.25 74.21875 29.59375 74.21875 \r\nQ 40.828125 74.21875 47.359375 69.109375 \r\nQ 53.90625 64.015625 53.90625 55.328125 \r\nQ 53.90625 49.265625 50.4375 45.09375 \r\nQ 46.96875 40.921875 40.578125 39.3125 \r\nz\r\n\" id=\"DejaVuSans-51\"/>\r\n      </defs>\r\n      <g transform=\"translate(7.2 152.664673)scale(0.1 -0.1)\">\r\n       <use xlink:href=\"#DejaVuSans-51\"/>\r\n      </g>\r\n     </g>\r\n    </g>\r\n    <g id=\"ytick_3\">\r\n     <g id=\"line2d_11\">\r\n      <g>\r\n       <use style=\"stroke:#000000;stroke-width:0.8;\" x=\"20.5625\" xlink:href=\"#mb7bff78509\" y=\"110.106096\"/>\r\n      </g>\r\n     </g>\r\n     <g id=\"text_11\">\r\n      <!-- 4 -->\r\n      <g transform=\"translate(7.2 113.905315)scale(0.1 -0.1)\">\r\n       <use xlink:href=\"#DejaVuSans-52\"/>\r\n      </g>\r\n     </g>\r\n    </g>\r\n    <g id=\"ytick_4\">\r\n     <g id=\"line2d_12\">\r\n      <g>\r\n       <use style=\"stroke:#000000;stroke-width:0.8;\" x=\"20.5625\" xlink:href=\"#mb7bff78509\" y=\"71.346738\"/>\r\n      </g>\r\n     </g>\r\n     <g id=\"text_12\">\r\n      <!-- 5 -->\r\n      <g transform=\"translate(7.2 75.145957)scale(0.1 -0.1)\">\r\n       <use xlink:href=\"#DejaVuSans-53\"/>\r\n      </g>\r\n     </g>\r\n    </g>\r\n    <g id=\"ytick_5\">\r\n     <g id=\"line2d_13\">\r\n      <g>\r\n       <use style=\"stroke:#000000;stroke-width:0.8;\" x=\"20.5625\" xlink:href=\"#mb7bff78509\" y=\"32.58738\"/>\r\n      </g>\r\n     </g>\r\n     <g id=\"text_13\">\r\n      <!-- 6 -->\r\n      <g transform=\"translate(7.2 36.386598)scale(0.1 -0.1)\">\r\n       <use xlink:href=\"#DejaVuSans-54\"/>\r\n      </g>\r\n     </g>\r\n    </g>\r\n   </g>\r\n   <g id=\"patch_3\">\r\n    <path d=\"M 20.5625 224.64 \r\nL 20.5625 7.2 \r\n\" style=\"fill:none;stroke:#000000;stroke-linecap:square;stroke-linejoin:miter;stroke-width:0.8;\"/>\r\n   </g>\r\n   <g id=\"patch_4\">\r\n    <path d=\"M 355.3625 224.64 \r\nL 355.3625 7.2 \r\n\" style=\"fill:none;stroke:#000000;stroke-linecap:square;stroke-linejoin:miter;stroke-width:0.8;\"/>\r\n   </g>\r\n   <g id=\"patch_5\">\r\n    <path d=\"M 20.5625 224.64 \r\nL 355.3625 224.64 \r\n\" style=\"fill:none;stroke:#000000;stroke-linecap:square;stroke-linejoin:miter;stroke-width:0.8;\"/>\r\n   </g>\r\n   <g id=\"patch_6\">\r\n    <path d=\"M 20.5625 7.2 \r\nL 355.3625 7.2 \r\n\" style=\"fill:none;stroke:#000000;stroke-linecap:square;stroke-linejoin:miter;stroke-width:0.8;\"/>\r\n   </g>\r\n  </g>\r\n </g>\r\n <defs>\r\n  <clipPath id=\"pc5ee131958\">\r\n   <rect height=\"217.44\" width=\"334.8\" x=\"20.5625\" y=\"7.2\"/>\r\n  </clipPath>\r\n </defs>\r\n</svg>\r\n",
      "image/png": "[encoded data removed]"
     },
     "metadata": {
      "needs_background": "light"
     }
    }
   ],
   "source": [
    "plt.scatter(data_all_test[:,0], data_all_test[:,2],c=data_label_test)"
   ]
  },
  {
   "cell_type": "code",
   "execution_count": 304,
   "metadata": {},
   "outputs": [
    {
     "output_type": "execute_result",
     "data": {
      "text/plain": "<matplotlib.collections.PathCollection at 0x28226e8c288>"
     },
     "metadata": {},
     "execution_count": 304
    },
    {
     "output_type": "display_data",
     "data": {
      "text/plain": "<Figure size 432x288 with 1 Axes>",
      "image/svg+xml": "<?xml version=\"1.0\" encoding=\"utf-8\" standalone=\"no\"?>\r\n<!DOCTYPE svg PUBLIC \"-//W3C//DTD SVG 1.1//EN\"\r\n  \"http://www.w3.org/Graphics/SVG/1.1/DTD/svg11.dtd\">\r\n<!-- Created with matplotlib (https://matplotlib.org/) -->\r\n<svg height=\"248.518125pt\" version=\"1.1\" viewBox=\"0 0 363.750426 248.518125\" width=\"363.750426pt\" xmlns=\"http://www.w3.org/2000/svg\" xmlns:xlink=\"http://www.w3.org/1999/xlink\">\r\n <defs>\r\n  <style type=\"text/css\">\r\n*{stroke-linecap:butt;stroke-linejoin:round;}\r\n  </style>\r\n </defs>\r\n <g id=\"figure_1\">\r\n  <g id=\"patch_1\">\r\n   <path d=\"M 0 248.518125 \r\nL 363.750426 248.518125 \r\nL 363.750426 0 \r\nL 0 0 \r\nz\r\n\" style=\"fill:none;\"/>\r\n  </g>\r\n  <g id=\"axes_1\">\r\n   <g id=\"patch_2\">\r\n    <path d=\"M 20.5625 224.64 \r\nL 355.3625 224.64 \r\nL 355.3625 7.2 \r\nL 20.5625 7.2 \r\nz\r\n\" style=\"fill:#ffffff;\"/>\r\n   </g>\r\n   <g id=\"PathCollection_1\">\r\n    <defs>\r\n     <path d=\"M 0 3 \r\nC 0.795609 3 1.55874 2.683901 2.12132 2.12132 \r\nC 2.683901 1.55874 3 0.795609 3 0 \r\nC 3 -0.795609 2.683901 -1.55874 2.12132 -2.12132 \r\nC 1.55874 -2.683901 0.795609 -3 0 -3 \r\nC -0.795609 -3 -1.55874 -2.683901 -2.12132 -2.12132 \r\nC -2.683901 -1.55874 -3 -0.795609 -3 0 \r\nC -3 0.795609 -2.683901 1.55874 -2.12132 2.12132 \r\nC -1.55874 2.683901 -0.795609 3 0 3 \r\nz\r\n\" id=\"C0_0_236a9ff75a\"/>\r\n    </defs>\r\n    <g clip-path=\"url(#p19520be9be)\">\r\n     <use style=\"fill:#440154;stroke:#440154;\" x=\"103.417045\" xlink:href=\"#C0_0_236a9ff75a\" y=\"201.354823\"/>\r\n    </g>\r\n    <g clip-path=\"url(#p19520be9be)\">\r\n     <use style=\"fill:#440154;stroke:#440154;\" x=\"86.507955\" xlink:href=\"#C0_0_236a9ff75a\" y=\"201.354823\"/>\r\n    </g>\r\n    <g clip-path=\"url(#p19520be9be)\">\r\n     <use style=\"fill:#440154;stroke:#440154;\" x=\"69.598864\" xlink:href=\"#C0_0_236a9ff75a\" y=\"204.705208\"/>\r\n    </g>\r\n    <g clip-path=\"url(#p19520be9be)\">\r\n     <use style=\"fill:#440154;stroke:#440154;\" x=\"61.144318\" xlink:href=\"#C0_0_236a9ff75a\" y=\"198.004438\"/>\r\n    </g>\r\n    <g clip-path=\"url(#p19520be9be)\">\r\n     <use style=\"fill:#440154;stroke:#440154;\" x=\"94.9625\" xlink:href=\"#C0_0_236a9ff75a\" y=\"201.354823\"/>\r\n    </g>\r\n    <g clip-path=\"url(#p19520be9be)\">\r\n     <use style=\"fill:#440154;stroke:#440154;\" x=\"128.780682\" xlink:href=\"#C0_0_236a9ff75a\" y=\"191.303667\"/>\r\n    </g>\r\n    <g clip-path=\"url(#p19520be9be)\">\r\n     <use style=\"fill:#440154;stroke:#440154;\" x=\"61.144318\" xlink:href=\"#C0_0_236a9ff75a\" y=\"201.354823\"/>\r\n    </g>\r\n    <g clip-path=\"url(#p19520be9be)\">\r\n     <use style=\"fill:#440154;stroke:#440154;\" x=\"94.9625\" xlink:href=\"#C0_0_236a9ff75a\" y=\"198.004438\"/>\r\n    </g>\r\n    <g clip-path=\"url(#p19520be9be)\">\r\n     <use style=\"fill:#440154;stroke:#440154;\" x=\"44.235227\" xlink:href=\"#C0_0_236a9ff75a\" y=\"201.354823\"/>\r\n    </g>\r\n    <g clip-path=\"url(#p19520be9be)\">\r\n     <use style=\"fill:#440154;stroke:#440154;\" x=\"86.507955\" xlink:href=\"#C0_0_236a9ff75a\" y=\"198.004438\"/>\r\n    </g>\r\n    <g clip-path=\"url(#p19520be9be)\">\r\n     <use style=\"fill:#440154;stroke:#440154;\" x=\"128.780682\" xlink:href=\"#C0_0_236a9ff75a\" y=\"198.004438\"/>\r\n    </g>\r\n    <g clip-path=\"url(#p19520be9be)\">\r\n     <use style=\"fill:#440154;stroke:#440154;\" x=\"78.053409\" xlink:href=\"#C0_0_236a9ff75a\" y=\"194.654052\"/>\r\n    </g>\r\n    <g clip-path=\"url(#p19520be9be)\">\r\n     <use style=\"fill:#440154;stroke:#440154;\" x=\"78.053409\" xlink:href=\"#C0_0_236a9ff75a\" y=\"201.354823\"/>\r\n    </g>\r\n    <g clip-path=\"url(#p19520be9be)\">\r\n     <use style=\"fill:#440154;stroke:#440154;\" x=\"35.780682\" xlink:href=\"#C0_0_236a9ff75a\" y=\"211.405978\"/>\r\n    </g>\r\n    <g clip-path=\"url(#p19520be9be)\">\r\n     <use style=\"fill:#440154;stroke:#440154;\" x=\"162.598864\" xlink:href=\"#C0_0_236a9ff75a\" y=\"208.055593\"/>\r\n    </g>\r\n    <g clip-path=\"url(#p19520be9be)\">\r\n     <use style=\"fill:#440154;stroke:#440154;\" x=\"154.144318\" xlink:href=\"#C0_0_236a9ff75a\" y=\"198.004438\"/>\r\n    </g>\r\n    <g clip-path=\"url(#p19520be9be)\">\r\n     <use style=\"fill:#440154;stroke:#440154;\" x=\"128.780682\" xlink:href=\"#C0_0_236a9ff75a\" y=\"204.705208\"/>\r\n    </g>\r\n    <g clip-path=\"url(#p19520be9be)\">\r\n     <use style=\"fill:#440154;stroke:#440154;\" x=\"103.417045\" xlink:href=\"#C0_0_236a9ff75a\" y=\"201.354823\"/>\r\n    </g>\r\n    <g clip-path=\"url(#p19520be9be)\">\r\n     <use style=\"fill:#440154;stroke:#440154;\" x=\"154.144318\" xlink:href=\"#C0_0_236a9ff75a\" y=\"191.303667\"/>\r\n    </g>\r\n    <g clip-path=\"url(#p19520be9be)\">\r\n     <use style=\"fill:#440154;stroke:#440154;\" x=\"103.417045\" xlink:href=\"#C0_0_236a9ff75a\" y=\"198.004438\"/>\r\n    </g>\r\n    <g clip-path=\"url(#p19520be9be)\">\r\n     <use style=\"fill:#440154;stroke:#440154;\" x=\"128.780682\" xlink:href=\"#C0_0_236a9ff75a\" y=\"191.303667\"/>\r\n    </g>\r\n    <g clip-path=\"url(#p19520be9be)\">\r\n     <use style=\"fill:#440154;stroke:#440154;\" x=\"103.417045\" xlink:href=\"#C0_0_236a9ff75a\" y=\"198.004438\"/>\r\n    </g>\r\n    <g clip-path=\"url(#p19520be9be)\">\r\n     <use style=\"fill:#440154;stroke:#440154;\" x=\"61.144318\" xlink:href=\"#C0_0_236a9ff75a\" y=\"214.756364\"/>\r\n    </g>\r\n    <g clip-path=\"url(#p19520be9be)\">\r\n     <use style=\"fill:#440154;stroke:#440154;\" x=\"103.417045\" xlink:href=\"#C0_0_236a9ff75a\" y=\"191.303667\"/>\r\n    </g>\r\n    <g clip-path=\"url(#p19520be9be)\">\r\n     <use style=\"fill:#440154;stroke:#440154;\" x=\"78.053409\" xlink:href=\"#C0_0_236a9ff75a\" y=\"184.602897\"/>\r\n    </g>\r\n    <g clip-path=\"url(#p19520be9be)\">\r\n     <use style=\"fill:#440154;stroke:#440154;\" x=\"94.9625\" xlink:href=\"#C0_0_236a9ff75a\" y=\"194.654052\"/>\r\n    </g>\r\n    <g clip-path=\"url(#p19520be9be)\">\r\n     <use style=\"fill:#440154;stroke:#440154;\" x=\"94.9625\" xlink:href=\"#C0_0_236a9ff75a\" y=\"194.654052\"/>\r\n    </g>\r\n    <g clip-path=\"url(#p19520be9be)\">\r\n     <use style=\"fill:#440154;stroke:#440154;\" x=\"111.871591\" xlink:href=\"#C0_0_236a9ff75a\" y=\"198.004438\"/>\r\n    </g>\r\n    <g clip-path=\"url(#p19520be9be)\">\r\n     <use style=\"fill:#440154;stroke:#440154;\" x=\"111.871591\" xlink:href=\"#C0_0_236a9ff75a\" y=\"201.354823\"/>\r\n    </g>\r\n    <g clip-path=\"url(#p19520be9be)\">\r\n     <use style=\"fill:#440154;stroke:#440154;\" x=\"69.598864\" xlink:href=\"#C0_0_236a9ff75a\" y=\"194.654052\"/>\r\n    </g>\r\n    <g clip-path=\"url(#p19520be9be)\">\r\n     <use style=\"fill:#440154;stroke:#440154;\" x=\"78.053409\" xlink:href=\"#C0_0_236a9ff75a\" y=\"194.654052\"/>\r\n    </g>\r\n    <g clip-path=\"url(#p19520be9be)\">\r\n     <use style=\"fill:#440154;stroke:#440154;\" x=\"128.780682\" xlink:href=\"#C0_0_236a9ff75a\" y=\"198.004438\"/>\r\n    </g>\r\n    <g clip-path=\"url(#p19520be9be)\">\r\n     <use style=\"fill:#440154;stroke:#440154;\" x=\"111.871591\" xlink:href=\"#C0_0_236a9ff75a\" y=\"198.004438\"/>\r\n    </g>\r\n    <g clip-path=\"url(#p19520be9be)\">\r\n     <use style=\"fill:#440154;stroke:#440154;\" x=\"137.235227\" xlink:href=\"#C0_0_236a9ff75a\" y=\"201.354823\"/>\r\n    </g>\r\n    <g clip-path=\"url(#p19520be9be)\">\r\n     <use style=\"fill:#440154;stroke:#440154;\" x=\"86.507955\" xlink:href=\"#C0_0_236a9ff75a\" y=\"198.004438\"/>\r\n    </g>\r\n    <g clip-path=\"url(#p19520be9be)\">\r\n     <use style=\"fill:#440154;stroke:#440154;\" x=\"94.9625\" xlink:href=\"#C0_0_236a9ff75a\" y=\"208.055593\"/>\r\n    </g>\r\n    <g clip-path=\"url(#p19520be9be)\">\r\n     <use style=\"fill:#440154;stroke:#440154;\" x=\"137.235227\" xlink:href=\"#C0_0_236a9ff75a\" y=\"204.705208\"/>\r\n    </g>\r\n    <g clip-path=\"url(#p19520be9be)\">\r\n     <use style=\"fill:#440154;stroke:#440154;\" x=\"86.507955\" xlink:href=\"#C0_0_236a9ff75a\" y=\"201.354823\"/>\r\n    </g>\r\n    <g clip-path=\"url(#p19520be9be)\">\r\n     <use style=\"fill:#440154;stroke:#440154;\" x=\"44.235227\" xlink:href=\"#C0_0_236a9ff75a\" y=\"204.705208\"/>\r\n    </g>\r\n    <g clip-path=\"url(#p19520be9be)\">\r\n     <use style=\"fill:#440154;stroke:#440154;\" x=\"103.417045\" xlink:href=\"#C0_0_236a9ff75a\" y=\"198.004438\"/>\r\n    </g>\r\n    <g clip-path=\"url(#p19520be9be)\">\r\n     <use style=\"fill:#440154;stroke:#440154;\" x=\"94.9625\" xlink:href=\"#C0_0_236a9ff75a\" y=\"204.705208\"/>\r\n    </g>\r\n    <g clip-path=\"url(#p19520be9be)\">\r\n     <use style=\"fill:#440154;stroke:#440154;\" x=\"52.689773\" xlink:href=\"#C0_0_236a9ff75a\" y=\"204.705208\"/>\r\n    </g>\r\n    <g clip-path=\"url(#p19520be9be)\">\r\n     <use style=\"fill:#440154;stroke:#440154;\" x=\"44.235227\" xlink:href=\"#C0_0_236a9ff75a\" y=\"204.705208\"/>\r\n    </g>\r\n    <g clip-path=\"url(#p19520be9be)\">\r\n     <use style=\"fill:#440154;stroke:#440154;\" x=\"94.9625\" xlink:href=\"#C0_0_236a9ff75a\" y=\"194.654052\"/>\r\n    </g>\r\n    <g clip-path=\"url(#p19520be9be)\">\r\n     <use style=\"fill:#440154;stroke:#440154;\" x=\"103.417045\" xlink:href=\"#C0_0_236a9ff75a\" y=\"184.602897\"/>\r\n    </g>\r\n    <g clip-path=\"url(#p19520be9be)\">\r\n     <use style=\"fill:#440154;stroke:#440154;\" x=\"78.053409\" xlink:href=\"#C0_0_236a9ff75a\" y=\"201.354823\"/>\r\n    </g>\r\n    <g clip-path=\"url(#p19520be9be)\">\r\n     <use style=\"fill:#440154;stroke:#440154;\" x=\"103.417045\" xlink:href=\"#C0_0_236a9ff75a\" y=\"194.654052\"/>\r\n    </g>\r\n    <g clip-path=\"url(#p19520be9be)\">\r\n     <use style=\"fill:#440154;stroke:#440154;\" x=\"61.144318\" xlink:href=\"#C0_0_236a9ff75a\" y=\"201.354823\"/>\r\n    </g>\r\n    <g clip-path=\"url(#p19520be9be)\">\r\n     <use style=\"fill:#440154;stroke:#440154;\" x=\"120.326136\" xlink:href=\"#C0_0_236a9ff75a\" y=\"198.004438\"/>\r\n    </g>\r\n    <g clip-path=\"url(#p19520be9be)\">\r\n     <use style=\"fill:#440154;stroke:#440154;\" x=\"94.9625\" xlink:href=\"#C0_0_236a9ff75a\" y=\"201.354823\"/>\r\n    </g>\r\n    <g clip-path=\"url(#p19520be9be)\">\r\n     <use style=\"fill:#21918c;stroke:#21918c;\" x=\"264.053409\" xlink:href=\"#C0_0_236a9ff75a\" y=\"90.792111\"/>\r\n    </g>\r\n    <g clip-path=\"url(#p19520be9be)\">\r\n     <use style=\"fill:#21918c;stroke:#21918c;\" x=\"213.326136\" xlink:href=\"#C0_0_236a9ff75a\" y=\"97.492881\"/>\r\n    </g>\r\n    <g clip-path=\"url(#p19520be9be)\">\r\n     <use style=\"fill:#21918c;stroke:#21918c;\" x=\"255.598864\" xlink:href=\"#C0_0_236a9ff75a\" y=\"84.091341\"/>\r\n    </g>\r\n    <g clip-path=\"url(#p19520be9be)\">\r\n     <use style=\"fill:#21918c;stroke:#21918c;\" x=\"137.235227\" xlink:href=\"#C0_0_236a9ff75a\" y=\"114.244807\"/>\r\n    </g>\r\n    <g clip-path=\"url(#p19520be9be)\">\r\n     <use style=\"fill:#21918c;stroke:#21918c;\" x=\"221.780682\" xlink:href=\"#C0_0_236a9ff75a\" y=\"94.142496\"/>\r\n    </g>\r\n    <g clip-path=\"url(#p19520be9be)\">\r\n     <use style=\"fill:#21918c;stroke:#21918c;\" x=\"154.144318\" xlink:href=\"#C0_0_236a9ff75a\" y=\"97.492881\"/>\r\n    </g>\r\n    <g clip-path=\"url(#p19520be9be)\">\r\n     <use style=\"fill:#21918c;stroke:#21918c;\" x=\"204.871591\" xlink:href=\"#C0_0_236a9ff75a\" y=\"90.792111\"/>\r\n    </g>\r\n    <g clip-path=\"url(#p19520be9be)\">\r\n     <use style=\"fill:#21918c;stroke:#21918c;\" x=\"86.507955\" xlink:href=\"#C0_0_236a9ff75a\" y=\"137.697504\"/>\r\n    </g>\r\n    <g clip-path=\"url(#p19520be9be)\">\r\n     <use style=\"fill:#21918c;stroke:#21918c;\" x=\"230.235227\" xlink:href=\"#C0_0_236a9ff75a\" y=\"94.142496\"/>\r\n    </g>\r\n    <g clip-path=\"url(#p19520be9be)\">\r\n     <use style=\"fill:#21918c;stroke:#21918c;\" x=\"111.871591\" xlink:href=\"#C0_0_236a9ff75a\" y=\"117.595193\"/>\r\n    </g>\r\n    <g clip-path=\"url(#p19520be9be)\">\r\n     <use style=\"fill:#21918c;stroke:#21918c;\" x=\"94.9625\" xlink:href=\"#C0_0_236a9ff75a\" y=\"130.996733\"/>\r\n    </g>\r\n    <g clip-path=\"url(#p19520be9be)\">\r\n     <use style=\"fill:#21918c;stroke:#21918c;\" x=\"171.053409\" xlink:href=\"#C0_0_236a9ff75a\" y=\"107.544037\"/>\r\n    </g>\r\n    <g clip-path=\"url(#p19520be9be)\">\r\n     <use style=\"fill:#21918c;stroke:#21918c;\" x=\"179.507955\" xlink:href=\"#C0_0_236a9ff75a\" y=\"114.244807\"/>\r\n    </g>\r\n    <g clip-path=\"url(#p19520be9be)\">\r\n     <use style=\"fill:#21918c;stroke:#21918c;\" x=\"187.9625\" xlink:href=\"#C0_0_236a9ff75a\" y=\"90.792111\"/>\r\n    </g>\r\n    <g clip-path=\"url(#p19520be9be)\">\r\n     <use style=\"fill:#21918c;stroke:#21918c;\" x=\"145.689773\" xlink:href=\"#C0_0_236a9ff75a\" y=\"127.646348\"/>\r\n    </g>\r\n    <g clip-path=\"url(#p19520be9be)\">\r\n     <use style=\"fill:#21918c;stroke:#21918c;\" x=\"238.689773\" xlink:href=\"#C0_0_236a9ff75a\" y=\"100.843267\"/>\r\n    </g>\r\n    <g clip-path=\"url(#p19520be9be)\">\r\n     <use style=\"fill:#21918c;stroke:#21918c;\" x=\"145.689773\" xlink:href=\"#C0_0_236a9ff75a\" y=\"97.492881\"/>\r\n    </g>\r\n    <g clip-path=\"url(#p19520be9be)\">\r\n     <use style=\"fill:#21918c;stroke:#21918c;\" x=\"162.598864\" xlink:href=\"#C0_0_236a9ff75a\" y=\"110.894422\"/>\r\n    </g>\r\n    <g clip-path=\"url(#p19520be9be)\">\r\n     <use style=\"fill:#21918c;stroke:#21918c;\" x=\"196.417045\" xlink:href=\"#C0_0_236a9ff75a\" y=\"97.492881\"/>\r\n    </g>\r\n    <g clip-path=\"url(#p19520be9be)\">\r\n     <use style=\"fill:#21918c;stroke:#21918c;\" x=\"145.689773\" xlink:href=\"#C0_0_236a9ff75a\" y=\"117.595193\"/>\r\n    </g>\r\n    <g clip-path=\"url(#p19520be9be)\">\r\n     <use style=\"fill:#21918c;stroke:#21918c;\" x=\"171.053409\" xlink:href=\"#C0_0_236a9ff75a\" y=\"87.441726\"/>\r\n    </g>\r\n    <g clip-path=\"url(#p19520be9be)\">\r\n     <use style=\"fill:#21918c;stroke:#21918c;\" x=\"187.9625\" xlink:href=\"#C0_0_236a9ff75a\" y=\"114.244807\"/>\r\n    </g>\r\n    <g clip-path=\"url(#p19520be9be)\">\r\n     <use style=\"fill:#21918c;stroke:#21918c;\" x=\"204.871591\" xlink:href=\"#C0_0_236a9ff75a\" y=\"84.091341\"/>\r\n    </g>\r\n    <g clip-path=\"url(#p19520be9be)\">\r\n     <use style=\"fill:#21918c;stroke:#21918c;\" x=\"187.9625\" xlink:href=\"#C0_0_236a9ff75a\" y=\"90.792111\"/>\r\n    </g>\r\n    <g clip-path=\"url(#p19520be9be)\">\r\n     <use style=\"fill:#21918c;stroke:#21918c;\" x=\"213.326136\" xlink:href=\"#C0_0_236a9ff75a\" y=\"104.193652\"/>\r\n    </g>\r\n    <g clip-path=\"url(#p19520be9be)\">\r\n     <use style=\"fill:#21918c;stroke:#21918c;\" x=\"230.235227\" xlink:href=\"#C0_0_236a9ff75a\" y=\"100.843267\"/>\r\n    </g>\r\n    <g clip-path=\"url(#p19520be9be)\">\r\n     <use style=\"fill:#21918c;stroke:#21918c;\" x=\"247.144318\" xlink:href=\"#C0_0_236a9ff75a\" y=\"87.441726\"/>\r\n    </g>\r\n    <g clip-path=\"url(#p19520be9be)\">\r\n     <use style=\"fill:#21918c;stroke:#21918c;\" x=\"238.689773\" xlink:href=\"#C0_0_236a9ff75a\" y=\"80.740955\"/>\r\n    </g>\r\n    <g clip-path=\"url(#p19520be9be)\">\r\n     <use style=\"fill:#21918c;stroke:#21918c;\" x=\"179.507955\" xlink:href=\"#C0_0_236a9ff75a\" y=\"97.492881\"/>\r\n    </g>\r\n    <g clip-path=\"url(#p19520be9be)\">\r\n     <use style=\"fill:#21918c;stroke:#21918c;\" x=\"154.144318\" xlink:href=\"#C0_0_236a9ff75a\" y=\"130.996733\"/>\r\n    </g>\r\n    <g clip-path=\"url(#p19520be9be)\">\r\n     <use style=\"fill:#21918c;stroke:#21918c;\" x=\"137.235227\" xlink:href=\"#C0_0_236a9ff75a\" y=\"120.945578\"/>\r\n    </g>\r\n    <g clip-path=\"url(#p19520be9be)\">\r\n     <use style=\"fill:#21918c;stroke:#21918c;\" x=\"137.235227\" xlink:href=\"#C0_0_236a9ff75a\" y=\"124.295963\"/>\r\n    </g>\r\n    <g clip-path=\"url(#p19520be9be)\">\r\n     <use style=\"fill:#21918c;stroke:#21918c;\" x=\"162.598864\" xlink:href=\"#C0_0_236a9ff75a\" y=\"117.595193\"/>\r\n    </g>\r\n    <g clip-path=\"url(#p19520be9be)\">\r\n     <use style=\"fill:#21918c;stroke:#21918c;\" x=\"179.507955\" xlink:href=\"#C0_0_236a9ff75a\" y=\"77.39057\"/>\r\n    </g>\r\n    <g clip-path=\"url(#p19520be9be)\">\r\n     <use style=\"fill:#21918c;stroke:#21918c;\" x=\"128.780682\" xlink:href=\"#C0_0_236a9ff75a\" y=\"97.492881\"/>\r\n    </g>\r\n    <g clip-path=\"url(#p19520be9be)\">\r\n     <use style=\"fill:#21918c;stroke:#21918c;\" x=\"179.507955\" xlink:href=\"#C0_0_236a9ff75a\" y=\"97.492881\"/>\r\n    </g>\r\n    <g clip-path=\"url(#p19520be9be)\">\r\n     <use style=\"fill:#21918c;stroke:#21918c;\" x=\"238.689773\" xlink:href=\"#C0_0_236a9ff75a\" y=\"90.792111\"/>\r\n    </g>\r\n    <g clip-path=\"url(#p19520be9be)\">\r\n     <use style=\"fill:#21918c;stroke:#21918c;\" x=\"204.871591\" xlink:href=\"#C0_0_236a9ff75a\" y=\"100.843267\"/>\r\n    </g>\r\n    <g clip-path=\"url(#p19520be9be)\">\r\n     <use style=\"fill:#21918c;stroke:#21918c;\" x=\"145.689773\" xlink:href=\"#C0_0_236a9ff75a\" y=\"110.894422\"/>\r\n    </g>\r\n    <g clip-path=\"url(#p19520be9be)\">\r\n     <use style=\"fill:#21918c;stroke:#21918c;\" x=\"137.235227\" xlink:href=\"#C0_0_236a9ff75a\" y=\"114.244807\"/>\r\n    </g>\r\n    <g clip-path=\"url(#p19520be9be)\">\r\n     <use style=\"fill:#21918c;stroke:#21918c;\" x=\"137.235227\" xlink:href=\"#C0_0_236a9ff75a\" y=\"100.843267\"/>\r\n    </g>\r\n    <g clip-path=\"url(#p19520be9be)\">\r\n     <use style=\"fill:#21918c;stroke:#21918c;\" x=\"187.9625\" xlink:href=\"#C0_0_236a9ff75a\" y=\"94.142496\"/>\r\n    </g>\r\n    <g clip-path=\"url(#p19520be9be)\">\r\n     <use style=\"fill:#21918c;stroke:#21918c;\" x=\"162.598864\" xlink:href=\"#C0_0_236a9ff75a\" y=\"114.244807\"/>\r\n    </g>\r\n    <g clip-path=\"url(#p19520be9be)\">\r\n     <use style=\"fill:#21918c;stroke:#21918c;\" x=\"94.9625\" xlink:href=\"#C0_0_236a9ff75a\" y=\"137.697504\"/>\r\n    </g>\r\n    <g clip-path=\"url(#p19520be9be)\">\r\n     <use style=\"fill:#21918c;stroke:#21918c;\" x=\"145.689773\" xlink:href=\"#C0_0_236a9ff75a\" y=\"107.544037\"/>\r\n    </g>\r\n    <g clip-path=\"url(#p19520be9be)\">\r\n     <use style=\"fill:#21918c;stroke:#21918c;\" x=\"154.144318\" xlink:href=\"#C0_0_236a9ff75a\" y=\"107.544037\"/>\r\n    </g>\r\n    <g clip-path=\"url(#p19520be9be)\">\r\n     <use style=\"fill:#21918c;stroke:#21918c;\" x=\"154.144318\" xlink:href=\"#C0_0_236a9ff75a\" y=\"107.544037\"/>\r\n    </g>\r\n    <g clip-path=\"url(#p19520be9be)\">\r\n     <use style=\"fill:#21918c;stroke:#21918c;\" x=\"196.417045\" xlink:href=\"#C0_0_236a9ff75a\" y=\"104.193652\"/>\r\n    </g>\r\n    <g clip-path=\"url(#p19520be9be)\">\r\n     <use style=\"fill:#21918c;stroke:#21918c;\" x=\"103.417045\" xlink:href=\"#C0_0_236a9ff75a\" y=\"147.748659\"/>\r\n    </g>\r\n    <g clip-path=\"url(#p19520be9be)\">\r\n     <use style=\"fill:#21918c;stroke:#21918c;\" x=\"154.144318\" xlink:href=\"#C0_0_236a9ff75a\" y=\"110.894422\"/>\r\n    </g>\r\n    <g clip-path=\"url(#p19520be9be)\">\r\n     <use style=\"fill:#fde725;stroke:#fde725;\" x=\"204.871591\" xlink:href=\"#C0_0_236a9ff75a\" y=\"47.237103\"/>\r\n    </g>\r\n    <g clip-path=\"url(#p19520be9be)\">\r\n     <use style=\"fill:#fde725;stroke:#fde725;\" x=\"162.598864\" xlink:href=\"#C0_0_236a9ff75a\" y=\"77.39057\"/>\r\n    </g>\r\n    <g clip-path=\"url(#p19520be9be)\">\r\n     <use style=\"fill:#fde725;stroke:#fde725;\" x=\"272.507955\" xlink:href=\"#C0_0_236a9ff75a\" y=\"50.587488\"/>\r\n    </g>\r\n    <g clip-path=\"url(#p19520be9be)\">\r\n     <use style=\"fill:#fde725;stroke:#fde725;\" x=\"204.871591\" xlink:href=\"#C0_0_236a9ff75a\" y=\"60.638644\"/>\r\n    </g>\r\n    <g clip-path=\"url(#p19520be9be)\">\r\n     <use style=\"fill:#fde725;stroke:#fde725;\" x=\"221.780682\" xlink:href=\"#C0_0_236a9ff75a\" y=\"53.937874\"/>\r\n    </g>\r\n    <g clip-path=\"url(#p19520be9be)\">\r\n     <use style=\"fill:#fde725;stroke:#fde725;\" x=\"314.780682\" xlink:href=\"#C0_0_236a9ff75a\" y=\"27.134792\"/>\r\n    </g>\r\n    <g clip-path=\"url(#p19520be9be)\">\r\n     <use style=\"fill:#fde725;stroke:#fde725;\" x=\"86.507955\" xlink:href=\"#C0_0_236a9ff75a\" y=\"97.492881\"/>\r\n    </g>\r\n    <g clip-path=\"url(#p19520be9be)\">\r\n     <use style=\"fill:#fde725;stroke:#fde725;\" x=\"289.417045\" xlink:href=\"#C0_0_236a9ff75a\" y=\"37.185948\"/>\r\n    </g>\r\n    <g clip-path=\"url(#p19520be9be)\">\r\n     <use style=\"fill:#fde725;stroke:#fde725;\" x=\"238.689773\" xlink:href=\"#C0_0_236a9ff75a\" y=\"53.937874\"/>\r\n    </g>\r\n    <g clip-path=\"url(#p19520be9be)\">\r\n     <use style=\"fill:#fde725;stroke:#fde725;\" x=\"280.9625\" xlink:href=\"#C0_0_236a9ff75a\" y=\"43.886718\"/>\r\n    </g>\r\n    <g clip-path=\"url(#p19520be9be)\">\r\n     <use style=\"fill:#fde725;stroke:#fde725;\" x=\"221.780682\" xlink:href=\"#C0_0_236a9ff75a\" y=\"77.39057\"/>\r\n    </g>\r\n    <g clip-path=\"url(#p19520be9be)\">\r\n     <use style=\"fill:#fde725;stroke:#fde725;\" x=\"213.326136\" xlink:href=\"#C0_0_236a9ff75a\" y=\"70.6898\"/>\r\n    </g>\r\n    <g clip-path=\"url(#p19520be9be)\">\r\n     <use style=\"fill:#fde725;stroke:#fde725;\" x=\"247.144318\" xlink:href=\"#C0_0_236a9ff75a\" y=\"63.989029\"/>\r\n    </g>\r\n    <g clip-path=\"url(#p19520be9be)\">\r\n     <use style=\"fill:#fde725;stroke:#fde725;\" x=\"154.144318\" xlink:href=\"#C0_0_236a9ff75a\" y=\"80.740955\"/>\r\n    </g>\r\n    <g clip-path=\"url(#p19520be9be)\">\r\n     <use style=\"fill:#fde725;stroke:#fde725;\" x=\"162.598864\" xlink:href=\"#C0_0_236a9ff75a\" y=\"77.39057\"/>\r\n    </g>\r\n    <g clip-path=\"url(#p19520be9be)\">\r\n     <use style=\"fill:#fde725;stroke:#fde725;\" x=\"213.326136\" xlink:href=\"#C0_0_236a9ff75a\" y=\"70.6898\"/>\r\n    </g>\r\n    <g clip-path=\"url(#p19520be9be)\">\r\n     <use style=\"fill:#fde725;stroke:#fde725;\" x=\"221.780682\" xlink:href=\"#C0_0_236a9ff75a\" y=\"63.989029\"/>\r\n    </g>\r\n    <g clip-path=\"url(#p19520be9be)\">\r\n     <use style=\"fill:#fde725;stroke:#fde725;\" x=\"323.235227\" xlink:href=\"#C0_0_236a9ff75a\" y=\"23.784407\"/>\r\n    </g>\r\n    <g clip-path=\"url(#p19520be9be)\">\r\n     <use style=\"fill:#fde725;stroke:#fde725;\" x=\"323.235227\" xlink:href=\"#C0_0_236a9ff75a\" y=\"17.083636\"/>\r\n    </g>\r\n    <g clip-path=\"url(#p19520be9be)\">\r\n     <use style=\"fill:#fde725;stroke:#fde725;\" x=\"179.507955\" xlink:href=\"#C0_0_236a9ff75a\" y=\"80.740955\"/>\r\n    </g>\r\n    <g clip-path=\"url(#p19520be9be)\">\r\n     <use style=\"fill:#fde725;stroke:#fde725;\" x=\"255.598864\" xlink:href=\"#C0_0_236a9ff75a\" y=\"57.288259\"/>\r\n    </g>\r\n    <g clip-path=\"url(#p19520be9be)\">\r\n     <use style=\"fill:#fde725;stroke:#fde725;\" x=\"145.689773\" xlink:href=\"#C0_0_236a9ff75a\" y=\"84.091341\"/>\r\n    </g>\r\n    <g clip-path=\"url(#p19520be9be)\">\r\n     <use style=\"fill:#fde725;stroke:#fde725;\" x=\"323.235227\" xlink:href=\"#C0_0_236a9ff75a\" y=\"23.784407\"/>\r\n    </g>\r\n    <g clip-path=\"url(#p19520be9be)\">\r\n     <use style=\"fill:#fde725;stroke:#fde725;\" x=\"204.871591\" xlink:href=\"#C0_0_236a9ff75a\" y=\"84.091341\"/>\r\n    </g>\r\n    <g clip-path=\"url(#p19520be9be)\">\r\n     <use style=\"fill:#fde725;stroke:#fde725;\" x=\"238.689773\" xlink:href=\"#C0_0_236a9ff75a\" y=\"57.288259\"/>\r\n    </g>\r\n    <g clip-path=\"url(#p19520be9be)\">\r\n     <use style=\"fill:#fde725;stroke:#fde725;\" x=\"280.9625\" xlink:href=\"#C0_0_236a9ff75a\" y=\"47.237103\"/>\r\n    </g>\r\n    <g clip-path=\"url(#p19520be9be)\">\r\n     <use style=\"fill:#fde725;stroke:#fde725;\" x=\"196.417045\" xlink:href=\"#C0_0_236a9ff75a\" y=\"87.441726\"/>\r\n    </g>\r\n    <g clip-path=\"url(#p19520be9be)\">\r\n     <use style=\"fill:#fde725;stroke:#fde725;\" x=\"187.9625\" xlink:href=\"#C0_0_236a9ff75a\" y=\"84.091341\"/>\r\n    </g>\r\n    <g clip-path=\"url(#p19520be9be)\">\r\n     <use style=\"fill:#fde725;stroke:#fde725;\" x=\"213.326136\" xlink:href=\"#C0_0_236a9ff75a\" y=\"60.638644\"/>\r\n    </g>\r\n    <g clip-path=\"url(#p19520be9be)\">\r\n     <use style=\"fill:#fde725;stroke:#fde725;\" x=\"280.9625\" xlink:href=\"#C0_0_236a9ff75a\" y=\"53.937874\"/>\r\n    </g>\r\n    <g clip-path=\"url(#p19520be9be)\">\r\n     <use style=\"fill:#fde725;stroke:#fde725;\" x=\"297.871591\" xlink:href=\"#C0_0_236a9ff75a\" y=\"43.886718\"/>\r\n    </g>\r\n    <g clip-path=\"url(#p19520be9be)\">\r\n     <use style=\"fill:#fde725;stroke:#fde725;\" x=\"340.144318\" xlink:href=\"#C0_0_236a9ff75a\" y=\"33.835562\"/>\r\n    </g>\r\n    <g clip-path=\"url(#p19520be9be)\">\r\n     <use style=\"fill:#fde725;stroke:#fde725;\" x=\"213.326136\" xlink:href=\"#C0_0_236a9ff75a\" y=\"60.638644\"/>\r\n    </g>\r\n    <g clip-path=\"url(#p19520be9be)\">\r\n     <use style=\"fill:#fde725;stroke:#fde725;\" x=\"204.871591\" xlink:href=\"#C0_0_236a9ff75a\" y=\"77.39057\"/>\r\n    </g>\r\n    <g clip-path=\"url(#p19520be9be)\">\r\n     <use style=\"fill:#fde725;stroke:#fde725;\" x=\"187.9625\" xlink:href=\"#C0_0_236a9ff75a\" y=\"60.638644\"/>\r\n    </g>\r\n    <g clip-path=\"url(#p19520be9be)\">\r\n     <use style=\"fill:#fde725;stroke:#fde725;\" x=\"323.235227\" xlink:href=\"#C0_0_236a9ff75a\" y=\"43.886718\"/>\r\n    </g>\r\n    <g clip-path=\"url(#p19520be9be)\">\r\n     <use style=\"fill:#fde725;stroke:#fde725;\" x=\"204.871591\" xlink:href=\"#C0_0_236a9ff75a\" y=\"60.638644\"/>\r\n    </g>\r\n    <g clip-path=\"url(#p19520be9be)\">\r\n     <use style=\"fill:#fde725;stroke:#fde725;\" x=\"213.326136\" xlink:href=\"#C0_0_236a9ff75a\" y=\"63.989029\"/>\r\n    </g>\r\n    <g clip-path=\"url(#p19520be9be)\">\r\n     <use style=\"fill:#fde725;stroke:#fde725;\" x=\"179.507955\" xlink:href=\"#C0_0_236a9ff75a\" y=\"87.441726\"/>\r\n    </g>\r\n    <g clip-path=\"url(#p19520be9be)\">\r\n     <use style=\"fill:#fde725;stroke:#fde725;\" x=\"255.598864\" xlink:href=\"#C0_0_236a9ff75a\" y=\"67.339414\"/>\r\n    </g>\r\n    <g clip-path=\"url(#p19520be9be)\">\r\n     <use style=\"fill:#fde725;stroke:#fde725;\" x=\"238.689773\" xlink:href=\"#C0_0_236a9ff75a\" y=\"60.638644\"/>\r\n    </g>\r\n    <g clip-path=\"url(#p19520be9be)\">\r\n     <use style=\"fill:#fde725;stroke:#fde725;\" x=\"255.598864\" xlink:href=\"#C0_0_236a9ff75a\" y=\"77.39057\"/>\r\n    </g>\r\n    <g clip-path=\"url(#p19520be9be)\">\r\n     <use style=\"fill:#fde725;stroke:#fde725;\" x=\"162.598864\" xlink:href=\"#C0_0_236a9ff75a\" y=\"77.39057\"/>\r\n    </g>\r\n    <g clip-path=\"url(#p19520be9be)\">\r\n     <use style=\"fill:#fde725;stroke:#fde725;\" x=\"247.144318\" xlink:href=\"#C0_0_236a9ff75a\" y=\"50.587488\"/>\r\n    </g>\r\n    <g clip-path=\"url(#p19520be9be)\">\r\n     <use style=\"fill:#fde725;stroke:#fde725;\" x=\"238.689773\" xlink:href=\"#C0_0_236a9ff75a\" y=\"57.288259\"/>\r\n    </g>\r\n    <g clip-path=\"url(#p19520be9be)\">\r\n     <use style=\"fill:#fde725;stroke:#fde725;\" x=\"238.689773\" xlink:href=\"#C0_0_236a9ff75a\" y=\"74.040185\"/>\r\n    </g>\r\n    <g clip-path=\"url(#p19520be9be)\">\r\n     <use style=\"fill:#fde725;stroke:#fde725;\" x=\"204.871591\" xlink:href=\"#C0_0_236a9ff75a\" y=\"80.740955\"/>\r\n    </g>\r\n    <g clip-path=\"url(#p19520be9be)\">\r\n     <use style=\"fill:#fde725;stroke:#fde725;\" x=\"221.780682\" xlink:href=\"#C0_0_236a9ff75a\" y=\"74.040185\"/>\r\n    </g>\r\n    <g clip-path=\"url(#p19520be9be)\">\r\n     <use style=\"fill:#fde725;stroke:#fde725;\" x=\"196.417045\" xlink:href=\"#C0_0_236a9ff75a\" y=\"67.339414\"/>\r\n    </g>\r\n    <g clip-path=\"url(#p19520be9be)\">\r\n     <use style=\"fill:#fde725;stroke:#fde725;\" x=\"171.053409\" xlink:href=\"#C0_0_236a9ff75a\" y=\"77.39057\"/>\r\n    </g>\r\n   </g>\r\n   <g id=\"matplotlib.axis_1\">\r\n    <g id=\"xtick_1\">\r\n     <g id=\"line2d_1\">\r\n      <defs>\r\n       <path d=\"M 0 0 \r\nL 0 3.5 \r\n\" id=\"mb863c3c0fa\" style=\"stroke:#000000;stroke-width:0.8;\"/>\r\n      </defs>\r\n      <g>\r\n       <use style=\"stroke:#000000;stroke-width:0.8;\" x=\"52.689773\" xlink:href=\"#mb863c3c0fa\" y=\"224.64\"/>\r\n      </g>\r\n     </g>\r\n     <g id=\"text_1\">\r\n      <!-- 4.5 -->\r\n      <defs>\r\n       <path d=\"M 37.796875 64.3125 \r\nL 12.890625 25.390625 \r\nL 37.796875 25.390625 \r\nz\r\nM 35.203125 72.90625 \r\nL 47.609375 72.90625 \r\nL 47.609375 25.390625 \r\nL 58.015625 25.390625 \r\nL 58.015625 17.1875 \r\nL 47.609375 17.1875 \r\nL 47.609375 0 \r\nL 37.796875 0 \r\nL 37.796875 17.1875 \r\nL 4.890625 17.1875 \r\nL 4.890625 26.703125 \r\nz\r\n\" id=\"DejaVuSans-52\"/>\r\n       <path d=\"M 10.6875 12.40625 \r\nL 21 12.40625 \r\nL 21 0 \r\nL 10.6875 0 \r\nz\r\n\" id=\"DejaVuSans-46\"/>\r\n       <path d=\"M 10.796875 72.90625 \r\nL 49.515625 72.90625 \r\nL 49.515625 64.59375 \r\nL 19.828125 64.59375 \r\nL 19.828125 46.734375 \r\nQ 21.96875 47.46875 24.109375 47.828125 \r\nQ 26.265625 48.1875 28.421875 48.1875 \r\nQ 40.625 48.1875 47.75 41.5 \r\nQ 54.890625 34.8125 54.890625 23.390625 \r\nQ 54.890625 11.625 47.5625 5.09375 \r\nQ 40.234375 -1.421875 26.90625 -1.421875 \r\nQ 22.3125 -1.421875 17.546875 -0.640625 \r\nQ 12.796875 0.140625 7.71875 1.703125 \r\nL 7.71875 11.625 \r\nQ 12.109375 9.234375 16.796875 8.0625 \r\nQ 21.484375 6.890625 26.703125 6.890625 \r\nQ 35.15625 6.890625 40.078125 11.328125 \r\nQ 45.015625 15.765625 45.015625 23.390625 \r\nQ 45.015625 31 40.078125 35.4375 \r\nQ 35.15625 39.890625 26.703125 39.890625 \r\nQ 22.75 39.890625 18.8125 39.015625 \r\nQ 14.890625 38.140625 10.796875 36.28125 \r\nz\r\n\" id=\"DejaVuSans-53\"/>\r\n      </defs>\r\n      <g transform=\"translate(44.73821 239.238437)scale(0.1 -0.1)\">\r\n       <use xlink:href=\"#DejaVuSans-52\"/>\r\n       <use x=\"63.623047\" xlink:href=\"#DejaVuSans-46\"/>\r\n       <use x=\"95.410156\" xlink:href=\"#DejaVuSans-53\"/>\r\n      </g>\r\n     </g>\r\n    </g>\r\n    <g id=\"xtick_2\">\r\n     <g id=\"line2d_2\">\r\n      <g>\r\n       <use style=\"stroke:#000000;stroke-width:0.8;\" x=\"94.9625\" xlink:href=\"#mb863c3c0fa\" y=\"224.64\"/>\r\n      </g>\r\n     </g>\r\n     <g id=\"text_2\">\r\n      <!-- 5.0 -->\r\n      <defs>\r\n       <path d=\"M 31.78125 66.40625 \r\nQ 24.171875 66.40625 20.328125 58.90625 \r\nQ 16.5 51.421875 16.5 36.375 \r\nQ 16.5 21.390625 20.328125 13.890625 \r\nQ 24.171875 6.390625 31.78125 6.390625 \r\nQ 39.453125 6.390625 43.28125 13.890625 \r\nQ 47.125 21.390625 47.125 36.375 \r\nQ 47.125 51.421875 43.28125 58.90625 \r\nQ 39.453125 66.40625 31.78125 66.40625 \r\nz\r\nM 31.78125 74.21875 \r\nQ 44.046875 74.21875 50.515625 64.515625 \r\nQ 56.984375 54.828125 56.984375 36.375 \r\nQ 56.984375 17.96875 50.515625 8.265625 \r\nQ 44.046875 -1.421875 31.78125 -1.421875 \r\nQ 19.53125 -1.421875 13.0625 8.265625 \r\nQ 6.59375 17.96875 6.59375 36.375 \r\nQ 6.59375 54.828125 13.0625 64.515625 \r\nQ 19.53125 74.21875 31.78125 74.21875 \r\nz\r\n\" id=\"DejaVuSans-48\"/>\r\n      </defs>\r\n      <g transform=\"translate(87.010937 239.238437)scale(0.1 -0.1)\">\r\n       <use xlink:href=\"#DejaVuSans-53\"/>\r\n       <use x=\"63.623047\" xlink:href=\"#DejaVuSans-46\"/>\r\n       <use x=\"95.410156\" xlink:href=\"#DejaVuSans-48\"/>\r\n      </g>\r\n     </g>\r\n    </g>\r\n    <g id=\"xtick_3\">\r\n     <g id=\"line2d_3\">\r\n      <g>\r\n       <use style=\"stroke:#000000;stroke-width:0.8;\" x=\"137.235227\" xlink:href=\"#mb863c3c0fa\" y=\"224.64\"/>\r\n      </g>\r\n     </g>\r\n     <g id=\"text_3\">\r\n      <!-- 5.5 -->\r\n      <g transform=\"translate(129.283665 239.238437)scale(0.1 -0.1)\">\r\n       <use xlink:href=\"#DejaVuSans-53\"/>\r\n       <use x=\"63.623047\" xlink:href=\"#DejaVuSans-46\"/>\r\n       <use x=\"95.410156\" xlink:href=\"#DejaVuSans-53\"/>\r\n      </g>\r\n     </g>\r\n    </g>\r\n    <g id=\"xtick_4\">\r\n     <g id=\"line2d_4\">\r\n      <g>\r\n       <use style=\"stroke:#000000;stroke-width:0.8;\" x=\"179.507955\" xlink:href=\"#mb863c3c0fa\" y=\"224.64\"/>\r\n      </g>\r\n     </g>\r\n     <g id=\"text_4\">\r\n      <!-- 6.0 -->\r\n      <defs>\r\n       <path d=\"M 33.015625 40.375 \r\nQ 26.375 40.375 22.484375 35.828125 \r\nQ 18.609375 31.296875 18.609375 23.390625 \r\nQ 18.609375 15.53125 22.484375 10.953125 \r\nQ 26.375 6.390625 33.015625 6.390625 \r\nQ 39.65625 6.390625 43.53125 10.953125 \r\nQ 47.40625 15.53125 47.40625 23.390625 \r\nQ 47.40625 31.296875 43.53125 35.828125 \r\nQ 39.65625 40.375 33.015625 40.375 \r\nz\r\nM 52.59375 71.296875 \r\nL 52.59375 62.3125 \r\nQ 48.875 64.0625 45.09375 64.984375 \r\nQ 41.3125 65.921875 37.59375 65.921875 \r\nQ 27.828125 65.921875 22.671875 59.328125 \r\nQ 17.53125 52.734375 16.796875 39.40625 \r\nQ 19.671875 43.65625 24.015625 45.921875 \r\nQ 28.375 48.1875 33.59375 48.1875 \r\nQ 44.578125 48.1875 50.953125 41.515625 \r\nQ 57.328125 34.859375 57.328125 23.390625 \r\nQ 57.328125 12.15625 50.6875 5.359375 \r\nQ 44.046875 -1.421875 33.015625 -1.421875 \r\nQ 20.359375 -1.421875 13.671875 8.265625 \r\nQ 6.984375 17.96875 6.984375 36.375 \r\nQ 6.984375 53.65625 15.1875 63.9375 \r\nQ 23.390625 74.21875 37.203125 74.21875 \r\nQ 40.921875 74.21875 44.703125 73.484375 \r\nQ 48.484375 72.75 52.59375 71.296875 \r\nz\r\n\" id=\"DejaVuSans-54\"/>\r\n      </defs>\r\n      <g transform=\"translate(171.556392 239.238437)scale(0.1 -0.1)\">\r\n       <use xlink:href=\"#DejaVuSans-54\"/>\r\n       <use x=\"63.623047\" xlink:href=\"#DejaVuSans-46\"/>\r\n       <use x=\"95.410156\" xlink:href=\"#DejaVuSans-48\"/>\r\n      </g>\r\n     </g>\r\n    </g>\r\n    <g id=\"xtick_5\">\r\n     <g id=\"line2d_5\">\r\n      <g>\r\n       <use style=\"stroke:#000000;stroke-width:0.8;\" x=\"221.780682\" xlink:href=\"#mb863c3c0fa\" y=\"224.64\"/>\r\n      </g>\r\n     </g>\r\n     <g id=\"text_5\">\r\n      <!-- 6.5 -->\r\n      <g transform=\"translate(213.829119 239.238437)scale(0.1 -0.1)\">\r\n       <use xlink:href=\"#DejaVuSans-54\"/>\r\n       <use x=\"63.623047\" xlink:href=\"#DejaVuSans-46\"/>\r\n       <use x=\"95.410156\" xlink:href=\"#DejaVuSans-53\"/>\r\n      </g>\r\n     </g>\r\n    </g>\r\n    <g id=\"xtick_6\">\r\n     <g id=\"line2d_6\">\r\n      <g>\r\n       <use style=\"stroke:#000000;stroke-width:0.8;\" x=\"264.053409\" xlink:href=\"#mb863c3c0fa\" y=\"224.64\"/>\r\n      </g>\r\n     </g>\r\n     <g id=\"text_6\">\r\n      <!-- 7.0 -->\r\n      <defs>\r\n       <path d=\"M 8.203125 72.90625 \r\nL 55.078125 72.90625 \r\nL 55.078125 68.703125 \r\nL 28.609375 0 \r\nL 18.3125 0 \r\nL 43.21875 64.59375 \r\nL 8.203125 64.59375 \r\nz\r\n\" id=\"DejaVuSans-55\"/>\r\n      </defs>\r\n      <g transform=\"translate(256.101847 239.238437)scale(0.1 -0.1)\">\r\n       <use xlink:href=\"#DejaVuSans-55\"/>\r\n       <use x=\"63.623047\" xlink:href=\"#DejaVuSans-46\"/>\r\n       <use x=\"95.410156\" xlink:href=\"#DejaVuSans-48\"/>\r\n      </g>\r\n     </g>\r\n    </g>\r\n    <g id=\"xtick_7\">\r\n     <g id=\"line2d_7\">\r\n      <g>\r\n       <use style=\"stroke:#000000;stroke-width:0.8;\" x=\"306.326136\" xlink:href=\"#mb863c3c0fa\" y=\"224.64\"/>\r\n      </g>\r\n     </g>\r\n     <g id=\"text_7\">\r\n      <!-- 7.5 -->\r\n      <g transform=\"translate(298.374574 239.238437)scale(0.1 -0.1)\">\r\n       <use xlink:href=\"#DejaVuSans-55\"/>\r\n       <use x=\"63.623047\" xlink:href=\"#DejaVuSans-46\"/>\r\n       <use x=\"95.410156\" xlink:href=\"#DejaVuSans-53\"/>\r\n      </g>\r\n     </g>\r\n    </g>\r\n    <g id=\"xtick_8\">\r\n     <g id=\"line2d_8\">\r\n      <g>\r\n       <use style=\"stroke:#000000;stroke-width:0.8;\" x=\"348.598864\" xlink:href=\"#mb863c3c0fa\" y=\"224.64\"/>\r\n      </g>\r\n     </g>\r\n     <g id=\"text_8\">\r\n      <!-- 8.0 -->\r\n      <defs>\r\n       <path d=\"M 31.78125 34.625 \r\nQ 24.75 34.625 20.71875 30.859375 \r\nQ 16.703125 27.09375 16.703125 20.515625 \r\nQ 16.703125 13.921875 20.71875 10.15625 \r\nQ 24.75 6.390625 31.78125 6.390625 \r\nQ 38.8125 6.390625 42.859375 10.171875 \r\nQ 46.921875 13.96875 46.921875 20.515625 \r\nQ 46.921875 27.09375 42.890625 30.859375 \r\nQ 38.875 34.625 31.78125 34.625 \r\nz\r\nM 21.921875 38.8125 \r\nQ 15.578125 40.375 12.03125 44.71875 \r\nQ 8.5 49.078125 8.5 55.328125 \r\nQ 8.5 64.0625 14.71875 69.140625 \r\nQ 20.953125 74.21875 31.78125 74.21875 \r\nQ 42.671875 74.21875 48.875 69.140625 \r\nQ 55.078125 64.0625 55.078125 55.328125 \r\nQ 55.078125 49.078125 51.53125 44.71875 \r\nQ 48 40.375 41.703125 38.8125 \r\nQ 48.828125 37.15625 52.796875 32.3125 \r\nQ 56.78125 27.484375 56.78125 20.515625 \r\nQ 56.78125 9.90625 50.3125 4.234375 \r\nQ 43.84375 -1.421875 31.78125 -1.421875 \r\nQ 19.734375 -1.421875 13.25 4.234375 \r\nQ 6.78125 9.90625 6.78125 20.515625 \r\nQ 6.78125 27.484375 10.78125 32.3125 \r\nQ 14.796875 37.15625 21.921875 38.8125 \r\nz\r\nM 18.3125 54.390625 \r\nQ 18.3125 48.734375 21.84375 45.5625 \r\nQ 25.390625 42.390625 31.78125 42.390625 \r\nQ 38.140625 42.390625 41.71875 45.5625 \r\nQ 45.3125 48.734375 45.3125 54.390625 \r\nQ 45.3125 60.0625 41.71875 63.234375 \r\nQ 38.140625 66.40625 31.78125 66.40625 \r\nQ 25.390625 66.40625 21.84375 63.234375 \r\nQ 18.3125 60.0625 18.3125 54.390625 \r\nz\r\n\" id=\"DejaVuSans-56\"/>\r\n      </defs>\r\n      <g transform=\"translate(340.647301 239.238437)scale(0.1 -0.1)\">\r\n       <use xlink:href=\"#DejaVuSans-56\"/>\r\n       <use x=\"63.623047\" xlink:href=\"#DejaVuSans-46\"/>\r\n       <use x=\"95.410156\" xlink:href=\"#DejaVuSans-48\"/>\r\n      </g>\r\n     </g>\r\n    </g>\r\n   </g>\r\n   <g id=\"matplotlib.axis_2\">\r\n    <g id=\"ytick_1\">\r\n     <g id=\"line2d_9\">\r\n      <defs>\r\n       <path d=\"M 0 0 \r\nL -3.5 0 \r\n\" id=\"m6948857e71\" style=\"stroke:#000000;stroke-width:0.8;\"/>\r\n      </defs>\r\n      <g>\r\n       <use style=\"stroke:#000000;stroke-width:0.8;\" x=\"20.5625\" xlink:href=\"#m6948857e71\" y=\"214.756364\"/>\r\n      </g>\r\n     </g>\r\n     <g id=\"text_9\">\r\n      <!-- 1 -->\r\n      <defs>\r\n       <path d=\"M 12.40625 8.296875 \r\nL 28.515625 8.296875 \r\nL 28.515625 63.921875 \r\nL 10.984375 60.40625 \r\nL 10.984375 69.390625 \r\nL 28.421875 72.90625 \r\nL 38.28125 72.90625 \r\nL 38.28125 8.296875 \r\nL 54.390625 8.296875 \r\nL 54.390625 0 \r\nL 12.40625 0 \r\nz\r\n\" id=\"DejaVuSans-49\"/>\r\n      </defs>\r\n      <g transform=\"translate(7.2 218.555582)scale(0.1 -0.1)\">\r\n       <use xlink:href=\"#DejaVuSans-49\"/>\r\n      </g>\r\n     </g>\r\n    </g>\r\n    <g id=\"ytick_2\">\r\n     <g id=\"line2d_10\">\r\n      <g>\r\n       <use style=\"stroke:#000000;stroke-width:0.8;\" x=\"20.5625\" xlink:href=\"#m6948857e71\" y=\"181.252512\"/>\r\n      </g>\r\n     </g>\r\n     <g id=\"text_10\">\r\n      <!-- 2 -->\r\n      <defs>\r\n       <path d=\"M 19.1875 8.296875 \r\nL 53.609375 8.296875 \r\nL 53.609375 0 \r\nL 7.328125 0 \r\nL 7.328125 8.296875 \r\nQ 12.9375 14.109375 22.625 23.890625 \r\nQ 32.328125 33.6875 34.8125 36.53125 \r\nQ 39.546875 41.84375 41.421875 45.53125 \r\nQ 43.3125 49.21875 43.3125 52.78125 \r\nQ 43.3125 58.59375 39.234375 62.25 \r\nQ 35.15625 65.921875 28.609375 65.921875 \r\nQ 23.96875 65.921875 18.8125 64.3125 \r\nQ 13.671875 62.703125 7.8125 59.421875 \r\nL 7.8125 69.390625 \r\nQ 13.765625 71.78125 18.9375 73 \r\nQ 24.125 74.21875 28.421875 74.21875 \r\nQ 39.75 74.21875 46.484375 68.546875 \r\nQ 53.21875 62.890625 53.21875 53.421875 \r\nQ 53.21875 48.921875 51.53125 44.890625 \r\nQ 49.859375 40.875 45.40625 35.40625 \r\nQ 44.1875 33.984375 37.640625 27.21875 \r\nQ 31.109375 20.453125 19.1875 8.296875 \r\nz\r\n\" id=\"DejaVuSans-50\"/>\r\n      </defs>\r\n      <g transform=\"translate(7.2 185.05173)scale(0.1 -0.1)\">\r\n       <use xlink:href=\"#DejaVuSans-50\"/>\r\n      </g>\r\n     </g>\r\n    </g>\r\n    <g id=\"ytick_3\">\r\n     <g id=\"line2d_11\">\r\n      <g>\r\n       <use style=\"stroke:#000000;stroke-width:0.8;\" x=\"20.5625\" xlink:href=\"#m6948857e71\" y=\"147.748659\"/>\r\n      </g>\r\n     </g>\r\n     <g id=\"text_11\">\r\n      <!-- 3 -->\r\n      <defs>\r\n       <path d=\"M 40.578125 39.3125 \r\nQ 47.65625 37.796875 51.625 33 \r\nQ 55.609375 28.21875 55.609375 21.1875 \r\nQ 55.609375 10.40625 48.1875 4.484375 \r\nQ 40.765625 -1.421875 27.09375 -1.421875 \r\nQ 22.515625 -1.421875 17.65625 -0.515625 \r\nQ 12.796875 0.390625 7.625 2.203125 \r\nL 7.625 11.71875 \r\nQ 11.71875 9.328125 16.59375 8.109375 \r\nQ 21.484375 6.890625 26.8125 6.890625 \r\nQ 36.078125 6.890625 40.9375 10.546875 \r\nQ 45.796875 14.203125 45.796875 21.1875 \r\nQ 45.796875 27.640625 41.28125 31.265625 \r\nQ 36.765625 34.90625 28.71875 34.90625 \r\nL 20.21875 34.90625 \r\nL 20.21875 43.015625 \r\nL 29.109375 43.015625 \r\nQ 36.375 43.015625 40.234375 45.921875 \r\nQ 44.09375 48.828125 44.09375 54.296875 \r\nQ 44.09375 59.90625 40.109375 62.90625 \r\nQ 36.140625 65.921875 28.71875 65.921875 \r\nQ 24.65625 65.921875 20.015625 65.03125 \r\nQ 15.375 64.15625 9.8125 62.3125 \r\nL 9.8125 71.09375 \r\nQ 15.4375 72.65625 20.34375 73.4375 \r\nQ 25.25 74.21875 29.59375 74.21875 \r\nQ 40.828125 74.21875 47.359375 69.109375 \r\nQ 53.90625 64.015625 53.90625 55.328125 \r\nQ 53.90625 49.265625 50.4375 45.09375 \r\nQ 46.96875 40.921875 40.578125 39.3125 \r\nz\r\n\" id=\"DejaVuSans-51\"/>\r\n      </defs>\r\n      <g transform=\"translate(7.2 151.547878)scale(0.1 -0.1)\">\r\n       <use xlink:href=\"#DejaVuSans-51\"/>\r\n      </g>\r\n     </g>\r\n    </g>\r\n    <g id=\"ytick_4\">\r\n     <g id=\"line2d_12\">\r\n      <g>\r\n       <use style=\"stroke:#000000;stroke-width:0.8;\" x=\"20.5625\" xlink:href=\"#m6948857e71\" y=\"114.244807\"/>\r\n      </g>\r\n     </g>\r\n     <g id=\"text_12\">\r\n      <!-- 4 -->\r\n      <g transform=\"translate(7.2 118.044026)scale(0.1 -0.1)\">\r\n       <use xlink:href=\"#DejaVuSans-52\"/>\r\n      </g>\r\n     </g>\r\n    </g>\r\n    <g id=\"ytick_5\">\r\n     <g id=\"line2d_13\">\r\n      <g>\r\n       <use style=\"stroke:#000000;stroke-width:0.8;\" x=\"20.5625\" xlink:href=\"#m6948857e71\" y=\"80.740955\"/>\r\n      </g>\r\n     </g>\r\n     <g id=\"text_13\">\r\n      <!-- 5 -->\r\n      <g transform=\"translate(7.2 84.540174)scale(0.1 -0.1)\">\r\n       <use xlink:href=\"#DejaVuSans-53\"/>\r\n      </g>\r\n     </g>\r\n    </g>\r\n    <g id=\"ytick_6\">\r\n     <g id=\"line2d_14\">\r\n      <g>\r\n       <use style=\"stroke:#000000;stroke-width:0.8;\" x=\"20.5625\" xlink:href=\"#m6948857e71\" y=\"47.237103\"/>\r\n      </g>\r\n     </g>\r\n     <g id=\"text_14\">\r\n      <!-- 6 -->\r\n      <g transform=\"translate(7.2 51.036322)scale(0.1 -0.1)\">\r\n       <use xlink:href=\"#DejaVuSans-54\"/>\r\n      </g>\r\n     </g>\r\n    </g>\r\n    <g id=\"ytick_7\">\r\n     <g id=\"line2d_15\">\r\n      <g>\r\n       <use style=\"stroke:#000000;stroke-width:0.8;\" x=\"20.5625\" xlink:href=\"#m6948857e71\" y=\"13.733251\"/>\r\n      </g>\r\n     </g>\r\n     <g id=\"text_15\">\r\n      <!-- 7 -->\r\n      <g transform=\"translate(7.2 17.53247)scale(0.1 -0.1)\">\r\n       <use xlink:href=\"#DejaVuSans-55\"/>\r\n      </g>\r\n     </g>\r\n    </g>\r\n   </g>\r\n   <g id=\"patch_3\">\r\n    <path d=\"M 20.5625 224.64 \r\nL 20.5625 7.2 \r\n\" style=\"fill:none;stroke:#000000;stroke-linecap:square;stroke-linejoin:miter;stroke-width:0.8;\"/>\r\n   </g>\r\n   <g id=\"patch_4\">\r\n    <path d=\"M 355.3625 224.64 \r\nL 355.3625 7.2 \r\n\" style=\"fill:none;stroke:#000000;stroke-linecap:square;stroke-linejoin:miter;stroke-width:0.8;\"/>\r\n   </g>\r\n   <g id=\"patch_5\">\r\n    <path d=\"M 20.5625 224.64 \r\nL 355.3625 224.64 \r\n\" style=\"fill:none;stroke:#000000;stroke-linecap:square;stroke-linejoin:miter;stroke-width:0.8;\"/>\r\n   </g>\r\n   <g id=\"patch_6\">\r\n    <path d=\"M 20.5625 7.2 \r\nL 355.3625 7.2 \r\n\" style=\"fill:none;stroke:#000000;stroke-linecap:square;stroke-linejoin:miter;stroke-width:0.8;\"/>\r\n   </g>\r\n  </g>\r\n </g>\r\n <defs>\r\n  <clipPath id=\"p19520be9be\">\r\n   <rect height=\"217.44\" width=\"334.8\" x=\"20.5625\" y=\"7.2\"/>\r\n  </clipPath>\r\n </defs>\r\n</svg>\r\n",
      "image/png": "[encoded data removed]"
     },
     "metadata": {
      "needs_background": "light"
     }
    }
   ],
   "source": [
    "plt.scatter(data_all[:,0], data_all[:,2],c=data_label)"
   ]
  },
  {
   "cell_type": "code",
   "execution_count": 305,
   "metadata": {},
   "outputs": [],
   "source": [
    "from sklearn.cluster import SpectralClustering #działało ale nie radzi sobie w większej ilości + musi być parzysta liczba klastrów\n",
    "from sklearn.cluster import AgglomerativeClustering #działa ok\n",
    "from sklearn.cluster import DBSCAN #zerodivision\n",
    "from sklearn.cluster import OPTICS #zerodivision - -1 one cluster\n",
    "import sklearn.cluster as clus\n",
    "# grouping_types_with_ncl = { kmeans: KMeans(n_clusters=number_of_clusters),\n",
    "#                         spectral: SpectralClustering(n_clusters=number_of_clusters),\n",
    "#                         agglomerative: Agglomerative(n_clusters=number_of_clusters)}"
   ]
  },
  {
   "cell_type": "code",
   "execution_count": 306,
   "metadata": {},
   "outputs": [],
   "source": [
    "def create_clusters(data, number_of_clusters = 20):\n",
    "    '''\n",
    "    Function creating n_clusters from data\n",
    "    Return array of labels of created clusters.\n",
    "    '''\n",
    "\n",
    "    #creating clusters using k-means algorithm\n",
    "    clust = KMeans(n_clusters=number_of_clusters)#AgglomerativeClustering(n_clusters=number_of_clusters)#\n",
    "    clust.fit(data)\n",
    "    \n",
    "    return clust.labels_"
   ]
  },
  {
   "cell_type": "code",
   "execution_count": 307,
   "metadata": {},
   "outputs": [],
   "source": [
    "def group_id_by_cluster(clusters):\n",
    "    '''\n",
    "    Function grouping indexes of data by indexes of clusters\n",
    "    Return dictionary\n",
    "    '''\n",
    "    #creating list grouping idexes of training data grouped by cluster label\n",
    "    clusters_with_id = defaultdict(list)\n",
    "    for idx, cluster in enumerate(clusters):\n",
    "        clusters_with_id[cluster].append(idx)\n",
    "\n",
    "    return clusters_with_id"
   ]
  },
  {
   "cell_type": "code",
   "execution_count": 308,
   "metadata": {},
   "outputs": [],
   "source": [
    "from collections import defaultdict\n",
    "\n",
    "#create clusters\n",
    "number_of_clusters = 10* number_of_classes\n",
    "clusters = create_clusters(data = data_all_train, number_of_clusters = number_of_clusters) \n",
    "clusters_with_id = group_id_by_cluster(clusters = clusters)\n"
   ]
  },
  {
   "cell_type": "code",
   "execution_count": 309,
   "metadata": {},
   "outputs": [
    {
     "output_type": "execute_result",
     "data": {
      "text/plain": "array([0, 1, 0, 2, 1, 1, 2, 2, 0, 2, 0, 0, 1, 0, 1, 1, 2, 0, 2, 2, 0, 1,\n       2, 2, 1, 0, 0, 0, 2, 1, 2, 1, 0, 0, 2, 2, 1, 1, 1, 2, 0, 2, 2, 0,\n       0, 0, 1, 0, 0, 1, 2, 1, 1, 2, 2, 2, 1, 0, 2, 0, 2, 2, 0, 1, 2, 2,\n       2, 0, 0, 1, 1, 2, 0, 1, 0, 0, 1, 1, 0, 2, 0, 0, 0, 1, 1, 2, 2, 1,\n       1, 0, 0, 2, 2, 0, 0, 1, 1, 0, 2, 0, 2, 0, 0, 0, 0])"
     },
     "metadata": {},
     "execution_count": 309
    }
   ],
   "source": [
    "np.array(set(data_label_train))\n",
    "data_label_train"
   ]
  },
  {
   "cell_type": "code",
   "execution_count": 310,
   "metadata": {},
   "outputs": [
    {
     "output_type": "error",
     "ename": "TypeError",
     "evalue": "'PathCollection' object is not subscriptable",
     "traceback": [
      "\u001b[1;31m---------------------------------------------------------------------------\u001b[0m",
      "\u001b[1;31mTypeError\u001b[0m                                 Traceback (most recent call last)",
      "\u001b[1;32m<ipython-input-310-2f755f117ac9>\u001b[0m in \u001b[0;36m<module>\u001b[1;34m\u001b[0m\n\u001b[1;32m----> 1\u001b[1;33m \u001b[0mx\u001b[0m\u001b[1;33m[\u001b[0m\u001b[1;36m0\u001b[0m\u001b[1;33m]\u001b[0m\u001b[1;33m\u001b[0m\u001b[1;33m\u001b[0m\u001b[0m\n\u001b[0m",
      "\u001b[1;31mTypeError\u001b[0m: 'PathCollection' object is not subscriptable"
     ]
    }
   ],
   "source": [
    "x[0]"
   ]
  },
  {
   "cell_type": "code",
   "execution_count": 311,
   "metadata": {},
   "outputs": [
    {
     "output_type": "error",
     "ename": "NameError",
     "evalue": "name 'xd' is not defined",
     "traceback": [
      "\u001b[1;31m---------------------------------------------------------------------------\u001b[0m",
      "\u001b[1;31mNameError\u001b[0m                                 Traceback (most recent call last)",
      "\u001b[1;32m<ipython-input-311-01c5da6af37d>\u001b[0m in \u001b[0;36m<module>\u001b[1;34m\u001b[0m\n\u001b[1;32m----> 1\u001b[1;33m \u001b[0mxd\u001b[0m\u001b[1;33m.\u001b[0m\u001b[0mmost_common\u001b[0m\u001b[1;33m(\u001b[0m\u001b[1;36m1\u001b[0m\u001b[1;33m)\u001b[0m\u001b[1;33m[\u001b[0m\u001b[1;36m0\u001b[0m\u001b[1;33m]\u001b[0m\u001b[1;33m[\u001b[0m\u001b[1;36m0\u001b[0m\u001b[1;33m]\u001b[0m\u001b[1;33m\u001b[0m\u001b[1;33m\u001b[0m\u001b[0m\n\u001b[0m",
      "\u001b[1;31mNameError\u001b[0m: name 'xd' is not defined"
     ]
    }
   ],
   "source": [
    "xd.most_common(1)[0][0]"
   ]
  },
  {
   "cell_type": "code",
   "execution_count": 312,
   "metadata": {},
   "outputs": [
    {
     "output_type": "error",
     "ename": "TypeError",
     "evalue": "'PathCollection' object is not subscriptable",
     "traceback": [
      "\u001b[1;31m---------------------------------------------------------------------------\u001b[0m",
      "\u001b[1;31mTypeError\u001b[0m                                 Traceback (most recent call last)",
      "\u001b[1;32m<ipython-input-312-1ef4f7fa03ed>\u001b[0m in \u001b[0;36m<module>\u001b[1;34m\u001b[0m\n\u001b[0;32m      1\u001b[0m \u001b[1;32mfrom\u001b[0m \u001b[0mcollections\u001b[0m \u001b[1;32mimport\u001b[0m \u001b[0mCounter\u001b[0m\u001b[1;33m\u001b[0m\u001b[1;33m\u001b[0m\u001b[0m\n\u001b[1;32m----> 2\u001b[1;33m \u001b[0mxd\u001b[0m \u001b[1;33m=\u001b[0m \u001b[0mCounter\u001b[0m\u001b[1;33m(\u001b[0m\u001b[0mx\u001b[0m\u001b[1;33m[\u001b[0m\u001b[1;36m0\u001b[0m\u001b[1;33m]\u001b[0m\u001b[1;33m)\u001b[0m\u001b[1;33m\u001b[0m\u001b[1;33m\u001b[0m\u001b[0m\n\u001b[0m",
      "\u001b[1;31mTypeError\u001b[0m: 'PathCollection' object is not subscriptable"
     ]
    }
   ],
   "source": [
    "from collections import Counter\n",
    "xd = Counter(x[0])"
   ]
  },
  {
   "cell_type": "code",
   "execution_count": 313,
   "metadata": {},
   "outputs": [
    {
     "output_type": "error",
     "ename": "NameError",
     "evalue": "name 'xd' is not defined",
     "traceback": [
      "\u001b[1;31m---------------------------------------------------------------------------\u001b[0m",
      "\u001b[1;31mNameError\u001b[0m                                 Traceback (most recent call last)",
      "\u001b[1;32m<ipython-input-313-71bb938fa967>\u001b[0m in \u001b[0;36m<module>\u001b[1;34m\u001b[0m\n\u001b[1;32m----> 1\u001b[1;33m \u001b[0mxd\u001b[0m\u001b[1;33m\u001b[0m\u001b[1;33m\u001b[0m\u001b[0m\n\u001b[0m",
      "\u001b[1;31mNameError\u001b[0m: name 'xd' is not defined"
     ]
    }
   ],
   "source": [
    "xd"
   ]
  },
  {
   "cell_type": "code",
   "execution_count": 314,
   "metadata": {},
   "outputs": [],
   "source": [
    "x = np.array([['A', 'A', 'B']])"
   ]
  },
  {
   "cell_type": "code",
   "execution_count": 315,
   "metadata": {},
   "outputs": [],
   "source": [
    "# def median_in_cluster(data_all, indexes):\n",
    "#     count_of_values = len(indexes)\n",
    "#     sum = 0\n",
    "\n",
    "#     # liczba wszystkich wymiarów wzgledem których ma być sumowane\n",
    "#     count_of_features = data_all[0].shape[0]\n",
    "\n",
    "#     median = np.array([])\n",
    "    \n",
    "#     for feature in range(count_of_features):\n",
    "#         for index in indexes:\n",
    "#             actual_data = data_all[index]\n",
    "#             sum += actual_data[feature]\n",
    "#         median = np.append(median, sum/count_of_values)\n",
    "#         sum = 0\n",
    "\n",
    "#     return median"
   ]
  },
  {
   "cell_type": "code",
   "execution_count": 316,
   "metadata": {},
   "outputs": [],
   "source": [
    "\"\"\"\n",
    "Function finding index of point in data, nearest to given point. Using for find nerest point of mean in homogeniuos cluster \n",
    "TODO czy ma zwracać kilka indesów jeżeli takie same odległosci?\n",
    "\"\"\"\n",
    "def find_id_of_nearest_point(data_all, indexes, point):\n",
    "    #id of nearest, for now the first\n",
    "    id = indexes[0] \n",
    "    #minimal distance, for now - the first distance\n",
    "    min_dist = distance.euclidean(point, data_all[id])\n",
    "\n",
    "    for i in indexes:\n",
    "        data = data_all[i]\n",
    "        dist = distance.euclidean(point, data)\n",
    "        if min_dist > dist:\n",
    "            min_dist = dist\n",
    "            id = i\n",
    "\n",
    "    return id"
   ]
  },
  {
   "cell_type": "code",
   "execution_count": 317,
   "metadata": {},
   "outputs": [],
   "source": [
    "\n",
    "def find_nearest_instance(element, indexes_of_data, data_all):\n",
    "    \"\"\"\n",
    "    Function return index of nearest instance to given\n",
    "    element - index of instance \n",
    "    indexes_of_data - indexes of instances from which have to find nearest to element\n",
    "    data_all - array of all instances to get data of selected index\n",
    "    \"\"\"\n",
    "    point = data_all[element]\n",
    "    #first temporary index\n",
    "    id = 0\n",
    "    #minimal distance, for now - the first distance\n",
    "    min_dist = distance.euclidean(point, data_all[id])\n",
    "    for i in indexes_of_data:\n",
    "        if i == element:\n",
    "            break\n",
    "        data = data_all[i]\n",
    "        dist = distance.euclidean(point, data)\n",
    "        if min_dist > dist:\n",
    "            min_dist = dist\n",
    "            id = i\n",
    "\n",
    "    return id"
   ]
  },
  {
   "cell_type": "code",
   "execution_count": 318,
   "metadata": {},
   "outputs": [],
   "source": [
    "# '''\n",
    "# data_all - data from getting exact\n",
    "# indexes - indexes of data from data_all\n",
    "# '''\n",
    "# def data_for_indexes(data_all, indexes):\n",
    "#     data_indexes = np.array([])\n",
    "#     for id in indexes:\n",
    "#         data_indexes = np.append(data_indexes, data_all[id])\n",
    "\n",
    "#     return data_indexes"
   ]
  },
  {
   "cell_type": "code",
   "execution_count": 319,
   "metadata": {},
   "outputs": [],
   "source": [
    "\n",
    "def find_majority_class(number_of_classes, classes_with_indexes):\n",
    "    \"\"\"\n",
    "    Function return index of majority class\n",
    "    \"\"\"\n",
    "    max = len(classes_with_indexes[0])\n",
    "    majority_class = 0\n",
    "\n",
    "    for i in range(number_of_classes):\n",
    "        count = len(classes_with_indexes[i])\n",
    "        if max < count:\n",
    "            max = count\n",
    "            majority_class = i\n",
    "\n",
    "    return majority_class\n"
   ]
  },
  {
   "cell_type": "code",
   "execution_count": 320,
   "metadata": {},
   "outputs": [],
   "source": [
    "\n",
    "def mean_point_in_cluster(data_all, indexes):\n",
    "    \"\"\"\n",
    "    Function calculating mean point in cluster.\n",
    "    data_all - training dataset\n",
    "    indexes - array of indexes of cluster form training dataset\n",
    "\n",
    "    TODO: ZeroDivisionException\n",
    "    \"\"\"\n",
    "    count_of_values = len(indexes)\n",
    "    sum = 0\n",
    "\n",
    "    #dimesionality of point\n",
    "    count_of_features = data_all[0].shape[0]\n",
    "    mean_point = np.array([])\n",
    "    \n",
    "    for feature in range(count_of_features):\n",
    "        sum = 0\n",
    "        for index in indexes:\n",
    "            actual_data = data_all[index]\n",
    "            sum += actual_data[feature]\n",
    "        try:\n",
    "            mean_point = np.append(mean_point, sum/count_of_values)\n",
    "        except ZeroDivisionException:\n",
    "            print('Can not division by 0!')\n",
    "\n",
    "    return mean_point\n"
   ]
  },
  {
   "cell_type": "code",
   "execution_count": 321,
   "metadata": {},
   "outputs": [],
   "source": [
    "def group_cluster_by_class(cluster):\n",
    "    '''\n",
    "    Function creates array with indexes in cluster grouped by class label\n",
    "    '''\n",
    "    #initialize array with 0 occurrence of each class\n",
    "    classes_with_indexes = []\n",
    "\n",
    "    #initialize array\n",
    "    for i in range(number_of_classes):\n",
    "        classes_with_indexes.append([])\n",
    "\n",
    "    for instance_id in cluster:\n",
    "    #checking label of instance\n",
    "        class_label_of_instance = data_label_train[instance_id]\n",
    "        #add to array for class label\n",
    "        classes_with_indexes[class_dict[class_label_of_instance]].append(instance_id)\n",
    "\n",
    "    return classes_with_indexes\n",
    "    \n"
   ]
  },
  {
   "cell_type": "code",
   "execution_count": 322,
   "metadata": {},
   "outputs": [],
   "source": [
    "def check_homogenious(cluster):\n",
    "    '''\n",
    "    Function checking if the cluster is homogenious or not\n",
    "    Return True if is, False if not.\n",
    "    '''\n",
    "    grouped_cluster = group_cluster_by_class(cluster)\n",
    "    \n",
    "    is_homogeniuos = True\n",
    "    count_of_classes_in_cluster = 0\n",
    "    for i in range(number_of_classes):\n",
    "        if(len(grouped_cluster[i]) > 0):\n",
    "            count_of_classes_in_cluster+=1\n",
    "    if (count_of_classes_in_cluster > 1):\n",
    "        is_homogeniuos = False\n",
    "    \n",
    "    return is_homogeniuos\n"
   ]
  },
  {
   "cell_type": "code",
   "execution_count": 323,
   "metadata": {},
   "outputs": [],
   "source": [
    "def prepare_reduced_set(reduced_set):\n",
    "    '''\n",
    "    Function prepare reduced dataset grouped by label for using in classificators\n",
    "    reduced_set - dataset grouped by label\n",
    "\n",
    "    Return:\n",
    "    np_red_data - uninterrupted array of instances\n",
    "    np_red_label - array of labels\n",
    "\n",
    "    TODO: remove repeated values?\n",
    "    '''\n",
    "    \n",
    "    reduced_labels = []\n",
    "    tmp = []\n",
    "    for i in range(number_of_classes):\n",
    "        for id in reduced_set[i]:\n",
    "            reduced_labels.append(list(class_dict)[i])\n",
    "            tmp.append(id.tolist())\n",
    "\n",
    "    np_red_data = np.array(tmp)\n",
    "    np_red_label = np.array(reduced_labels)\n",
    "    \n",
    "    return np_red_data, np_red_label\n"
   ]
  },
  {
   "cell_type": "code",
   "execution_count": 324,
   "metadata": {},
   "outputs": [],
   "source": [
    "def clustering_reduction(clusters_with_id, data_all_train):\n",
    "    \"\"\"\n",
    "    The main function of clustering reduction module\n",
    "    \n",
    "    :param clusters_with_id: - indexes of instances from training dataset grouped by indexes of clusters\n",
    "    :param data_all_train: - training dataset\n",
    "\n",
    "    :returns: np_red_data - reduced dataset received as a result\n",
    "    np_red_col - labels of reduced dataset\n",
    "\n",
    "    \"\"\"\n",
    "    classes_with_indexes = []\n",
    "    #create empty reduced dataset\n",
    "    reduced_set = []\n",
    "\n",
    "    #init arrays dimensionality \n",
    "    for i in range(number_of_classes):\n",
    "        classes_with_indexes.append([])\n",
    "        reduced_set.append([])\n",
    "\n",
    "    #for each cluster\n",
    "    for i in range(number_of_clusters):\n",
    "        #for each instance in cluster\n",
    "        for instance_id in clusters_with_id[i]:\n",
    "            class_label_of_instance = data_label_train[instance_id]\n",
    "            classes_with_indexes[class_dict[class_label_of_instance]].append(instance_id)\n",
    "\n",
    "        #checking if the cluster is homogenious\n",
    "        is_homogeniuos = check_homogenious(clusters_with_id[i])\n",
    "\n",
    "\n",
    "        if (is_homogeniuos):\n",
    "            #find index of majority class - in this case only one possible\n",
    "            cm = find_majority_class(number_of_classes, classes_with_indexes)\n",
    "            #find mean point in cluster \n",
    "            mean_point = mean_point_in_cluster(data_all=data_all_train, indexes=clusters_with_id[i])\n",
    "            #print(mean_point)\n",
    "            #find index of intance located in cluster nearest to mean point\n",
    "            accept_id = find_id_of_nearest_point(data_all = data_all_train, indexes = clusters_with_id[i], point = mean_point)\n",
    "            #print(accept_id)\n",
    "\n",
    "            #add instance within the class 9to reduced set \n",
    "            reduced_set[cm].append(data_all_train[accept_id])\n",
    "            \n",
    "        else:\n",
    "            #majority class in cluster\n",
    "            cm = find_majority_class(number_of_classes, classes_with_indexes)\n",
    "            #print(cm)\n",
    "\n",
    "            #for each instance in other classes find nearest instance to checked from majority class and belonging class\n",
    "            #add instances to reduced set\n",
    "            for class_id in range(number_of_classes):\n",
    "                if class_id == cm:\n",
    "                    break\n",
    "                for el in classes_with_indexes[class_id]:\n",
    "                    #nearest form majority class\n",
    "                    nearest_of_majority_class = find_nearest_instance(element = el, indexes_of_data = classes_with_indexes[cm], data_all = data_all_train)\n",
    "                    reduced_set[cm].append(data_all_train[nearest_of_majority_class])\n",
    "                    #nearest from belonging class\n",
    "                    nearest_of_actual_class = find_nearest_instance(element = el, indexes_of_data = classes_with_indexes[class_id], data_all = data_all_train)\n",
    "                    #reduced_set = np.append(reduced_set, data_all_train[nearest_of_actual_class])\n",
    "                    reduced_set[cm].append(data_all_train[nearest_of_actual_class])\n",
    "            \n",
    "        #reset array    \n",
    "        classes_with_indexes = []\n",
    "        for j in range(number_of_classes):\n",
    "            classes_with_indexes.append([])\n",
    "\n",
    "    np_red_data, np_red_col = prepare_reduced_set(reduced_set)\n",
    "    return np_red_data, np_red_col"
   ]
  },
  {
   "cell_type": "code",
   "execution_count": 325,
   "metadata": {
    "tags": [
     "outputPrepend"
    ]
   },
   "outputs": [
    {
     "output_type": "error",
     "ename": "KeyError",
     "evalue": "0",
     "traceback": [
      "\u001b[1;31m---------------------------------------------------------------------------\u001b[0m",
      "\u001b[1;31mKeyError\u001b[0m                                  Traceback (most recent call last)",
      "\u001b[1;32m<ipython-input-325-eda926ea020b>\u001b[0m in \u001b[0;36m<module>\u001b[1;34m\u001b[0m\n\u001b[1;32m----> 1\u001b[1;33m \u001b[0mnp_red_data\u001b[0m\u001b[1;33m,\u001b[0m \u001b[0mnp_red_col\u001b[0m \u001b[1;33m=\u001b[0m \u001b[0mclustering_reduction\u001b[0m\u001b[1;33m(\u001b[0m\u001b[0mclusters_with_id\u001b[0m\u001b[1;33m,\u001b[0m \u001b[0mdata_all_train\u001b[0m\u001b[1;33m)\u001b[0m\u001b[1;33m\u001b[0m\u001b[1;33m\u001b[0m\u001b[0m\n\u001b[0m",
      "\u001b[1;32m<ipython-input-324-828315b30964>\u001b[0m in \u001b[0;36mclustering_reduction\u001b[1;34m(clusters_with_id, data_all_train)\u001b[0m\n\u001b[0;32m     24\u001b[0m         \u001b[1;32mfor\u001b[0m \u001b[0minstance_id\u001b[0m \u001b[1;32min\u001b[0m \u001b[0mclusters_with_id\u001b[0m\u001b[1;33m[\u001b[0m\u001b[0mi\u001b[0m\u001b[1;33m]\u001b[0m\u001b[1;33m:\u001b[0m\u001b[1;33m\u001b[0m\u001b[1;33m\u001b[0m\u001b[0m\n\u001b[0;32m     25\u001b[0m             \u001b[0mclass_label_of_instance\u001b[0m \u001b[1;33m=\u001b[0m \u001b[0mdata_label_train\u001b[0m\u001b[1;33m[\u001b[0m\u001b[0minstance_id\u001b[0m\u001b[1;33m]\u001b[0m\u001b[1;33m\u001b[0m\u001b[1;33m\u001b[0m\u001b[0m\n\u001b[1;32m---> 26\u001b[1;33m             \u001b[0mclasses_with_indexes\u001b[0m\u001b[1;33m[\u001b[0m\u001b[0mclass_dict\u001b[0m\u001b[1;33m[\u001b[0m\u001b[0mclass_label_of_instance\u001b[0m\u001b[1;33m]\u001b[0m\u001b[1;33m]\u001b[0m\u001b[1;33m.\u001b[0m\u001b[0mappend\u001b[0m\u001b[1;33m(\u001b[0m\u001b[0minstance_id\u001b[0m\u001b[1;33m)\u001b[0m\u001b[1;33m\u001b[0m\u001b[1;33m\u001b[0m\u001b[0m\n\u001b[0m\u001b[0;32m     27\u001b[0m \u001b[1;33m\u001b[0m\u001b[0m\n\u001b[0;32m     28\u001b[0m         \u001b[1;31m#checking if the cluster is homogenious\u001b[0m\u001b[1;33m\u001b[0m\u001b[1;33m\u001b[0m\u001b[1;33m\u001b[0m\u001b[0m\n",
      "\u001b[1;31mKeyError\u001b[0m: 0"
     ]
    }
   ],
   "source": [
    "np_red_data, np_red_col = clustering_reduction(clusters_with_id, data_all_train)"
   ]
  },
  {
   "cell_type": "code",
   "execution_count": 326,
   "metadata": {},
   "outputs": [
    {
     "output_type": "error",
     "ename": "NameError",
     "evalue": "name 'pdd' is not defined",
     "traceback": [
      "\u001b[1;31m---------------------------------------------------------------------------\u001b[0m",
      "\u001b[1;31mNameError\u001b[0m                                 Traceback (most recent call last)",
      "\u001b[1;32m<ipython-input-326-12a17c7ce851>\u001b[0m in \u001b[0;36m<module>\u001b[1;34m\u001b[0m\n\u001b[1;32m----> 1\u001b[1;33m \u001b[0mfeatures\u001b[0m \u001b[1;33m=\u001b[0m \u001b[0mpdd\u001b[0m\u001b[1;33m.\u001b[0m\u001b[0mcolumns\u001b[0m\u001b[1;33m.\u001b[0m\u001b[0mvalues\u001b[0m\u001b[1;33m.\u001b[0m\u001b[0mtolist\u001b[0m\u001b[1;33m(\u001b[0m\u001b[1;33m)\u001b[0m\u001b[1;33m\u001b[0m\u001b[1;33m\u001b[0m\u001b[0m\n\u001b[0m",
      "\u001b[1;31mNameError\u001b[0m: name 'pdd' is not defined"
     ]
    }
   ],
   "source": [
    "features = pdd.columns.values.tolist()"
   ]
  },
  {
   "cell_type": "code",
   "execution_count": 327,
   "metadata": {},
   "outputs": [],
   "source": [
    "labels = list(class_dict.values())"
   ]
  },
  {
   "cell_type": "code",
   "execution_count": 328,
   "metadata": {},
   "outputs": [
    {
     "output_type": "error",
     "ename": "SyntaxError",
     "evalue": "invalid syntax (<ipython-input-328-f50226053749>, line 2)",
     "traceback": [
      "\u001b[1;36m  File \u001b[1;32m\"<ipython-input-328-f50226053749>\"\u001b[1;36m, line \u001b[1;32m2\u001b[0m\n\u001b[1;33m    plt.\u001b[0m\n\u001b[1;37m        ^\u001b[0m\n\u001b[1;31mSyntaxError\u001b[0m\u001b[1;31m:\u001b[0m invalid syntax\n"
     ]
    }
   ],
   "source": [
    "plt.scatter(data_all_train[:,0], data_all_train[:,1],c=data_label_train, label = labels)\n",
    "plt."
   ]
  },
  {
   "cell_type": "code",
   "execution_count": 329,
   "metadata": {},
   "outputs": [
    {
     "output_type": "execute_result",
     "data": {
      "text/plain": "<matplotlib.legend.Legend at 0x282272e3688>"
     },
     "metadata": {},
     "execution_count": 329
    },
    {
     "output_type": "display_data",
     "data": {
      "text/plain": "<Figure size 432x288 with 1 Axes>",
      "image/svg+xml": "<?xml version=\"1.0\" encoding=\"utf-8\" standalone=\"no\"?>\r\n<!DOCTYPE svg PUBLIC \"-//W3C//DTD SVG 1.1//EN\"\r\n  \"http://www.w3.org/Graphics/SVG/1.1/DTD/svg11.dtd\">\r\n<!-- Created with matplotlib (https://matplotlib.org/) -->\r\n<svg height=\"250.670071pt\" version=\"1.1\" viewBox=\"0 0 372.103125 250.670071\" width=\"372.103125pt\" xmlns=\"http://www.w3.org/2000/svg\" xmlns:xlink=\"http://www.w3.org/1999/xlink\">\r\n <defs>\r\n  <style type=\"text/css\">\r\n*{stroke-linecap:butt;stroke-linejoin:round;}\r\n  </style>\r\n </defs>\r\n <g id=\"figure_1\">\r\n  <g id=\"patch_1\">\r\n   <path d=\"M 0 250.670071 \r\nL 372.103125 250.670071 \r\nL 372.103125 0 \r\nL 0 0 \r\nz\r\n\" style=\"fill:none;\"/>\r\n  </g>\r\n  <g id=\"axes_1\">\r\n   <g id=\"patch_2\">\r\n    <path d=\"M 30.103125 226.791946 \r\nL 364.903125 226.791946 \r\nL 364.903125 9.351946 \r\nL 30.103125 9.351946 \r\nz\r\n\" style=\"fill:#ffffff;\"/>\r\n   </g>\r\n   <g id=\"PathCollection_1\">\r\n    <defs>\r\n     <path d=\"M 0 3 \r\nC 0.795609 3 1.55874 2.683901 2.12132 2.12132 \r\nC 2.683901 1.55874 3 0.795609 3 0 \r\nC 3 -0.795609 2.683901 -1.55874 2.12132 -2.12132 \r\nC 1.55874 -2.683901 0.795609 -3 0 -3 \r\nC -0.795609 -3 -1.55874 -2.683901 -2.12132 -2.12132 \r\nC -2.683901 -1.55874 -3 -0.795609 -3 0 \r\nC -3 0.795609 -2.683901 1.55874 -2.12132 2.12132 \r\nC -1.55874 2.683901 -0.795609 3 0 3 \r\nz\r\n\" id=\"C0_0_bcf3cc3050\"/>\r\n    </defs>\r\n    <g clip-path=\"url(#p177d062398)\">\r\n     <use style=\"fill:#440154;stroke:#440154;\" x=\"134.840023\" xlink:href=\"#C0_0_bcf3cc3050\" y=\"76.890128\"/>\r\n    </g>\r\n    <g clip-path=\"url(#p177d062398)\">\r\n     <use style=\"fill:#21918c;stroke:#21918c;\" x=\"197.503125\" xlink:href=\"#C0_0_bcf3cc3050\" y=\"142.781037\"/>\r\n    </g>\r\n    <g clip-path=\"url(#p177d062398)\">\r\n     <use style=\"fill:#440154;stroke:#440154;\" x=\"170.64751\" xlink:href=\"#C0_0_bcf3cc3050\" y=\"68.653764\"/>\r\n    </g>\r\n    <g clip-path=\"url(#p177d062398)\">\r\n     <use style=\"fill:#fde725;stroke:#fde725;\" x=\"269.118098\" xlink:href=\"#C0_0_bcf3cc3050\" y=\"118.071946\"/>\r\n    </g>\r\n    <g clip-path=\"url(#p177d062398)\">\r\n     <use style=\"fill:#21918c;stroke:#21918c;\" x=\"161.695638\" xlink:href=\"#C0_0_bcf3cc3050\" y=\"175.726491\"/>\r\n    </g>\r\n    <g clip-path=\"url(#p177d062398)\">\r\n     <use style=\"fill:#21918c;stroke:#21918c;\" x=\"251.214355\" xlink:href=\"#C0_0_bcf3cc3050\" y=\"134.544673\"/>\r\n    </g>\r\n    <g clip-path=\"url(#p177d062398)\">\r\n     <use style=\"fill:#fde725;stroke:#fde725;\" x=\"233.310612\" xlink:href=\"#C0_0_bcf3cc3050\" y=\"126.30831\"/>\r\n    </g>\r\n    <g clip-path=\"url(#p177d062398)\">\r\n     <use style=\"fill:#fde725;stroke:#fde725;\" x=\"206.454997\" xlink:href=\"#C0_0_bcf3cc3050\" y=\"134.544673\"/>\r\n    </g>\r\n    <g clip-path=\"url(#p177d062398)\">\r\n     <use style=\"fill:#440154;stroke:#440154;\" x=\"116.93628\" xlink:href=\"#C0_0_bcf3cc3050\" y=\"101.599219\"/>\r\n    </g>\r\n    <g clip-path=\"url(#p177d062398)\">\r\n     <use style=\"fill:#fde725;stroke:#fde725;\" x=\"304.925585\" xlink:href=\"#C0_0_bcf3cc3050\" y=\"134.544673\"/>\r\n    </g>\r\n    <g clip-path=\"url(#p177d062398)\">\r\n     <use style=\"fill:#440154;stroke:#440154;\" x=\"107.984408\" xlink:href=\"#C0_0_bcf3cc3050\" y=\"93.362855\"/>\r\n    </g>\r\n    <g clip-path=\"url(#p177d062398)\">\r\n     <use style=\"fill:#440154;stroke:#440154;\" x=\"90.080665\" xlink:href=\"#C0_0_bcf3cc3050\" y=\"101.599219\"/>\r\n    </g>\r\n    <g clip-path=\"url(#p177d062398)\">\r\n     <use style=\"fill:#21918c;stroke:#21918c;\" x=\"215.406868\" xlink:href=\"#C0_0_bcf3cc3050\" y=\"200.435582\"/>\r\n    </g>\r\n    <g clip-path=\"url(#p177d062398)\">\r\n     <use style=\"fill:#440154;stroke:#440154;\" x=\"143.791895\" xlink:href=\"#C0_0_bcf3cc3050\" y=\"101.599219\"/>\r\n    </g>\r\n    <g clip-path=\"url(#p177d062398)\">\r\n     <use style=\"fill:#21918c;stroke:#21918c;\" x=\"260.166227\" xlink:href=\"#C0_0_bcf3cc3050\" y=\"126.30831\"/>\r\n    </g>\r\n    <g clip-path=\"url(#p177d062398)\">\r\n     <use style=\"fill:#21918c;stroke:#21918c;\" x=\"161.695638\" xlink:href=\"#C0_0_bcf3cc3050\" y=\"134.544673\"/>\r\n    </g>\r\n    <g clip-path=\"url(#p177d062398)\">\r\n     <use style=\"fill:#fde725;stroke:#fde725;\" x=\"206.454997\" xlink:href=\"#C0_0_bcf3cc3050\" y=\"167.490128\"/>\r\n    </g>\r\n    <g clip-path=\"url(#p177d062398)\">\r\n     <use style=\"fill:#440154;stroke:#440154;\" x=\"125.888152\" xlink:href=\"#C0_0_bcf3cc3050\" y=\"93.362855\"/>\r\n    </g>\r\n    <g clip-path=\"url(#p177d062398)\">\r\n     <use style=\"fill:#fde725;stroke:#fde725;\" x=\"224.35874\" xlink:href=\"#C0_0_bcf3cc3050\" y=\"175.726491\"/>\r\n    </g>\r\n    <g clip-path=\"url(#p177d062398)\">\r\n     <use style=\"fill:#fde725;stroke:#fde725;\" x=\"349.684943\" xlink:href=\"#C0_0_bcf3cc3050\" y=\"68.653764\"/>\r\n    </g>\r\n    <g clip-path=\"url(#p177d062398)\">\r\n     <use style=\"fill:#440154;stroke:#440154;\" x=\"90.080665\" xlink:href=\"#C0_0_bcf3cc3050\" y=\"101.599219\"/>\r\n    </g>\r\n    <g clip-path=\"url(#p177d062398)\">\r\n     <use style=\"fill:#21918c;stroke:#21918c;\" x=\"206.454997\" xlink:href=\"#C0_0_bcf3cc3050\" y=\"151.017401\"/>\r\n    </g>\r\n    <g clip-path=\"url(#p177d062398)\">\r\n     <use style=\"fill:#fde725;stroke:#fde725;\" x=\"260.166227\" xlink:href=\"#C0_0_bcf3cc3050\" y=\"134.544673\"/>\r\n    </g>\r\n    <g clip-path=\"url(#p177d062398)\">\r\n     <use style=\"fill:#fde725;stroke:#fde725;\" x=\"224.35874\" xlink:href=\"#C0_0_bcf3cc3050\" y=\"159.253764\"/>\r\n    </g>\r\n    <g clip-path=\"url(#p177d062398)\">\r\n     <use style=\"fill:#21918c;stroke:#21918c;\" x=\"99.032537\" xlink:href=\"#C0_0_bcf3cc3050\" y=\"183.962855\"/>\r\n    </g>\r\n    <g clip-path=\"url(#p177d062398)\">\r\n     <use style=\"fill:#440154;stroke:#440154;\" x=\"116.93628\" xlink:href=\"#C0_0_bcf3cc3050\" y=\"93.362855\"/>\r\n    </g>\r\n    <g clip-path=\"url(#p177d062398)\">\r\n     <use style=\"fill:#440154;stroke:#440154;\" x=\"152.743767\" xlink:href=\"#C0_0_bcf3cc3050\" y=\"35.70831\"/>\r\n    </g>\r\n    <g clip-path=\"url(#p177d062398)\">\r\n     <use style=\"fill:#440154;stroke:#440154;\" x=\"143.791895\" xlink:href=\"#C0_0_bcf3cc3050\" y=\"76.890128\"/>\r\n    </g>\r\n    <g clip-path=\"url(#p177d062398)\">\r\n     <use style=\"fill:#fde725;stroke:#fde725;\" x=\"233.310612\" xlink:href=\"#C0_0_bcf3cc3050\" y=\"118.071946\"/>\r\n    </g>\r\n    <g clip-path=\"url(#p177d062398)\">\r\n     <use style=\"fill:#21918c;stroke:#21918c;\" x=\"269.118098\" xlink:href=\"#C0_0_bcf3cc3050\" y=\"151.017401\"/>\r\n    </g>\r\n    <g clip-path=\"url(#p177d062398)\">\r\n     <use style=\"fill:#fde725;stroke:#fde725;\" x=\"260.166227\" xlink:href=\"#C0_0_bcf3cc3050\" y=\"175.726491\"/>\r\n    </g>\r\n    <g clip-path=\"url(#p177d062398)\">\r\n     <use style=\"fill:#21918c;stroke:#21918c;\" x=\"152.743767\" xlink:href=\"#C0_0_bcf3cc3050\" y=\"192.199219\"/>\r\n    </g>\r\n    <g clip-path=\"url(#p177d062398)\">\r\n     <use style=\"fill:#440154;stroke:#440154;\" x=\"170.64751\" xlink:href=\"#C0_0_bcf3cc3050\" y=\"19.235582\"/>\r\n    </g>\r\n    <g clip-path=\"url(#p177d062398)\">\r\n     <use style=\"fill:#440154;stroke:#440154;\" x=\"81.128793\" xlink:href=\"#C0_0_bcf3cc3050\" y=\"118.071946\"/>\r\n    </g>\r\n    <g clip-path=\"url(#p177d062398)\">\r\n     <use style=\"fill:#fde725;stroke:#fde725;\" x=\"260.166227\" xlink:href=\"#C0_0_bcf3cc3050\" y=\"109.835582\"/>\r\n    </g>\r\n    <g clip-path=\"url(#p177d062398)\">\r\n     <use style=\"fill:#fde725;stroke:#fde725;\" x=\"278.06997\" xlink:href=\"#C0_0_bcf3cc3050\" y=\"118.071946\"/>\r\n    </g>\r\n    <g clip-path=\"url(#p177d062398)\">\r\n     <use style=\"fill:#21918c;stroke:#21918c;\" x=\"125.888152\" xlink:href=\"#C0_0_bcf3cc3050\" y=\"159.253764\"/>\r\n    </g>\r\n    <g clip-path=\"url(#p177d062398)\">\r\n     <use style=\"fill:#21918c;stroke:#21918c;\" x=\"170.64751\" xlink:href=\"#C0_0_bcf3cc3050\" y=\"142.781037\"/>\r\n    </g>\r\n    <g clip-path=\"url(#p177d062398)\">\r\n     <use style=\"fill:#21918c;stroke:#21918c;\" x=\"170.64751\" xlink:href=\"#C0_0_bcf3cc3050\" y=\"151.017401\"/>\r\n    </g>\r\n    <g clip-path=\"url(#p177d062398)\">\r\n     <use style=\"fill:#fde725;stroke:#fde725;\" x=\"215.406868\" xlink:href=\"#C0_0_bcf3cc3050\" y=\"151.017401\"/>\r\n    </g>\r\n    <g clip-path=\"url(#p177d062398)\">\r\n     <use style=\"fill:#440154;stroke:#440154;\" x=\"54.273178\" xlink:href=\"#C0_0_bcf3cc3050\" y=\"142.781037\"/>\r\n    </g>\r\n    <g clip-path=\"url(#p177d062398)\">\r\n     <use style=\"fill:#fde725;stroke:#fde725;\" x=\"278.06997\" xlink:href=\"#C0_0_bcf3cc3050\" y=\"126.30831\"/>\r\n    </g>\r\n    <g clip-path=\"url(#p177d062398)\">\r\n     <use style=\"fill:#fde725;stroke:#fde725;\" x=\"242.262483\" xlink:href=\"#C0_0_bcf3cc3050\" y=\"134.544673\"/>\r\n    </g>\r\n    <g clip-path=\"url(#p177d062398)\">\r\n     <use style=\"fill:#440154;stroke:#440154;\" x=\"72.176922\" xlink:href=\"#C0_0_bcf3cc3050\" y=\"101.599219\"/>\r\n    </g>\r\n    <g clip-path=\"url(#p177d062398)\">\r\n     <use style=\"fill:#440154;stroke:#440154;\" x=\"107.984408\" xlink:href=\"#C0_0_bcf3cc3050\" y=\"134.544673\"/>\r\n    </g>\r\n    <g clip-path=\"url(#p177d062398)\">\r\n     <use style=\"fill:#440154;stroke:#440154;\" x=\"125.888152\" xlink:href=\"#C0_0_bcf3cc3050\" y=\"101.599219\"/>\r\n    </g>\r\n    <g clip-path=\"url(#p177d062398)\">\r\n     <use style=\"fill:#21918c;stroke:#21918c;\" x=\"224.35874\" xlink:href=\"#C0_0_bcf3cc3050\" y=\"192.199219\"/>\r\n    </g>\r\n    <g clip-path=\"url(#p177d062398)\">\r\n     <use style=\"fill:#440154;stroke:#440154;\" x=\"72.176922\" xlink:href=\"#C0_0_bcf3cc3050\" y=\"85.126491\"/>\r\n    </g>\r\n    <g clip-path=\"url(#p177d062398)\">\r\n     <use style=\"fill:#440154;stroke:#440154;\" x=\"143.791895\" xlink:href=\"#C0_0_bcf3cc3050\" y=\"101.599219\"/>\r\n    </g>\r\n    <g clip-path=\"url(#p177d062398)\">\r\n     <use style=\"fill:#21918c;stroke:#21918c;\" x=\"152.743767\" xlink:href=\"#C0_0_bcf3cc3050\" y=\"175.726491\"/>\r\n    </g>\r\n    <g clip-path=\"url(#p177d062398)\">\r\n     <use style=\"fill:#fde725;stroke:#fde725;\" x=\"304.925585\" xlink:href=\"#C0_0_bcf3cc3050\" y=\"85.126491\"/>\r\n    </g>\r\n    <g clip-path=\"url(#p177d062398)\">\r\n     <use style=\"fill:#21918c;stroke:#21918c;\" x=\"278.06997\" xlink:href=\"#C0_0_bcf3cc3050\" y=\"126.30831\"/>\r\n    </g>\r\n    <g clip-path=\"url(#p177d062398)\">\r\n     <use style=\"fill:#21918c;stroke:#21918c;\" x=\"224.35874\" xlink:href=\"#C0_0_bcf3cc3050\" y=\"109.835582\"/>\r\n    </g>\r\n    <g clip-path=\"url(#p177d062398)\">\r\n     <use style=\"fill:#fde725;stroke:#fde725;\" x=\"349.684943\" xlink:href=\"#C0_0_bcf3cc3050\" y=\"151.017401\"/>\r\n    </g>\r\n    <g clip-path=\"url(#p177d062398)\">\r\n     <use style=\"fill:#fde725;stroke:#fde725;\" x=\"233.310612\" xlink:href=\"#C0_0_bcf3cc3050\" y=\"151.017401\"/>\r\n    </g>\r\n    <g clip-path=\"url(#p177d062398)\">\r\n     <use style=\"fill:#fde725;stroke:#fde725;\" x=\"313.877457\" xlink:href=\"#C0_0_bcf3cc3050\" y=\"142.781037\"/>\r\n    </g>\r\n    <g clip-path=\"url(#p177d062398)\">\r\n     <use style=\"fill:#21918c;stroke:#21918c;\" x=\"260.166227\" xlink:href=\"#C0_0_bcf3cc3050\" y=\"134.544673\"/>\r\n    </g>\r\n    <g clip-path=\"url(#p177d062398)\">\r\n     <use style=\"fill:#440154;stroke:#440154;\" x=\"81.128793\" xlink:href=\"#C0_0_bcf3cc3050\" y=\"118.071946\"/>\r\n    </g>\r\n    <g clip-path=\"url(#p177d062398)\">\r\n     <use style=\"fill:#fde725;stroke:#fde725;\" x=\"215.406868\" xlink:href=\"#C0_0_bcf3cc3050\" y=\"101.599219\"/>\r\n    </g>\r\n    <g clip-path=\"url(#p177d062398)\">\r\n     <use style=\"fill:#440154;stroke:#440154;\" x=\"54.273178\" xlink:href=\"#C0_0_bcf3cc3050\" y=\"134.544673\"/>\r\n    </g>\r\n    <g clip-path=\"url(#p177d062398)\">\r\n     <use style=\"fill:#fde725;stroke:#fde725;\" x=\"349.684943\" xlink:href=\"#C0_0_bcf3cc3050\" y=\"167.490128\"/>\r\n    </g>\r\n    <g clip-path=\"url(#p177d062398)\">\r\n     <use style=\"fill:#fde725;stroke:#fde725;\" x=\"242.262483\" xlink:href=\"#C0_0_bcf3cc3050\" y=\"134.544673\"/>\r\n    </g>\r\n    <g clip-path=\"url(#p177d062398)\">\r\n     <use style=\"fill:#440154;stroke:#440154;\" x=\"99.032537\" xlink:href=\"#C0_0_bcf3cc3050\" y=\"85.126491\"/>\r\n    </g>\r\n    <g clip-path=\"url(#p177d062398)\">\r\n     <use style=\"fill:#21918c;stroke:#21918c;\" x=\"188.551253\" xlink:href=\"#C0_0_bcf3cc3050\" y=\"118.071946\"/>\r\n    </g>\r\n    <g clip-path=\"url(#p177d062398)\">\r\n     <use style=\"fill:#fde725;stroke:#fde725;\" x=\"295.973713\" xlink:href=\"#C0_0_bcf3cc3050\" y=\"134.544673\"/>\r\n    </g>\r\n    <g clip-path=\"url(#p177d062398)\">\r\n     <use style=\"fill:#fde725;stroke:#fde725;\" x=\"161.695638\" xlink:href=\"#C0_0_bcf3cc3050\" y=\"151.017401\"/>\r\n    </g>\r\n    <g clip-path=\"url(#p177d062398)\">\r\n     <use style=\"fill:#fde725;stroke:#fde725;\" x=\"197.503125\" xlink:href=\"#C0_0_bcf3cc3050\" y=\"134.544673\"/>\r\n    </g>\r\n    <g clip-path=\"url(#p177d062398)\">\r\n     <use style=\"fill:#440154;stroke:#440154;\" x=\"99.032537\" xlink:href=\"#C0_0_bcf3cc3050\" y=\"126.30831\"/>\r\n    </g>\r\n    <g clip-path=\"url(#p177d062398)\">\r\n     <use style=\"fill:#440154;stroke:#440154;\" x=\"72.176922\" xlink:href=\"#C0_0_bcf3cc3050\" y=\"118.071946\"/>\r\n    </g>\r\n    <g clip-path=\"url(#p177d062398)\">\r\n     <use style=\"fill:#21918c;stroke:#21918c;\" x=\"233.310612\" xlink:href=\"#C0_0_bcf3cc3050\" y=\"118.071946\"/>\r\n    </g>\r\n    <g clip-path=\"url(#p177d062398)\">\r\n     <use style=\"fill:#21918c;stroke:#21918c;\" x=\"242.262483\" xlink:href=\"#C0_0_bcf3cc3050\" y=\"151.017401\"/>\r\n    </g>\r\n    <g clip-path=\"url(#p177d062398)\">\r\n     <use style=\"fill:#fde725;stroke:#fde725;\" x=\"340.733072\" xlink:href=\"#C0_0_bcf3cc3050\" y=\"134.544673\"/>\r\n    </g>\r\n    <g clip-path=\"url(#p177d062398)\">\r\n     <use style=\"fill:#440154;stroke:#440154;\" x=\"90.080665\" xlink:href=\"#C0_0_bcf3cc3050\" y=\"126.30831\"/>\r\n    </g>\r\n    <g clip-path=\"url(#p177d062398)\">\r\n     <use style=\"fill:#21918c;stroke:#21918c;\" x=\"287.021842\" xlink:href=\"#C0_0_bcf3cc3050\" y=\"118.071946\"/>\r\n    </g>\r\n    <g clip-path=\"url(#p177d062398)\">\r\n     <use style=\"fill:#440154;stroke:#440154;\" x=\"143.791895\" xlink:href=\"#C0_0_bcf3cc3050\" y=\"60.417401\"/>\r\n    </g>\r\n    <g clip-path=\"url(#p177d062398)\">\r\n     <use style=\"fill:#440154;stroke:#440154;\" x=\"72.176922\" xlink:href=\"#C0_0_bcf3cc3050\" y=\"126.30831\"/>\r\n    </g>\r\n    <g clip-path=\"url(#p177d062398)\">\r\n     <use style=\"fill:#21918c;stroke:#21918c;\" x=\"197.503125\" xlink:href=\"#C0_0_bcf3cc3050\" y=\"159.253764\"/>\r\n    </g>\r\n    <g clip-path=\"url(#p177d062398)\">\r\n     <use style=\"fill:#21918c;stroke:#21918c;\" x=\"107.984408\" xlink:href=\"#C0_0_bcf3cc3050\" y=\"216.90831\"/>\r\n    </g>\r\n    <g clip-path=\"url(#p177d062398)\">\r\n     <use style=\"fill:#440154;stroke:#440154;\" x=\"90.080665\" xlink:href=\"#C0_0_bcf3cc3050\" y=\"134.544673\"/>\r\n    </g>\r\n    <g clip-path=\"url(#p177d062398)\">\r\n     <use style=\"fill:#fde725;stroke:#fde725;\" x=\"260.166227\" xlink:href=\"#C0_0_bcf3cc3050\" y=\"109.835582\"/>\r\n    </g>\r\n    <g clip-path=\"url(#p177d062398)\">\r\n     <use style=\"fill:#440154;stroke:#440154;\" x=\"116.93628\" xlink:href=\"#C0_0_bcf3cc3050\" y=\"68.653764\"/>\r\n    </g>\r\n    <g clip-path=\"url(#p177d062398)\">\r\n     <use style=\"fill:#440154;stroke:#440154;\" x=\"152.743767\" xlink:href=\"#C0_0_bcf3cc3050\" y=\"93.362855\"/>\r\n    </g>\r\n    <g clip-path=\"url(#p177d062398)\">\r\n     <use style=\"fill:#440154;stroke:#440154;\" x=\"116.93628\" xlink:href=\"#C0_0_bcf3cc3050\" y=\"76.890128\"/>\r\n    </g>\r\n    <g clip-path=\"url(#p177d062398)\">\r\n     <use style=\"fill:#21918c;stroke:#21918c;\" x=\"251.214355\" xlink:href=\"#C0_0_bcf3cc3050\" y=\"142.781037\"/>\r\n    </g>\r\n    <g clip-path=\"url(#p177d062398)\">\r\n     <use style=\"fill:#21918c;stroke:#21918c;\" x=\"152.743767\" xlink:href=\"#C0_0_bcf3cc3050\" y=\"183.962855\"/>\r\n    </g>\r\n    <g clip-path=\"url(#p177d062398)\">\r\n     <use style=\"fill:#fde725;stroke:#fde725;\" x=\"197.503125\" xlink:href=\"#C0_0_bcf3cc3050\" y=\"200.435582\"/>\r\n    </g>\r\n    <g clip-path=\"url(#p177d062398)\">\r\n     <use style=\"fill:#fde725;stroke:#fde725;\" x=\"233.310612\" xlink:href=\"#C0_0_bcf3cc3050\" y=\"151.017401\"/>\r\n    </g>\r\n    <g clip-path=\"url(#p177d062398)\">\r\n     <use style=\"fill:#21918c;stroke:#21918c;\" x=\"197.503125\" xlink:href=\"#C0_0_bcf3cc3050\" y=\"200.435582\"/>\r\n    </g>\r\n    <g clip-path=\"url(#p177d062398)\">\r\n     <use style=\"fill:#21918c;stroke:#21918c;\" x=\"260.166227\" xlink:href=\"#C0_0_bcf3cc3050\" y=\"126.30831\"/>\r\n    </g>\r\n    <g clip-path=\"url(#p177d062398)\">\r\n     <use style=\"fill:#440154;stroke:#440154;\" x=\"107.984408\" xlink:href=\"#C0_0_bcf3cc3050\" y=\"118.071946\"/>\r\n    </g>\r\n    <g clip-path=\"url(#p177d062398)\">\r\n     <use style=\"fill:#440154;stroke:#440154;\" x=\"45.321307\" xlink:href=\"#C0_0_bcf3cc3050\" y=\"134.544673\"/>\r\n    </g>\r\n    <g clip-path=\"url(#p177d062398)\">\r\n     <use style=\"fill:#fde725;stroke:#fde725;\" x=\"224.35874\" xlink:href=\"#C0_0_bcf3cc3050\" y=\"101.599219\"/>\r\n    </g>\r\n    <g clip-path=\"url(#p177d062398)\">\r\n     <use style=\"fill:#fde725;stroke:#fde725;\" x=\"179.599382\" xlink:href=\"#C0_0_bcf3cc3050\" y=\"151.017401\"/>\r\n    </g>\r\n    <g clip-path=\"url(#p177d062398)\">\r\n     <use style=\"fill:#440154;stroke:#440154;\" x=\"116.93628\" xlink:href=\"#C0_0_bcf3cc3050\" y=\"68.653764\"/>\r\n    </g>\r\n    <g clip-path=\"url(#p177d062398)\">\r\n     <use style=\"fill:#440154;stroke:#440154;\" x=\"63.22505\" xlink:href=\"#C0_0_bcf3cc3050\" y=\"192.199219\"/>\r\n    </g>\r\n    <g clip-path=\"url(#p177d062398)\">\r\n     <use style=\"fill:#21918c;stroke:#21918c;\" x=\"170.64751\" xlink:href=\"#C0_0_bcf3cc3050\" y=\"151.017401\"/>\r\n    </g>\r\n    <g clip-path=\"url(#p177d062398)\">\r\n     <use style=\"fill:#21918c;stroke:#21918c;\" x=\"224.35874\" xlink:href=\"#C0_0_bcf3cc3050\" y=\"175.726491\"/>\r\n    </g>\r\n    <g clip-path=\"url(#p177d062398)\">\r\n     <use style=\"fill:#440154;stroke:#440154;\" x=\"116.93628\" xlink:href=\"#C0_0_bcf3cc3050\" y=\"93.362855\"/>\r\n    </g>\r\n    <g clip-path=\"url(#p177d062398)\">\r\n     <use style=\"fill:#fde725;stroke:#fde725;\" x=\"179.599382\" xlink:href=\"#C0_0_bcf3cc3050\" y=\"159.253764\"/>\r\n    </g>\r\n    <g clip-path=\"url(#p177d062398)\">\r\n     <use style=\"fill:#440154;stroke:#440154;\" x=\"107.984408\" xlink:href=\"#C0_0_bcf3cc3050\" y=\"101.599219\"/>\r\n    </g>\r\n    <g clip-path=\"url(#p177d062398)\">\r\n     <use style=\"fill:#fde725;stroke:#fde725;\" x=\"242.262483\" xlink:href=\"#C0_0_bcf3cc3050\" y=\"118.071946\"/>\r\n    </g>\r\n    <g clip-path=\"url(#p177d062398)\">\r\n     <use style=\"fill:#440154;stroke:#440154;\" x=\"90.080665\" xlink:href=\"#C0_0_bcf3cc3050\" y=\"134.544673\"/>\r\n    </g>\r\n    <g clip-path=\"url(#p177d062398)\">\r\n     <use style=\"fill:#440154;stroke:#440154;\" x=\"116.93628\" xlink:href=\"#C0_0_bcf3cc3050\" y=\"68.653764\"/>\r\n    </g>\r\n    <g clip-path=\"url(#p177d062398)\">\r\n     <use style=\"fill:#440154;stroke:#440154;\" x=\"179.599382\" xlink:href=\"#C0_0_bcf3cc3050\" y=\"52.181037\"/>\r\n    </g>\r\n    <g clip-path=\"url(#p177d062398)\">\r\n     <use style=\"fill:#440154;stroke:#440154;\" x=\"107.984408\" xlink:href=\"#C0_0_bcf3cc3050\" y=\"85.126491\"/>\r\n    </g>\r\n   </g>\r\n   <g id=\"matplotlib.axis_1\">\r\n    <g id=\"xtick_1\">\r\n     <g id=\"line2d_1\">\r\n      <defs>\r\n       <path d=\"M 0 0 \r\nL 0 3.5 \r\n\" id=\"ma59e6a891e\" style=\"stroke:#000000;stroke-width:0.8;\"/>\r\n      </defs>\r\n      <g>\r\n       <use style=\"stroke:#000000;stroke-width:0.8;\" x=\"63.22505\" xlink:href=\"#ma59e6a891e\" y=\"226.791946\"/>\r\n      </g>\r\n     </g>\r\n     <g id=\"text_1\">\r\n      <!-- 4.5 -->\r\n      <defs>\r\n       <path d=\"M 37.796875 64.3125 \r\nL 12.890625 25.390625 \r\nL 37.796875 25.390625 \r\nz\r\nM 35.203125 72.90625 \r\nL 47.609375 72.90625 \r\nL 47.609375 25.390625 \r\nL 58.015625 25.390625 \r\nL 58.015625 17.1875 \r\nL 47.609375 17.1875 \r\nL 47.609375 0 \r\nL 37.796875 0 \r\nL 37.796875 17.1875 \r\nL 4.890625 17.1875 \r\nL 4.890625 26.703125 \r\nz\r\n\" id=\"DejaVuSans-52\"/>\r\n       <path d=\"M 10.6875 12.40625 \r\nL 21 12.40625 \r\nL 21 0 \r\nL 10.6875 0 \r\nz\r\n\" id=\"DejaVuSans-46\"/>\r\n       <path d=\"M 10.796875 72.90625 \r\nL 49.515625 72.90625 \r\nL 49.515625 64.59375 \r\nL 19.828125 64.59375 \r\nL 19.828125 46.734375 \r\nQ 21.96875 47.46875 24.109375 47.828125 \r\nQ 26.265625 48.1875 28.421875 48.1875 \r\nQ 40.625 48.1875 47.75 41.5 \r\nQ 54.890625 34.8125 54.890625 23.390625 \r\nQ 54.890625 11.625 47.5625 5.09375 \r\nQ 40.234375 -1.421875 26.90625 -1.421875 \r\nQ 22.3125 -1.421875 17.546875 -0.640625 \r\nQ 12.796875 0.140625 7.71875 1.703125 \r\nL 7.71875 11.625 \r\nQ 12.109375 9.234375 16.796875 8.0625 \r\nQ 21.484375 6.890625 26.703125 6.890625 \r\nQ 35.15625 6.890625 40.078125 11.328125 \r\nQ 45.015625 15.765625 45.015625 23.390625 \r\nQ 45.015625 31 40.078125 35.4375 \r\nQ 35.15625 39.890625 26.703125 39.890625 \r\nQ 22.75 39.890625 18.8125 39.015625 \r\nQ 14.890625 38.140625 10.796875 36.28125 \r\nz\r\n\" id=\"DejaVuSans-53\"/>\r\n      </defs>\r\n      <g transform=\"translate(55.273488 241.390384)scale(0.1 -0.1)\">\r\n       <use xlink:href=\"#DejaVuSans-52\"/>\r\n       <use x=\"63.623047\" xlink:href=\"#DejaVuSans-46\"/>\r\n       <use x=\"95.410156\" xlink:href=\"#DejaVuSans-53\"/>\r\n      </g>\r\n     </g>\r\n    </g>\r\n    <g id=\"xtick_2\">\r\n     <g id=\"line2d_2\">\r\n      <g>\r\n       <use style=\"stroke:#000000;stroke-width:0.8;\" x=\"107.984408\" xlink:href=\"#ma59e6a891e\" y=\"226.791946\"/>\r\n      </g>\r\n     </g>\r\n     <g id=\"text_2\">\r\n      <!-- 5.0 -->\r\n      <defs>\r\n       <path d=\"M 31.78125 66.40625 \r\nQ 24.171875 66.40625 20.328125 58.90625 \r\nQ 16.5 51.421875 16.5 36.375 \r\nQ 16.5 21.390625 20.328125 13.890625 \r\nQ 24.171875 6.390625 31.78125 6.390625 \r\nQ 39.453125 6.390625 43.28125 13.890625 \r\nQ 47.125 21.390625 47.125 36.375 \r\nQ 47.125 51.421875 43.28125 58.90625 \r\nQ 39.453125 66.40625 31.78125 66.40625 \r\nz\r\nM 31.78125 74.21875 \r\nQ 44.046875 74.21875 50.515625 64.515625 \r\nQ 56.984375 54.828125 56.984375 36.375 \r\nQ 56.984375 17.96875 50.515625 8.265625 \r\nQ 44.046875 -1.421875 31.78125 -1.421875 \r\nQ 19.53125 -1.421875 13.0625 8.265625 \r\nQ 6.59375 17.96875 6.59375 36.375 \r\nQ 6.59375 54.828125 13.0625 64.515625 \r\nQ 19.53125 74.21875 31.78125 74.21875 \r\nz\r\n\" id=\"DejaVuSans-48\"/>\r\n      </defs>\r\n      <g transform=\"translate(100.032846 241.390384)scale(0.1 -0.1)\">\r\n       <use xlink:href=\"#DejaVuSans-53\"/>\r\n       <use x=\"63.623047\" xlink:href=\"#DejaVuSans-46\"/>\r\n       <use x=\"95.410156\" xlink:href=\"#DejaVuSans-48\"/>\r\n      </g>\r\n     </g>\r\n    </g>\r\n    <g id=\"xtick_3\">\r\n     <g id=\"line2d_3\">\r\n      <g>\r\n       <use style=\"stroke:#000000;stroke-width:0.8;\" x=\"152.743767\" xlink:href=\"#ma59e6a891e\" y=\"226.791946\"/>\r\n      </g>\r\n     </g>\r\n     <g id=\"text_3\">\r\n      <!-- 5.5 -->\r\n      <g transform=\"translate(144.792204 241.390384)scale(0.1 -0.1)\">\r\n       <use xlink:href=\"#DejaVuSans-53\"/>\r\n       <use x=\"63.623047\" xlink:href=\"#DejaVuSans-46\"/>\r\n       <use x=\"95.410156\" xlink:href=\"#DejaVuSans-53\"/>\r\n      </g>\r\n     </g>\r\n    </g>\r\n    <g id=\"xtick_4\">\r\n     <g id=\"line2d_4\">\r\n      <g>\r\n       <use style=\"stroke:#000000;stroke-width:0.8;\" x=\"197.503125\" xlink:href=\"#ma59e6a891e\" y=\"226.791946\"/>\r\n      </g>\r\n     </g>\r\n     <g id=\"text_4\">\r\n      <!-- 6.0 -->\r\n      <defs>\r\n       <path d=\"M 33.015625 40.375 \r\nQ 26.375 40.375 22.484375 35.828125 \r\nQ 18.609375 31.296875 18.609375 23.390625 \r\nQ 18.609375 15.53125 22.484375 10.953125 \r\nQ 26.375 6.390625 33.015625 6.390625 \r\nQ 39.65625 6.390625 43.53125 10.953125 \r\nQ 47.40625 15.53125 47.40625 23.390625 \r\nQ 47.40625 31.296875 43.53125 35.828125 \r\nQ 39.65625 40.375 33.015625 40.375 \r\nz\r\nM 52.59375 71.296875 \r\nL 52.59375 62.3125 \r\nQ 48.875 64.0625 45.09375 64.984375 \r\nQ 41.3125 65.921875 37.59375 65.921875 \r\nQ 27.828125 65.921875 22.671875 59.328125 \r\nQ 17.53125 52.734375 16.796875 39.40625 \r\nQ 19.671875 43.65625 24.015625 45.921875 \r\nQ 28.375 48.1875 33.59375 48.1875 \r\nQ 44.578125 48.1875 50.953125 41.515625 \r\nQ 57.328125 34.859375 57.328125 23.390625 \r\nQ 57.328125 12.15625 50.6875 5.359375 \r\nQ 44.046875 -1.421875 33.015625 -1.421875 \r\nQ 20.359375 -1.421875 13.671875 8.265625 \r\nQ 6.984375 17.96875 6.984375 36.375 \r\nQ 6.984375 53.65625 15.1875 63.9375 \r\nQ 23.390625 74.21875 37.203125 74.21875 \r\nQ 40.921875 74.21875 44.703125 73.484375 \r\nQ 48.484375 72.75 52.59375 71.296875 \r\nz\r\n\" id=\"DejaVuSans-54\"/>\r\n      </defs>\r\n      <g transform=\"translate(189.551563 241.390384)scale(0.1 -0.1)\">\r\n       <use xlink:href=\"#DejaVuSans-54\"/>\r\n       <use x=\"63.623047\" xlink:href=\"#DejaVuSans-46\"/>\r\n       <use x=\"95.410156\" xlink:href=\"#DejaVuSans-48\"/>\r\n      </g>\r\n     </g>\r\n    </g>\r\n    <g id=\"xtick_5\">\r\n     <g id=\"line2d_5\">\r\n      <g>\r\n       <use style=\"stroke:#000000;stroke-width:0.8;\" x=\"242.262483\" xlink:href=\"#ma59e6a891e\" y=\"226.791946\"/>\r\n      </g>\r\n     </g>\r\n     <g id=\"text_5\">\r\n      <!-- 6.5 -->\r\n      <g transform=\"translate(234.310921 241.390384)scale(0.1 -0.1)\">\r\n       <use xlink:href=\"#DejaVuSans-54\"/>\r\n       <use x=\"63.623047\" xlink:href=\"#DejaVuSans-46\"/>\r\n       <use x=\"95.410156\" xlink:href=\"#DejaVuSans-53\"/>\r\n      </g>\r\n     </g>\r\n    </g>\r\n    <g id=\"xtick_6\">\r\n     <g id=\"line2d_6\">\r\n      <g>\r\n       <use style=\"stroke:#000000;stroke-width:0.8;\" x=\"287.021842\" xlink:href=\"#ma59e6a891e\" y=\"226.791946\"/>\r\n      </g>\r\n     </g>\r\n     <g id=\"text_6\">\r\n      <!-- 7.0 -->\r\n      <defs>\r\n       <path d=\"M 8.203125 72.90625 \r\nL 55.078125 72.90625 \r\nL 55.078125 68.703125 \r\nL 28.609375 0 \r\nL 18.3125 0 \r\nL 43.21875 64.59375 \r\nL 8.203125 64.59375 \r\nz\r\n\" id=\"DejaVuSans-55\"/>\r\n      </defs>\r\n      <g transform=\"translate(279.070279 241.390384)scale(0.1 -0.1)\">\r\n       <use xlink:href=\"#DejaVuSans-55\"/>\r\n       <use x=\"63.623047\" xlink:href=\"#DejaVuSans-46\"/>\r\n       <use x=\"95.410156\" xlink:href=\"#DejaVuSans-48\"/>\r\n      </g>\r\n     </g>\r\n    </g>\r\n    <g id=\"xtick_7\">\r\n     <g id=\"line2d_7\">\r\n      <g>\r\n       <use style=\"stroke:#000000;stroke-width:0.8;\" x=\"331.7812\" xlink:href=\"#ma59e6a891e\" y=\"226.791946\"/>\r\n      </g>\r\n     </g>\r\n     <g id=\"text_7\">\r\n      <!-- 7.5 -->\r\n      <g transform=\"translate(323.829637 241.390384)scale(0.1 -0.1)\">\r\n       <use xlink:href=\"#DejaVuSans-55\"/>\r\n       <use x=\"63.623047\" xlink:href=\"#DejaVuSans-46\"/>\r\n       <use x=\"95.410156\" xlink:href=\"#DejaVuSans-53\"/>\r\n      </g>\r\n     </g>\r\n    </g>\r\n   </g>\r\n   <g id=\"matplotlib.axis_2\">\r\n    <g id=\"ytick_1\">\r\n     <g id=\"line2d_8\">\r\n      <defs>\r\n       <path d=\"M 0 0 \r\nL -3.5 0 \r\n\" id=\"ma1393f134e\" style=\"stroke:#000000;stroke-width:0.8;\"/>\r\n      </defs>\r\n      <g>\r\n       <use style=\"stroke:#000000;stroke-width:0.8;\" x=\"30.103125\" xlink:href=\"#ma1393f134e\" y=\"216.90831\"/>\r\n      </g>\r\n     </g>\r\n     <g id=\"text_8\">\r\n      <!-- 2.0 -->\r\n      <defs>\r\n       <path d=\"M 19.1875 8.296875 \r\nL 53.609375 8.296875 \r\nL 53.609375 0 \r\nL 7.328125 0 \r\nL 7.328125 8.296875 \r\nQ 12.9375 14.109375 22.625 23.890625 \r\nQ 32.328125 33.6875 34.8125 36.53125 \r\nQ 39.546875 41.84375 41.421875 45.53125 \r\nQ 43.3125 49.21875 43.3125 52.78125 \r\nQ 43.3125 58.59375 39.234375 62.25 \r\nQ 35.15625 65.921875 28.609375 65.921875 \r\nQ 23.96875 65.921875 18.8125 64.3125 \r\nQ 13.671875 62.703125 7.8125 59.421875 \r\nL 7.8125 69.390625 \r\nQ 13.765625 71.78125 18.9375 73 \r\nQ 24.125 74.21875 28.421875 74.21875 \r\nQ 39.75 74.21875 46.484375 68.546875 \r\nQ 53.21875 62.890625 53.21875 53.421875 \r\nQ 53.21875 48.921875 51.53125 44.890625 \r\nQ 49.859375 40.875 45.40625 35.40625 \r\nQ 44.1875 33.984375 37.640625 27.21875 \r\nQ 31.109375 20.453125 19.1875 8.296875 \r\nz\r\n\" id=\"DejaVuSans-50\"/>\r\n      </defs>\r\n      <g transform=\"translate(7.2 220.707528)scale(0.1 -0.1)\">\r\n       <use xlink:href=\"#DejaVuSans-50\"/>\r\n       <use x=\"63.623047\" xlink:href=\"#DejaVuSans-46\"/>\r\n       <use x=\"95.410156\" xlink:href=\"#DejaVuSans-48\"/>\r\n      </g>\r\n     </g>\r\n    </g>\r\n    <g id=\"ytick_2\">\r\n     <g id=\"line2d_9\">\r\n      <g>\r\n       <use style=\"stroke:#000000;stroke-width:0.8;\" x=\"30.103125\" xlink:href=\"#ma1393f134e\" y=\"175.726491\"/>\r\n      </g>\r\n     </g>\r\n     <g id=\"text_9\">\r\n      <!-- 2.5 -->\r\n      <g transform=\"translate(7.2 179.52571)scale(0.1 -0.1)\">\r\n       <use xlink:href=\"#DejaVuSans-50\"/>\r\n       <use x=\"63.623047\" xlink:href=\"#DejaVuSans-46\"/>\r\n       <use x=\"95.410156\" xlink:href=\"#DejaVuSans-53\"/>\r\n      </g>\r\n     </g>\r\n    </g>\r\n    <g id=\"ytick_3\">\r\n     <g id=\"line2d_10\">\r\n      <g>\r\n       <use style=\"stroke:#000000;stroke-width:0.8;\" x=\"30.103125\" xlink:href=\"#ma1393f134e\" y=\"134.544673\"/>\r\n      </g>\r\n     </g>\r\n     <g id=\"text_10\">\r\n      <!-- 3.0 -->\r\n      <defs>\r\n       <path d=\"M 40.578125 39.3125 \r\nQ 47.65625 37.796875 51.625 33 \r\nQ 55.609375 28.21875 55.609375 21.1875 \r\nQ 55.609375 10.40625 48.1875 4.484375 \r\nQ 40.765625 -1.421875 27.09375 -1.421875 \r\nQ 22.515625 -1.421875 17.65625 -0.515625 \r\nQ 12.796875 0.390625 7.625 2.203125 \r\nL 7.625 11.71875 \r\nQ 11.71875 9.328125 16.59375 8.109375 \r\nQ 21.484375 6.890625 26.8125 6.890625 \r\nQ 36.078125 6.890625 40.9375 10.546875 \r\nQ 45.796875 14.203125 45.796875 21.1875 \r\nQ 45.796875 27.640625 41.28125 31.265625 \r\nQ 36.765625 34.90625 28.71875 34.90625 \r\nL 20.21875 34.90625 \r\nL 20.21875 43.015625 \r\nL 29.109375 43.015625 \r\nQ 36.375 43.015625 40.234375 45.921875 \r\nQ 44.09375 48.828125 44.09375 54.296875 \r\nQ 44.09375 59.90625 40.109375 62.90625 \r\nQ 36.140625 65.921875 28.71875 65.921875 \r\nQ 24.65625 65.921875 20.015625 65.03125 \r\nQ 15.375 64.15625 9.8125 62.3125 \r\nL 9.8125 71.09375 \r\nQ 15.4375 72.65625 20.34375 73.4375 \r\nQ 25.25 74.21875 29.59375 74.21875 \r\nQ 40.828125 74.21875 47.359375 69.109375 \r\nQ 53.90625 64.015625 53.90625 55.328125 \r\nQ 53.90625 49.265625 50.4375 45.09375 \r\nQ 46.96875 40.921875 40.578125 39.3125 \r\nz\r\n\" id=\"DejaVuSans-51\"/>\r\n      </defs>\r\n      <g transform=\"translate(7.2 138.343892)scale(0.1 -0.1)\">\r\n       <use xlink:href=\"#DejaVuSans-51\"/>\r\n       <use x=\"63.623047\" xlink:href=\"#DejaVuSans-46\"/>\r\n       <use x=\"95.410156\" xlink:href=\"#DejaVuSans-48\"/>\r\n      </g>\r\n     </g>\r\n    </g>\r\n    <g id=\"ytick_4\">\r\n     <g id=\"line2d_11\">\r\n      <g>\r\n       <use style=\"stroke:#000000;stroke-width:0.8;\" x=\"30.103125\" xlink:href=\"#ma1393f134e\" y=\"93.362855\"/>\r\n      </g>\r\n     </g>\r\n     <g id=\"text_11\">\r\n      <!-- 3.5 -->\r\n      <g transform=\"translate(7.2 97.162074)scale(0.1 -0.1)\">\r\n       <use xlink:href=\"#DejaVuSans-51\"/>\r\n       <use x=\"63.623047\" xlink:href=\"#DejaVuSans-46\"/>\r\n       <use x=\"95.410156\" xlink:href=\"#DejaVuSans-53\"/>\r\n      </g>\r\n     </g>\r\n    </g>\r\n    <g id=\"ytick_5\">\r\n     <g id=\"line2d_12\">\r\n      <g>\r\n       <use style=\"stroke:#000000;stroke-width:0.8;\" x=\"30.103125\" xlink:href=\"#ma1393f134e\" y=\"52.181037\"/>\r\n      </g>\r\n     </g>\r\n     <g id=\"text_12\">\r\n      <!-- 4.0 -->\r\n      <g transform=\"translate(7.2 55.980256)scale(0.1 -0.1)\">\r\n       <use xlink:href=\"#DejaVuSans-52\"/>\r\n       <use x=\"63.623047\" xlink:href=\"#DejaVuSans-46\"/>\r\n       <use x=\"95.410156\" xlink:href=\"#DejaVuSans-48\"/>\r\n      </g>\r\n     </g>\r\n    </g>\r\n    <g id=\"ytick_6\">\r\n     <g id=\"line2d_13\">\r\n      <g>\r\n       <use style=\"stroke:#000000;stroke-width:0.8;\" x=\"30.103125\" xlink:href=\"#ma1393f134e\" y=\"10.999219\"/>\r\n      </g>\r\n     </g>\r\n     <g id=\"text_13\">\r\n      <!-- 4.5 -->\r\n      <g transform=\"translate(7.2 14.798437)scale(0.1 -0.1)\">\r\n       <use xlink:href=\"#DejaVuSans-52\"/>\r\n       <use x=\"63.623047\" xlink:href=\"#DejaVuSans-46\"/>\r\n       <use x=\"95.410156\" xlink:href=\"#DejaVuSans-53\"/>\r\n      </g>\r\n     </g>\r\n    </g>\r\n   </g>\r\n   <g id=\"patch_3\">\r\n    <path d=\"M 30.103125 226.791946 \r\nL 30.103125 9.351946 \r\n\" style=\"fill:none;stroke:#000000;stroke-linecap:square;stroke-linejoin:miter;stroke-width:0.8;\"/>\r\n   </g>\r\n   <g id=\"patch_4\">\r\n    <path d=\"M 364.903125 226.791946 \r\nL 364.903125 9.351946 \r\n\" style=\"fill:none;stroke:#000000;stroke-linecap:square;stroke-linejoin:miter;stroke-width:0.8;\"/>\r\n   </g>\r\n   <g id=\"patch_5\">\r\n    <path d=\"M 30.103125 226.791946 \r\nL 364.903125 226.791946 \r\n\" style=\"fill:none;stroke:#000000;stroke-linecap:square;stroke-linejoin:miter;stroke-width:0.8;\"/>\r\n   </g>\r\n   <g id=\"patch_6\">\r\n    <path d=\"M 30.103125 9.351946 \r\nL 364.903125 9.351946 \r\n\" style=\"fill:none;stroke:#000000;stroke-linecap:square;stroke-linejoin:miter;stroke-width:0.8;\"/>\r\n   </g>\r\n   <g id=\"legend_1\">\r\n    <g id=\"patch_7\">\r\n     <path d=\"M 37.103125 76.064446 \r\nL 78.773438 76.064446 \r\nQ 80.773438 76.064446 80.773438 74.064446 \r\nL 80.773438 16.351946 \r\nQ 80.773438 14.351946 78.773438 14.351946 \r\nL 37.103125 14.351946 \r\nQ 35.103125 14.351946 35.103125 16.351946 \r\nL 35.103125 74.064446 \r\nQ 35.103125 76.064446 37.103125 76.064446 \r\nz\r\n\" style=\"fill:#ffffff;opacity:0.8;stroke:#cccccc;stroke-linejoin:miter;\"/>\r\n    </g>\r\n    <g id=\"text_14\">\r\n     <!-- Classes -->\r\n     <defs>\r\n      <path d=\"M 64.40625 67.28125 \r\nL 64.40625 56.890625 \r\nQ 59.421875 61.53125 53.78125 63.8125 \r\nQ 48.140625 66.109375 41.796875 66.109375 \r\nQ 29.296875 66.109375 22.65625 58.46875 \r\nQ 16.015625 50.828125 16.015625 36.375 \r\nQ 16.015625 21.96875 22.65625 14.328125 \r\nQ 29.296875 6.6875 41.796875 6.6875 \r\nQ 48.140625 6.6875 53.78125 8.984375 \r\nQ 59.421875 11.28125 64.40625 15.921875 \r\nL 64.40625 5.609375 \r\nQ 59.234375 2.09375 53.4375 0.328125 \r\nQ 47.65625 -1.421875 41.21875 -1.421875 \r\nQ 24.65625 -1.421875 15.125 8.703125 \r\nQ 5.609375 18.84375 5.609375 36.375 \r\nQ 5.609375 53.953125 15.125 64.078125 \r\nQ 24.65625 74.21875 41.21875 74.21875 \r\nQ 47.75 74.21875 53.53125 72.484375 \r\nQ 59.328125 70.75 64.40625 67.28125 \r\nz\r\n\" id=\"DejaVuSans-67\"/>\r\n      <path d=\"M 9.421875 75.984375 \r\nL 18.40625 75.984375 \r\nL 18.40625 0 \r\nL 9.421875 0 \r\nz\r\n\" id=\"DejaVuSans-108\"/>\r\n      <path d=\"M 34.28125 27.484375 \r\nQ 23.390625 27.484375 19.1875 25 \r\nQ 14.984375 22.515625 14.984375 16.5 \r\nQ 14.984375 11.71875 18.140625 8.90625 \r\nQ 21.296875 6.109375 26.703125 6.109375 \r\nQ 34.1875 6.109375 38.703125 11.40625 \r\nQ 43.21875 16.703125 43.21875 25.484375 \r\nL 43.21875 27.484375 \r\nz\r\nM 52.203125 31.203125 \r\nL 52.203125 0 \r\nL 43.21875 0 \r\nL 43.21875 8.296875 \r\nQ 40.140625 3.328125 35.546875 0.953125 \r\nQ 30.953125 -1.421875 24.3125 -1.421875 \r\nQ 15.921875 -1.421875 10.953125 3.296875 \r\nQ 6 8.015625 6 15.921875 \r\nQ 6 25.140625 12.171875 29.828125 \r\nQ 18.359375 34.515625 30.609375 34.515625 \r\nL 43.21875 34.515625 \r\nL 43.21875 35.40625 \r\nQ 43.21875 41.609375 39.140625 45 \r\nQ 35.0625 48.390625 27.6875 48.390625 \r\nQ 23 48.390625 18.546875 47.265625 \r\nQ 14.109375 46.140625 10.015625 43.890625 \r\nL 10.015625 52.203125 \r\nQ 14.9375 54.109375 19.578125 55.046875 \r\nQ 24.21875 56 28.609375 56 \r\nQ 40.484375 56 46.34375 49.84375 \r\nQ 52.203125 43.703125 52.203125 31.203125 \r\nz\r\n\" id=\"DejaVuSans-97\"/>\r\n      <path d=\"M 44.28125 53.078125 \r\nL 44.28125 44.578125 \r\nQ 40.484375 46.53125 36.375 47.5 \r\nQ 32.28125 48.484375 27.875 48.484375 \r\nQ 21.1875 48.484375 17.84375 46.4375 \r\nQ 14.5 44.390625 14.5 40.28125 \r\nQ 14.5 37.15625 16.890625 35.375 \r\nQ 19.28125 33.59375 26.515625 31.984375 \r\nL 29.59375 31.296875 \r\nQ 39.15625 29.25 43.1875 25.515625 \r\nQ 47.21875 21.78125 47.21875 15.09375 \r\nQ 47.21875 7.46875 41.1875 3.015625 \r\nQ 35.15625 -1.421875 24.609375 -1.421875 \r\nQ 20.21875 -1.421875 15.453125 -0.5625 \r\nQ 10.6875 0.296875 5.421875 2 \r\nL 5.421875 11.28125 \r\nQ 10.40625 8.6875 15.234375 7.390625 \r\nQ 20.0625 6.109375 24.8125 6.109375 \r\nQ 31.15625 6.109375 34.5625 8.28125 \r\nQ 37.984375 10.453125 37.984375 14.40625 \r\nQ 37.984375 18.0625 35.515625 20.015625 \r\nQ 33.0625 21.96875 24.703125 23.78125 \r\nL 21.578125 24.515625 \r\nQ 13.234375 26.265625 9.515625 29.90625 \r\nQ 5.8125 33.546875 5.8125 39.890625 \r\nQ 5.8125 47.609375 11.28125 51.796875 \r\nQ 16.75 56 26.8125 56 \r\nQ 31.78125 56 36.171875 55.265625 \r\nQ 40.578125 54.546875 44.28125 53.078125 \r\nz\r\n\" id=\"DejaVuSans-115\"/>\r\n      <path d=\"M 56.203125 29.59375 \r\nL 56.203125 25.203125 \r\nL 14.890625 25.203125 \r\nQ 15.484375 15.921875 20.484375 11.0625 \r\nQ 25.484375 6.203125 34.421875 6.203125 \r\nQ 39.59375 6.203125 44.453125 7.46875 \r\nQ 49.3125 8.734375 54.109375 11.28125 \r\nL 54.109375 2.78125 \r\nQ 49.265625 0.734375 44.1875 -0.34375 \r\nQ 39.109375 -1.421875 33.890625 -1.421875 \r\nQ 20.796875 -1.421875 13.15625 6.1875 \r\nQ 5.515625 13.8125 5.515625 26.8125 \r\nQ 5.515625 40.234375 12.765625 48.109375 \r\nQ 20.015625 56 32.328125 56 \r\nQ 43.359375 56 49.78125 48.890625 \r\nQ 56.203125 41.796875 56.203125 29.59375 \r\nz\r\nM 47.21875 32.234375 \r\nQ 47.125 39.59375 43.09375 43.984375 \r\nQ 39.0625 48.390625 32.421875 48.390625 \r\nQ 24.90625 48.390625 20.390625 44.140625 \r\nQ 15.875 39.890625 15.1875 32.171875 \r\nz\r\n\" id=\"DejaVuSans-101\"/>\r\n     </defs>\r\n     <g transform=\"translate(39.103125 25.950384)scale(0.1 -0.1)\">\r\n      <use xlink:href=\"#DejaVuSans-67\"/>\r\n      <use x=\"69.824219\" xlink:href=\"#DejaVuSans-108\"/>\r\n      <use x=\"97.607422\" xlink:href=\"#DejaVuSans-97\"/>\r\n      <use x=\"158.886719\" xlink:href=\"#DejaVuSans-115\"/>\r\n      <use x=\"210.986328\" xlink:href=\"#DejaVuSans-115\"/>\r\n      <use x=\"263.085938\" xlink:href=\"#DejaVuSans-101\"/>\r\n      <use x=\"324.609375\" xlink:href=\"#DejaVuSans-115\"/>\r\n     </g>\r\n    </g>\r\n    <g id=\"line2d_14\"/>\r\n    <g id=\"line2d_15\">\r\n     <defs>\r\n      <path d=\"M 0 3 \r\nC 0.795609 3 1.55874 2.683901 2.12132 2.12132 \r\nC 2.683901 1.55874 3 0.795609 3 0 \r\nC 3 -0.795609 2.683901 -1.55874 2.12132 -2.12132 \r\nC 1.55874 -2.683901 0.795609 -3 0 -3 \r\nC -0.795609 -3 -1.55874 -2.683901 -2.12132 -2.12132 \r\nC -2.683901 -1.55874 -3 -0.795609 -3 0 \r\nC -3 0.795609 -2.683901 1.55874 -2.12132 2.12132 \r\nC -1.55874 2.683901 -0.795609 3 0 3 \r\nz\r\n\" id=\"m29cc0dc1ad\" style=\"stroke:#440154;\"/>\r\n     </defs>\r\n     <g>\r\n      <use style=\"fill:#440154;stroke:#440154;\" x=\"50.738281\" xlink:href=\"#m29cc0dc1ad\" y=\"37.128509\"/>\r\n     </g>\r\n    </g>\r\n    <g id=\"text_15\">\r\n     <!-- $\\mathdefault{0}$ -->\r\n     <g transform=\"translate(68.738281 40.628509)scale(0.1 -0.1)\">\r\n      <use transform=\"translate(0 0.78125)\" xlink:href=\"#DejaVuSans-48\"/>\r\n     </g>\r\n    </g>\r\n    <g id=\"line2d_16\"/>\r\n    <g id=\"line2d_17\">\r\n     <defs>\r\n      <path d=\"M 0 3 \r\nC 0.795609 3 1.55874 2.683901 2.12132 2.12132 \r\nC 2.683901 1.55874 3 0.795609 3 0 \r\nC 3 -0.795609 2.683901 -1.55874 2.12132 -2.12132 \r\nC 1.55874 -2.683901 0.795609 -3 0 -3 \r\nC -0.795609 -3 -1.55874 -2.683901 -2.12132 -2.12132 \r\nC -2.683901 -1.55874 -3 -0.795609 -3 0 \r\nC -3 0.795609 -2.683901 1.55874 -2.12132 2.12132 \r\nC -1.55874 2.683901 -0.795609 3 0 3 \r\nz\r\n\" id=\"me9356fd5b4\" style=\"stroke:#21918c;\"/>\r\n     </defs>\r\n     <g>\r\n      <use style=\"fill:#21918c;stroke:#21918c;\" x=\"50.738281\" xlink:href=\"#me9356fd5b4\" y=\"51.806634\"/>\r\n     </g>\r\n    </g>\r\n    <g id=\"text_16\">\r\n     <!-- $\\mathdefault{1}$ -->\r\n     <defs>\r\n      <path d=\"M 12.40625 8.296875 \r\nL 28.515625 8.296875 \r\nL 28.515625 63.921875 \r\nL 10.984375 60.40625 \r\nL 10.984375 69.390625 \r\nL 28.421875 72.90625 \r\nL 38.28125 72.90625 \r\nL 38.28125 8.296875 \r\nL 54.390625 8.296875 \r\nL 54.390625 0 \r\nL 12.40625 0 \r\nz\r\n\" id=\"DejaVuSans-49\"/>\r\n     </defs>\r\n     <g transform=\"translate(68.738281 55.306634)scale(0.1 -0.1)\">\r\n      <use transform=\"translate(0 0.09375)\" xlink:href=\"#DejaVuSans-49\"/>\r\n     </g>\r\n    </g>\r\n    <g id=\"line2d_18\"/>\r\n    <g id=\"line2d_19\">\r\n     <defs>\r\n      <path d=\"M 0 3 \r\nC 0.795609 3 1.55874 2.683901 2.12132 2.12132 \r\nC 2.683901 1.55874 3 0.795609 3 0 \r\nC 3 -0.795609 2.683901 -1.55874 2.12132 -2.12132 \r\nC 1.55874 -2.683901 0.795609 -3 0 -3 \r\nC -0.795609 -3 -1.55874 -2.683901 -2.12132 -2.12132 \r\nC -2.683901 -1.55874 -3 -0.795609 -3 0 \r\nC -3 0.795609 -2.683901 1.55874 -2.12132 2.12132 \r\nC -1.55874 2.683901 -0.795609 3 0 3 \r\nz\r\n\" id=\"m9e47efdd44\" style=\"stroke:#fde725;\"/>\r\n     </defs>\r\n     <g>\r\n      <use style=\"fill:#fde725;stroke:#fde725;\" x=\"50.738281\" xlink:href=\"#m9e47efdd44\" y=\"66.484759\"/>\r\n     </g>\r\n    </g>\r\n    <g id=\"text_17\">\r\n     <!-- $\\mathdefault{2}$ -->\r\n     <g transform=\"translate(68.738281 69.984759)scale(0.1 -0.1)\">\r\n      <use transform=\"translate(0 0.78125)\" xlink:href=\"#DejaVuSans-50\"/>\r\n     </g>\r\n    </g>\r\n   </g>\r\n   <g id=\"legend_2\">\r\n    <g id=\"patch_8\">\r\n     <path d=\"M 37.103125 76.064446 \r\nL 78.773438 76.064446 \r\nQ 80.773438 76.064446 80.773438 74.064446 \r\nL 80.773438 16.351946 \r\nQ 80.773438 14.351946 78.773438 14.351946 \r\nL 37.103125 14.351946 \r\nQ 35.103125 14.351946 35.103125 16.351946 \r\nL 35.103125 74.064446 \r\nQ 35.103125 76.064446 37.103125 76.064446 \r\nz\r\n\" style=\"fill:#ffffff;opacity:0.8;stroke:#cccccc;stroke-linejoin:miter;\"/>\r\n    </g>\r\n    <g id=\"text_18\">\r\n     <!-- Classes -->\r\n     <g transform=\"translate(39.103125 25.950384)scale(0.1 -0.1)\">\r\n      <use xlink:href=\"#DejaVuSans-67\"/>\r\n      <use x=\"69.824219\" xlink:href=\"#DejaVuSans-108\"/>\r\n      <use x=\"97.607422\" xlink:href=\"#DejaVuSans-97\"/>\r\n      <use x=\"158.886719\" xlink:href=\"#DejaVuSans-115\"/>\r\n      <use x=\"210.986328\" xlink:href=\"#DejaVuSans-115\"/>\r\n      <use x=\"263.085938\" xlink:href=\"#DejaVuSans-101\"/>\r\n      <use x=\"324.609375\" xlink:href=\"#DejaVuSans-115\"/>\r\n     </g>\r\n    </g>\r\n    <g id=\"line2d_20\"/>\r\n    <g id=\"line2d_21\">\r\n     <g>\r\n      <use style=\"fill:#440154;stroke:#440154;\" x=\"50.738281\" xlink:href=\"#m29cc0dc1ad\" y=\"37.128509\"/>\r\n     </g>\r\n    </g>\r\n    <g id=\"text_19\">\r\n     <!-- $\\mathdefault{0}$ -->\r\n     <g transform=\"translate(68.738281 40.628509)scale(0.1 -0.1)\">\r\n      <use transform=\"translate(0 0.78125)\" xlink:href=\"#DejaVuSans-48\"/>\r\n     </g>\r\n    </g>\r\n    <g id=\"line2d_22\"/>\r\n    <g id=\"line2d_23\">\r\n     <g>\r\n      <use style=\"fill:#21918c;stroke:#21918c;\" x=\"50.738281\" xlink:href=\"#me9356fd5b4\" y=\"51.806634\"/>\r\n     </g>\r\n    </g>\r\n    <g id=\"text_20\">\r\n     <!-- $\\mathdefault{1}$ -->\r\n     <g transform=\"translate(68.738281 55.306634)scale(0.1 -0.1)\">\r\n      <use transform=\"translate(0 0.09375)\" xlink:href=\"#DejaVuSans-49\"/>\r\n     </g>\r\n    </g>\r\n    <g id=\"line2d_24\"/>\r\n    <g id=\"line2d_25\">\r\n     <g>\r\n      <use style=\"fill:#fde725;stroke:#fde725;\" x=\"50.738281\" xlink:href=\"#m9e47efdd44\" y=\"66.484759\"/>\r\n     </g>\r\n    </g>\r\n    <g id=\"text_21\">\r\n     <!-- $\\mathdefault{2}$ -->\r\n     <g transform=\"translate(68.738281 69.984759)scale(0.1 -0.1)\">\r\n      <use transform=\"translate(0 0.78125)\" xlink:href=\"#DejaVuSans-50\"/>\r\n     </g>\r\n    </g>\r\n   </g>\r\n  </g>\r\n </g>\r\n <defs>\r\n  <clipPath id=\"p177d062398\">\r\n   <rect height=\"217.44\" width=\"334.8\" x=\"30.103125\" y=\"9.351946\"/>\r\n  </clipPath>\r\n </defs>\r\n</svg>\r\n",
      "image/png": "[encoded data removed]"
     },
     "metadata": {
      "needs_background": "light"
     }
    }
   ],
   "source": [
    "fig, ax = plt.subplots()\n",
    "scatter = ax.scatter(data_all_train[:,0], data_all_train[:,1],c=data_label_train)\n",
    "legend1 = ax.legend(*scatter.legend_elements(), title=\"Classes\")\n",
    "ax.add_artist(legend1)"
   ]
  },
  {
   "cell_type": "code",
   "execution_count": 330,
   "metadata": {},
   "outputs": [
    {
     "output_type": "error",
     "ename": "NameError",
     "evalue": "name 'np_red_data' is not defined",
     "traceback": [
      "\u001b[1;31m---------------------------------------------------------------------------\u001b[0m",
      "\u001b[1;31mNameError\u001b[0m                                 Traceback (most recent call last)",
      "\u001b[1;32m<ipython-input-330-a68afe4c3117>\u001b[0m in \u001b[0;36m<module>\u001b[1;34m\u001b[0m\n\u001b[1;32m----> 1\u001b[1;33m \u001b[0mplt\u001b[0m\u001b[1;33m.\u001b[0m\u001b[0mscatter\u001b[0m\u001b[1;33m(\u001b[0m\u001b[0mnp_red_data\u001b[0m\u001b[1;33m[\u001b[0m\u001b[1;33m:\u001b[0m\u001b[1;33m,\u001b[0m\u001b[1;36m0\u001b[0m\u001b[1;33m]\u001b[0m\u001b[1;33m,\u001b[0m \u001b[0mnp_red_data\u001b[0m\u001b[1;33m[\u001b[0m\u001b[1;33m:\u001b[0m\u001b[1;33m,\u001b[0m\u001b[1;36m1\u001b[0m\u001b[1;33m]\u001b[0m\u001b[1;33m,\u001b[0m\u001b[0mc\u001b[0m\u001b[1;33m=\u001b[0m\u001b[0mnp_red_col\u001b[0m\u001b[1;33m)\u001b[0m\u001b[1;33m\u001b[0m\u001b[1;33m\u001b[0m\u001b[0m\n\u001b[0m",
      "\u001b[1;31mNameError\u001b[0m: name 'np_red_data' is not defined"
     ]
    }
   ],
   "source": [
    "plt.scatter(np_red_data[:,0], np_red_data[:,1],c=np_red_col)"
   ]
  },
  {
   "cell_type": "code",
   "execution_count": 331,
   "metadata": {},
   "outputs": [],
   "source": [
    "def print_raport(time, accuracy, n_instances):\n",
    "    \"\"\"\n",
    "    Function prints raport\n",
    "    :param time: elapsed time\n",
    "    :param accuracy: accuracy of classifier\n",
    "    :param n_instances: number of instances in fited dataset\n",
    "    \"\"\"\n",
    "    print(\"Time:  \", time)\n",
    "    print('Accuracy:  ', accuracy)\n",
    "    print('Count of instances', n_instances)\n",
    "    print('=============')"
   ]
  },
  {
   "cell_type": "code",
   "execution_count": 332,
   "metadata": {},
   "outputs": [],
   "source": [
    "from sklearn import svm\n",
    "from sklearn.neighbors import KNeighborsClassifier\n",
    "import time\n",
    "from sklearn.naive_bayes import GaussianNB\n",
    "from sklearn.tree import DecisionTreeClassifier\n",
    "from sklearn.neural_network import MLPClassifier\n",
    "\n",
    "\n",
    "classifiers = {'knn': KNeighborsClassifier(), \n",
    "                'svm': svm.SVC(), \n",
    "                'naive_bayers': GaussianNB(), \n",
    "                'decision_tree': DecisionTreeClassifier(),\n",
    "                'neutral_network': MLPClassifier()}\n",
    "\n",
    "\n",
    "# def raport_classify(original_set, original_labels, reduced_set, reduced_labels, test_set, test_labels, classifier_type = 'all'):\n",
    "#     '''\n",
    "#     Function creates raport for passed classifier_type. \n",
    "#     classifier_type - optional, if not passed raport is creating for all classifiers \n",
    "#     original_set - original dataset\n",
    "#     original_labels - array of labels for original dataset\n",
    "#     reduced_set - dataset gained after using reduction algorithm \n",
    "#     reduced_labels - array of labels for reduced_set\n",
    "#     '''\n",
    "#     if classifier_type == 'all':\n",
    "#         for c_type in classifiers:\n",
    "#             t = time.process_time()\n",
    "#             classifier = classifiers[c_type]\n",
    "#             classifier.fit(original_set, original_labels)\n",
    "#             accuracy = classifier.score(test_set, test_labels)\n",
    "#             elapsed = time.process_time() - t\n",
    "#             print('=============')\n",
    "#             print(\"Classifier:  \", c_type)\n",
    "#             print('=============')\n",
    "#             print(\"Raport for original dataset:\")\n",
    "#             print_raport(elapsed, accuracy, len(original_labels))\n",
    "\n",
    "#             t = time.process_time()\n",
    "#             classifier = classifiers[c_type]\n",
    "#             classifier.fit(reduced_set, reduced_labels)\n",
    "#             accuracy = classifier.score(test_set, test_labels)\n",
    "#             elapsed = time.process_time() - t\n",
    "#             print(\"Raport for reduced dataset:\")\n",
    "#             print_raport(elapsed, accuracy, len(reduced_labels))\n",
    "#     else:\n",
    "#         t = time.process_time()\n",
    "#         classifier = classifiers[classifier_type]\n",
    "#         classifier.fit(original_set, original_labels)\n",
    "#         accuracy = classifier.score(test_set, test_labels)\n",
    "#         elapsed = time.process_time() - t\n",
    "#         print('=============')\n",
    "#         print(\"Classifier:  \", classifier_type)\n",
    "#         print('=============')\n",
    "#         print(\"Raport for original dataset:\")\n",
    "#         print_raport(elapsed, accuracy, len(original_labels))\n",
    "\n",
    "#         t = time.process_time()\n",
    "#         classifier = classifiers[classifier_type]\n",
    "#         classifier.fit(reduced_set, reduced_labels)\n",
    "#         accuracy = classifier.score(test_set, test_labels)\n",
    "#         elapsed = time.process_time() - t\n",
    "#         print(\"Raport for reduced dataset:\")\n",
    "#         print_raport(elapsed, accuracy, len(reduced_labels))\n",
    "\n",
    "# raport_classify(data_all_train, data_label_train, np_red_data, np_red_col, data_all_test, data_label_test)"
   ]
  },
  {
   "cell_type": "code",
   "execution_count": 333,
   "metadata": {},
   "outputs": [
    {
     "output_type": "stream",
     "name": "stdout",
     "text": "accuracy :  0.9777777777777777\nf1 :  [1.         0.97560976 0.96774194]\nprecision :  [1.         0.95238095 1.        ]\nrecall :  [1.     1.     0.9375]\n"
    }
   ],
   "source": [
    "from sklearn.metrics import accuracy_score\n",
    "from sklearn.metrics import f1_score\n",
    "from sklearn.metrics import precision_score\n",
    "from sklearn.metrics import recall_score\n",
    "from sklearn.metrics import plot_confusion_matrix\n",
    "\n",
    "\n",
    "classify_metrics = {\"accuracy\": accuracy_score,\n",
    "                    \"f1\": f1_score,\n",
    "                    \"precision\": precision_score,\n",
    "                    \"recall\": recall_score}\n",
    "\n",
    "                    ###################test\n",
    "classifier = classifiers['knn']\n",
    "classifier.fit(data_all_train, data_label_train)\n",
    "pred = classifier.predict(data_all_test)\n",
    "# data_all_train, data_label_train, np_red_data, np_red_col, data_all_test, data_label_test\n",
    "for metric in classify_metrics:\n",
    "    if (metric == 'accuracy'):\n",
    "        print(metric, \": \", classify_metrics[metric](data_label_test, pred))\n",
    "    else: \n",
    "        print(metric, \": \", classify_metrics[metric](data_label_test, pred, average=None))"
   ]
  },
  {
   "cell_type": "code",
   "execution_count": 334,
   "metadata": {},
   "outputs": [],
   "source": [
    "import time"
   ]
  },
  {
   "cell_type": "code",
   "execution_count": 335,
   "metadata": {},
   "outputs": [
    {
     "output_type": "error",
     "ename": "NameError",
     "evalue": "name 'np_red_data' is not defined",
     "traceback": [
      "\u001b[1;31m---------------------------------------------------------------------------\u001b[0m",
      "\u001b[1;31mNameError\u001b[0m                                 Traceback (most recent call last)",
      "\u001b[1;32m<ipython-input-335-41d306ef1546>\u001b[0m in \u001b[0;36m<module>\u001b[1;34m\u001b[0m\n\u001b[0;32m     90\u001b[0m      \u001b[1;31m#   print('Check propriety of atributes!')\u001b[0m\u001b[1;33m\u001b[0m\u001b[1;33m\u001b[0m\u001b[1;33m\u001b[0m\u001b[0m\n\u001b[0;32m     91\u001b[0m \u001b[1;33m\u001b[0m\u001b[0m\n\u001b[1;32m---> 92\u001b[1;33m \u001b[0mraport_classify\u001b[0m\u001b[1;33m(\u001b[0m\u001b[0mdata_all_train\u001b[0m\u001b[1;33m,\u001b[0m \u001b[0mdata_label_train\u001b[0m\u001b[1;33m,\u001b[0m \u001b[0mnp_red_data\u001b[0m\u001b[1;33m,\u001b[0m \u001b[0mnp_red_col\u001b[0m\u001b[1;33m,\u001b[0m \u001b[0mdata_all_test\u001b[0m\u001b[1;33m,\u001b[0m \u001b[0mdata_label_test\u001b[0m\u001b[1;33m,\u001b[0m \u001b[1;34m'knn'\u001b[0m\u001b[1;33m)\u001b[0m\u001b[1;33m\u001b[0m\u001b[1;33m\u001b[0m\u001b[0m\n\u001b[0m",
      "\u001b[1;31mNameError\u001b[0m: name 'np_red_data' is not defined"
     ]
    }
   ],
   "source": [
    "def raport_classify(original_set, original_labels, reduced_set, reduced_labels, test_set, test_labels, c_type = 'all'):\n",
    "    \"\"\"\n",
    "    TODO special classifier\n",
    "    Function generating raport \n",
    "\n",
    "    :original_set: original training dataset\n",
    "    :original_labels: labels of classes in original trainign dataset\n",
    "    :reduced_set: reduced training dataset\n",
    "    :reduced_labels: labels of classes in reduced training dataset\n",
    "    :test_set: testing dataset\n",
    "    :test_labels: labels of classes in testing dataset, expected classification results\n",
    "    :c_type: name of classifier, optional attribute, if not given raport is generated for all classifiers\n",
    "                       Possible values: 'knn': KNeighborsClassifier(), \n",
    "                                        'svm': svm.SVC(), \n",
    "                                        'naive_bayers': GaussianNB(), \n",
    "                                        'decision_tree': DecisionTreeClassifier(),\n",
    "                                        'neutral_network': MLPClassifier().\n",
    "    \"\"\"\n",
    "    try:\n",
    "        if c_type == 'all':\n",
    "            for c_t in classifiers:\n",
    "                raport_classify(original_set, original_labels, reduced_set, reduced_labels, test_set, test_labels, c_t)\n",
    "        else:\n",
    "            #select classifier\n",
    "            classifier = classifiers[c_type]\n",
    "            #train with original dataset and time measure\n",
    "            start = time.clock()\n",
    "            classifier.fit(original_set, original_labels)\n",
    "            end = time.clock()\n",
    "            training_time = end - start\n",
    "\n",
    "            #make predictions and time measure\n",
    "            start = time.clock()\n",
    "            predict = classifier.predict(test_set)\n",
    "            end = time.clock()\n",
    "            prediction_time = end - start\n",
    "\n",
    "            #create confusion matrix\n",
    "            plot = plot_confusion_matrix(classifier, data_all_test, data_label_test, cmap=plt.cm.Blues)\n",
    "            title = \"Confusion matrix\\n original data - classifier: \" + str(c_type)\n",
    "            plot.ax_.set_title(title)\n",
    "            plot.figure_.savefig(\".\\plots\\\\\" + c_type + ' - original data')  \n",
    "\n",
    "            #print raport with metrics for original training data\n",
    "            print('=============')\n",
    "            print(\"Classifier:  \", c_type)\n",
    "            print('=============')\n",
    "            print(\"Raport for original dataset\")\n",
    "            print('Count of instances: ', len(original_labels))\n",
    "            for metric in classify_metrics:\n",
    "                if (metric == 'accuracy'):\n",
    "                    print(metric, \": \", classify_metrics[metric](test_labels, pred))\n",
    "                else: \n",
    "                    print(metric, \": \", classify_metrics[metric](test_labels, pred, average=None))\n",
    "            print('===')\n",
    "            print(\"Training time: \", training_time)\n",
    "            print(\"Predicting time: \", prediction_time)\n",
    "\n",
    "\n",
    "            #same for reduced training dataset\n",
    "            classifier = classifiers[c_type]\n",
    "            start = time.clock()\n",
    "            classifier.fit(reduced_set, reduced_labels)\n",
    "            end = time.clock()\n",
    "            training_time = end - start\n",
    "            start = time.clock()\n",
    "            predict = classifier.predict(test_set)\n",
    "            end = time.clock()\n",
    "            prediction_time = end - start\n",
    "\n",
    "            plot = plot_confusion_matrix(classifier, data_all_test, data_label_test, cmap=plt.cm.Blues)\n",
    "            title = \"Confusion matrix\\n reduced data - classifier: \" + str(c_type)\n",
    "            plot.ax_.set_title(title)\n",
    "            plot.figure_.savefig(\".\\plots\\\\\" + c_type + ' - reduced data')  \n",
    "\n",
    "            print(\"\\nRaport for reduced dataset\")\n",
    "            print('Count of instances: ', len(reduced_labels))\n",
    "            for metric in classify_metrics:\n",
    "                if (metric == 'accuracy'):\n",
    "                    print(metric, \": \", classify_metrics[metric](test_labels, pred))\n",
    "                else: \n",
    "                    print(metric, \": \", classify_metrics[metric](test_labels, pred, average=None))\n",
    "                \n",
    "            print('===')\n",
    "            print(\"Training time: \", training_time)\n",
    "            print(\"Predicting time: \", prediction_time, \"\\n\")\n",
    "    except KeyError:\n",
    "        print('Choose existing classifier!')\n",
    "    #except:\n",
    "     #   print('Check propriety of atributes!')\n",
    "\n",
    "raport_classify(data_all_train, data_label_train, np_red_data, np_red_col, data_all_test, data_label_test, 'knn')"
   ]
  },
  {
   "cell_type": "code",
   "execution_count": 336,
   "metadata": {},
   "outputs": [
    {
     "output_type": "error",
     "ename": "NameError",
     "evalue": "name 'np_red_col' is not defined",
     "traceback": [
      "\u001b[1;31m---------------------------------------------------------------------------\u001b[0m",
      "\u001b[1;31mNameError\u001b[0m                                 Traceback (most recent call last)",
      "\u001b[1;32m<ipython-input-336-ea118c395b93>\u001b[0m in \u001b[0;36m<module>\u001b[1;34m\u001b[0m\n\u001b[1;32m----> 1\u001b[1;33m \u001b[0mnp_red_col\u001b[0m\u001b[1;33m\u001b[0m\u001b[1;33m\u001b[0m\u001b[0m\n\u001b[0m",
      "\u001b[1;31mNameError\u001b[0m: name 'np_red_col' is not defined"
     ]
    }
   ],
   "source": [
    "np_red_col"
   ]
  },
  {
   "cell_type": "code",
   "execution_count": 337,
   "metadata": {},
   "outputs": [
    {
     "output_type": "execute_result",
     "data": {
      "text/plain": "array([0, 1, 0, 2, 1, 1, 2, 2, 0, 2, 0, 0, 1, 0, 1, 1, 2, 0, 2, 2, 0, 1,\n       2, 2, 1, 0, 0, 0, 2, 1, 2, 1, 0, 0, 2, 2, 1, 1, 1, 2, 0, 2, 2, 0,\n       0, 0, 1, 0, 0, 1, 2, 1, 1, 2, 2, 2, 1, 0, 2, 0, 2, 2, 0, 1, 2, 2,\n       2, 0, 0, 1, 1, 2, 0, 1, 0, 0, 1, 1, 0, 2, 0, 0, 0, 1, 1, 2, 2, 1,\n       1, 0, 0, 2, 2, 0, 0, 1, 1, 0, 2, 0, 2, 0, 0, 0, 0])"
     },
     "metadata": {},
     "execution_count": 337
    }
   ],
   "source": [
    "data_label_train"
   ]
  },
  {
   "cell_type": "code",
   "execution_count": 338,
   "metadata": {},
   "outputs": [
    {
     "output_type": "execute_result",
     "data": {
      "text/plain": "array([0, 2, 1, 1, 2, 2, 0, 2, 0, 0, 1, 0, 1, 1, 2, 0, 2, 2, 0, 1, 2, 2,\n       1, 0, 0, 0, 2, 1, 2, 1, 0, 0, 2, 2, 1, 1, 1, 2, 0, 2, 2, 0, 0, 0,\n       1, 0, 0, 1, 2, 1, 1, 2, 2, 2, 1, 0, 2, 0, 2, 2, 0, 1, 2, 2, 2, 0,\n       0, 1, 1, 2, 0, 1, 0, 0, 1, 1, 0, 2, 0, 0, 0, 1, 1, 2, 2, 1, 1, 0,\n       0, 2, 2, 0, 0, 1, 1, 0, 2, 0, 2, 0, 0, 0, 0])"
     },
     "metadata": {},
     "execution_count": 338
    }
   ],
   "source": [
    "np.delete(data_label_train, [0,1], axis = 0)"
   ]
  },
  {
   "cell_type": "code",
   "execution_count": 339,
   "metadata": {},
   "outputs": [],
   "source": [
    "knn = KNeighborsClassifier(n_neighbors= 4).fit(data_all_train, data_label_train)\n",
    "graph = knn.kneighbors_graph().toarray()\n",
    "indx = knn.kneighbors([data_all_train[0]], return_distance = False)"
   ]
  },
  {
   "cell_type": "code",
   "execution_count": 340,
   "metadata": {},
   "outputs": [
    {
     "output_type": "execute_result",
     "data": {
      "text/plain": "array([[  0,  27,  17, 102]], dtype=int64)"
     },
     "metadata": {},
     "execution_count": 340
    }
   ],
   "source": [
    "indx"
   ]
  },
  {
   "cell_type": "code",
   "execution_count": 341,
   "metadata": {},
   "outputs": [
    {
     "output_type": "error",
     "ename": "IndexError",
     "evalue": "index 4013 is out of bounds for axis 0 with size 105",
     "traceback": [
      "\u001b[1;31m---------------------------------------------------------------------------\u001b[0m",
      "\u001b[1;31mIndexError\u001b[0m                                Traceback (most recent call last)",
      "\u001b[1;32m<ipython-input-341-571c65c22e24>\u001b[0m in \u001b[0;36m<module>\u001b[1;34m\u001b[0m\n\u001b[1;32m----> 1\u001b[1;33m \u001b[0mgraph\u001b[0m\u001b[1;33m[\u001b[0m\u001b[1;36m4013\u001b[0m\u001b[1;33m,\u001b[0m\u001b[1;36m0\u001b[0m\u001b[1;33m]\u001b[0m\u001b[1;33m\u001b[0m\u001b[1;33m\u001b[0m\u001b[0m\n\u001b[0m",
      "\u001b[1;31mIndexError\u001b[0m: index 4013 is out of bounds for axis 0 with size 105"
     ]
    }
   ],
   "source": [
    "graph[4013,0]"
   ]
  },
  {
   "cell_type": "code",
   "execution_count": 342,
   "metadata": {},
   "outputs": [
    {
     "output_type": "execute_result",
     "data": {
      "text/plain": "array([None, None, None, None, None, None, None, None, None, None, None,\n       None, None, None, None, None, None, None, None, None, None, None,\n       None, None, None, None, None, None, None, None, None, None, None,\n       None, None, None, None, None, None, None, None, None, None, None,\n       None, None, None, None, None, None, None, None, None, None, None,\n       None, None, None, None, None, None, None, None, None, None, None,\n       None, None, None, None, None, None, None, None, None, None, None,\n       None, None, None, None, None, None, None, None, None, None, None,\n       None, None, None, None, None, None, None, None, None, None, None,\n       None, None, None, None, None, None], dtype=object)"
     },
     "metadata": {},
     "execution_count": 342
    }
   ],
   "source": [
    "n_ins = len(data_all_train)\n",
    "NN = np.empty((n_ins), dtype=object)\n",
    "NA = np.empty((n_ins), dtype=object)\n",
    "NN"
   ]
  },
  {
   "cell_type": "code",
   "execution_count": 343,
   "metadata": {},
   "outputs": [],
   "source": [
    "NN[0] = np.where(graph[0] == 1)[0] #indexy sąsiadów\n",
    "NA[0] = np.where(graph[:,0] == 1)[0] #indexy associates\n"
   ]
  },
  {
   "cell_type": "code",
   "execution_count": 344,
   "metadata": {},
   "outputs": [
    {
     "output_type": "execute_result",
     "data": {
      "text/plain": "17"
     },
     "metadata": {},
     "execution_count": 344
    }
   ],
   "source": [
    "NN[0][0]"
   ]
  },
  {
   "cell_type": "code",
   "execution_count": 345,
   "metadata": {},
   "outputs": [],
   "source": [
    "knn = KNeighborsClassifier(n_neighbors= 4).fit(data_all_train, data_label_train)\n",
    "graph = knn.kneighbors_graph().toarray()\n",
    "\n",
    "n_ins = len(data_all_train)\n",
    "NN = np.empty((n_ins), dtype=object)\n",
    "AN = np.empty((n_ins), dtype=object)\n",
    "\n",
    "for i in range(n_ins):\n",
    "    NN[i] = np.where(graph[i] == 1)[0] #indexes of neighbours\n",
    "    AN[i] = np.where(graph[:,i] == 1)[0] #indexes of associates"
   ]
  },
  {
   "cell_type": "code",
   "execution_count": 346,
   "metadata": {},
   "outputs": [
    {
     "output_type": "execute_result",
     "data": {
      "text/plain": "array([104,  62,  97,  25,  10,   8,  17, 102,  82,  45,  93,   0,  99,\n        11,  27,  89,  43,  13,  33,  81,  67,  57,  48,  47,  68,  20,\n        72,  80,  74,  44, 101,  78,  75,  26,   2,  59, 103,  40,  90,\n        32,  94,  24,  77,  84,  36,   4,  15,  49,  95,  31,  37,  87,\n        38,   1,   5,  69,  14,  46,  21,  83,  52,  12,  70,  63,  66,\n        88,  39,   7,  73,  65,  96,  29,  23,  76,  85,  51,  98,  56,\n        18, 100,  92,  42,  16,   6,  28,  58,  41,  22,  54,  91,  86,\n        79,  61,  30,   9,  35,  34,   3,  64,  50,  55,  71,  53,  19,\n        60], dtype=int64)"
     },
     "metadata": {},
     "execution_count": 346
    }
   ],
   "source": [
    "\n",
    "from scipy.spatial import distance\n",
    "\n",
    "arr = distance.cdist(data_all_train, data_all_train)\n",
    "\n",
    "tmp = np.arange(n_ins) #array of original indexes\n",
    "\n",
    "for i in range(n_ins):\n",
    "    #arr1 = np.vstack((arr[i], np.array(tmp)))\n",
    "    #array o\n",
    "    x = np.argsort(arr[i])\n",
    "    neigh = []\n",
    "    enemy = []\n",
    "    #arr1.sort(axis = 1)\n",
    "    for j in x:\n",
    "        if data_label_train[i] == data_label_train[j]:\n",
    "            neigh.append(j)\n",
    "        else:\n",
    "            enemy.append(j)\n",
    "\n",
    "\n",
    "x\n"
   ]
  },
  {
   "cell_type": "code",
   "execution_count": 347,
   "metadata": {},
   "outputs": [],
   "source": [
    "lab = list(class_dict.keys())\n",
    "n_cl = dict.fromkeys(lab, 0)"
   ]
  },
  {
   "cell_type": "code",
   "execution_count": 348,
   "metadata": {},
   "outputs": [
    {
     "output_type": "execute_result",
     "data": {
      "text/plain": "{'i1': 0, 'i2': 1, 'i3': 3}"
     },
     "metadata": {},
     "execution_count": 348
    }
   ],
   "source": [
    "class_dict"
   ]
  },
  {
   "cell_type": "code",
   "execution_count": 349,
   "metadata": {},
   "outputs": [
    {
     "output_type": "execute_result",
     "data": {
      "text/plain": "{'i1': 0, 'i2': 0, 'i3': 0}"
     },
     "metadata": {},
     "execution_count": 349
    }
   ],
   "source": [
    "lab = list(class_dict.keys())\n",
    "n_cl = dict.fromkeys(lab, 0)\n",
    "n_cl"
   ]
  },
  {
   "cell_type": "code",
   "execution_count": 350,
   "metadata": {},
   "outputs": [
    {
     "output_type": "error",
     "ename": "NotFittedError",
     "evalue": "This KNeighborsClassifier instance is not fitted yet. Call 'fit' with appropriate arguments before using this estimator.",
     "traceback": [
      "\u001b[1;31m---------------------------------------------------------------------------\u001b[0m",
      "\u001b[1;31mNotFittedError\u001b[0m                            Traceback (most recent call last)",
      "\u001b[1;32m<ipython-input-350-fd0ab1678d31>\u001b[0m in \u001b[0;36m<module>\u001b[1;34m\u001b[0m\n\u001b[0;32m      1\u001b[0m \u001b[0mknn4\u001b[0m \u001b[1;33m=\u001b[0m \u001b[0mKNeighborsClassifier\u001b[0m\u001b[1;33m(\u001b[0m\u001b[1;33m)\u001b[0m\u001b[1;33m\u001b[0m\u001b[1;33m\u001b[0m\u001b[0m\n\u001b[1;32m----> 2\u001b[1;33m \u001b[0mknn4\u001b[0m\u001b[1;33m.\u001b[0m\u001b[0mpredict\u001b[0m\u001b[1;33m(\u001b[0m\u001b[1;33m[\u001b[0m\u001b[1;33m[\u001b[0m\u001b[1;36m93\u001b[0m\u001b[1;33m,\u001b[0m\u001b[1;36m4\u001b[0m\u001b[1;33m]\u001b[0m\u001b[1;33m]\u001b[0m\u001b[1;33m)\u001b[0m\u001b[1;33m\u001b[0m\u001b[1;33m\u001b[0m\u001b[0m\n\u001b[0m",
      "\u001b[1;32m~\\AppData\\Local\\Programs\\Python\\Python37\\lib\\site-packages\\sklearn\\neighbors\\_classification.py\u001b[0m in \u001b[0;36mpredict\u001b[1;34m(self, X)\u001b[0m\n\u001b[0;32m    173\u001b[0m         \u001b[0mX\u001b[0m \u001b[1;33m=\u001b[0m \u001b[0mcheck_array\u001b[0m\u001b[1;33m(\u001b[0m\u001b[0mX\u001b[0m\u001b[1;33m,\u001b[0m \u001b[0maccept_sparse\u001b[0m\u001b[1;33m=\u001b[0m\u001b[1;34m'csr'\u001b[0m\u001b[1;33m)\u001b[0m\u001b[1;33m\u001b[0m\u001b[1;33m\u001b[0m\u001b[0m\n\u001b[0;32m    174\u001b[0m \u001b[1;33m\u001b[0m\u001b[0m\n\u001b[1;32m--> 175\u001b[1;33m         \u001b[0mneigh_dist\u001b[0m\u001b[1;33m,\u001b[0m \u001b[0mneigh_ind\u001b[0m \u001b[1;33m=\u001b[0m \u001b[0mself\u001b[0m\u001b[1;33m.\u001b[0m\u001b[0mkneighbors\u001b[0m\u001b[1;33m(\u001b[0m\u001b[0mX\u001b[0m\u001b[1;33m)\u001b[0m\u001b[1;33m\u001b[0m\u001b[1;33m\u001b[0m\u001b[0m\n\u001b[0m\u001b[0;32m    176\u001b[0m         \u001b[0mclasses_\u001b[0m \u001b[1;33m=\u001b[0m \u001b[0mself\u001b[0m\u001b[1;33m.\u001b[0m\u001b[0mclasses_\u001b[0m\u001b[1;33m\u001b[0m\u001b[1;33m\u001b[0m\u001b[0m\n\u001b[0;32m    177\u001b[0m         \u001b[0m_y\u001b[0m \u001b[1;33m=\u001b[0m \u001b[0mself\u001b[0m\u001b[1;33m.\u001b[0m\u001b[0m_y\u001b[0m\u001b[1;33m\u001b[0m\u001b[1;33m\u001b[0m\u001b[0m\n",
      "\u001b[1;32m~\\AppData\\Local\\Programs\\Python\\Python37\\lib\\site-packages\\sklearn\\neighbors\\_base.py\u001b[0m in \u001b[0;36mkneighbors\u001b[1;34m(self, X, n_neighbors, return_distance)\u001b[0m\n\u001b[0;32m    583\u001b[0m \u001b[1;33m\u001b[0m\u001b[0m\n\u001b[0;32m    584\u001b[0m         \"\"\"\n\u001b[1;32m--> 585\u001b[1;33m         \u001b[0mcheck_is_fitted\u001b[0m\u001b[1;33m(\u001b[0m\u001b[0mself\u001b[0m\u001b[1;33m)\u001b[0m\u001b[1;33m\u001b[0m\u001b[1;33m\u001b[0m\u001b[0m\n\u001b[0m\u001b[0;32m    586\u001b[0m \u001b[1;33m\u001b[0m\u001b[0m\n\u001b[0;32m    587\u001b[0m         \u001b[1;32mif\u001b[0m \u001b[0mn_neighbors\u001b[0m \u001b[1;32mis\u001b[0m \u001b[1;32mNone\u001b[0m\u001b[1;33m:\u001b[0m\u001b[1;33m\u001b[0m\u001b[1;33m\u001b[0m\u001b[0m\n",
      "\u001b[1;32m~\\AppData\\Local\\Programs\\Python\\Python37\\lib\\site-packages\\sklearn\\utils\\validation.py\u001b[0m in \u001b[0;36minner_f\u001b[1;34m(*args, **kwargs)\u001b[0m\n\u001b[0;32m     71\u001b[0m                           FutureWarning)\n\u001b[0;32m     72\u001b[0m         \u001b[0mkwargs\u001b[0m\u001b[1;33m.\u001b[0m\u001b[0mupdate\u001b[0m\u001b[1;33m(\u001b[0m\u001b[1;33m{\u001b[0m\u001b[0mk\u001b[0m\u001b[1;33m:\u001b[0m \u001b[0marg\u001b[0m \u001b[1;32mfor\u001b[0m \u001b[0mk\u001b[0m\u001b[1;33m,\u001b[0m \u001b[0marg\u001b[0m \u001b[1;32min\u001b[0m \u001b[0mzip\u001b[0m\u001b[1;33m(\u001b[0m\u001b[0msig\u001b[0m\u001b[1;33m.\u001b[0m\u001b[0mparameters\u001b[0m\u001b[1;33m,\u001b[0m \u001b[0margs\u001b[0m\u001b[1;33m)\u001b[0m\u001b[1;33m}\u001b[0m\u001b[1;33m)\u001b[0m\u001b[1;33m\u001b[0m\u001b[1;33m\u001b[0m\u001b[0m\n\u001b[1;32m---> 73\u001b[1;33m         \u001b[1;32mreturn\u001b[0m \u001b[0mf\u001b[0m\u001b[1;33m(\u001b[0m\u001b[1;33m**\u001b[0m\u001b[0mkwargs\u001b[0m\u001b[1;33m)\u001b[0m\u001b[1;33m\u001b[0m\u001b[1;33m\u001b[0m\u001b[0m\n\u001b[0m\u001b[0;32m     74\u001b[0m     \u001b[1;32mreturn\u001b[0m \u001b[0minner_f\u001b[0m\u001b[1;33m\u001b[0m\u001b[1;33m\u001b[0m\u001b[0m\n\u001b[0;32m     75\u001b[0m \u001b[1;33m\u001b[0m\u001b[0m\n",
      "\u001b[1;32m~\\AppData\\Local\\Programs\\Python\\Python37\\lib\\site-packages\\sklearn\\utils\\validation.py\u001b[0m in \u001b[0;36mcheck_is_fitted\u001b[1;34m(estimator, attributes, msg, all_or_any)\u001b[0m\n\u001b[0;32m   1018\u001b[0m \u001b[1;33m\u001b[0m\u001b[0m\n\u001b[0;32m   1019\u001b[0m     \u001b[1;32mif\u001b[0m \u001b[1;32mnot\u001b[0m \u001b[0mattrs\u001b[0m\u001b[1;33m:\u001b[0m\u001b[1;33m\u001b[0m\u001b[1;33m\u001b[0m\u001b[0m\n\u001b[1;32m-> 1020\u001b[1;33m         \u001b[1;32mraise\u001b[0m \u001b[0mNotFittedError\u001b[0m\u001b[1;33m(\u001b[0m\u001b[0mmsg\u001b[0m \u001b[1;33m%\u001b[0m \u001b[1;33m{\u001b[0m\u001b[1;34m'name'\u001b[0m\u001b[1;33m:\u001b[0m \u001b[0mtype\u001b[0m\u001b[1;33m(\u001b[0m\u001b[0mestimator\u001b[0m\u001b[1;33m)\u001b[0m\u001b[1;33m.\u001b[0m\u001b[0m__name__\u001b[0m\u001b[1;33m}\u001b[0m\u001b[1;33m)\u001b[0m\u001b[1;33m\u001b[0m\u001b[1;33m\u001b[0m\u001b[0m\n\u001b[0m\u001b[0;32m   1021\u001b[0m \u001b[1;33m\u001b[0m\u001b[0m\n\u001b[0;32m   1022\u001b[0m \u001b[1;33m\u001b[0m\u001b[0m\n",
      "\u001b[1;31mNotFittedError\u001b[0m: This KNeighborsClassifier instance is not fitted yet. Call 'fit' with appropriate arguments before using this estimator."
     ]
    }
   ],
   "source": [
    "knn4 = KNeighborsClassifier()\n",
    "knn4.predict([[93,4]])"
   ]
  },
  {
   "cell_type": "code",
   "execution_count": 351,
   "metadata": {},
   "outputs": [],
   "source": [
    "def group_neigh_enemies(labels, index, sort):\n",
    "        \"\"\"\n",
    "        Function grouping indexes of points with same label and enemies - points with different label.\n",
    "        Atributes:\n",
    "        :labels: - array of label for each point in dataset\n",
    "        :index: - index of point\n",
    "        :dist_arr: - 1d array of indexes sorted by distance beetween :index:\n",
    "        Return arrays:\n",
    "        :neigh: - array of points with same label as point with :index:\n",
    "        :enemy: - array of points with diferent label than point with :index:\n",
    "        \"\"\"\n",
    "        #init empty arrays\n",
    "        neigh = []\n",
    "        enemy = []\n",
    "        for i in sort:\n",
    "                if labels[index] == labels[i]:\n",
    "                    neigh.append(i)\n",
    "                else:\n",
    "                    enemy.append(i)\n",
    "\n",
    "        return neigh, enemy\n"
   ]
  },
  {
   "cell_type": "code",
   "execution_count": 352,
   "metadata": {},
   "outputs": [],
   "source": [
    "red_data = []\n",
    "red_lab = []"
   ]
  },
  {
   "cell_type": "code",
   "execution_count": 353,
   "metadata": {},
   "outputs": [],
   "source": [
    "        dist_arr = distance.cdist(data_all_train, data_all_train)\n",
    "        n_ins = len(data_all_train)\n",
    "        tmp = np.arange(n_ins) #array of original indexes\n",
    "        nearest_enemy = []\n",
    "        nearest_enemy_dist = []\n",
    "    \n",
    "\n",
    "        #create array with indexes of nearest enemy\n",
    "        for i in range(n_ins):\n",
    "            #sort by distance\n",
    "            sort = np.argsort(dist_arr[i])\n",
    "            #create sorted array with indexes of neighbours with same label and enemies - with different label\n",
    "            neigh, enemy = group_neigh_enemies(data_label_train, i, sort)\n",
    "            #add index of nearest enemy to aray \n",
    "            nearest_enemy.append(enemy[0])\n",
    "            nearest_enemy_dist.append(dist_arr[i][enemy[0]])\n",
    "\n",
    "        #indexes sorted by nearest enemy distance\n",
    "        sort = np.argsort(nearest_enemy_dist)\n",
    "        s = sort\n",
    "        added = []\n",
    "        for i in sort:\n",
    "            add = False\n",
    "            for j in sort:\n",
    "                if j in s and dist_arr[i][j] < nearest_enemy_dist[j]:\n",
    "                    s = np.delete(s, np.where(s==j))\n",
    "                    add = True\n",
    "            \n",
    "            if add and i not in added:\n",
    "                red_data.append(data_all_train[i])\n",
    "                red_lab.append(data_label_train[i])\n",
    "                added.append(i)\n"
   ]
  },
  {
   "cell_type": "code",
   "execution_count": 354,
   "metadata": {},
   "outputs": [
    {
     "output_type": "execute_result",
     "data": {
      "text/plain": "list"
     },
     "metadata": {},
     "execution_count": 354
    }
   ],
   "source": [
    "a[0]"
   ]
  },
  {
   "cell_type": "code",
   "execution_count": 355,
   "metadata": {},
   "outputs": [],
   "source": [
    "a = np.array([])\n",
    "for i in range(n_ins):\n",
    "    a = np.append(a, np.array(list))\n",
    "\n",
    "a[56] = [4.565,546.546,7]"
   ]
  },
  {
   "cell_type": "code",
   "execution_count": 356,
   "metadata": {},
   "outputs": [],
   "source": [
    "class_dict = {'i1': 0, 'i2': 1, 'i3': 3}"
   ]
  },
  {
   "cell_type": "code",
   "execution_count": 357,
   "metadata": {},
   "outputs": [],
   "source": [
    "lab = list(class_dict.values())"
   ]
  },
  {
   "cell_type": "code",
   "execution_count": 358,
   "metadata": {},
   "outputs": [
    {
     "output_type": "execute_result",
     "data": {
      "text/plain": "array([6. , 3. , 4.8, 1.8])"
     },
     "metadata": {},
     "execution_count": 358
    }
   ],
   "source": [
    "red_data[0]"
   ]
  },
  {
   "cell_type": "code",
   "execution_count": 359,
   "metadata": {},
   "outputs": [
    {
     "output_type": "execute_result",
     "data": {
      "text/plain": "array([0.36055513, 3.4278273 , 0.75498344, 5.16720427, 2.76224546,\n       3.50142828, 4.50998891, 3.90896406, 0.        , 5.0019996 ,\n       0.26457513, 0.31622777, 3.65239647, 0.36055513, 3.53553391,\n       2.89482297, 4.45982062, 0.14142136, 4.17013189, 6.16116872,\n       0.5       , 3.54964787, 4.56289382, 4.00624512, 2.2181073 ,\n       0.17320508, 0.9       , 0.42426407, 4.53651849, 3.94715087,\n       4.94165964, 2.97153159, 1.18321596, 0.48989795, 5.04975247,\n       5.03289181, 2.77488739, 3.01827765, 3.30605505, 3.87556448,\n       0.8660254 , 4.54972527, 4.36463057, 0.51961524, 0.42426407,\n       0.14142136, 3.50285598, 0.73484692, 0.36055513, 2.90344623,\n       5.55877684, 4.07185461, 3.69459064, 6.11555394, 4.74025316,\n       5.53985559, 4.14969878, 0.45825757, 4.56398948, 0.83066239,\n       6.4007812 , 4.9608467 , 0.31622777, 3.75898923, 5.20864666,\n       3.92555729, 3.79736751, 0.37416574, 0.54772256, 3.52420204,\n       3.69052842, 6.00249948, 0.43588989, 3.91535439, 0.64807407,\n       0.58309519, 4.02740611, 2.57099203, 0.51961524, 4.88057374,\n       0.6       , 0.45825757, 0.36055513, 3.64965752, 2.69443872,\n       4.02367991, 4.78121324, 3.02324329, 3.81837662, 0.37416574,\n       0.98488578, 4.80520551, 4.31856458, 0.41231056, 1.27279221,\n       2.94788059, 3.93700394, 0.14142136, 4.1024383 , 0.24494897,\n       4.2661458 , 0.51961524, 0.41231056, 0.96953597, 0.24494897])"
     },
     "metadata": {},
     "execution_count": 359
    }
   ],
   "source": [
    "dist_arr[8]"
   ]
  },
  {
   "cell_type": "code",
   "execution_count": 360,
   "metadata": {},
   "outputs": [],
   "source": [
    "assot = []\n",
    "\n",
    "for i in range(n_ins):\n",
    "    # np.append(assot, 6)\n",
    "    assot.append(np.argsort(dist_arr[i]))"
   ]
  },
  {
   "cell_type": "code",
   "execution_count": 361,
   "metadata": {},
   "outputs": [],
   "source": [
    "dataset = pd.read_csv('D:\\Studia\\inz\\datasets\\\\abalone.data.txt', sep = ',')"
   ]
  },
  {
   "cell_type": "code",
   "execution_count": 362,
   "metadata": {},
   "outputs": [
    {
     "output_type": "execute_result",
     "data": {
      "text/plain": "      M  0.455  0.365  0.095   0.514  0.2245   0.101    0.15  15\n0     M  0.350  0.265  0.090  0.2255  0.0995  0.0485  0.0700   7\n1     F  0.530  0.420  0.135  0.6770  0.2565  0.1415  0.2100   9\n2     M  0.440  0.365  0.125  0.5160  0.2155  0.1140  0.1550  10\n3     I  0.330  0.255  0.080  0.2050  0.0895  0.0395  0.0550   7\n4     I  0.425  0.300  0.095  0.3515  0.1410  0.0775  0.1200   8\n...  ..    ...    ...    ...     ...     ...     ...     ...  ..\n4171  F  0.565  0.450  0.165  0.8870  0.3700  0.2390  0.2490  11\n4172  M  0.590  0.440  0.135  0.9660  0.4390  0.2145  0.2605  10\n4173  M  0.600  0.475  0.205  1.1760  0.5255  0.2875  0.3080   9\n4174  F  0.625  0.485  0.150  1.0945  0.5310  0.2610  0.2960  10\n4175  M  0.710  0.555  0.195  1.9485  0.9455  0.3765  0.4950  12\n\n[4176 rows x 9 columns]",
      "text/html": "<div>\n<style scoped>\n    .dataframe tbody tr th:only-of-type {\n        vertical-align: middle;\n    }\n\n    .dataframe tbody tr th {\n        vertical-align: top;\n    }\n\n    .dataframe thead th {\n        text-align: right;\n    }\n</style>\n<table border=\"1\" class=\"dataframe\">\n  <thead>\n    <tr style=\"text-align: right;\">\n      <th></th>\n      <th>M</th>\n      <th>0.455</th>\n      <th>0.365</th>\n      <th>0.095</th>\n      <th>0.514</th>\n      <th>0.2245</th>\n      <th>0.101</th>\n      <th>0.15</th>\n      <th>15</th>\n    </tr>\n  </thead>\n  <tbody>\n    <tr>\n      <th>0</th>\n      <td>M</td>\n      <td>0.350</td>\n      <td>0.265</td>\n      <td>0.090</td>\n      <td>0.2255</td>\n      <td>0.0995</td>\n      <td>0.0485</td>\n      <td>0.0700</td>\n      <td>7</td>\n    </tr>\n    <tr>\n      <th>1</th>\n      <td>F</td>\n      <td>0.530</td>\n      <td>0.420</td>\n      <td>0.135</td>\n      <td>0.6770</td>\n      <td>0.2565</td>\n      <td>0.1415</td>\n      <td>0.2100</td>\n      <td>9</td>\n    </tr>\n    <tr>\n      <th>2</th>\n      <td>M</td>\n      <td>0.440</td>\n      <td>0.365</td>\n      <td>0.125</td>\n      <td>0.5160</td>\n      <td>0.2155</td>\n      <td>0.1140</td>\n      <td>0.1550</td>\n      <td>10</td>\n    </tr>\n    <tr>\n      <th>3</th>\n      <td>I</td>\n      <td>0.330</td>\n      <td>0.255</td>\n      <td>0.080</td>\n      <td>0.2050</td>\n      <td>0.0895</td>\n      <td>0.0395</td>\n      <td>0.0550</td>\n      <td>7</td>\n    </tr>\n    <tr>\n      <th>4</th>\n      <td>I</td>\n      <td>0.425</td>\n      <td>0.300</td>\n      <td>0.095</td>\n      <td>0.3515</td>\n      <td>0.1410</td>\n      <td>0.0775</td>\n      <td>0.1200</td>\n      <td>8</td>\n    </tr>\n    <tr>\n      <th>...</th>\n      <td>...</td>\n      <td>...</td>\n      <td>...</td>\n      <td>...</td>\n      <td>...</td>\n      <td>...</td>\n      <td>...</td>\n      <td>...</td>\n      <td>...</td>\n    </tr>\n    <tr>\n      <th>4171</th>\n      <td>F</td>\n      <td>0.565</td>\n      <td>0.450</td>\n      <td>0.165</td>\n      <td>0.8870</td>\n      <td>0.3700</td>\n      <td>0.2390</td>\n      <td>0.2490</td>\n      <td>11</td>\n    </tr>\n    <tr>\n      <th>4172</th>\n      <td>M</td>\n      <td>0.590</td>\n      <td>0.440</td>\n      <td>0.135</td>\n      <td>0.9660</td>\n      <td>0.4390</td>\n      <td>0.2145</td>\n      <td>0.2605</td>\n      <td>10</td>\n    </tr>\n    <tr>\n      <th>4173</th>\n      <td>M</td>\n      <td>0.600</td>\n      <td>0.475</td>\n      <td>0.205</td>\n      <td>1.1760</td>\n      <td>0.5255</td>\n      <td>0.2875</td>\n      <td>0.3080</td>\n      <td>9</td>\n    </tr>\n    <tr>\n      <th>4174</th>\n      <td>F</td>\n      <td>0.625</td>\n      <td>0.485</td>\n      <td>0.150</td>\n      <td>1.0945</td>\n      <td>0.5310</td>\n      <td>0.2610</td>\n      <td>0.2960</td>\n      <td>10</td>\n    </tr>\n    <tr>\n      <th>4175</th>\n      <td>M</td>\n      <td>0.710</td>\n      <td>0.555</td>\n      <td>0.195</td>\n      <td>1.9485</td>\n      <td>0.9455</td>\n      <td>0.3765</td>\n      <td>0.4950</td>\n      <td>12</td>\n    </tr>\n  </tbody>\n</table>\n<p>4176 rows × 9 columns</p>\n</div>"
     },
     "metadata": {},
     "execution_count": 362
    }
   ],
   "source": [
    "dataset"
   ]
  },
  {
   "cell_type": "code",
   "execution_count": 363,
   "metadata": {},
   "outputs": [
    {
     "output_type": "execute_result",
     "data": {
      "text/plain": "False"
     },
     "metadata": {},
     "execution_count": 363
    }
   ],
   "source": [
    "object in dataset.dtypes"
   ]
  },
  {
   "cell_type": "code",
   "execution_count": 364,
   "metadata": {},
   "outputs": [
    {
     "output_type": "error",
     "ename": "AttributeError",
     "evalue": "'numpy.ndarray' object has no attribute 'columns'",
     "traceback": [
      "\u001b[1;31m---------------------------------------------------------------------------\u001b[0m",
      "\u001b[1;31mAttributeError\u001b[0m                            Traceback (most recent call last)",
      "\u001b[1;32m<ipython-input-364-0ea57d7e077a>\u001b[0m in \u001b[0;36m<module>\u001b[1;34m\u001b[0m\n\u001b[1;32m----> 1\u001b[1;33m \u001b[1;32mfor\u001b[0m \u001b[0mcol\u001b[0m \u001b[1;32min\u001b[0m \u001b[0mdata_all\u001b[0m\u001b[1;33m.\u001b[0m\u001b[0mcolumns\u001b[0m\u001b[1;33m:\u001b[0m\u001b[1;33m\u001b[0m\u001b[1;33m\u001b[0m\u001b[0m\n\u001b[0m\u001b[0;32m      2\u001b[0m     \u001b[0mprint\u001b[0m\u001b[1;33m(\u001b[0m\u001b[0mis_numeric_dtype\u001b[0m\u001b[1;33m(\u001b[0m\u001b[0mdata_all\u001b[0m\u001b[1;33m[\u001b[0m\u001b[0mcol\u001b[0m\u001b[1;33m]\u001b[0m\u001b[1;33m)\u001b[0m\u001b[1;33m)\u001b[0m\u001b[1;33m\u001b[0m\u001b[1;33m\u001b[0m\u001b[0m\n",
      "\u001b[1;31mAttributeError\u001b[0m: 'numpy.ndarray' object has no attribute 'columns'"
     ]
    }
   ],
   "source": [
    "\n",
    "\n",
    "for col in data_all.columns:\n",
    "    print(is_numeric_dtype(data_all[col]))"
   ]
  },
  {
   "cell_type": "code",
   "execution_count": 365,
   "metadata": {},
   "outputs": [
    {
     "output_type": "execute_result",
     "data": {
      "text/plain": "array([dtype('O'), dtype('float64'), dtype('float64'), dtype('float64'),\n       dtype('float64'), dtype('float64'), dtype('float64'),\n       dtype('float64'), dtype('int64')], dtype=object)"
     },
     "metadata": {},
     "execution_count": 365
    }
   ],
   "source": [
    "dataset.dtypes.values"
   ]
  },
  {
   "cell_type": "code",
   "execution_count": 366,
   "metadata": {},
   "outputs": [
    {
     "output_type": "error",
     "ename": "AttributeError",
     "evalue": "'numpy.ndarray' object has no attribute 'dtypes'",
     "traceback": [
      "\u001b[1;31m---------------------------------------------------------------------------\u001b[0m",
      "\u001b[1;31mAttributeError\u001b[0m                            Traceback (most recent call last)",
      "\u001b[1;32m<ipython-input-366-1d2e1be63bd6>\u001b[0m in \u001b[0;36m<module>\u001b[1;34m\u001b[0m\n\u001b[1;32m----> 1\u001b[1;33m \u001b[0mdata_all\u001b[0m\u001b[1;33m.\u001b[0m\u001b[0mdtypes\u001b[0m\u001b[1;33m\u001b[0m\u001b[1;33m\u001b[0m\u001b[0m\n\u001b[0m",
      "\u001b[1;31mAttributeError\u001b[0m: 'numpy.ndarray' object has no attribute 'dtypes'"
     ]
    }
   ],
   "source": [
    "data_all.dtypes"
   ]
  },
  {
   "cell_type": "code",
   "execution_count": 367,
   "metadata": {},
   "outputs": [],
   "source": [
    "data_all = dataset.drop(columns='M')"
   ]
  },
  {
   "cell_type": "code",
   "execution_count": 368,
   "metadata": {},
   "outputs": [
    {
     "output_type": "stream",
     "name": "stdout",
     "text": "File 105 not found\n"
    }
   ],
   "source": [
    "print('File {} not found'.format(n_ins))"
   ]
  },
  {
   "cell_type": "code",
   "execution_count": 369,
   "metadata": {},
   "outputs": [
    {
     "output_type": "execute_result",
     "data": {
      "text/plain": "False"
     },
     "metadata": {},
     "execution_count": 369
    }
   ],
   "source": [
    "'knn' not in classifiers"
   ]
  },
  {
   "cell_type": "code",
   "execution_count": 370,
   "metadata": {},
   "outputs": [],
   "source": [
    "def load_dataset(name = None, filepath = None, class_col = 'class', sep = ','):\n",
    "        \"\"\"\n",
    "        Function loading dataset to pandas dataframe\n",
    "        \"\"\"\n",
    "\n",
    "        if name and filepath == None:\n",
    "            raise Exception('Cant load data without name of dataset or filepath of dataset file!')\n",
    "\n",
    "        #open file\n",
    "        if filepath:\n",
    "            try: \n",
    "                dataset = pd.read_csv(filepath, sep = sep)\n",
    "                load_csv()\n",
    "                prepare_dataset()\n",
    "            except FileNotFoundError:\n",
    "                raise Exception(\"File {} not found. Please select the existing csv file!\".format(filepath))\n",
    "            except OSError:\n",
    "                raise Exception('Can not use file in path {}. Please select the apriopriate filepath!'.format(filepath))\n",
    "            except ValueError:\n",
    "                raise Exception('Can not use file in path {}. Please select filepath with apriopriate extension!'.format(filepath))\n",
    "            except:\n",
    "                raise Exception('Please select csv filepath with apriopriate extension.')\n",
    "\n",
    "        elif name:\n",
    "            if self.dataset_name not in dataset_path:\n",
    "                raise Exception('Dataset {} not found. Please select apriopriate dataset name!'.format(name))\n",
    "            else:\n",
    "                dataset = pd.read_csv(dataset_path[self.dataset_name])\n",
    "                load_named()\n",
    "                prepare_dataset()\n"
   ]
  },
  {
   "cell_type": "code",
   "execution_count": 371,
   "metadata": {},
   "outputs": [],
   "source": [
    "class NotLoadedException(Exception):\n",
    "    def __init__(self, message):\n",
    "        self.message = message"
   ]
  },
  {
   "cell_type": "code",
   "execution_count": 372,
   "metadata": {},
   "outputs": [],
   "source": [
    "from pandas.api.types import is_numeric_dtype\n",
    "def from_csv(filepath, class_col, sep = ','):\n",
    "    \n",
    "    #check loaded\n",
    "    try:\n",
    "        dataset == None\n",
    "    except NameError:\n",
    "        raise NotLoadedException('Dataset must be loaded before preparation')\n",
    "\n",
    "    #constains more than one column\n",
    "    if len(dataset.columns) < 2:\n",
    "        raise Exception('Dataset must have minimum 2 columns! Please check if you select apriopriate filepath or separator.')\n",
    "\n",
    "    #contains missing values\n",
    "    if dataset.isnull().values.any() == True:\n",
    "        raise Exception('Dataset contains Nan values. Please fill missing values before use class.')\n",
    "\n",
    "    #constains class column\n",
    "    if class_col in dataset.columns:\n",
    "        data_label = dataset[class_col]\n",
    "        data_all = dataset.drop(columns=class_col)\n",
    "        features = data_all.columns.values.tolist()\n",
    "    else:\n",
    "        raise Exception('Please select existing column name as class column.')\n",
    "\n",
    "    #constains only numeric values\n",
    "    for col in data_all.columns:\n",
    "        if not is_numeric_dtype(data_all[col]):\n",
    "            raise Exception('Dataset constains non numeric values.')\n",
    "\n",
    "    #reszta tak jak jest od normalizacji\n",
    "    \n",
    "\n",
    "\n",
    "     \n",
    "\n",
    "    \n",
    "    \n"
   ]
  },
  {
   "cell_type": "code",
   "execution_count": 373,
   "metadata": {},
   "outputs": [
    {
     "output_type": "error",
     "ename": "SyntaxError",
     "evalue": "unexpected EOF while parsing (<ipython-input-373-b6f9654817e8>, line 7)",
     "traceback": [
      "\u001b[1;36m  File \u001b[1;32m\"<ipython-input-373-b6f9654817e8>\"\u001b[1;36m, line \u001b[1;32m7\u001b[0m\n\u001b[1;33m    \u001b[0m\n\u001b[1;37m    ^\u001b[0m\n\u001b[1;31mSyntaxError\u001b[0m\u001b[1;31m:\u001b[0m unexpected EOF while parsing\n"
     ]
    }
   ],
   "source": [
    "class Data:\n",
    "\n",
    "    def __init__(self, name = None, ):\n",
    "        \n",
    "        #if one arg:\n",
    "        if len(args) == 1:\n",
    "    "
   ]
  },
  {
   "cell_type": "code",
   "execution_count": 374,
   "metadata": {},
   "outputs": [
    {
     "output_type": "execute_result",
     "data": {
      "text/plain": "True"
     },
     "metadata": {},
     "execution_count": 374
    }
   ],
   "source": [
    "type(None) !=str"
   ]
  },
  {
   "cell_type": "code",
   "execution_count": 375,
   "metadata": {},
   "outputs": [
    {
     "output_type": "error",
     "ename": "NameError",
     "evalue": "name 'DataPreparation' is not defined",
     "traceback": [
      "\u001b[1;31m---------------------------------------------------------------------------\u001b[0m",
      "\u001b[1;31mNameError\u001b[0m                                 Traceback (most recent call last)",
      "\u001b[1;32m<ipython-input-375-055ffd18aed8>\u001b[0m in \u001b[0;36m<module>\u001b[1;34m\u001b[0m\n\u001b[0;32m      4\u001b[0m \u001b[1;31m#find variebles usen in defs\u001b[0m\u001b[1;33m\u001b[0m\u001b[1;33m\u001b[0m\u001b[1;33m\u001b[0m\u001b[0m\n\u001b[0;32m      5\u001b[0m \u001b[1;31m#class_dict,\u001b[0m\u001b[1;33m\u001b[0m\u001b[1;33m\u001b[0m\u001b[1;33m\u001b[0m\u001b[0m\n\u001b[1;32m----> 6\u001b[1;33m \u001b[1;32mdef\u001b[0m \u001b[0mmain_clustering_reduction\u001b[0m\u001b[1;33m(\u001b[0m\u001b[0mdata\u001b[0m\u001b[1;33m:\u001b[0m \u001b[0mDataPreparation\u001b[0m\u001b[1;33m,\u001b[0m \u001b[0mn_clusters\u001b[0m \u001b[1;33m=\u001b[0m \u001b[1;36m20\u001b[0m\u001b[1;33m)\u001b[0m\u001b[1;33m:\u001b[0m\u001b[1;33m\u001b[0m\u001b[1;33m\u001b[0m\u001b[0m\n\u001b[0m\u001b[0;32m      7\u001b[0m     \"\"\"\n\u001b[0;32m      8\u001b[0m     \u001b[0mThe\u001b[0m \u001b[0mmain\u001b[0m \u001b[0mfunction\u001b[0m \u001b[1;32min\u001b[0m \u001b[0mmodule\u001b[0m\u001b[1;33m,\u001b[0m \u001b[0mruns\u001b[0m \u001b[0mall\u001b[0m \u001b[0mrequired\u001b[0m \u001b[0mfunctions\u001b[0m \u001b[1;32mfor\u001b[0m \u001b[0mdata\u001b[0m \u001b[1;32mand\u001b[0m \u001b[0mreturns\u001b[0m \u001b[0mreduced\u001b[0m \u001b[0mdata\u001b[0m\u001b[1;33m\u001b[0m\u001b[1;33m\u001b[0m\u001b[0m\n",
      "\u001b[1;31mNameError\u001b[0m: name 'DataPreparation' is not defined"
     ]
    }
   ],
   "source": [
    "######################\n",
    "######################\n",
    "#TODO all function \n",
    "#find variebles usen in defs\n",
    "#class_dict, \n",
    "def main_clustering_reduction(data: DataPreparation, n_clusters = 20):\n",
    "    \"\"\"\n",
    "    The main function in module, runs all required functions for data and returns reduced data\n",
    "\n",
    "    TODO data must be a class consisting of data_all, class_map, n_classes etc.\n",
    "    \"\"\"\n",
    "    #create clusters\n",
    "    clusters = create_clusters(data = data_all_train, number_of_clusters = n_clusters)\n",
    "    #group clusters \n",
    "    clusters_with_id = group_id_by_cluster(clusters = clusters)\n",
    "    #run algorithm\n",
    "\n",
    "    np_red_data, np_red_col = clustering_reduction(clusters_with_id, data_all_train)\n",
    "    "
   ]
  },
  {
   "cell_type": "code",
   "execution_count": 376,
   "metadata": {},
   "outputs": [],
   "source": [
    "rel = \"D:\\Studia\\inz\\Repos\\DataReduction\\Module\\InstanceReduction\\Reduction\\__init__.py\"\n",
    "rel = \"D:\\Studia\\inz\\Repos\\DataReduction\\README.md\"\n",
    "absol = \"D:\\Studia\\inz\\Repos\\DataReduction\\Module\\InstanceReduction\\datasets_csv\\glass.csv\"\n",
    "shit = \"xx\""
   ]
  },
  {
   "cell_type": "code",
   "execution_count": 377,
   "metadata": {},
   "outputs": [
    {
     "output_type": "error",
     "ename": "ParserError",
     "evalue": "Error tokenizing data. C error: Expected 16 fields in line 16, saw 17\n",
     "traceback": [
      "\u001b[1;31m---------------------------------------------------------------------------\u001b[0m",
      "\u001b[1;31mParserError\u001b[0m                               Traceback (most recent call last)",
      "\u001b[1;32m<ipython-input-377-93a4d5d4b353>\u001b[0m in \u001b[0;36m<module>\u001b[1;34m\u001b[0m\n\u001b[0;32m      5\u001b[0m     \u001b[0mrel\u001b[0m \u001b[1;33m=\u001b[0m \u001b[0mos\u001b[0m\u001b[1;33m.\u001b[0m\u001b[0mpath\u001b[0m\u001b[1;33m.\u001b[0m\u001b[0mjoin\u001b[0m\u001b[1;33m(\u001b[0m\u001b[0mos\u001b[0m\u001b[1;33m.\u001b[0m\u001b[0mgetcwd\u001b[0m\u001b[1;33m(\u001b[0m\u001b[1;33m)\u001b[0m\u001b[1;33m,\u001b[0m\u001b[0mrel\u001b[0m\u001b[1;33m)\u001b[0m\u001b[1;33m\u001b[0m\u001b[1;33m\u001b[0m\u001b[0m\n\u001b[0;32m      6\u001b[0m \u001b[1;33m\u001b[0m\u001b[0m\n\u001b[1;32m----> 7\u001b[1;33m \u001b[0mdataset\u001b[0m \u001b[1;33m=\u001b[0m \u001b[0mpd\u001b[0m\u001b[1;33m.\u001b[0m\u001b[0mread_csv\u001b[0m\u001b[1;33m(\u001b[0m\u001b[0mrel\u001b[0m\u001b[1;33m,\u001b[0m \u001b[0msep\u001b[0m \u001b[1;33m=\u001b[0m \u001b[1;34m' '\u001b[0m\u001b[1;33m)\u001b[0m\u001b[1;33m\u001b[0m\u001b[1;33m\u001b[0m\u001b[0m\n\u001b[0m\u001b[0;32m      8\u001b[0m \u001b[0mdataset\u001b[0m\u001b[1;33m.\u001b[0m\u001b[0mcolumns\u001b[0m\u001b[1;33m\u001b[0m\u001b[1;33m\u001b[0m\u001b[0m\n",
      "\u001b[1;32m~\\AppData\\Local\\Programs\\Python\\Python37\\lib\\site-packages\\pandas\\io\\parsers.py\u001b[0m in \u001b[0;36mparser_f\u001b[1;34m(filepath_or_buffer, sep, delimiter, header, names, index_col, usecols, squeeze, prefix, mangle_dupe_cols, dtype, engine, converters, true_values, false_values, skipinitialspace, skiprows, skipfooter, nrows, na_values, keep_default_na, na_filter, verbose, skip_blank_lines, parse_dates, infer_datetime_format, keep_date_col, date_parser, dayfirst, cache_dates, iterator, chunksize, compression, thousands, decimal, lineterminator, quotechar, quoting, doublequote, escapechar, comment, encoding, dialect, error_bad_lines, warn_bad_lines, delim_whitespace, low_memory, memory_map, float_precision)\u001b[0m\n\u001b[0;32m    674\u001b[0m         )\n\u001b[0;32m    675\u001b[0m \u001b[1;33m\u001b[0m\u001b[0m\n\u001b[1;32m--> 676\u001b[1;33m         \u001b[1;32mreturn\u001b[0m \u001b[0m_read\u001b[0m\u001b[1;33m(\u001b[0m\u001b[0mfilepath_or_buffer\u001b[0m\u001b[1;33m,\u001b[0m \u001b[0mkwds\u001b[0m\u001b[1;33m)\u001b[0m\u001b[1;33m\u001b[0m\u001b[1;33m\u001b[0m\u001b[0m\n\u001b[0m\u001b[0;32m    677\u001b[0m \u001b[1;33m\u001b[0m\u001b[0m\n\u001b[0;32m    678\u001b[0m     \u001b[0mparser_f\u001b[0m\u001b[1;33m.\u001b[0m\u001b[0m__name__\u001b[0m \u001b[1;33m=\u001b[0m \u001b[0mname\u001b[0m\u001b[1;33m\u001b[0m\u001b[1;33m\u001b[0m\u001b[0m\n",
      "\u001b[1;32m~\\AppData\\Local\\Programs\\Python\\Python37\\lib\\site-packages\\pandas\\io\\parsers.py\u001b[0m in \u001b[0;36m_read\u001b[1;34m(filepath_or_buffer, kwds)\u001b[0m\n\u001b[0;32m    452\u001b[0m \u001b[1;33m\u001b[0m\u001b[0m\n\u001b[0;32m    453\u001b[0m     \u001b[1;32mtry\u001b[0m\u001b[1;33m:\u001b[0m\u001b[1;33m\u001b[0m\u001b[1;33m\u001b[0m\u001b[0m\n\u001b[1;32m--> 454\u001b[1;33m         \u001b[0mdata\u001b[0m \u001b[1;33m=\u001b[0m \u001b[0mparser\u001b[0m\u001b[1;33m.\u001b[0m\u001b[0mread\u001b[0m\u001b[1;33m(\u001b[0m\u001b[0mnrows\u001b[0m\u001b[1;33m)\u001b[0m\u001b[1;33m\u001b[0m\u001b[1;33m\u001b[0m\u001b[0m\n\u001b[0m\u001b[0;32m    455\u001b[0m     \u001b[1;32mfinally\u001b[0m\u001b[1;33m:\u001b[0m\u001b[1;33m\u001b[0m\u001b[1;33m\u001b[0m\u001b[0m\n\u001b[0;32m    456\u001b[0m         \u001b[0mparser\u001b[0m\u001b[1;33m.\u001b[0m\u001b[0mclose\u001b[0m\u001b[1;33m(\u001b[0m\u001b[1;33m)\u001b[0m\u001b[1;33m\u001b[0m\u001b[1;33m\u001b[0m\u001b[0m\n",
      "\u001b[1;32m~\\AppData\\Local\\Programs\\Python\\Python37\\lib\\site-packages\\pandas\\io\\parsers.py\u001b[0m in \u001b[0;36mread\u001b[1;34m(self, nrows)\u001b[0m\n\u001b[0;32m   1131\u001b[0m     \u001b[1;32mdef\u001b[0m \u001b[0mread\u001b[0m\u001b[1;33m(\u001b[0m\u001b[0mself\u001b[0m\u001b[1;33m,\u001b[0m \u001b[0mnrows\u001b[0m\u001b[1;33m=\u001b[0m\u001b[1;32mNone\u001b[0m\u001b[1;33m)\u001b[0m\u001b[1;33m:\u001b[0m\u001b[1;33m\u001b[0m\u001b[1;33m\u001b[0m\u001b[0m\n\u001b[0;32m   1132\u001b[0m         \u001b[0mnrows\u001b[0m \u001b[1;33m=\u001b[0m \u001b[0m_validate_integer\u001b[0m\u001b[1;33m(\u001b[0m\u001b[1;34m\"nrows\"\u001b[0m\u001b[1;33m,\u001b[0m \u001b[0mnrows\u001b[0m\u001b[1;33m)\u001b[0m\u001b[1;33m\u001b[0m\u001b[1;33m\u001b[0m\u001b[0m\n\u001b[1;32m-> 1133\u001b[1;33m         \u001b[0mret\u001b[0m \u001b[1;33m=\u001b[0m \u001b[0mself\u001b[0m\u001b[1;33m.\u001b[0m\u001b[0m_engine\u001b[0m\u001b[1;33m.\u001b[0m\u001b[0mread\u001b[0m\u001b[1;33m(\u001b[0m\u001b[0mnrows\u001b[0m\u001b[1;33m)\u001b[0m\u001b[1;33m\u001b[0m\u001b[1;33m\u001b[0m\u001b[0m\n\u001b[0m\u001b[0;32m   1134\u001b[0m \u001b[1;33m\u001b[0m\u001b[0m\n\u001b[0;32m   1135\u001b[0m         \u001b[1;31m# May alter columns / col_dict\u001b[0m\u001b[1;33m\u001b[0m\u001b[1;33m\u001b[0m\u001b[1;33m\u001b[0m\u001b[0m\n",
      "\u001b[1;32m~\\AppData\\Local\\Programs\\Python\\Python37\\lib\\site-packages\\pandas\\io\\parsers.py\u001b[0m in \u001b[0;36mread\u001b[1;34m(self, nrows)\u001b[0m\n\u001b[0;32m   2035\u001b[0m     \u001b[1;32mdef\u001b[0m \u001b[0mread\u001b[0m\u001b[1;33m(\u001b[0m\u001b[0mself\u001b[0m\u001b[1;33m,\u001b[0m \u001b[0mnrows\u001b[0m\u001b[1;33m=\u001b[0m\u001b[1;32mNone\u001b[0m\u001b[1;33m)\u001b[0m\u001b[1;33m:\u001b[0m\u001b[1;33m\u001b[0m\u001b[1;33m\u001b[0m\u001b[0m\n\u001b[0;32m   2036\u001b[0m         \u001b[1;32mtry\u001b[0m\u001b[1;33m:\u001b[0m\u001b[1;33m\u001b[0m\u001b[1;33m\u001b[0m\u001b[0m\n\u001b[1;32m-> 2037\u001b[1;33m             \u001b[0mdata\u001b[0m \u001b[1;33m=\u001b[0m \u001b[0mself\u001b[0m\u001b[1;33m.\u001b[0m\u001b[0m_reader\u001b[0m\u001b[1;33m.\u001b[0m\u001b[0mread\u001b[0m\u001b[1;33m(\u001b[0m\u001b[0mnrows\u001b[0m\u001b[1;33m)\u001b[0m\u001b[1;33m\u001b[0m\u001b[1;33m\u001b[0m\u001b[0m\n\u001b[0m\u001b[0;32m   2038\u001b[0m         \u001b[1;32mexcept\u001b[0m \u001b[0mStopIteration\u001b[0m\u001b[1;33m:\u001b[0m\u001b[1;33m\u001b[0m\u001b[1;33m\u001b[0m\u001b[0m\n\u001b[0;32m   2039\u001b[0m             \u001b[1;32mif\u001b[0m \u001b[0mself\u001b[0m\u001b[1;33m.\u001b[0m\u001b[0m_first_chunk\u001b[0m\u001b[1;33m:\u001b[0m\u001b[1;33m\u001b[0m\u001b[1;33m\u001b[0m\u001b[0m\n",
      "\u001b[1;32mpandas\\_libs\\parsers.pyx\u001b[0m in \u001b[0;36mpandas._libs.parsers.TextReader.read\u001b[1;34m()\u001b[0m\n",
      "\u001b[1;32mpandas\\_libs\\parsers.pyx\u001b[0m in \u001b[0;36mpandas._libs.parsers.TextReader._read_low_memory\u001b[1;34m()\u001b[0m\n",
      "\u001b[1;32mpandas\\_libs\\parsers.pyx\u001b[0m in \u001b[0;36mpandas._libs.parsers.TextReader._read_rows\u001b[1;34m()\u001b[0m\n",
      "\u001b[1;32mpandas\\_libs\\parsers.pyx\u001b[0m in \u001b[0;36mpandas._libs.parsers.TextReader._tokenize_rows\u001b[1;34m()\u001b[0m\n",
      "\u001b[1;32mpandas\\_libs\\parsers.pyx\u001b[0m in \u001b[0;36mpandas._libs.parsers.raise_parser_error\u001b[1;34m()\u001b[0m\n",
      "\u001b[1;31mParserError\u001b[0m: Error tokenizing data. C error: Expected 16 fields in line 16, saw 17\n"
     ]
    }
   ],
   "source": [
    "import os\n",
    "import pandas as pd\n",
    "\n",
    "if not os.path.isabs(rel):\n",
    "    rel = os.path.join(os.getcwd(),rel)\n",
    "\n",
    "dataset = pd.read_csv(rel, sep = ' ')\n",
    "dataset.columns"
   ]
  },
  {
   "cell_type": "code",
   "execution_count": 378,
   "metadata": {},
   "outputs": [
    {
     "output_type": "error",
     "ename": "KeyError",
     "evalue": "'f'",
     "traceback": [
      "\u001b[1;31m---------------------------------------------------------------------------\u001b[0m",
      "\u001b[1;31mKeyError\u001b[0m                                  Traceback (most recent call last)",
      "\u001b[1;32m~\\AppData\\Local\\Programs\\Python\\Python37\\lib\\site-packages\\pandas\\core\\indexes\\base.py\u001b[0m in \u001b[0;36mget_loc\u001b[1;34m(self, key, method, tolerance)\u001b[0m\n\u001b[0;32m   2645\u001b[0m             \u001b[1;32mtry\u001b[0m\u001b[1;33m:\u001b[0m\u001b[1;33m\u001b[0m\u001b[1;33m\u001b[0m\u001b[0m\n\u001b[1;32m-> 2646\u001b[1;33m                 \u001b[1;32mreturn\u001b[0m \u001b[0mself\u001b[0m\u001b[1;33m.\u001b[0m\u001b[0m_engine\u001b[0m\u001b[1;33m.\u001b[0m\u001b[0mget_loc\u001b[0m\u001b[1;33m(\u001b[0m\u001b[0mkey\u001b[0m\u001b[1;33m)\u001b[0m\u001b[1;33m\u001b[0m\u001b[1;33m\u001b[0m\u001b[0m\n\u001b[0m\u001b[0;32m   2647\u001b[0m             \u001b[1;32mexcept\u001b[0m \u001b[0mKeyError\u001b[0m\u001b[1;33m:\u001b[0m\u001b[1;33m\u001b[0m\u001b[1;33m\u001b[0m\u001b[0m\n",
      "\u001b[1;32mpandas\\_libs\\index.pyx\u001b[0m in \u001b[0;36mpandas._libs.index.IndexEngine.get_loc\u001b[1;34m()\u001b[0m\n",
      "\u001b[1;32mpandas\\_libs\\index.pyx\u001b[0m in \u001b[0;36mpandas._libs.index.IndexEngine.get_loc\u001b[1;34m()\u001b[0m\n",
      "\u001b[1;32mpandas\\_libs\\hashtable_class_helper.pxi\u001b[0m in \u001b[0;36mpandas._libs.hashtable.PyObjectHashTable.get_item\u001b[1;34m()\u001b[0m\n",
      "\u001b[1;32mpandas\\_libs\\hashtable_class_helper.pxi\u001b[0m in \u001b[0;36mpandas._libs.hashtable.PyObjectHashTable.get_item\u001b[1;34m()\u001b[0m\n",
      "\u001b[1;31mKeyError\u001b[0m: 'f'",
      "\nDuring handling of the above exception, another exception occurred:\n",
      "\u001b[1;31mKeyError\u001b[0m                                  Traceback (most recent call last)",
      "\u001b[1;32m<ipython-input-378-b4533aac9867>\u001b[0m in \u001b[0;36m<module>\u001b[1;34m\u001b[0m\n\u001b[1;32m----> 1\u001b[1;33m \u001b[0mdataset\u001b[0m\u001b[1;33m[\u001b[0m\u001b[1;34m'f'\u001b[0m\u001b[1;33m]\u001b[0m\u001b[1;33m\u001b[0m\u001b[1;33m\u001b[0m\u001b[0m\n\u001b[0m",
      "\u001b[1;32m~\\AppData\\Local\\Programs\\Python\\Python37\\lib\\site-packages\\pandas\\core\\frame.py\u001b[0m in \u001b[0;36m__getitem__\u001b[1;34m(self, key)\u001b[0m\n\u001b[0;32m   2798\u001b[0m             \u001b[1;32mif\u001b[0m \u001b[0mself\u001b[0m\u001b[1;33m.\u001b[0m\u001b[0mcolumns\u001b[0m\u001b[1;33m.\u001b[0m\u001b[0mnlevels\u001b[0m \u001b[1;33m>\u001b[0m \u001b[1;36m1\u001b[0m\u001b[1;33m:\u001b[0m\u001b[1;33m\u001b[0m\u001b[1;33m\u001b[0m\u001b[0m\n\u001b[0;32m   2799\u001b[0m                 \u001b[1;32mreturn\u001b[0m \u001b[0mself\u001b[0m\u001b[1;33m.\u001b[0m\u001b[0m_getitem_multilevel\u001b[0m\u001b[1;33m(\u001b[0m\u001b[0mkey\u001b[0m\u001b[1;33m)\u001b[0m\u001b[1;33m\u001b[0m\u001b[1;33m\u001b[0m\u001b[0m\n\u001b[1;32m-> 2800\u001b[1;33m             \u001b[0mindexer\u001b[0m \u001b[1;33m=\u001b[0m \u001b[0mself\u001b[0m\u001b[1;33m.\u001b[0m\u001b[0mcolumns\u001b[0m\u001b[1;33m.\u001b[0m\u001b[0mget_loc\u001b[0m\u001b[1;33m(\u001b[0m\u001b[0mkey\u001b[0m\u001b[1;33m)\u001b[0m\u001b[1;33m\u001b[0m\u001b[1;33m\u001b[0m\u001b[0m\n\u001b[0m\u001b[0;32m   2801\u001b[0m             \u001b[1;32mif\u001b[0m \u001b[0mis_integer\u001b[0m\u001b[1;33m(\u001b[0m\u001b[0mindexer\u001b[0m\u001b[1;33m)\u001b[0m\u001b[1;33m:\u001b[0m\u001b[1;33m\u001b[0m\u001b[1;33m\u001b[0m\u001b[0m\n\u001b[0;32m   2802\u001b[0m                 \u001b[0mindexer\u001b[0m \u001b[1;33m=\u001b[0m \u001b[1;33m[\u001b[0m\u001b[0mindexer\u001b[0m\u001b[1;33m]\u001b[0m\u001b[1;33m\u001b[0m\u001b[1;33m\u001b[0m\u001b[0m\n",
      "\u001b[1;32m~\\AppData\\Local\\Programs\\Python\\Python37\\lib\\site-packages\\pandas\\core\\indexes\\base.py\u001b[0m in \u001b[0;36mget_loc\u001b[1;34m(self, key, method, tolerance)\u001b[0m\n\u001b[0;32m   2646\u001b[0m                 \u001b[1;32mreturn\u001b[0m \u001b[0mself\u001b[0m\u001b[1;33m.\u001b[0m\u001b[0m_engine\u001b[0m\u001b[1;33m.\u001b[0m\u001b[0mget_loc\u001b[0m\u001b[1;33m(\u001b[0m\u001b[0mkey\u001b[0m\u001b[1;33m)\u001b[0m\u001b[1;33m\u001b[0m\u001b[1;33m\u001b[0m\u001b[0m\n\u001b[0;32m   2647\u001b[0m             \u001b[1;32mexcept\u001b[0m \u001b[0mKeyError\u001b[0m\u001b[1;33m:\u001b[0m\u001b[1;33m\u001b[0m\u001b[1;33m\u001b[0m\u001b[0m\n\u001b[1;32m-> 2648\u001b[1;33m                 \u001b[1;32mreturn\u001b[0m \u001b[0mself\u001b[0m\u001b[1;33m.\u001b[0m\u001b[0m_engine\u001b[0m\u001b[1;33m.\u001b[0m\u001b[0mget_loc\u001b[0m\u001b[1;33m(\u001b[0m\u001b[0mself\u001b[0m\u001b[1;33m.\u001b[0m\u001b[0m_maybe_cast_indexer\u001b[0m\u001b[1;33m(\u001b[0m\u001b[0mkey\u001b[0m\u001b[1;33m)\u001b[0m\u001b[1;33m)\u001b[0m\u001b[1;33m\u001b[0m\u001b[1;33m\u001b[0m\u001b[0m\n\u001b[0m\u001b[0;32m   2649\u001b[0m         \u001b[0mindexer\u001b[0m \u001b[1;33m=\u001b[0m \u001b[0mself\u001b[0m\u001b[1;33m.\u001b[0m\u001b[0mget_indexer\u001b[0m\u001b[1;33m(\u001b[0m\u001b[1;33m[\u001b[0m\u001b[0mkey\u001b[0m\u001b[1;33m]\u001b[0m\u001b[1;33m,\u001b[0m \u001b[0mmethod\u001b[0m\u001b[1;33m=\u001b[0m\u001b[0mmethod\u001b[0m\u001b[1;33m,\u001b[0m \u001b[0mtolerance\u001b[0m\u001b[1;33m=\u001b[0m\u001b[0mtolerance\u001b[0m\u001b[1;33m)\u001b[0m\u001b[1;33m\u001b[0m\u001b[1;33m\u001b[0m\u001b[0m\n\u001b[0;32m   2650\u001b[0m         \u001b[1;32mif\u001b[0m \u001b[0mindexer\u001b[0m\u001b[1;33m.\u001b[0m\u001b[0mndim\u001b[0m \u001b[1;33m>\u001b[0m \u001b[1;36m1\u001b[0m \u001b[1;32mor\u001b[0m \u001b[0mindexer\u001b[0m\u001b[1;33m.\u001b[0m\u001b[0msize\u001b[0m \u001b[1;33m>\u001b[0m \u001b[1;36m1\u001b[0m\u001b[1;33m:\u001b[0m\u001b[1;33m\u001b[0m\u001b[1;33m\u001b[0m\u001b[0m\n",
      "\u001b[1;32mpandas\\_libs\\index.pyx\u001b[0m in \u001b[0;36mpandas._libs.index.IndexEngine.get_loc\u001b[1;34m()\u001b[0m\n",
      "\u001b[1;32mpandas\\_libs\\index.pyx\u001b[0m in \u001b[0;36mpandas._libs.index.IndexEngine.get_loc\u001b[1;34m()\u001b[0m\n",
      "\u001b[1;32mpandas\\_libs\\hashtable_class_helper.pxi\u001b[0m in \u001b[0;36mpandas._libs.hashtable.PyObjectHashTable.get_item\u001b[1;34m()\u001b[0m\n",
      "\u001b[1;32mpandas\\_libs\\hashtable_class_helper.pxi\u001b[0m in \u001b[0;36mpandas._libs.hashtable.PyObjectHashTable.get_item\u001b[1;34m()\u001b[0m\n",
      "\u001b[1;31mKeyError\u001b[0m: 'f'"
     ]
    }
   ],
   "source": [
    "dataset['f']"
   ]
  },
  {
   "cell_type": "code",
   "execution_count": 379,
   "metadata": {},
   "outputs": [
    {
     "output_type": "execute_result",
     "data": {
      "text/plain": "0       M\n1       F\n2       M\n3       I\n4       I\n       ..\n4171    F\n4172    M\n4173    M\n4174    F\n4175    M\nName: M, Length: 4176, dtype: object"
     },
     "metadata": {},
     "execution_count": 379
    }
   ],
   "source": [
    "dataset.iloc[:, 0]"
   ]
  },
  {
   "cell_type": "code",
   "execution_count": 380,
   "metadata": {},
   "outputs": [
    {
     "output_type": "error",
     "ename": "FileNotFoundError",
     "evalue": "[Errno 2] File D:\\Studia\\inz\\Repos\\DataReduction\\Module\\InstanceReduction\\datasets_csv\\iris.csv does not exist: 'D:\\\\Studia\\\\inz\\\\Repos\\\\DataReduction\\\\Module\\\\InstanceReduction\\\\datasets_csv\\\\iris.csv'",
     "traceback": [
      "\u001b[1;31m---------------------------------------------------------------------------\u001b[0m",
      "\u001b[1;31mFileNotFoundError\u001b[0m                         Traceback (most recent call last)",
      "\u001b[1;32m<ipython-input-380-a964311880f1>\u001b[0m in \u001b[0;36m<module>\u001b[1;34m\u001b[0m\n\u001b[1;32m----> 1\u001b[1;33m \u001b[0md\u001b[0m \u001b[1;33m=\u001b[0m \u001b[0mpd\u001b[0m\u001b[1;33m.\u001b[0m\u001b[0mread_csv\u001b[0m\u001b[1;33m(\u001b[0m\u001b[1;34m\"D:\\Studia\\inz\\Repos\\DataReduction\\Module\\InstanceReduction\\datasets_csv\\iris.csv\"\u001b[0m\u001b[1;33m)\u001b[0m\u001b[1;33m\u001b[0m\u001b[1;33m\u001b[0m\u001b[0m\n\u001b[0m\u001b[0;32m      2\u001b[0m \u001b[0mlab\u001b[0m \u001b[1;33m=\u001b[0m \u001b[0md\u001b[0m\u001b[1;33m.\u001b[0m\u001b[0miloc\u001b[0m\u001b[1;33m[\u001b[0m\u001b[1;33m:\u001b[0m\u001b[1;33m,\u001b[0m\u001b[1;36m4\u001b[0m\u001b[1;33m]\u001b[0m\u001b[1;33m.\u001b[0m\u001b[0mto_numpy\u001b[0m\u001b[1;33m(\u001b[0m\u001b[1;33m)\u001b[0m\u001b[1;33m\u001b[0m\u001b[1;33m\u001b[0m\u001b[0m\n",
      "\u001b[1;32m~\\AppData\\Local\\Programs\\Python\\Python37\\lib\\site-packages\\pandas\\io\\parsers.py\u001b[0m in \u001b[0;36mparser_f\u001b[1;34m(filepath_or_buffer, sep, delimiter, header, names, index_col, usecols, squeeze, prefix, mangle_dupe_cols, dtype, engine, converters, true_values, false_values, skipinitialspace, skiprows, skipfooter, nrows, na_values, keep_default_na, na_filter, verbose, skip_blank_lines, parse_dates, infer_datetime_format, keep_date_col, date_parser, dayfirst, cache_dates, iterator, chunksize, compression, thousands, decimal, lineterminator, quotechar, quoting, doublequote, escapechar, comment, encoding, dialect, error_bad_lines, warn_bad_lines, delim_whitespace, low_memory, memory_map, float_precision)\u001b[0m\n\u001b[0;32m    674\u001b[0m         )\n\u001b[0;32m    675\u001b[0m \u001b[1;33m\u001b[0m\u001b[0m\n\u001b[1;32m--> 676\u001b[1;33m         \u001b[1;32mreturn\u001b[0m \u001b[0m_read\u001b[0m\u001b[1;33m(\u001b[0m\u001b[0mfilepath_or_buffer\u001b[0m\u001b[1;33m,\u001b[0m \u001b[0mkwds\u001b[0m\u001b[1;33m)\u001b[0m\u001b[1;33m\u001b[0m\u001b[1;33m\u001b[0m\u001b[0m\n\u001b[0m\u001b[0;32m    677\u001b[0m \u001b[1;33m\u001b[0m\u001b[0m\n\u001b[0;32m    678\u001b[0m     \u001b[0mparser_f\u001b[0m\u001b[1;33m.\u001b[0m\u001b[0m__name__\u001b[0m \u001b[1;33m=\u001b[0m \u001b[0mname\u001b[0m\u001b[1;33m\u001b[0m\u001b[1;33m\u001b[0m\u001b[0m\n",
      "\u001b[1;32m~\\AppData\\Local\\Programs\\Python\\Python37\\lib\\site-packages\\pandas\\io\\parsers.py\u001b[0m in \u001b[0;36m_read\u001b[1;34m(filepath_or_buffer, kwds)\u001b[0m\n\u001b[0;32m    446\u001b[0m \u001b[1;33m\u001b[0m\u001b[0m\n\u001b[0;32m    447\u001b[0m     \u001b[1;31m# Create the parser.\u001b[0m\u001b[1;33m\u001b[0m\u001b[1;33m\u001b[0m\u001b[1;33m\u001b[0m\u001b[0m\n\u001b[1;32m--> 448\u001b[1;33m     \u001b[0mparser\u001b[0m \u001b[1;33m=\u001b[0m \u001b[0mTextFileReader\u001b[0m\u001b[1;33m(\u001b[0m\u001b[0mfp_or_buf\u001b[0m\u001b[1;33m,\u001b[0m \u001b[1;33m**\u001b[0m\u001b[0mkwds\u001b[0m\u001b[1;33m)\u001b[0m\u001b[1;33m\u001b[0m\u001b[1;33m\u001b[0m\u001b[0m\n\u001b[0m\u001b[0;32m    449\u001b[0m \u001b[1;33m\u001b[0m\u001b[0m\n\u001b[0;32m    450\u001b[0m     \u001b[1;32mif\u001b[0m \u001b[0mchunksize\u001b[0m \u001b[1;32mor\u001b[0m \u001b[0miterator\u001b[0m\u001b[1;33m:\u001b[0m\u001b[1;33m\u001b[0m\u001b[1;33m\u001b[0m\u001b[0m\n",
      "\u001b[1;32m~\\AppData\\Local\\Programs\\Python\\Python37\\lib\\site-packages\\pandas\\io\\parsers.py\u001b[0m in \u001b[0;36m__init__\u001b[1;34m(self, f, engine, **kwds)\u001b[0m\n\u001b[0;32m    878\u001b[0m             \u001b[0mself\u001b[0m\u001b[1;33m.\u001b[0m\u001b[0moptions\u001b[0m\u001b[1;33m[\u001b[0m\u001b[1;34m\"has_index_names\"\u001b[0m\u001b[1;33m]\u001b[0m \u001b[1;33m=\u001b[0m \u001b[0mkwds\u001b[0m\u001b[1;33m[\u001b[0m\u001b[1;34m\"has_index_names\"\u001b[0m\u001b[1;33m]\u001b[0m\u001b[1;33m\u001b[0m\u001b[1;33m\u001b[0m\u001b[0m\n\u001b[0;32m    879\u001b[0m \u001b[1;33m\u001b[0m\u001b[0m\n\u001b[1;32m--> 880\u001b[1;33m         \u001b[0mself\u001b[0m\u001b[1;33m.\u001b[0m\u001b[0m_make_engine\u001b[0m\u001b[1;33m(\u001b[0m\u001b[0mself\u001b[0m\u001b[1;33m.\u001b[0m\u001b[0mengine\u001b[0m\u001b[1;33m)\u001b[0m\u001b[1;33m\u001b[0m\u001b[1;33m\u001b[0m\u001b[0m\n\u001b[0m\u001b[0;32m    881\u001b[0m \u001b[1;33m\u001b[0m\u001b[0m\n\u001b[0;32m    882\u001b[0m     \u001b[1;32mdef\u001b[0m \u001b[0mclose\u001b[0m\u001b[1;33m(\u001b[0m\u001b[0mself\u001b[0m\u001b[1;33m)\u001b[0m\u001b[1;33m:\u001b[0m\u001b[1;33m\u001b[0m\u001b[1;33m\u001b[0m\u001b[0m\n",
      "\u001b[1;32m~\\AppData\\Local\\Programs\\Python\\Python37\\lib\\site-packages\\pandas\\io\\parsers.py\u001b[0m in \u001b[0;36m_make_engine\u001b[1;34m(self, engine)\u001b[0m\n\u001b[0;32m   1112\u001b[0m     \u001b[1;32mdef\u001b[0m \u001b[0m_make_engine\u001b[0m\u001b[1;33m(\u001b[0m\u001b[0mself\u001b[0m\u001b[1;33m,\u001b[0m \u001b[0mengine\u001b[0m\u001b[1;33m=\u001b[0m\u001b[1;34m\"c\"\u001b[0m\u001b[1;33m)\u001b[0m\u001b[1;33m:\u001b[0m\u001b[1;33m\u001b[0m\u001b[1;33m\u001b[0m\u001b[0m\n\u001b[0;32m   1113\u001b[0m         \u001b[1;32mif\u001b[0m \u001b[0mengine\u001b[0m \u001b[1;33m==\u001b[0m \u001b[1;34m\"c\"\u001b[0m\u001b[1;33m:\u001b[0m\u001b[1;33m\u001b[0m\u001b[1;33m\u001b[0m\u001b[0m\n\u001b[1;32m-> 1114\u001b[1;33m             \u001b[0mself\u001b[0m\u001b[1;33m.\u001b[0m\u001b[0m_engine\u001b[0m \u001b[1;33m=\u001b[0m \u001b[0mCParserWrapper\u001b[0m\u001b[1;33m(\u001b[0m\u001b[0mself\u001b[0m\u001b[1;33m.\u001b[0m\u001b[0mf\u001b[0m\u001b[1;33m,\u001b[0m \u001b[1;33m**\u001b[0m\u001b[0mself\u001b[0m\u001b[1;33m.\u001b[0m\u001b[0moptions\u001b[0m\u001b[1;33m)\u001b[0m\u001b[1;33m\u001b[0m\u001b[1;33m\u001b[0m\u001b[0m\n\u001b[0m\u001b[0;32m   1115\u001b[0m         \u001b[1;32melse\u001b[0m\u001b[1;33m:\u001b[0m\u001b[1;33m\u001b[0m\u001b[1;33m\u001b[0m\u001b[0m\n\u001b[0;32m   1116\u001b[0m             \u001b[1;32mif\u001b[0m \u001b[0mengine\u001b[0m \u001b[1;33m==\u001b[0m \u001b[1;34m\"python\"\u001b[0m\u001b[1;33m:\u001b[0m\u001b[1;33m\u001b[0m\u001b[1;33m\u001b[0m\u001b[0m\n",
      "\u001b[1;32m~\\AppData\\Local\\Programs\\Python\\Python37\\lib\\site-packages\\pandas\\io\\parsers.py\u001b[0m in \u001b[0;36m__init__\u001b[1;34m(self, src, **kwds)\u001b[0m\n\u001b[0;32m   1889\u001b[0m         \u001b[0mkwds\u001b[0m\u001b[1;33m[\u001b[0m\u001b[1;34m\"usecols\"\u001b[0m\u001b[1;33m]\u001b[0m \u001b[1;33m=\u001b[0m \u001b[0mself\u001b[0m\u001b[1;33m.\u001b[0m\u001b[0musecols\u001b[0m\u001b[1;33m\u001b[0m\u001b[1;33m\u001b[0m\u001b[0m\n\u001b[0;32m   1890\u001b[0m \u001b[1;33m\u001b[0m\u001b[0m\n\u001b[1;32m-> 1891\u001b[1;33m         \u001b[0mself\u001b[0m\u001b[1;33m.\u001b[0m\u001b[0m_reader\u001b[0m \u001b[1;33m=\u001b[0m \u001b[0mparsers\u001b[0m\u001b[1;33m.\u001b[0m\u001b[0mTextReader\u001b[0m\u001b[1;33m(\u001b[0m\u001b[0msrc\u001b[0m\u001b[1;33m,\u001b[0m \u001b[1;33m**\u001b[0m\u001b[0mkwds\u001b[0m\u001b[1;33m)\u001b[0m\u001b[1;33m\u001b[0m\u001b[1;33m\u001b[0m\u001b[0m\n\u001b[0m\u001b[0;32m   1892\u001b[0m         \u001b[0mself\u001b[0m\u001b[1;33m.\u001b[0m\u001b[0munnamed_cols\u001b[0m \u001b[1;33m=\u001b[0m \u001b[0mself\u001b[0m\u001b[1;33m.\u001b[0m\u001b[0m_reader\u001b[0m\u001b[1;33m.\u001b[0m\u001b[0munnamed_cols\u001b[0m\u001b[1;33m\u001b[0m\u001b[1;33m\u001b[0m\u001b[0m\n\u001b[0;32m   1893\u001b[0m \u001b[1;33m\u001b[0m\u001b[0m\n",
      "\u001b[1;32mpandas\\_libs\\parsers.pyx\u001b[0m in \u001b[0;36mpandas._libs.parsers.TextReader.__cinit__\u001b[1;34m()\u001b[0m\n",
      "\u001b[1;32mpandas\\_libs\\parsers.pyx\u001b[0m in \u001b[0;36mpandas._libs.parsers.TextReader._setup_parser_source\u001b[1;34m()\u001b[0m\n",
      "\u001b[1;31mFileNotFoundError\u001b[0m: [Errno 2] File D:\\Studia\\inz\\Repos\\DataReduction\\Module\\InstanceReduction\\datasets_csv\\iris.csv does not exist: 'D:\\\\Studia\\\\inz\\\\Repos\\\\DataReduction\\\\Module\\\\InstanceReduction\\\\datasets_csv\\\\iris.csv'"
     ]
    }
   ],
   "source": [
    "d = pd.read_csv(\"D:\\Studia\\inz\\Repos\\DataReduction\\Module\\InstanceReduction\\datasets_csv\\iris.csv\")\n",
    "lab = d.iloc[:,4].to_numpy()"
   ]
  },
  {
   "cell_type": "code",
   "execution_count": 381,
   "metadata": {},
   "outputs": [],
   "source": [
    "data = {'iris': [150, 3], \n",
    "    'pendigits': [10992, 10], \n",
    "    'letter': [20000, 26]}"
   ]
  },
  {
   "cell_type": "code",
   "execution_count": 382,
   "metadata": {},
   "outputs": [
    {
     "output_type": "error",
     "ename": "TypeError",
     "evalue": "tuple expected at most 1 arguments, got 2",
     "traceback": [
      "\u001b[1;31m---------------------------------------------------------------------------\u001b[0m",
      "\u001b[1;31mTypeError\u001b[0m                                 Traceback (most recent call last)",
      "\u001b[1;32m<ipython-input-382-019e9d597dc5>\u001b[0m in \u001b[0;36m<module>\u001b[1;34m\u001b[0m\n\u001b[0;32m      1\u001b[0m \u001b[0mparams\u001b[0m\u001b[1;33m=\u001b[0m\u001b[1;33m[\u001b[0m\u001b[1;36m150\u001b[0m\u001b[1;33m,\u001b[0m \u001b[1;36m10992\u001b[0m\u001b[1;33m,\u001b[0m \u001b[1;36m20000\u001b[0m\u001b[1;33m]\u001b[0m\u001b[1;33m\u001b[0m\u001b[1;33m\u001b[0m\u001b[0m\n\u001b[0;32m      2\u001b[0m \u001b[0mn\u001b[0m \u001b[1;33m=\u001b[0m\u001b[1;33m[\u001b[0m\u001b[1;34m'iris'\u001b[0m\u001b[1;33m,\u001b[0m \u001b[1;34m'pendigits'\u001b[0m\u001b[1;33m,\u001b[0m \u001b[1;34m'letter'\u001b[0m\u001b[1;33m]\u001b[0m\u001b[1;33m\u001b[0m\u001b[1;33m\u001b[0m\u001b[0m\n\u001b[1;32m----> 3\u001b[1;33m \u001b[0mtuple\u001b[0m\u001b[1;33m(\u001b[0m\u001b[0mparams\u001b[0m\u001b[1;33m,\u001b[0m\u001b[0mn\u001b[0m\u001b[1;33m)\u001b[0m\u001b[1;33m\u001b[0m\u001b[1;33m\u001b[0m\u001b[0m\n\u001b[0m",
      "\u001b[1;31mTypeError\u001b[0m: tuple expected at most 1 arguments, got 2"
     ]
    }
   ],
   "source": [
    "params=[150, 10992, 20000]\n",
    "n =['iris', 'pendigits', 'letter']\n",
    "tuple(params,n)"
   ]
  },
  {
   "cell_type": "code",
   "execution_count": 383,
   "metadata": {},
   "outputs": [],
   "source": [
    "\n",
    "\n",
    "def test_len_data_all(dataset_names, len_data_all):\n",
    "    d = DataPreparation(dataset_names)\n",
    "    assert len(d.data_all) == len_data_all"
   ]
  },
  {
   "cell_type": "code",
   "execution_count": 384,
   "metadata": {},
   "outputs": [
    {
     "output_type": "error",
     "ename": "NameError",
     "evalue": "name 'd' is not defined",
     "traceback": [
      "\u001b[1;31m---------------------------------------------------------------------------\u001b[0m",
      "\u001b[1;31mNameError\u001b[0m                                 Traceback (most recent call last)",
      "\u001b[1;32m<ipython-input-384-1c9b32e1dfc7>\u001b[0m in \u001b[0;36m<module>\u001b[1;34m\u001b[0m\n\u001b[0;32m      1\u001b[0m \u001b[0mcol\u001b[0m \u001b[1;33m=\u001b[0m \u001b[1;36m4\u001b[0m\u001b[1;33m\u001b[0m\u001b[1;33m\u001b[0m\u001b[0m\n\u001b[1;32m----> 2\u001b[1;33m \u001b[1;32mif\u001b[0m \u001b[0mcol\u001b[0m \u001b[1;32mnot\u001b[0m \u001b[1;32min\u001b[0m \u001b[0md\u001b[0m\u001b[1;33m.\u001b[0m\u001b[0mcolumns\u001b[0m\u001b[1;33m:\u001b[0m\u001b[1;33m\u001b[0m\u001b[1;33m\u001b[0m\u001b[0m\n\u001b[0m\u001b[0;32m      3\u001b[0m     \u001b[1;32mif\u001b[0m \u001b[0mcol\u001b[0m \u001b[1;33m>\u001b[0m \u001b[0mlen\u001b[0m\u001b[1;33m(\u001b[0m\u001b[0md\u001b[0m\u001b[1;33m.\u001b[0m\u001b[0mcolumns\u001b[0m\u001b[1;33m)\u001b[0m\u001b[1;33m:\u001b[0m\u001b[1;33m\u001b[0m\u001b[1;33m\u001b[0m\u001b[0m\n\u001b[0;32m      4\u001b[0m         \u001b[1;32mraise\u001b[0m \u001b[0mIndexError\u001b[0m\u001b[1;33m(\u001b[0m\u001b[1;34m'Index of class column is out of range'\u001b[0m\u001b[1;33m)\u001b[0m\u001b[1;33m\u001b[0m\u001b[1;33m\u001b[0m\u001b[0m\n\u001b[0;32m      5\u001b[0m     \u001b[1;32melif\u001b[0m \u001b[0mtype\u001b[0m\u001b[1;33m(\u001b[0m\u001b[0mcol\u001b[0m\u001b[1;33m)\u001b[0m \u001b[1;33m==\u001b[0m \u001b[0mint\u001b[0m\u001b[1;33m:\u001b[0m\u001b[1;33m\u001b[0m\u001b[1;33m\u001b[0m\u001b[0m\n",
      "\u001b[1;31mNameError\u001b[0m: name 'd' is not defined"
     ]
    }
   ],
   "source": [
    "col = 4\n",
    "if col not in d.columns:\n",
    "    if col > len(d.columns):\n",
    "        raise IndexError('Index of class column is out of range')\n",
    "    elif type(col) == int:\n",
    "        print(d.iloc[:,col])\n",
    "d = d.drop(d.columns[col], axis = 1)\n",
    "\n",
    "d"
   ]
  },
  {
   "cell_type": "code",
   "execution_count": 385,
   "metadata": {},
   "outputs": [
    {
     "output_type": "error",
     "ename": "TypeError",
     "evalue": "Atribute 'data' must be DataPreparation instance",
     "traceback": [
      "\u001b[1;31m---------------------------------------------------------------------------\u001b[0m",
      "\u001b[1;31mTypeError\u001b[0m                                 Traceback (most recent call last)",
      "\u001b[1;32m<ipython-input-385-ccb277f5781d>\u001b[0m in \u001b[0;36m<module>\u001b[1;34m\u001b[0m\n\u001b[0;32m      4\u001b[0m \u001b[0mxi\u001b[0m \u001b[1;33m=\u001b[0m \u001b[1;33m-\u001b[0m\u001b[1;36m1.45\u001b[0m \u001b[1;31m#x()\u001b[0m\u001b[1;33m\u001b[0m\u001b[1;33m\u001b[0m\u001b[0m\n\u001b[0;32m      5\u001b[0m \u001b[1;32mif\u001b[0m \u001b[1;32mnot\u001b[0m \u001b[0misinstance\u001b[0m\u001b[1;33m(\u001b[0m\u001b[0mxi\u001b[0m\u001b[1;33m,\u001b[0m \u001b[0mx\u001b[0m\u001b[1;33m)\u001b[0m\u001b[1;33m:\u001b[0m\u001b[1;33m\u001b[0m\u001b[1;33m\u001b[0m\u001b[0m\n\u001b[1;32m----> 6\u001b[1;33m     \u001b[1;32mraise\u001b[0m \u001b[0mTypeError\u001b[0m\u001b[1;33m(\u001b[0m\u001b[1;34m'Atribute \\'data\\' must be DataPreparation instance'\u001b[0m\u001b[1;33m)\u001b[0m\u001b[1;33m\u001b[0m\u001b[1;33m\u001b[0m\u001b[0m\n\u001b[0m",
      "\u001b[1;31mTypeError\u001b[0m: Atribute 'data' must be DataPreparation instance"
     ]
    }
   ],
   "source": [
    "class x:\n",
    "    pass\n",
    "\n",
    "xi = -1.45 #x()\n",
    "if not isinstance(xi, x):\n",
    "    raise TypeError('Atribute \\'data\\' must be DataPreparation instance')\n"
   ]
  },
  {
   "cell_type": "code",
   "execution_count": 386,
   "metadata": {},
   "outputs": [
    {
     "output_type": "error",
     "ename": "NameError",
     "evalue": "name 'DataPreparation' is not defined",
     "traceback": [
      "\u001b[1;31m---------------------------------------------------------------------------\u001b[0m",
      "\u001b[1;31mNameError\u001b[0m                                 Traceback (most recent call last)",
      "\u001b[1;32m<ipython-input-386-83b02c0a9ead>\u001b[0m in \u001b[0;36m<module>\u001b[1;34m\u001b[0m\n\u001b[1;32m----> 1\u001b[1;33m \u001b[0mnp\u001b[0m\u001b[1;33m.\u001b[0m\u001b[0marray\u001b[0m\u001b[1;33m(\u001b[0m\u001b[0mDataPreparation\u001b[0m\u001b[1;33m)\u001b[0m\u001b[1;33m\u001b[0m\u001b[1;33m\u001b[0m\u001b[0m\n\u001b[0m",
      "\u001b[1;31mNameError\u001b[0m: name 'DataPreparation' is not defined"
     ]
    }
   ],
   "source": [
    "np.array(DataPreparation)"
   ]
  },
  {
   "cell_type": "code",
   "execution_count": 387,
   "metadata": {},
   "outputs": [
    {
     "output_type": "execute_result",
     "data": {
      "text/plain": "True"
     },
     "metadata": {},
     "execution_count": 387
    }
   ],
   "source": [
    "import numpy as np\n",
    "arr = np.array([4,5,66])\n",
    "type(arr) == np.ndarray"
   ]
  },
  {
   "cell_type": "code",
   "execution_count": 388,
   "metadata": {},
   "outputs": [
    {
     "output_type": "error",
     "ename": "IndexError",
     "evalue": "list index out of range",
     "traceback": [
      "\u001b[1;31m---------------------------------------------------------------------------\u001b[0m",
      "\u001b[1;31mIndexError\u001b[0m                                Traceback (most recent call last)",
      "\u001b[1;32m<ipython-input-388-3c4d9e1c3bc2>\u001b[0m in \u001b[0;36m<module>\u001b[1;34m\u001b[0m\n\u001b[1;32m----> 1\u001b[1;33m \u001b[0mlis\u001b[0m\u001b[1;33m[\u001b[0m\u001b[1;33m-\u001b[0m\u001b[1;36m4\u001b[0m\u001b[1;33m]\u001b[0m\u001b[1;33m\u001b[0m\u001b[1;33m\u001b[0m\u001b[0m\n\u001b[0m",
      "\u001b[1;31mIndexError\u001b[0m: list index out of range"
     ]
    }
   ],
   "source": [
    "lis[-4]"
   ]
  },
  {
   "cell_type": "code",
   "execution_count": 389,
   "metadata": {},
   "outputs": [
    {
     "output_type": "stream",
     "name": "stdout",
     "text": "False\nTrue\n"
    }
   ],
   "source": [
    "lis = [5,6,7]\n",
    "\n",
    "for l in [arr, lis]:\n",
    "    print(type(l) == list)"
   ]
  },
  {
   "cell_type": "code",
   "execution_count": 390,
   "metadata": {},
   "outputs": [
    {
     "output_type": "execute_result",
     "data": {
      "text/plain": "True"
     },
     "metadata": {},
     "execution_count": 390
    }
   ],
   "source": [
    "i =0\n",
    "i in range(0,5)\n"
   ]
  },
  {
   "cell_type": "code",
   "execution_count": 391,
   "metadata": {},
   "outputs": [
    {
     "output_type": "error",
     "ename": "IndexError",
     "evalue": "tuple index out of range",
     "traceback": [
      "\u001b[1;31m---------------------------------------------------------------------------\u001b[0m",
      "\u001b[1;31mIndexError\u001b[0m                                Traceback (most recent call last)",
      "\u001b[1;32m<ipython-input-391-a9d353454cb2>\u001b[0m in \u001b[0;36m<module>\u001b[1;34m\u001b[0m\n\u001b[0;32m      1\u001b[0m \u001b[1;32mimport\u001b[0m \u001b[0mnumpy\u001b[0m \u001b[1;32mas\u001b[0m \u001b[0mnp\u001b[0m\u001b[1;33m\u001b[0m\u001b[1;33m\u001b[0m\u001b[0m\n\u001b[0;32m      2\u001b[0m \u001b[0marr\u001b[0m \u001b[1;33m=\u001b[0m \u001b[0mnp\u001b[0m\u001b[1;33m.\u001b[0m\u001b[0marange\u001b[0m\u001b[1;33m(\u001b[0m\u001b[1;36m5\u001b[0m\u001b[1;33m)\u001b[0m\u001b[1;33m\u001b[0m\u001b[1;33m\u001b[0m\u001b[0m\n\u001b[1;32m----> 3\u001b[1;33m \u001b[0marr\u001b[0m\u001b[1;33m.\u001b[0m\u001b[0mshape\u001b[0m\u001b[1;33m[\u001b[0m\u001b[1;36m1\u001b[0m\u001b[1;33m]\u001b[0m\u001b[1;33m\u001b[0m\u001b[1;33m\u001b[0m\u001b[0m\n\u001b[0m",
      "\u001b[1;31mIndexError\u001b[0m: tuple index out of range"
     ]
    }
   ],
   "source": [
    "import numpy as np\n",
    "arr = np.arange(5)\n",
    "arr.shape[1]"
   ]
  },
  {
   "cell_type": "code",
   "execution_count": null,
   "metadata": {},
   "outputs": [],
   "source": []
  }
 ],
 "metadata": {
  "language_info": {
   "codemirror_mode": {
    "name": "ipython",
    "version": 3
   },
   "file_extension": ".py",
   "mimetype": "text/x-python",
   "name": "python",
   "nbconvert_exporter": "python",
   "pygments_lexer": "ipython3",
   "version": "3.7.7-final"
  },
  "orig_nbformat": 2,
  "kernelspec": {
   "name": "python37764bitb4812af2bc4947f3b7e7c9dd0123bdb7",
   "display_name": "Python 3.7.7 64-bit"
  }
 },
 "nbformat": 4,
 "nbformat_minor": 2
}
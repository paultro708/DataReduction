{
 "cells": [
  {
   "cell_type": "code",
   "execution_count": 36,
   "metadata": {},
   "outputs": [],
   "source": [
    "import numpy as np\n",
    "# import matplotlib.pyplot as plt\n",
    "import pandas as pd\n",
    "# from sklearn.cluster import KMeans\n",
    "# from sklearn.datasets import fetch_rcv1\n",
    "from sklearn import datasets\n",
    "\n",
    "import import_ipynb\n",
    "import fixed_clustering as clust"
   ]
  },
  {
   "cell_type": "code",
   "execution_count": 37,
   "metadata": {},
   "outputs": [
    {
     "output_type": "stream",
     "name": "stdout",
     "text": "3\n"
    }
   ],
   "source": [
    "#iris\n",
    "from sklearn.model_selection import train_test_split\n",
    "data_all, data_label = datasets.load_iris(return_X_y=True) #datasets.load_breast_cancer(return_X_y=True) #datasets.load_iris(return_X_y=True)\n",
    "data_all_train, data_all_test, data_label_train, data_label_test = train_test_split(data_all, data_label, test_size=0.3)\n",
    "\n",
    "n_classes = len(set(data_label))\n",
    "print(number_of_classes)"
   ]
  },
  {
   "cell_type": "code",
   "execution_count": null,
   "metadata": {},
   "outputs": [],
   "source": [
    "\"\"\"\n",
    "Main varibles in the project:\n",
    "Initial, default values\n",
    "\"\"\"\n",
    "#dataset name\n",
    "dataset = 'iris'\n",
    "\n",
    "#load dataset and prepare to reduction\n",
    "data_all, data_label = prepare_dataset(load_dataset(dataset_path[dataset]))\n",
    "\n",
    "#split dataset to train and test\n",
    "data_all_train, data_all_test, data_label_train, data_label_test = train_test_split(data_all, data_label, test_size=0.3)\n",
    "\n",
    "#number of classes in dataset\n",
    "n_classes = len(set(data_label))"
   ]
  },
  {
   "cell_type": "code",
   "execution_count": 38,
   "metadata": {},
   "outputs": [],
   "source": [
    "def create_path_csv(folder, name):\n",
    "    \"\"\"\n",
    "    Function creating string with path of dataset in csv format\n",
    "    :folder: folder name\n",
    "    :name: name of dataset\n",
    "    \"\"\"\n",
    "    return folder + '\\\\' + name + '.csv'"
   ]
  },
  {
   "cell_type": "code",
   "execution_count": 39,
   "metadata": {},
   "outputs": [],
   "source": [
    "datasets_folder = \"datasets_csv\"\n",
    "dataset_path = {\"iris\": create_path_csv(datasets_folder, 'iris'),\n",
    "                \"glass\": create_path_csv(datasets_folder, 'glass'),\n",
    "                \"letter\": create_path_csv(datasets_folder, 'letter'),\n",
    "                \"spambase\": create_path_csv(datasets_folder, 'spambase'),\n",
    "                \"satimage\": create_path_csv(datasets_folder, 'satimage')\n",
    "                }"
   ]
  },
  {
   "cell_type": "code",
   "execution_count": 83,
   "metadata": {},
   "outputs": [
    {
     "output_type": "execute_result",
     "data": {
      "text/plain": "Index(['x-box', 'y-box', 'width', 'high', 'onpix', 'x-bar', 'y-bar', 'x2bar',\n       'y2bar', 'xybar', 'x2ybr', 'xy2br', 'x-ege', 'xegvy', 'y-ege', 'yegvx',\n       'class'],\n      dtype='object')"
     },
     "metadata": {},
     "execution_count": 83
    }
   ],
   "source": [
    "def load_dataset(name, path = 'default', separator = 'default', class_col = 'class'):\n",
    "    \"\"\"\n",
    "    Function loading dataset to pandas dataframe\n",
    "    \"\"\"\n",
    "dataset = pd.read_csv(dataset_path['letter'])\n",
    "cols = dataset.columns\n",
    "cols"
   ]
  },
  {
   "cell_type": "code",
   "execution_count": 91,
   "metadata": {},
   "outputs": [
    {
     "output_type": "execute_result",
     "data": {
      "text/plain": "{'iris': 'D:\\\\Studia\\\\inz\\\\Repos\\\\DataReduction\\\\modules\\\\datasets_csv\\\\iris.csv',\n 'glass': 'D:\\\\Studia\\\\inz\\\\Repos\\\\DataReduction\\\\modules\\\\datasets_csv\\\\glass.csv',\n 'letter': 'D:\\\\Studia\\\\inz\\\\Repos\\\\DataReduction\\\\modules\\\\datasets_csv\\\\letter.csv',\n 'spambase': 'D:\\\\Studia\\\\inz\\\\Repos\\\\DataReduction\\\\modules\\\\datasets_csv\\\\spambase.csv',\n 'satimage': 'D:\\\\Studia\\\\inz\\\\Repos\\\\DataReduction\\\\modules\\\\datasets_csv\\\\satimage.csv'}"
     },
     "metadata": {},
     "execution_count": 91
    }
   ],
   "source": [
    "dataset_path"
   ]
  },
  {
   "cell_type": "code",
   "execution_count": 90,
   "metadata": {},
   "outputs": [
    {
     "output_type": "error",
     "ename": "KeyError",
     "evalue": "'yeast'",
     "traceback": [
      "\u001b[1;31m---------------------------------------------------------------------------\u001b[0m",
      "\u001b[1;31mKeyError\u001b[0m                                  Traceback (most recent call last)",
      "\u001b[1;32m<ipython-input-90-347ab3535575>\u001b[0m in \u001b[0;36m<module>\u001b[1;34m\u001b[0m\n\u001b[0;32m      3\u001b[0m \u001b[1;33m\u001b[0m\u001b[0m\n\u001b[0;32m      4\u001b[0m \u001b[0mdataset\u001b[0m \u001b[1;33m=\u001b[0m \u001b[0mdp\u001b[0m\u001b[1;33m(\u001b[0m\u001b[1;34m'yeast'\u001b[0m\u001b[1;33m)\u001b[0m\u001b[1;33m\u001b[0m\u001b[1;33m\u001b[0m\u001b[0m\n\u001b[1;32m----> 5\u001b[1;33m \u001b[0mdataset\u001b[0m\u001b[1;33m.\u001b[0m\u001b[0mload_dataset\u001b[0m\u001b[1;33m(\u001b[0m\u001b[1;33m)\u001b[0m\u001b[1;33m\u001b[0m\u001b[1;33m\u001b[0m\u001b[0m\n\u001b[0m\u001b[0;32m      6\u001b[0m \u001b[0mdataset\u001b[0m\u001b[1;33m.\u001b[0m\u001b[0mprepare_dataset\u001b[0m\u001b[1;33m(\u001b[0m\u001b[1;33m)\u001b[0m\u001b[1;33m\u001b[0m\u001b[1;33m\u001b[0m\u001b[0m\n\u001b[0;32m      7\u001b[0m \u001b[1;33m\u001b[0m\u001b[0m\n",
      "\u001b[1;32md:\\Studia\\inz\\Repos\\DataReduction\\modules\\DataPreparation.py\u001b[0m in \u001b[0;36mload_dataset\u001b[1;34m(self, class_col)\u001b[0m\n\u001b[0;32m     48\u001b[0m         \"\"\"\n\u001b[0;32m     49\u001b[0m         \u001b[0mself\u001b[0m\u001b[1;33m.\u001b[0m\u001b[0mclass_col\u001b[0m \u001b[1;33m=\u001b[0m \u001b[0mclass_col\u001b[0m\u001b[1;33m\u001b[0m\u001b[1;33m\u001b[0m\u001b[0m\n\u001b[1;32m---> 50\u001b[1;33m \u001b[1;33m\u001b[0m\u001b[0m\n\u001b[0m\u001b[0;32m     51\u001b[0m         \u001b[1;31m# if path == 'default':\u001b[0m\u001b[1;33m\u001b[0m\u001b[1;33m\u001b[0m\u001b[1;33m\u001b[0m\u001b[0m\n\u001b[0;32m     52\u001b[0m         \u001b[1;31m#     self.dataset = pd.read_csv(path)\u001b[0m\u001b[1;33m\u001b[0m\u001b[1;33m\u001b[0m\u001b[1;33m\u001b[0m\u001b[0m\n",
      "\u001b[1;31mKeyError\u001b[0m: 'yeast'"
     ]
    }
   ],
   "source": [
    "from DataPreparation import DataPreparation as dp\n",
    "from DataPreparation import dataset_path\n",
    "\n",
    "dataset = dp('yeast')\n",
    "dataset.load_dataset()\n",
    "dataset.prepare_dataset()\n",
    "\n",
    "dataset.dataset_path"
   ]
  },
  {
   "cell_type": "code",
   "execution_count": null,
   "metadata": {},
   "outputs": [],
   "source": []
  }
 ],
 "metadata": {
  "language_info": {
   "codemirror_mode": {
    "name": "ipython",
    "version": 3
   },
   "file_extension": ".py",
   "mimetype": "text/x-python",
   "name": "python",
   "nbconvert_exporter": "python",
   "pygments_lexer": "ipython3",
   "version": 3
  },
  "orig_nbformat": 2,
  "kernelspec": {
   "name": "python_defaultSpec_1603361768199",
   "display_name": "Python 3.7.7 64-bit"
  }
 },
 "nbformat": 4,
 "nbformat_minor": 2
}